{
  "cells": [
    {
      "cell_type": "markdown",
      "metadata": {
        "id": "view-in-github",
        "colab_type": "text"
      },
      "source": [
        "<a href=\"https://colab.research.google.com/github/TimMCBen/ML24/blob/main/HW1.ipynb\" target=\"_parent\"><img src=\"https://colab.research.google.com/assets/colab-badge.svg\" alt=\"Open In Colab\"/></a>"
      ]
    },
    {
      "cell_type": "markdown",
      "metadata": {
        "id": "guE34D3Fj2R9"
      },
      "source": [
        "# **Homework 1: COVID-19 Cases Prediction (Regression)**"
      ]
    },
    {
      "cell_type": "markdown",
      "source": [
        "Objectives:\n",
        "* Solve a regression problem with deep neural networks (DNN).\n",
        "* Understand basic DNN training tips.\n",
        "* Familiarize yourself with PyTorch.\n"
      ],
      "metadata": {
        "id": "V57zhcTp1Xxb"
      }
    },
    {
      "cell_type": "markdown",
      "metadata": {
        "id": "Tm2aXcb-j9Fc"
      },
      "source": [
        "# Download data\n",
        "If the Google Drive links below do not work, you can download data from [Kaggle](https://www.kaggle.com/t/a3ebd5b5542f0f55e828d4f00de8e59a), and upload data manually to the workspace."
      ]
    },
    {
      "cell_type": "code",
      "execution_count": 1,
      "metadata": {
        "id": "YPmfl-awlKZA"
      },
      "outputs": [],
      "source": [
        "# %cd drive/MyDrive/ML2023"
      ]
    },
    {
      "cell_type": "markdown",
      "metadata": {
        "id": "igqIMEgu64-F"
      },
      "source": [
        "# Import packages"
      ]
    },
    {
      "cell_type": "code",
      "execution_count": null,
      "metadata": {
        "id": "xybQNYCXYu13"
      },
      "outputs": [],
      "source": [
        "# Numerical Operations\n",
        "import math\n",
        "import numpy as np\n",
        "\n",
        "# Reading/Writing Data\n",
        "import pandas as pd\n",
        "import os\n",
        "import csv\n",
        "\n",
        "# For Progress Bar\n",
        "from tqdm import tqdm\n",
        "\n",
        "# Pytorch\n",
        "import torch\n",
        "import torch.nn as nn\n",
        "from torch.utils.data import Dataset, DataLoader, random_split\n",
        "\n",
        "# For plotting learning curve\n",
        "from torch.utils.tensorboard import SummaryWriter"
      ]
    },
    {
      "cell_type": "markdown",
      "source": [
        "# Some Utility Functions\n",
        "\n",
        "You do not need to modify this part."
      ],
      "metadata": {
        "id": "fTAVqRfc2KK3"
      }
    },
    {
      "cell_type": "code",
      "source": [
        "def same_seed(seed):\n",
        "    '''这里随机种子的设置是为了训练的可复现性'''\n",
        "    # 一个是加速库、一个是第一次运行时是否优化算法，均是为了结果的可复现性\n",
        "    torch.backends.cudnn.deterministic = True\n",
        "    torch.backends.cudnn.benchmark = False\n",
        "    # 使得np和torch两个主要用于运算的库的随机种子全部相同\n",
        "    np.random.seed(seed)\n",
        "    torch.manual_seed(seed)\n",
        "    if torch.cuda.is_available():\n",
        "        torch.cuda.manual_seed_all(seed)\n",
        "\n",
        "def train_valid_split(data_set, valid_ratio, seed):\n",
        "    '''将数据分为测试集和验证集'''\n",
        "    valid_set_size = int(valid_ratio * len(data_set))\n",
        "    train_set_size = len(data_set) - valid_set_size\n",
        "    train_set, valid_set = random_split(data_set, [train_set_size, valid_set_size], generator=torch.Generator().manual_seed(seed))\n",
        "    return np.array(train_set), np.array(valid_set)\n",
        "\n",
        "def predict(test_loader, model, device):\n",
        "\t'''预测，并且拼接结果'''\n",
        "    model.eval() # Set your model to evaluation mode.\n",
        "    preds = []\n",
        "    for x in tqdm(test_loader):\n",
        "        x = x.to(device)\n",
        "        with torch.no_grad():\n",
        "            pred = model(x)\n",
        "            preds.append(pred.detach().cpu())\n",
        "    # 拼接结果至批次维度\n",
        "    preds = torch.cat(preds, dim=0).numpy()\n",
        "    return preds"
      ],
      "metadata": {
        "id": "RbrcpfYN2I-H"
      },
      "execution_count": null,
      "outputs": []
    },
    {
      "cell_type": "markdown",
      "metadata": {
        "id": "IqO3lTm78nNO"
      },
      "source": [
        "# Dataset"
      ]
    },
    {
      "cell_type": "code",
      "execution_count": null,
      "metadata": {
        "id": "-mjaJM0wprMs"
      },
      "outputs": [],
      "source": [
        "class COVID19Dataset(Dataset):\n",
        "    '''\n",
        "    x: Features.\n",
        "    y: Targets, if none, do prediction,以此决定是train阶段还是test阶段\n",
        "    '''\n",
        "    def __init__(self, x, y=None):\n",
        "        if y is None:\n",
        "            self.y = y\n",
        "        else:\n",
        "            self.y = torch.FloatTensor(y)\n",
        "        self.x = torch.FloatTensor(x)\n",
        "\n",
        "    def __getitem__(self, idx):\n",
        "        if self.y is None:\n",
        "            return self.x[idx]\n",
        "        else:\n",
        "            return self.x[idx], self.y[idx]\n",
        "\n",
        "    def __len__(self):\n",
        "        return len(self.x)"
      ]
    },
    {
      "cell_type": "markdown",
      "source": [
        "# Neural Network Model\n",
        "Try out different model architectures by modifying the class below."
      ],
      "metadata": {
        "id": "m73ooU75CL_j"
      }
    },
    {
      "cell_type": "code",
      "execution_count": null,
      "metadata": {
        "id": "Qn97_WvvrEkG"
      },
      "outputs": [],
      "source": [
        "class My_Model(nn.Module):\n",
        "    def __init__(self, input_dim):\n",
        "        super(My_Model, self).__init__()\n",
        "        # TODO: modify model's structure, be aware of dimensions.\n",
        "        # 这里自己DIY网络，根据论文、经验\n",
        "        self.layers = nn.Sequential(\n",
        "            nn.Linear(input_dim, 16),\n",
        "            nn.BatchNorm1d(16),\n",
        "            nn.ReLU(),\n",
        "            nn.Linear(16, 8),\n",
        "            nn.BatchNorm1d(8),\n",
        "            nn.ReLU(),\n",
        "            nn.Linear(8, 1)\n",
        "        )\n",
        "\n",
        "    def forward(self, x):\n",
        "        x = self.layers(x)\n",
        "        # 回归任务中，我们通常希望输出的形状是(B)\n",
        "        x = x.squeeze(1) # (B, 1) -> (B)\n",
        "        return x"
      ]
    },
    {
      "cell_type": "markdown",
      "metadata": {
        "id": "x5-LKF6R8xeq"
      },
      "source": [
        "# Feature Selection\n",
        "Choose features you deem useful by modifying the function below."
      ]
    },
    {
      "cell_type": "code",
      "source": [
        "def select_feat(train_data, valid_data, test_data, select_all=True):\n",
        "    '''Selects useful features to perform regression'''\n",
        "    y_train, y_valid = train_data[:,-1], valid_data[:,-1]\n",
        "    raw_x_train, raw_x_valid, raw_x_test = train_data[:,:-1], valid_data[:,:-1], test_data\n",
        "    # print(raw_x_train)\n",
        "    if select_all:\n",
        "        # shape[0]是行数,1是列数\n",
        "        feat_idx = list(range(1,raw_x_train.shape[1]))\n",
        "    else:\n",
        "        # feat_idx = [0,1,2,3,4] # TODO: Select suitable feature columns.\n",
        "        feat_idx = list(range(1,38))\n",
        "        feat_idx = feat_idx + list(range(38,117))\n",
        "\n",
        "    print(feat_idx)\n",
        "    # 选取feat_idx列的特征\n",
        "    return raw_x_train[:,feat_idx], raw_x_valid[:,feat_idx], raw_x_test[:,feat_idx], y_train, y_valid"
      ],
      "metadata": {
        "id": "0FEnKRaIIeKp"
      },
      "execution_count": null,
      "outputs": []
    },
    {
      "cell_type": "markdown",
      "source": [
        "# Training Loop"
      ],
      "metadata": {
        "id": "kADIPNQ2Ih5X"
      }
    },
    {
      "cell_type": "code",
      "execution_count": null,
      "metadata": {
        "id": "k4Rq8_TztAhq"
      },
      "outputs": [],
      "source": [
        "def trainer(train_loader, valid_loader, model, config, device):\n",
        "\n",
        "    criterion = nn.MSELoss(reduction='mean') # Define your loss function, do not modify this.\n",
        "\n",
        "    # Define your optimization algorithm.\n",
        "    # TODO: Please check https://pytorch.org/docs/stable/optim.html to get more available algorithms.\n",
        "\n",
        "    # TODO: L2 regularization (optimizer(weight decay...) or implement by your self).\n",
        "    # 已完成，并且在config里增加了weight_decay的部分\n",
        "\n",
        "    # 选用SGD还是Adam\n",
        "    if(config['optim'] == 'SGD'):\n",
        "      if config['no_momentum']:\n",
        "        optimizer = torch.optim.SGD(model.parameters(), lr=config['learning_rate'], weight_decay=config['weight_decay'])\n",
        "      else:\n",
        "        optimizer = torch.optim.SGD(model.parameters(), lr=config['learning_rate'], momentum = config['momentum'], weight_decay=config['weight_decay'])\n",
        "    elif(config['optim'] == 'Adam'):\n",
        "      optimizer = torch.optim.Adam(model.parameters(), lr=config['learning_rate'], weight_decay=config['weight_decay'])\n",
        "\n",
        "    writer = SummaryWriter() # Writer of tensoboard.\n",
        "\n",
        "    if not os.path.isdir('./models'):\n",
        "        os.mkdir('./models') # Create directory of saving models.\n",
        "\n",
        "    n_epochs, best_loss, step, early_stop_count = config['n_epochs'], math.inf, 0, 0\n",
        "\n",
        "    for epoch in range(n_epochs):\n",
        "        model.train() # Set your model to train mode.\n",
        "        loss_record = []\n",
        "\n",
        "        # tqdm is a package to visualize your training progress.\n",
        "        train_pbar = tqdm(train_loader, position=0, leave=True)\n",
        "\n",
        "        for x, y in train_pbar:\n",
        "            optimizer.zero_grad()               # Set gradient to zero.\n",
        "            x, y = x.to(device), y.to(device)   # Move your data to device.\n",
        "            pred = model(x)\n",
        "            loss = criterion(pred, y)\n",
        "            loss.backward()                     # Compute gradient(backpropagation).\n",
        "            optimizer.step()                    # Update parameters.\n",
        "            step += 1\n",
        "            # 转化为没有梯度的标量，并记录（这里是每个批次的MSE)\n",
        "            loss_record.append(loss.detach().item())\n",
        "\n",
        "            # Display current epoch number and loss on tqdm progress bar.\n",
        "            train_pbar.set_description(f'Epoch [{epoch+1}/{n_epochs}]')\n",
        "            train_pbar.set_postfix({'loss': loss.detach().item()})\n",
        "\n",
        "        mean_train_loss = sum(loss_record)/len(loss_record)\n",
        "        writer.add_scalar('Loss/train', mean_train_loss, step)\n",
        "\n",
        "        model.eval() # Set your model to evaluation mode.\n",
        "        loss_record = []\n",
        "        for x, y in valid_loader:\n",
        "            x, y = x.to(device), y.to(device)\n",
        "            with torch.no_grad():\n",
        "                pred = model(x)\n",
        "                loss = criterion(pred, y)\n",
        "\n",
        "            loss_record.append(loss.item())\n",
        "\n",
        "        mean_valid_loss = sum(loss_record)/len(loss_record)\n",
        "        print(f'Epoch [{epoch+1}/{n_epochs}]: Train loss: {mean_train_loss:.4f}, Valid loss: {mean_valid_loss:.4f}')\n",
        "        writer.add_scalar('Loss/valid', mean_valid_loss, step)\n",
        "        # 如果loss更优就保存\n",
        "        if mean_valid_loss < best_loss:\n",
        "            best_loss = mean_valid_loss\n",
        "            torch.save(model.state_dict(), config['save_path']) # Save your best model\n",
        "            print('Saving model with loss {:.3f}...'.format(best_loss))\n",
        "            early_stop_count = 0\n",
        "        else:\n",
        "            early_stop_count += 1\n",
        "\n",
        "        if early_stop_count >= config['early_stop']:\n",
        "            print('\\nModel is not improving, so we halt the training session.')\n",
        "            return"
      ]
    },
    {
      "cell_type": "markdown",
      "metadata": {
        "id": "0pgkOh2e9UjE"
      },
      "source": [
        "# Configurations\n",
        "`config` contains hyper-parameters for training and the path to save your model."
      ]
    },
    {
      "cell_type": "code",
      "execution_count": null,
      "metadata": {
        "id": "QoWPUahCtoT6"
      },
      "outputs": [],
      "source": [
        "device = 'cuda' if torch.cuda.is_available() else 'cpu'\n",
        "config = {\n",
        "    'seed': 5201314,      # Your seed number, you can pick your lucky number. :)\n",
        "    'select_all': True,   # Whether to use all features.\n",
        "    'valid_ratio': 0.2,   # validation_size = train_size * valid_ratio\n",
        "    'n_epochs': 3000,     # Number of epochs.\n",
        "    'batch_size': 256,\n",
        "    'learning_rate': 1e-5,\n",
        "    'early_stop': 400,    # If model has not improved for this many consecutive epochs, stop training.\n",
        "    'save_path': './models/model.ckpt',  # Your model will be saved here.\n",
        "    'weight_decay': 0.001,\n",
        "    'momentum':0.7,\n",
        "    'no_momentum':False,\n",
        "    'optim': 'SGD'\n",
        "}"
      ]
    },
    {
      "cell_type": "markdown",
      "metadata": {
        "id": "lrS-aJJh9XkW"
      },
      "source": [
        "# Dataloader\n",
        "Read data from files and set up training, validation, and testing sets. You do not need to modify this part."
      ]
    },
    {
      "cell_type": "code",
      "execution_count": null,
      "metadata": {
        "id": "2jc7ZfDot2t9",
        "colab": {
          "base_uri": "https://localhost:8080/"
        },
        "outputId": "1af13575-37a2-46fc-e81e-f80bab51420b"
      },
      "outputs": [
        {
          "output_type": "stream",
          "name": "stdout",
          "text": [
            "train_data size: (2160, 118)\n",
            "valid_data size: (539, 118)\n",
            "test_data size: (1078, 117)\n",
            "[1, 2, 3, 4, 5, 6, 7, 8, 9, 10, 11, 12, 13, 14, 15, 16, 17, 18, 19, 20, 21, 22, 23, 24, 25, 26, 27, 28, 29, 30, 31, 32, 33, 34, 35, 36, 37, 38, 39, 40, 41, 42, 43, 44, 45, 46, 47, 48, 49, 50, 51, 52, 53, 54, 55, 56, 57, 58, 59, 60, 61, 62, 63, 64, 65, 66, 67, 68, 69, 70, 71, 72, 73, 74, 75, 76, 77, 78, 79, 80, 81, 82, 83, 84, 85, 86, 87, 88, 89, 90, 91, 92, 93, 94, 95, 96, 97, 98, 99, 100, 101, 102, 103, 104, 105, 106, 107, 108, 109, 110, 111, 112, 113, 114, 115, 116]\n",
            "number of features: 116\n"
          ]
        }
      ],
      "source": [
        "# Set seed for reproducibility\n",
        "same_seed(config['seed'])\n",
        "\n",
        "\n",
        "# train_data size: 2699 x 118 (id + 37 states + 16 features x 5 days)\n",
        "# test_data size: 1078 x 117 (without last day's positive rate)\n",
        "# 验证比例、随机种子\n",
        "train_data, test_data = pd.read_csv('./covid.train.csv').values, pd.read_csv('./covid.test.csv').values\n",
        "train_data, valid_data = train_valid_split(train_data, config['valid_ratio'], config['seed'])\n",
        "\n",
        "\n",
        "# Print out the data size.\n",
        "print(f\"\"\"train_data size: {train_data.shape}\n",
        "valid_data size: {valid_data.shape}\n",
        "test_data size: {test_data.shape}\"\"\")\n",
        "\n",
        "# Select features\n",
        "x_train, x_valid, x_test, y_train, y_valid = select_feat(train_data, valid_data, test_data, config['select_all'])\n",
        "\n",
        "# Print out the number of features.\n",
        "print(f'number of features: {x_train.shape[1]}')\n",
        "\n",
        "train_dataset, valid_dataset, test_dataset = COVID19Dataset(x_train, y_train), \\\n",
        "                                            COVID19Dataset(x_valid, y_valid), \\\n",
        "                                            COVID19Dataset(x_test)\n",
        "\n",
        "# Pytorch data loader loads pytorch dataset into batches.\n",
        "# pin_memory，数据集规模较大时，数据集无法完全存在GPU的内存中，所以将内存储存在固定的物理地址中，避免GPU的介入\n",
        "train_loader = DataLoader(train_dataset, batch_size=config['batch_size'], shuffle=True, pin_memory=True)\n",
        "valid_loader = DataLoader(valid_dataset, batch_size=config['batch_size'], shuffle=True, pin_memory=True)\n",
        "test_loader = DataLoader(test_dataset, batch_size=config['batch_size'], shuffle=False, pin_memory=True)"
      ]
    },
    {
      "cell_type": "markdown",
      "metadata": {
        "id": "0OBYgjCA-YwD"
      },
      "source": [
        "# Start training!"
      ]
    },
    {
      "cell_type": "code",
      "execution_count": null,
      "metadata": {
        "id": "YdttVRkAfu2t",
        "colab": {
          "base_uri": "https://localhost:8080/"
        },
        "outputId": "754fa5b5-d5d6-4798-c97b-cc3ae9661b3a"
      },
      "outputs": [
        {
          "output_type": "stream",
          "name": "stderr",
          "text": [
            "Epoch [1/3000]: 100%|████████████████████████████████████████████████████████| 9/9 [00:00<00:00, 187.26it/s, loss=30.6]\n"
          ]
        },
        {
          "output_type": "stream",
          "name": "stdout",
          "text": [
            "Epoch [1/3000]: Train loss: 62.6092, Valid loss: 35.3815\n",
            "Saving model with loss 35.381...\n"
          ]
        },
        {
          "output_type": "stream",
          "name": "stderr",
          "text": [
            "Epoch [2/3000]: 100%|████████████████████████████████████████████████████████| 9/9 [00:00<00:00, 187.30it/s, loss=33.6]\n"
          ]
        },
        {
          "output_type": "stream",
          "name": "stdout",
          "text": [
            "Epoch [2/3000]: Train loss: 32.5587, Valid loss: 29.4734\n",
            "Saving model with loss 29.473...\n"
          ]
        },
        {
          "output_type": "stream",
          "name": "stderr",
          "text": [
            "Epoch [3/3000]: 100%|████████████████████████████████████████████████████████| 9/9 [00:00<00:00, 187.60it/s, loss=27.8]\n"
          ]
        },
        {
          "output_type": "stream",
          "name": "stdout",
          "text": [
            "Epoch [3/3000]: Train loss: 27.8303, Valid loss: 25.9328\n",
            "Saving model with loss 25.933...\n"
          ]
        },
        {
          "output_type": "stream",
          "name": "stderr",
          "text": [
            "Epoch [4/3000]: 100%|████████████████████████████████████████████████████████| 9/9 [00:00<00:00, 202.42it/s, loss=29.2]\n"
          ]
        },
        {
          "output_type": "stream",
          "name": "stdout",
          "text": [
            "Epoch [4/3000]: Train loss: 25.7892, Valid loss: 29.0126\n"
          ]
        },
        {
          "output_type": "stream",
          "name": "stderr",
          "text": [
            "Epoch [5/3000]: 100%|████████████████████████████████████████████████████████| 9/9 [00:00<00:00, 191.33it/s, loss=30.6]\n"
          ]
        },
        {
          "output_type": "stream",
          "name": "stdout",
          "text": [
            "Epoch [5/3000]: Train loss: 24.0233, Valid loss: 24.5792\n",
            "Saving model with loss 24.579...\n"
          ]
        },
        {
          "output_type": "stream",
          "name": "stderr",
          "text": [
            "Epoch [6/3000]: 100%|████████████████████████████████████████████████████████| 9/9 [00:00<00:00, 197.65it/s, loss=22.6]\n"
          ]
        },
        {
          "output_type": "stream",
          "name": "stdout",
          "text": [
            "Epoch [6/3000]: Train loss: 21.8037, Valid loss: 22.2579\n",
            "Saving model with loss 22.258...\n"
          ]
        },
        {
          "output_type": "stream",
          "name": "stderr",
          "text": [
            "Epoch [7/3000]: 100%|████████████████████████████████████████████████████████| 9/9 [00:00<00:00, 184.13it/s, loss=22.7]\n"
          ]
        },
        {
          "output_type": "stream",
          "name": "stdout",
          "text": [
            "Epoch [7/3000]: Train loss: 20.0478, Valid loss: 19.9045\n",
            "Saving model with loss 19.904...\n"
          ]
        },
        {
          "output_type": "stream",
          "name": "stderr",
          "text": [
            "Epoch [8/3000]: 100%|████████████████████████████████████████████████████████| 9/9 [00:00<00:00, 191.62it/s, loss=18.8]\n"
          ]
        },
        {
          "output_type": "stream",
          "name": "stdout",
          "text": [
            "Epoch [8/3000]: Train loss: 18.2161, Valid loss: 17.9438\n",
            "Saving model with loss 17.944...\n"
          ]
        },
        {
          "output_type": "stream",
          "name": "stderr",
          "text": [
            "Epoch [9/3000]: 100%|████████████████████████████████████████████████████████| 9/9 [00:00<00:00, 197.62it/s, loss=16.6]\n"
          ]
        },
        {
          "output_type": "stream",
          "name": "stdout",
          "text": [
            "Epoch [9/3000]: Train loss: 16.5298, Valid loss: 17.3167\n",
            "Saving model with loss 17.317...\n"
          ]
        },
        {
          "output_type": "stream",
          "name": "stderr",
          "text": [
            "Epoch [10/3000]: 100%|███████████████████████████████████████████████████████| 9/9 [00:00<00:00, 200.26it/s, loss=16.3]\n"
          ]
        },
        {
          "output_type": "stream",
          "name": "stdout",
          "text": [
            "Epoch [10/3000]: Train loss: 15.0910, Valid loss: 15.3136\n",
            "Saving model with loss 15.314...\n"
          ]
        },
        {
          "output_type": "stream",
          "name": "stderr",
          "text": [
            "Epoch [11/3000]: 100%|███████████████████████████████████████████████████████| 9/9 [00:00<00:00, 193.04it/s, loss=11.8]\n"
          ]
        },
        {
          "output_type": "stream",
          "name": "stdout",
          "text": [
            "Epoch [11/3000]: Train loss: 13.4743, Valid loss: 13.3099\n",
            "Saving model with loss 13.310...\n"
          ]
        },
        {
          "output_type": "stream",
          "name": "stderr",
          "text": [
            "Epoch [12/3000]: 100%|███████████████████████████████████████████████████████| 9/9 [00:00<00:00, 174.48it/s, loss=10.2]\n"
          ]
        },
        {
          "output_type": "stream",
          "name": "stdout",
          "text": [
            "Epoch [12/3000]: Train loss: 12.1814, Valid loss: 14.4332\n"
          ]
        },
        {
          "output_type": "stream",
          "name": "stderr",
          "text": [
            "Epoch [13/3000]: 100%|███████████████████████████████████████████████████████| 9/9 [00:00<00:00, 185.40it/s, loss=12.1]\n"
          ]
        },
        {
          "output_type": "stream",
          "name": "stdout",
          "text": [
            "Epoch [13/3000]: Train loss: 11.2448, Valid loss: 12.7243\n",
            "Saving model with loss 12.724...\n"
          ]
        },
        {
          "output_type": "stream",
          "name": "stderr",
          "text": [
            "Epoch [14/3000]: 100%|███████████████████████████████████████████████████████| 9/9 [00:00<00:00, 105.73it/s, loss=9.42]\n"
          ]
        },
        {
          "output_type": "stream",
          "name": "stdout",
          "text": [
            "Epoch [14/3000]: Train loss: 10.0854, Valid loss: 10.9668\n",
            "Saving model with loss 10.967...\n"
          ]
        },
        {
          "output_type": "stream",
          "name": "stderr",
          "text": [
            "Epoch [15/3000]: 100%|███████████████████████████████████████████████████████| 9/9 [00:00<00:00, 170.84it/s, loss=8.19]\n"
          ]
        },
        {
          "output_type": "stream",
          "name": "stdout",
          "text": [
            "Epoch [15/3000]: Train loss: 9.1855, Valid loss: 11.1181\n"
          ]
        },
        {
          "output_type": "stream",
          "name": "stderr",
          "text": [
            "Epoch [16/3000]: 100%|████████████████████████████████████████████████████████| 9/9 [00:00<00:00, 163.46it/s, loss=7.5]\n"
          ]
        },
        {
          "output_type": "stream",
          "name": "stdout",
          "text": [
            "Epoch [16/3000]: Train loss: 8.4445, Valid loss: 8.8323\n",
            "Saving model with loss 8.832...\n"
          ]
        },
        {
          "output_type": "stream",
          "name": "stderr",
          "text": [
            "Epoch [17/3000]: 100%|███████████████████████████████████████████████████████| 9/9 [00:00<00:00, 166.44it/s, loss=7.54]\n"
          ]
        },
        {
          "output_type": "stream",
          "name": "stdout",
          "text": [
            "Epoch [17/3000]: Train loss: 7.8913, Valid loss: 8.3761\n",
            "Saving model with loss 8.376...\n"
          ]
        },
        {
          "output_type": "stream",
          "name": "stderr",
          "text": [
            "Epoch [18/3000]: 100%|███████████████████████████████████████████████████████| 9/9 [00:00<00:00, 148.20it/s, loss=7.84]\n"
          ]
        },
        {
          "output_type": "stream",
          "name": "stdout",
          "text": [
            "Epoch [18/3000]: Train loss: 7.4183, Valid loss: 7.1937\n",
            "Saving model with loss 7.194...\n"
          ]
        },
        {
          "output_type": "stream",
          "name": "stderr",
          "text": [
            "Epoch [19/3000]: 100%|███████████████████████████████████████████████████████| 9/9 [00:00<00:00, 152.03it/s, loss=6.28]\n"
          ]
        },
        {
          "output_type": "stream",
          "name": "stdout",
          "text": [
            "Epoch [19/3000]: Train loss: 6.9570, Valid loss: 6.3887\n",
            "Saving model with loss 6.389...\n"
          ]
        },
        {
          "output_type": "stream",
          "name": "stderr",
          "text": [
            "Epoch [20/3000]: 100%|███████████████████████████████████████████████████████| 9/9 [00:00<00:00, 178.03it/s, loss=5.71]\n"
          ]
        },
        {
          "output_type": "stream",
          "name": "stdout",
          "text": [
            "Epoch [20/3000]: Train loss: 6.6127, Valid loss: 6.3050\n",
            "Saving model with loss 6.305...\n"
          ]
        },
        {
          "output_type": "stream",
          "name": "stderr",
          "text": [
            "Epoch [21/3000]: 100%|████████████████████████████████████████████████████████| 9/9 [00:00<00:00, 178.08it/s, loss=5.9]\n"
          ]
        },
        {
          "output_type": "stream",
          "name": "stdout",
          "text": [
            "Epoch [21/3000]: Train loss: 6.3742, Valid loss: 6.1641\n",
            "Saving model with loss 6.164...\n"
          ]
        },
        {
          "output_type": "stream",
          "name": "stderr",
          "text": [
            "Epoch [22/3000]: 100%|███████████████████████████████████████████████████████| 9/9 [00:00<00:00, 185.12it/s, loss=6.92]\n"
          ]
        },
        {
          "output_type": "stream",
          "name": "stdout",
          "text": [
            "Epoch [22/3000]: Train loss: 6.2350, Valid loss: 6.4524\n"
          ]
        },
        {
          "output_type": "stream",
          "name": "stderr",
          "text": [
            "Epoch [23/3000]: 100%|███████████████████████████████████████████████████████| 9/9 [00:00<00:00, 195.41it/s, loss=6.29]\n"
          ]
        },
        {
          "output_type": "stream",
          "name": "stdout",
          "text": [
            "Epoch [23/3000]: Train loss: 6.0497, Valid loss: 6.3412\n"
          ]
        },
        {
          "output_type": "stream",
          "name": "stderr",
          "text": [
            "Epoch [24/3000]: 100%|███████████████████████████████████████████████████████| 9/9 [00:00<00:00, 191.27it/s, loss=7.23]\n"
          ]
        },
        {
          "output_type": "stream",
          "name": "stdout",
          "text": [
            "Epoch [24/3000]: Train loss: 5.9895, Valid loss: 5.7126\n",
            "Saving model with loss 5.713...\n"
          ]
        },
        {
          "output_type": "stream",
          "name": "stderr",
          "text": [
            "Epoch [25/3000]: 100%|███████████████████████████████████████████████████████| 9/9 [00:00<00:00, 189.28it/s, loss=7.85]\n"
          ]
        },
        {
          "output_type": "stream",
          "name": "stdout",
          "text": [
            "Epoch [25/3000]: Train loss: 5.9288, Valid loss: 5.4352\n",
            "Saving model with loss 5.435...\n"
          ]
        },
        {
          "output_type": "stream",
          "name": "stderr",
          "text": [
            "Epoch [26/3000]: 100%|███████████████████████████████████████████████████████| 9/9 [00:00<00:00, 175.97it/s, loss=5.45]\n"
          ]
        },
        {
          "output_type": "stream",
          "name": "stdout",
          "text": [
            "Epoch [26/3000]: Train loss: 5.7195, Valid loss: 6.4758\n"
          ]
        },
        {
          "output_type": "stream",
          "name": "stderr",
          "text": [
            "Epoch [27/3000]: 100%|███████████████████████████████████████████████████████| 9/9 [00:00<00:00, 141.48it/s, loss=5.76]\n"
          ]
        },
        {
          "output_type": "stream",
          "name": "stdout",
          "text": [
            "Epoch [27/3000]: Train loss: 5.6787, Valid loss: 6.4686\n"
          ]
        },
        {
          "output_type": "stream",
          "name": "stderr",
          "text": [
            "Epoch [28/3000]: 100%|███████████████████████████████████████████████████████| 9/9 [00:00<00:00, 153.64it/s, loss=3.64]\n"
          ]
        },
        {
          "output_type": "stream",
          "name": "stdout",
          "text": [
            "Epoch [28/3000]: Train loss: 5.4670, Valid loss: 6.7037\n"
          ]
        },
        {
          "output_type": "stream",
          "name": "stderr",
          "text": [
            "Epoch [29/3000]: 100%|███████████████████████████████████████████████████████| 9/9 [00:00<00:00, 102.75it/s, loss=4.98]\n"
          ]
        },
        {
          "output_type": "stream",
          "name": "stdout",
          "text": [
            "Epoch [29/3000]: Train loss: 5.4988, Valid loss: 5.8795\n"
          ]
        },
        {
          "output_type": "stream",
          "name": "stderr",
          "text": [
            "Epoch [30/3000]: 100%|███████████████████████████████████████████████████████| 9/9 [00:00<00:00, 169.32it/s, loss=3.86]\n"
          ]
        },
        {
          "output_type": "stream",
          "name": "stdout",
          "text": [
            "Epoch [30/3000]: Train loss: 5.4070, Valid loss: 5.0770\n",
            "Saving model with loss 5.077...\n"
          ]
        },
        {
          "output_type": "stream",
          "name": "stderr",
          "text": [
            "Epoch [31/3000]: 100%|███████████████████████████████████████████████████████| 9/9 [00:00<00:00, 179.77it/s, loss=4.56]\n"
          ]
        },
        {
          "output_type": "stream",
          "name": "stdout",
          "text": [
            "Epoch [31/3000]: Train loss: 5.3947, Valid loss: 6.0088\n"
          ]
        },
        {
          "output_type": "stream",
          "name": "stderr",
          "text": [
            "Epoch [32/3000]: 100%|███████████████████████████████████████████████████████| 9/9 [00:00<00:00, 174.60it/s, loss=6.78]\n"
          ]
        },
        {
          "output_type": "stream",
          "name": "stdout",
          "text": [
            "Epoch [32/3000]: Train loss: 5.5028, Valid loss: 4.7090\n",
            "Saving model with loss 4.709...\n"
          ]
        },
        {
          "output_type": "stream",
          "name": "stderr",
          "text": [
            "Epoch [33/3000]: 100%|███████████████████████████████████████████████████████| 9/9 [00:00<00:00, 166.50it/s, loss=5.36]\n"
          ]
        },
        {
          "output_type": "stream",
          "name": "stdout",
          "text": [
            "Epoch [33/3000]: Train loss: 5.3695, Valid loss: 5.6696\n"
          ]
        },
        {
          "output_type": "stream",
          "name": "stderr",
          "text": [
            "Epoch [34/3000]: 100%|████████████████████████████████████████████████████████| 9/9 [00:00<00:00, 174.30it/s, loss=4.3]\n"
          ]
        },
        {
          "output_type": "stream",
          "name": "stdout",
          "text": [
            "Epoch [34/3000]: Train loss: 5.2791, Valid loss: 4.9800\n"
          ]
        },
        {
          "output_type": "stream",
          "name": "stderr",
          "text": [
            "Epoch [35/3000]: 100%|████████████████████████████████████████████████████████| 9/9 [00:00<00:00, 168.06it/s, loss=5.6]\n"
          ]
        },
        {
          "output_type": "stream",
          "name": "stdout",
          "text": [
            "Epoch [35/3000]: Train loss: 5.3253, Valid loss: 5.9675\n"
          ]
        },
        {
          "output_type": "stream",
          "name": "stderr",
          "text": [
            "Epoch [36/3000]: 100%|███████████████████████████████████████████████████████| 9/9 [00:00<00:00, 179.82it/s, loss=5.99]\n"
          ]
        },
        {
          "output_type": "stream",
          "name": "stdout",
          "text": [
            "Epoch [36/3000]: Train loss: 5.3431, Valid loss: 4.7703\n"
          ]
        },
        {
          "output_type": "stream",
          "name": "stderr",
          "text": [
            "Epoch [37/3000]: 100%|████████████████████████████████████████████████████████| 9/9 [00:00<00:00, 166.52it/s, loss=4.9]\n"
          ]
        },
        {
          "output_type": "stream",
          "name": "stdout",
          "text": [
            "Epoch [37/3000]: Train loss: 5.2490, Valid loss: 5.3236\n"
          ]
        },
        {
          "output_type": "stream",
          "name": "stderr",
          "text": [
            "Epoch [38/3000]: 100%|███████████████████████████████████████████████████████| 9/9 [00:00<00:00, 168.07it/s, loss=5.61]\n"
          ]
        },
        {
          "output_type": "stream",
          "name": "stdout",
          "text": [
            "Epoch [38/3000]: Train loss: 5.2550, Valid loss: 4.9560\n"
          ]
        },
        {
          "output_type": "stream",
          "name": "stderr",
          "text": [
            "Epoch [39/3000]: 100%|███████████████████████████████████████████████████████| 9/9 [00:00<00:00, 173.48it/s, loss=5.35]\n"
          ]
        },
        {
          "output_type": "stream",
          "name": "stdout",
          "text": [
            "Epoch [39/3000]: Train loss: 5.1977, Valid loss: 5.4870\n"
          ]
        },
        {
          "output_type": "stream",
          "name": "stderr",
          "text": [
            "Epoch [40/3000]: 100%|███████████████████████████████████████████████████████| 9/9 [00:00<00:00, 177.81it/s, loss=5.28]"
          ]
        },
        {
          "output_type": "stream",
          "name": "stdout",
          "text": [
            "Epoch [40/3000]: Train loss: 5.1536, Valid loss: 5.7948"
          ]
        },
        {
          "output_type": "stream",
          "name": "stderr",
          "text": [
            "\n"
          ]
        },
        {
          "output_type": "stream",
          "name": "stdout",
          "text": [
            "\n"
          ]
        },
        {
          "output_type": "stream",
          "name": "stderr",
          "text": [
            "Epoch [41/3000]: 100%|████████████████████████████████████████████████████████| 9/9 [00:00<00:00, 171.15it/s, loss=7.1]\n"
          ]
        },
        {
          "output_type": "stream",
          "name": "stdout",
          "text": [
            "Epoch [41/3000]: Train loss: 5.2540, Valid loss: 4.7428\n"
          ]
        },
        {
          "output_type": "stream",
          "name": "stderr",
          "text": [
            "Epoch [42/3000]: 100%|███████████████████████████████████████████████████████| 9/9 [00:00<00:00, 167.93it/s, loss=5.11]\n"
          ]
        },
        {
          "output_type": "stream",
          "name": "stdout",
          "text": [
            "Epoch [42/3000]: Train loss: 5.0942, Valid loss: 5.1980\n"
          ]
        },
        {
          "output_type": "stream",
          "name": "stderr",
          "text": [
            "Epoch [43/3000]: 100%|███████████████████████████████████████████████████████| 9/9 [00:00<00:00, 171.27it/s, loss=4.03]\n"
          ]
        },
        {
          "output_type": "stream",
          "name": "stdout",
          "text": [
            "Epoch [43/3000]: Train loss: 4.9990, Valid loss: 4.9261\n"
          ]
        },
        {
          "output_type": "stream",
          "name": "stderr",
          "text": [
            "Epoch [44/3000]: 100%|███████████████████████████████████████████████████████| 9/9 [00:00<00:00, 116.04it/s, loss=5.93]\n"
          ]
        },
        {
          "output_type": "stream",
          "name": "stdout",
          "text": [
            "Epoch [44/3000]: Train loss: 5.0919, Valid loss: 4.5501\n",
            "Saving model with loss 4.550...\n"
          ]
        },
        {
          "output_type": "stream",
          "name": "stderr",
          "text": [
            "Epoch [45/3000]: 100%|███████████████████████████████████████████████████████| 9/9 [00:00<00:00, 167.57it/s, loss=7.32]\n"
          ]
        },
        {
          "output_type": "stream",
          "name": "stdout",
          "text": [
            "Epoch [45/3000]: Train loss: 5.1712, Valid loss: 4.9397\n"
          ]
        },
        {
          "output_type": "stream",
          "name": "stderr",
          "text": [
            "Epoch [46/3000]: 100%|███████████████████████████████████████████████████████| 9/9 [00:00<00:00, 178.05it/s, loss=5.84]\n"
          ]
        },
        {
          "output_type": "stream",
          "name": "stdout",
          "text": [
            "Epoch [46/3000]: Train loss: 5.0410, Valid loss: 5.0428\n"
          ]
        },
        {
          "output_type": "stream",
          "name": "stderr",
          "text": [
            "Epoch [47/3000]: 100%|███████████████████████████████████████████████████████| 9/9 [00:00<00:00, 187.36it/s, loss=5.03]\n"
          ]
        },
        {
          "output_type": "stream",
          "name": "stdout",
          "text": [
            "Epoch [47/3000]: Train loss: 4.9566, Valid loss: 4.9083\n"
          ]
        },
        {
          "output_type": "stream",
          "name": "stderr",
          "text": [
            "Epoch [48/3000]: 100%|███████████████████████████████████████████████████████| 9/9 [00:00<00:00, 176.77it/s, loss=4.24]\n"
          ]
        },
        {
          "output_type": "stream",
          "name": "stdout",
          "text": [
            "Epoch [48/3000]: Train loss: 4.8740, Valid loss: 4.4333\n",
            "Saving model with loss 4.433...\n"
          ]
        },
        {
          "output_type": "stream",
          "name": "stderr",
          "text": [
            "Epoch [49/3000]: 100%|███████████████████████████████████████████████████████| 9/9 [00:00<00:00, 171.25it/s, loss=6.36]\n"
          ]
        },
        {
          "output_type": "stream",
          "name": "stdout",
          "text": [
            "Epoch [49/3000]: Train loss: 4.9935, Valid loss: 4.8224\n"
          ]
        },
        {
          "output_type": "stream",
          "name": "stderr",
          "text": [
            "Epoch [50/3000]: 100%|███████████████████████████████████████████████████████| 9/9 [00:00<00:00, 191.28it/s, loss=4.44]\n"
          ]
        },
        {
          "output_type": "stream",
          "name": "stdout",
          "text": [
            "Epoch [50/3000]: Train loss: 4.8450, Valid loss: 5.2081\n"
          ]
        },
        {
          "output_type": "stream",
          "name": "stderr",
          "text": [
            "Epoch [51/3000]: 100%|███████████████████████████████████████████████████████| 9/9 [00:00<00:00, 168.10it/s, loss=4.46]\n"
          ]
        },
        {
          "output_type": "stream",
          "name": "stdout",
          "text": [
            "Epoch [51/3000]: Train loss: 4.8182, Valid loss: 4.3688\n",
            "Saving model with loss 4.369...\n"
          ]
        },
        {
          "output_type": "stream",
          "name": "stderr",
          "text": [
            "Epoch [52/3000]: 100%|███████████████████████████████████████████████████████| 9/9 [00:00<00:00, 168.03it/s, loss=4.53]\n"
          ]
        },
        {
          "output_type": "stream",
          "name": "stdout",
          "text": [
            "Epoch [52/3000]: Train loss: 4.7979, Valid loss: 4.4174\n"
          ]
        },
        {
          "output_type": "stream",
          "name": "stderr",
          "text": [
            "Epoch [53/3000]: 100%|███████████████████████████████████████████████████████| 9/9 [00:00<00:00, 176.03it/s, loss=5.38]\n"
          ]
        },
        {
          "output_type": "stream",
          "name": "stdout",
          "text": [
            "Epoch [53/3000]: Train loss: 4.8209, Valid loss: 4.7993\n"
          ]
        },
        {
          "output_type": "stream",
          "name": "stderr",
          "text": [
            "Epoch [54/3000]: 100%|███████████████████████████████████████████████████████| 9/9 [00:00<00:00, 173.96it/s, loss=6.37]\n"
          ]
        },
        {
          "output_type": "stream",
          "name": "stdout",
          "text": [
            "Epoch [54/3000]: Train loss: 4.8695, Valid loss: 4.8062\n"
          ]
        },
        {
          "output_type": "stream",
          "name": "stderr",
          "text": [
            "Epoch [55/3000]: 100%|███████████████████████████████████████████████████████| 9/9 [00:00<00:00, 176.24it/s, loss=5.86]\n"
          ]
        },
        {
          "output_type": "stream",
          "name": "stdout",
          "text": [
            "Epoch [55/3000]: Train loss: 4.8093, Valid loss: 4.7686\n"
          ]
        },
        {
          "output_type": "stream",
          "name": "stderr",
          "text": [
            "Epoch [56/3000]: 100%|███████████████████████████████████████████████████████| 9/9 [00:00<00:00, 172.87it/s, loss=4.75]\n"
          ]
        },
        {
          "output_type": "stream",
          "name": "stdout",
          "text": [
            "Epoch [56/3000]: Train loss: 4.7145, Valid loss: 5.9352\n"
          ]
        },
        {
          "output_type": "stream",
          "name": "stderr",
          "text": [
            "Epoch [57/3000]: 100%|███████████████████████████████████████████████████████| 9/9 [00:00<00:00, 171.25it/s, loss=4.74]"
          ]
        },
        {
          "output_type": "stream",
          "name": "stdout",
          "text": [
            "Epoch [57/3000]: Train loss: 4.7022, Valid loss: 4.8405"
          ]
        },
        {
          "output_type": "stream",
          "name": "stderr",
          "text": [
            "\n"
          ]
        },
        {
          "output_type": "stream",
          "name": "stdout",
          "text": [
            "\n"
          ]
        },
        {
          "output_type": "stream",
          "name": "stderr",
          "text": [
            "Epoch [58/3000]: 100%|███████████████████████████████████████████████████████| 9/9 [00:00<00:00, 171.03it/s, loss=4.64]\n"
          ]
        },
        {
          "output_type": "stream",
          "name": "stdout",
          "text": [
            "Epoch [58/3000]: Train loss: 4.6772, Valid loss: 4.0778\n",
            "Saving model with loss 4.078...\n"
          ]
        },
        {
          "output_type": "stream",
          "name": "stderr",
          "text": [
            "Epoch [59/3000]: 100%|███████████████████████████████████████████████████████| 9/9 [00:00<00:00, 159.11it/s, loss=4.63]\n"
          ]
        },
        {
          "output_type": "stream",
          "name": "stdout",
          "text": [
            "Epoch [59/3000]: Train loss: 4.6383, Valid loss: 4.3461\n"
          ]
        },
        {
          "output_type": "stream",
          "name": "stderr",
          "text": [
            "Epoch [60/3000]: 100%|███████████████████████████████████████████████████████| 9/9 [00:00<00:00, 123.87it/s, loss=5.05]\n"
          ]
        },
        {
          "output_type": "stream",
          "name": "stdout",
          "text": [
            "Epoch [60/3000]: Train loss: 4.6367, Valid loss: 4.4830\n"
          ]
        },
        {
          "output_type": "stream",
          "name": "stderr",
          "text": [
            "Epoch [61/3000]: 100%|███████████████████████████████████████████████████████| 9/9 [00:00<00:00, 179.40it/s, loss=4.06]\n"
          ]
        },
        {
          "output_type": "stream",
          "name": "stdout",
          "text": [
            "Epoch [61/3000]: Train loss: 4.5606, Valid loss: 4.2405\n"
          ]
        },
        {
          "output_type": "stream",
          "name": "stderr",
          "text": [
            "Epoch [62/3000]: 100%|███████████████████████████████████████████████████████| 9/9 [00:00<00:00, 163.46it/s, loss=3.69]\n"
          ]
        },
        {
          "output_type": "stream",
          "name": "stdout",
          "text": [
            "Epoch [62/3000]: Train loss: 4.5117, Valid loss: 4.5670\n"
          ]
        },
        {
          "output_type": "stream",
          "name": "stderr",
          "text": [
            "Epoch [63/3000]: 100%|███████████████████████████████████████████████████████| 9/9 [00:00<00:00, 182.18it/s, loss=4.66]\n"
          ]
        },
        {
          "output_type": "stream",
          "name": "stdout",
          "text": [
            "Epoch [63/3000]: Train loss: 4.5541, Valid loss: 4.1676\n"
          ]
        },
        {
          "output_type": "stream",
          "name": "stderr",
          "text": [
            "Epoch [64/3000]: 100%|███████████████████████████████████████████████████████| 9/9 [00:00<00:00, 176.26it/s, loss=4.49]\n"
          ]
        },
        {
          "output_type": "stream",
          "name": "stdout",
          "text": [
            "Epoch [64/3000]: Train loss: 4.5260, Valid loss: 4.3484\n"
          ]
        },
        {
          "output_type": "stream",
          "name": "stderr",
          "text": [
            "Epoch [65/3000]: 100%|███████████████████████████████████████████████████████| 9/9 [00:00<00:00, 174.59it/s, loss=4.56]\n"
          ]
        },
        {
          "output_type": "stream",
          "name": "stdout",
          "text": [
            "Epoch [65/3000]: Train loss: 4.5050, Valid loss: 4.4363\n"
          ]
        },
        {
          "output_type": "stream",
          "name": "stderr",
          "text": [
            "Epoch [66/3000]: 100%|███████████████████████████████████████████████████████| 9/9 [00:00<00:00, 178.08it/s, loss=6.33]\n"
          ]
        },
        {
          "output_type": "stream",
          "name": "stdout",
          "text": [
            "Epoch [66/3000]: Train loss: 4.6066, Valid loss: 4.2235\n"
          ]
        },
        {
          "output_type": "stream",
          "name": "stderr",
          "text": [
            "Epoch [67/3000]: 100%|███████████████████████████████████████████████████████| 9/9 [00:00<00:00, 179.77it/s, loss=5.55]\n"
          ]
        },
        {
          "output_type": "stream",
          "name": "stdout",
          "text": [
            "Epoch [67/3000]: Train loss: 4.5390, Valid loss: 4.0050\n",
            "Saving model with loss 4.005...\n"
          ]
        },
        {
          "output_type": "stream",
          "name": "stderr",
          "text": [
            "Epoch [68/3000]: 100%|███████████████████████████████████████████████████████| 9/9 [00:00<00:00, 191.19it/s, loss=3.65]\n"
          ]
        },
        {
          "output_type": "stream",
          "name": "stdout",
          "text": [
            "Epoch [68/3000]: Train loss: 4.4333, Valid loss: 4.5357\n"
          ]
        },
        {
          "output_type": "stream",
          "name": "stderr",
          "text": [
            "Epoch [69/3000]: 100%|███████████████████████████████████████████████████████| 9/9 [00:00<00:00, 187.27it/s, loss=5.06]\n"
          ]
        },
        {
          "output_type": "stream",
          "name": "stdout",
          "text": [
            "Epoch [69/3000]: Train loss: 4.5028, Valid loss: 3.7711\n",
            "Saving model with loss 3.771...\n"
          ]
        },
        {
          "output_type": "stream",
          "name": "stderr",
          "text": [
            "Epoch [70/3000]: 100%|███████████████████████████████████████████████████████| 9/9 [00:00<00:00, 185.69it/s, loss=5.31]\n"
          ]
        },
        {
          "output_type": "stream",
          "name": "stdout",
          "text": [
            "Epoch [70/3000]: Train loss: 4.4577, Valid loss: 4.8550\n"
          ]
        },
        {
          "output_type": "stream",
          "name": "stderr",
          "text": [
            "Epoch [71/3000]: 100%|███████████████████████████████████████████████████████| 9/9 [00:00<00:00, 193.17it/s, loss=5.28]\n"
          ]
        },
        {
          "output_type": "stream",
          "name": "stdout",
          "text": [
            "Epoch [71/3000]: Train loss: 4.4477, Valid loss: 4.4317\n"
          ]
        },
        {
          "output_type": "stream",
          "name": "stderr",
          "text": [
            "Epoch [72/3000]: 100%|███████████████████████████████████████████████████████| 9/9 [00:00<00:00, 185.26it/s, loss=4.24]\n"
          ]
        },
        {
          "output_type": "stream",
          "name": "stdout",
          "text": [
            "Epoch [72/3000]: Train loss: 4.3749, Valid loss: 3.4984\n",
            "Saving model with loss 3.498...\n"
          ]
        },
        {
          "output_type": "stream",
          "name": "stderr",
          "text": [
            "Epoch [73/3000]: 100%|███████████████████████████████████████████████████████| 9/9 [00:00<00:00, 187.22it/s, loss=5.68]\n"
          ]
        },
        {
          "output_type": "stream",
          "name": "stdout",
          "text": [
            "Epoch [73/3000]: Train loss: 4.4497, Valid loss: 4.1140\n"
          ]
        },
        {
          "output_type": "stream",
          "name": "stderr",
          "text": [
            "Epoch [74/3000]: 100%|███████████████████████████████████████████████████████| 9/9 [00:00<00:00, 171.14it/s, loss=4.95]\n"
          ]
        },
        {
          "output_type": "stream",
          "name": "stdout",
          "text": [
            "Epoch [74/3000]: Train loss: 4.3579, Valid loss: 4.3872\n"
          ]
        },
        {
          "output_type": "stream",
          "name": "stderr",
          "text": [
            "Epoch [75/3000]: 100%|███████████████████████████████████████████████████████| 9/9 [00:00<00:00, 183.45it/s, loss=5.47]\n"
          ]
        },
        {
          "output_type": "stream",
          "name": "stdout",
          "text": [
            "Epoch [75/3000]: Train loss: 4.3785, Valid loss: 4.3845\n"
          ]
        },
        {
          "output_type": "stream",
          "name": "stderr",
          "text": [
            "Epoch [76/3000]: 100%|███████████████████████████████████████████████████████| 9/9 [00:00<00:00, 183.45it/s, loss=3.96]"
          ]
        },
        {
          "output_type": "stream",
          "name": "stdout",
          "text": [
            "Epoch [76/3000]: Train loss: 4.2596, Valid loss: 3.9479"
          ]
        },
        {
          "output_type": "stream",
          "name": "stderr",
          "text": [
            "\n"
          ]
        },
        {
          "output_type": "stream",
          "name": "stdout",
          "text": [
            "\n"
          ]
        },
        {
          "output_type": "stream",
          "name": "stderr",
          "text": [
            "Epoch [77/3000]: 100%|███████████████████████████████████████████████████████| 9/9 [00:00<00:00, 117.31it/s, loss=3.57]\n"
          ]
        },
        {
          "output_type": "stream",
          "name": "stdout",
          "text": [
            "Epoch [77/3000]: Train loss: 4.2134, Valid loss: 3.7767\n"
          ]
        },
        {
          "output_type": "stream",
          "name": "stderr",
          "text": [
            "Epoch [78/3000]: 100%|███████████████████████████████████████████████████████| 9/9 [00:00<00:00, 163.43it/s, loss=3.44]\n"
          ]
        },
        {
          "output_type": "stream",
          "name": "stdout",
          "text": [
            "Epoch [78/3000]: Train loss: 4.1878, Valid loss: 4.0294\n"
          ]
        },
        {
          "output_type": "stream",
          "name": "stderr",
          "text": [
            "Epoch [79/3000]: 100%|████████████████████████████████████████████████████████| 9/9 [00:00<00:00, 166.32it/s, loss=4.1]\n"
          ]
        },
        {
          "output_type": "stream",
          "name": "stdout",
          "text": [
            "Epoch [79/3000]: Train loss: 4.2164, Valid loss: 4.2639\n"
          ]
        },
        {
          "output_type": "stream",
          "name": "stderr",
          "text": [
            "Epoch [80/3000]: 100%|███████████████████████████████████████████████████████| 9/9 [00:00<00:00, 166.53it/s, loss=3.51]\n"
          ]
        },
        {
          "output_type": "stream",
          "name": "stdout",
          "text": [
            "Epoch [80/3000]: Train loss: 4.1583, Valid loss: 3.7174\n"
          ]
        },
        {
          "output_type": "stream",
          "name": "stderr",
          "text": [
            "Epoch [81/3000]: 100%|███████████████████████████████████████████████████████| 9/9 [00:00<00:00, 152.85it/s, loss=4.37]\n"
          ]
        },
        {
          "output_type": "stream",
          "name": "stdout",
          "text": [
            "Epoch [81/3000]: Train loss: 4.1862, Valid loss: 4.2236\n"
          ]
        },
        {
          "output_type": "stream",
          "name": "stderr",
          "text": [
            "Epoch [82/3000]: 100%|███████████████████████████████████████████████████████| 9/9 [00:00<00:00, 181.96it/s, loss=4.39]\n"
          ]
        },
        {
          "output_type": "stream",
          "name": "stdout",
          "text": [
            "Epoch [82/3000]: Train loss: 4.1731, Valid loss: 4.3201\n"
          ]
        },
        {
          "output_type": "stream",
          "name": "stderr",
          "text": [
            "Epoch [83/3000]: 100%|███████████████████████████████████████████████████████| 9/9 [00:00<00:00, 165.24it/s, loss=4.46]\n"
          ]
        },
        {
          "output_type": "stream",
          "name": "stdout",
          "text": [
            "Epoch [83/3000]: Train loss: 4.1551, Valid loss: 4.7415\n"
          ]
        },
        {
          "output_type": "stream",
          "name": "stderr",
          "text": [
            "Epoch [84/3000]: 100%|███████████████████████████████████████████████████████| 9/9 [00:00<00:00, 191.26it/s, loss=4.96]\n"
          ]
        },
        {
          "output_type": "stream",
          "name": "stdout",
          "text": [
            "Epoch [84/3000]: Train loss: 4.1703, Valid loss: 3.6398\n"
          ]
        },
        {
          "output_type": "stream",
          "name": "stderr",
          "text": [
            "Epoch [85/3000]: 100%|███████████████████████████████████████████████████████| 9/9 [00:00<00:00, 163.38it/s, loss=3.68]\n"
          ]
        },
        {
          "output_type": "stream",
          "name": "stdout",
          "text": [
            "Epoch [85/3000]: Train loss: 4.0575, Valid loss: 5.2593\n"
          ]
        },
        {
          "output_type": "stream",
          "name": "stderr",
          "text": [
            "Epoch [86/3000]: 100%|███████████████████████████████████████████████████████| 9/9 [00:00<00:00, 193.76it/s, loss=5.24]\n"
          ]
        },
        {
          "output_type": "stream",
          "name": "stdout",
          "text": [
            "Epoch [86/3000]: Train loss: 4.1649, Valid loss: 4.3334\n"
          ]
        },
        {
          "output_type": "stream",
          "name": "stderr",
          "text": [
            "Epoch [87/3000]: 100%|███████████████████████████████████████████████████████| 9/9 [00:00<00:00, 189.29it/s, loss=4.37]\n"
          ]
        },
        {
          "output_type": "stream",
          "name": "stdout",
          "text": [
            "Epoch [87/3000]: Train loss: 4.0717, Valid loss: 3.5429\n"
          ]
        },
        {
          "output_type": "stream",
          "name": "stderr",
          "text": [
            "Epoch [88/3000]: 100%|███████████████████████████████████████████████████████| 9/9 [00:00<00:00, 189.32it/s, loss=4.16]\n"
          ]
        },
        {
          "output_type": "stream",
          "name": "stdout",
          "text": [
            "Epoch [88/3000]: Train loss: 4.0518, Valid loss: 4.0413\n"
          ]
        },
        {
          "output_type": "stream",
          "name": "stderr",
          "text": [
            "Epoch [89/3000]: 100%|███████████████████████████████████████████████████████| 9/9 [00:00<00:00, 178.93it/s, loss=5.93]\n"
          ]
        },
        {
          "output_type": "stream",
          "name": "stdout",
          "text": [
            "Epoch [89/3000]: Train loss: 4.1392, Valid loss: 3.8389\n"
          ]
        },
        {
          "output_type": "stream",
          "name": "stderr",
          "text": [
            "Epoch [90/3000]: 100%|███████████████████████████████████████████████████████| 9/9 [00:00<00:00, 184.68it/s, loss=3.52]\n"
          ]
        },
        {
          "output_type": "stream",
          "name": "stdout",
          "text": [
            "Epoch [90/3000]: Train loss: 3.9677, Valid loss: 4.1692\n"
          ]
        },
        {
          "output_type": "stream",
          "name": "stderr",
          "text": [
            "Epoch [91/3000]: 100%|███████████████████████████████████████████████████████| 9/9 [00:00<00:00, 176.27it/s, loss=4.02]\n"
          ]
        },
        {
          "output_type": "stream",
          "name": "stdout",
          "text": [
            "Epoch [91/3000]: Train loss: 4.0142, Valid loss: 3.9875\n"
          ]
        },
        {
          "output_type": "stream",
          "name": "stderr",
          "text": [
            "Epoch [92/3000]: 100%|███████████████████████████████████████████████████████| 9/9 [00:00<00:00, 187.23it/s, loss=3.84]\n"
          ]
        },
        {
          "output_type": "stream",
          "name": "stdout",
          "text": [
            "Epoch [92/3000]: Train loss: 3.9512, Valid loss: 4.1026\n"
          ]
        },
        {
          "output_type": "stream",
          "name": "stderr",
          "text": [
            "Epoch [93/3000]: 100%|██████████████████████████████████████████████████████████| 9/9 [00:00<00:00, 133.83it/s, loss=4]\n"
          ]
        },
        {
          "output_type": "stream",
          "name": "stdout",
          "text": [
            "Epoch [93/3000]: Train loss: 3.9454, Valid loss: 3.9699\n"
          ]
        },
        {
          "output_type": "stream",
          "name": "stderr",
          "text": [
            "Epoch [94/3000]: 100%|███████████████████████████████████████████████████████| 9/9 [00:00<00:00, 178.15it/s, loss=3.77]\n"
          ]
        },
        {
          "output_type": "stream",
          "name": "stdout",
          "text": [
            "Epoch [94/3000]: Train loss: 3.9424, Valid loss: 4.3038\n"
          ]
        },
        {
          "output_type": "stream",
          "name": "stderr",
          "text": [
            "Epoch [95/3000]: 100%|███████████████████████████████████████████████████████| 9/9 [00:00<00:00, 184.41it/s, loss=3.79]\n"
          ]
        },
        {
          "output_type": "stream",
          "name": "stdout",
          "text": [
            "Epoch [95/3000]: Train loss: 3.9175, Valid loss: 3.7102\n"
          ]
        },
        {
          "output_type": "stream",
          "name": "stderr",
          "text": [
            "Epoch [96/3000]: 100%|███████████████████████████████████████████████████████| 9/9 [00:00<00:00, 199.90it/s, loss=3.71]\n"
          ]
        },
        {
          "output_type": "stream",
          "name": "stdout",
          "text": [
            "Epoch [96/3000]: Train loss: 3.8773, Valid loss: 4.0624\n"
          ]
        },
        {
          "output_type": "stream",
          "name": "stderr",
          "text": [
            "Epoch [97/3000]: 100%|███████████████████████████████████████████████████████| 9/9 [00:00<00:00, 181.10it/s, loss=4.09]\n"
          ]
        },
        {
          "output_type": "stream",
          "name": "stdout",
          "text": [
            "Epoch [97/3000]: Train loss: 3.8886, Valid loss: 3.6142\n"
          ]
        },
        {
          "output_type": "stream",
          "name": "stderr",
          "text": [
            "Epoch [98/3000]: 100%|███████████████████████████████████████████████████████| 9/9 [00:00<00:00, 171.31it/s, loss=3.66]\n"
          ]
        },
        {
          "output_type": "stream",
          "name": "stdout",
          "text": [
            "Epoch [98/3000]: Train loss: 3.8493, Valid loss: 4.0162\n"
          ]
        },
        {
          "output_type": "stream",
          "name": "stderr",
          "text": [
            "Epoch [99/3000]: 100%|███████████████████████████████████████████████████████| 9/9 [00:00<00:00, 179.54it/s, loss=4.26]\n"
          ]
        },
        {
          "output_type": "stream",
          "name": "stdout",
          "text": [
            "Epoch [99/3000]: Train loss: 3.9070, Valid loss: 3.6705\n"
          ]
        },
        {
          "output_type": "stream",
          "name": "stderr",
          "text": [
            "Epoch [100/3000]: 100%|██████████████████████████████████████████████████████| 9/9 [00:00<00:00, 166.44it/s, loss=3.26]"
          ]
        },
        {
          "output_type": "stream",
          "name": "stdout",
          "text": [
            "Epoch [100/3000]: Train loss: 3.8364, Valid loss: 4.0303"
          ]
        },
        {
          "output_type": "stream",
          "name": "stderr",
          "text": [
            "\n"
          ]
        },
        {
          "output_type": "stream",
          "name": "stdout",
          "text": [
            "\n"
          ]
        },
        {
          "output_type": "stream",
          "name": "stderr",
          "text": [
            "Epoch [101/3000]: 100%|███████████████████████████████████████████████████████| 9/9 [00:00<00:00, 174.60it/s, loss=4.9]\n"
          ]
        },
        {
          "output_type": "stream",
          "name": "stdout",
          "text": [
            "Epoch [101/3000]: Train loss: 3.8770, Valid loss: 3.9173\n"
          ]
        },
        {
          "output_type": "stream",
          "name": "stderr",
          "text": [
            "Epoch [102/3000]: 100%|██████████████████████████████████████████████████████| 9/9 [00:00<00:00, 180.57it/s, loss=3.97]\n"
          ]
        },
        {
          "output_type": "stream",
          "name": "stdout",
          "text": [
            "Epoch [102/3000]: Train loss: 3.7990, Valid loss: 3.5908\n"
          ]
        },
        {
          "output_type": "stream",
          "name": "stderr",
          "text": [
            "Epoch [103/3000]: 100%|██████████████████████████████████████████████████████| 9/9 [00:00<00:00, 174.58it/s, loss=3.89]\n"
          ]
        },
        {
          "output_type": "stream",
          "name": "stdout",
          "text": [
            "Epoch [103/3000]: Train loss: 3.7807, Valid loss: 4.2506\n"
          ]
        },
        {
          "output_type": "stream",
          "name": "stderr",
          "text": [
            "Epoch [104/3000]: 100%|██████████████████████████████████████████████████████| 9/9 [00:00<00:00, 201.24it/s, loss=3.64]\n"
          ]
        },
        {
          "output_type": "stream",
          "name": "stdout",
          "text": [
            "Epoch [104/3000]: Train loss: 3.7607, Valid loss: 4.3922\n"
          ]
        },
        {
          "output_type": "stream",
          "name": "stderr",
          "text": [
            "Epoch [105/3000]: 100%|██████████████████████████████████████████████████████| 9/9 [00:00<00:00, 206.04it/s, loss=3.35]\n"
          ]
        },
        {
          "output_type": "stream",
          "name": "stdout",
          "text": [
            "Epoch [105/3000]: Train loss: 3.7378, Valid loss: 3.8588\n"
          ]
        },
        {
          "output_type": "stream",
          "name": "stderr",
          "text": [
            "Epoch [106/3000]: 100%|██████████████████████████████████████████████████████| 9/9 [00:00<00:00, 181.90it/s, loss=4.63]\n"
          ]
        },
        {
          "output_type": "stream",
          "name": "stdout",
          "text": [
            "Epoch [106/3000]: Train loss: 3.7884, Valid loss: 3.6027\n"
          ]
        },
        {
          "output_type": "stream",
          "name": "stderr",
          "text": [
            "Epoch [107/3000]: 100%|██████████████████████████████████████████████████████| 9/9 [00:00<00:00, 186.98it/s, loss=3.94]\n"
          ]
        },
        {
          "output_type": "stream",
          "name": "stdout",
          "text": [
            "Epoch [107/3000]: Train loss: 3.7232, Valid loss: 4.2138\n"
          ]
        },
        {
          "output_type": "stream",
          "name": "stderr",
          "text": [
            "Epoch [108/3000]: 100%|██████████████████████████████████████████████████████| 9/9 [00:00<00:00, 181.67it/s, loss=4.28]\n"
          ]
        },
        {
          "output_type": "stream",
          "name": "stdout",
          "text": [
            "Epoch [108/3000]: Train loss: 3.7446, Valid loss: 3.3802\n",
            "Saving model with loss 3.380...\n"
          ]
        },
        {
          "output_type": "stream",
          "name": "stderr",
          "text": [
            "Epoch [109/3000]: 100%|██████████████████████████████████████████████████████| 9/9 [00:00<00:00, 200.27it/s, loss=4.37]\n"
          ]
        },
        {
          "output_type": "stream",
          "name": "stdout",
          "text": [
            "Epoch [109/3000]: Train loss: 3.7322, Valid loss: 4.0648\n"
          ]
        },
        {
          "output_type": "stream",
          "name": "stderr",
          "text": [
            "Epoch [110/3000]: 100%|███████████████████████████████████████████████████████| 9/9 [00:00<00:00, 179.83it/s, loss=3.7]\n"
          ]
        },
        {
          "output_type": "stream",
          "name": "stdout",
          "text": [
            "Epoch [110/3000]: Train loss: 3.6658, Valid loss: 3.6062\n"
          ]
        },
        {
          "output_type": "stream",
          "name": "stderr",
          "text": [
            "Epoch [111/3000]: 100%|██████████████████████████████████████████████████████| 9/9 [00:00<00:00, 183.25it/s, loss=2.99]\n"
          ]
        },
        {
          "output_type": "stream",
          "name": "stdout",
          "text": [
            "Epoch [111/3000]: Train loss: 3.6181, Valid loss: 3.9444\n"
          ]
        },
        {
          "output_type": "stream",
          "name": "stderr",
          "text": [
            "Epoch [112/3000]: 100%|██████████████████████████████████████████████████████| 9/9 [00:00<00:00, 170.28it/s, loss=3.41]\n"
          ]
        },
        {
          "output_type": "stream",
          "name": "stdout",
          "text": [
            "Epoch [112/3000]: Train loss: 3.6377, Valid loss: 3.1654\n",
            "Saving model with loss 3.165...\n"
          ]
        },
        {
          "output_type": "stream",
          "name": "stderr",
          "text": [
            "Epoch [113/3000]: 100%|██████████████████████████████████████████████████████| 9/9 [00:00<00:00, 165.03it/s, loss=3.89]"
          ]
        },
        {
          "output_type": "stream",
          "name": "stdout",
          "text": [
            "Epoch [113/3000]: Train loss: 3.6285, Valid loss: 3.7411"
          ]
        },
        {
          "output_type": "stream",
          "name": "stderr",
          "text": [
            "\n"
          ]
        },
        {
          "output_type": "stream",
          "name": "stdout",
          "text": [
            "\n"
          ]
        },
        {
          "output_type": "stream",
          "name": "stderr",
          "text": [
            "Epoch [114/3000]: 100%|██████████████████████████████████████████████████████| 9/9 [00:00<00:00, 175.06it/s, loss=2.94]\n"
          ]
        },
        {
          "output_type": "stream",
          "name": "stdout",
          "text": [
            "Epoch [114/3000]: Train loss: 3.5689, Valid loss: 3.8974\n"
          ]
        },
        {
          "output_type": "stream",
          "name": "stderr",
          "text": [
            "Epoch [115/3000]: 100%|███████████████████████████████████████████████████████| 9/9 [00:00<00:00, 156.73it/s, loss=3.7]\n"
          ]
        },
        {
          "output_type": "stream",
          "name": "stdout",
          "text": [
            "Epoch [115/3000]: Train loss: 3.5989, Valid loss: 3.6188\n"
          ]
        },
        {
          "output_type": "stream",
          "name": "stderr",
          "text": [
            "Epoch [116/3000]: 100%|██████████████████████████████████████████████████████| 9/9 [00:00<00:00, 187.21it/s, loss=4.54]\n"
          ]
        },
        {
          "output_type": "stream",
          "name": "stdout",
          "text": [
            "Epoch [116/3000]: Train loss: 3.6416, Valid loss: 3.5239\n"
          ]
        },
        {
          "output_type": "stream",
          "name": "stderr",
          "text": [
            "Epoch [117/3000]: 100%|██████████████████████████████████████████████████████| 9/9 [00:00<00:00, 200.36it/s, loss=3.81]\n"
          ]
        },
        {
          "output_type": "stream",
          "name": "stdout",
          "text": [
            "Epoch [117/3000]: Train loss: 3.5742, Valid loss: 3.5789\n"
          ]
        },
        {
          "output_type": "stream",
          "name": "stderr",
          "text": [
            "Epoch [118/3000]: 100%|██████████████████████████████████████████████████████| 9/9 [00:00<00:00, 191.39it/s, loss=3.47]\n"
          ]
        },
        {
          "output_type": "stream",
          "name": "stdout",
          "text": [
            "Epoch [118/3000]: Train loss: 3.5612, Valid loss: 3.4217\n"
          ]
        },
        {
          "output_type": "stream",
          "name": "stderr",
          "text": [
            "Epoch [119/3000]: 100%|██████████████████████████████████████████████████████| 9/9 [00:00<00:00, 195.42it/s, loss=3.36]\n"
          ]
        },
        {
          "output_type": "stream",
          "name": "stdout",
          "text": [
            "Epoch [119/3000]: Train loss: 3.5209, Valid loss: 4.0864\n"
          ]
        },
        {
          "output_type": "stream",
          "name": "stderr",
          "text": [
            "Epoch [120/3000]: 100%|██████████████████████████████████████████████████████| 9/9 [00:00<00:00, 172.90it/s, loss=3.61]\n"
          ]
        },
        {
          "output_type": "stream",
          "name": "stdout",
          "text": [
            "Epoch [120/3000]: Train loss: 3.5268, Valid loss: 3.2392\n"
          ]
        },
        {
          "output_type": "stream",
          "name": "stderr",
          "text": [
            "Epoch [121/3000]: 100%|██████████████████████████████████████████████████████| 9/9 [00:00<00:00, 174.39it/s, loss=3.66]\n"
          ]
        },
        {
          "output_type": "stream",
          "name": "stdout",
          "text": [
            "Epoch [121/3000]: Train loss: 3.5196, Valid loss: 3.5798\n"
          ]
        },
        {
          "output_type": "stream",
          "name": "stderr",
          "text": [
            "Epoch [122/3000]: 100%|██████████████████████████████████████████████████████| 9/9 [00:00<00:00, 170.76it/s, loss=4.56]\n"
          ]
        },
        {
          "output_type": "stream",
          "name": "stdout",
          "text": [
            "Epoch [122/3000]: Train loss: 3.5459, Valid loss: 3.4419\n"
          ]
        },
        {
          "output_type": "stream",
          "name": "stderr",
          "text": [
            "Epoch [123/3000]: 100%|███████████████████████████████████████████████████████| 9/9 [00:00<00:00, 166.46it/s, loss=3.5]\n"
          ]
        },
        {
          "output_type": "stream",
          "name": "stdout",
          "text": [
            "Epoch [123/3000]: Train loss: 3.4780, Valid loss: 3.4788\n"
          ]
        },
        {
          "output_type": "stream",
          "name": "stderr",
          "text": [
            "Epoch [124/3000]: 100%|██████████████████████████████████████████████████████| 9/9 [00:00<00:00, 177.06it/s, loss=2.71]\n"
          ]
        },
        {
          "output_type": "stream",
          "name": "stdout",
          "text": [
            "Epoch [124/3000]: Train loss: 3.4069, Valid loss: 3.4721\n"
          ]
        },
        {
          "output_type": "stream",
          "name": "stderr",
          "text": [
            "Epoch [125/3000]: 100%|███████████████████████████████████████████████████████| 9/9 [00:00<00:00, 171.24it/s, loss=3.1]\n"
          ]
        },
        {
          "output_type": "stream",
          "name": "stdout",
          "text": [
            "Epoch [125/3000]: Train loss: 3.4266, Valid loss: 3.2217\n"
          ]
        },
        {
          "output_type": "stream",
          "name": "stderr",
          "text": [
            "Epoch [126/3000]: 100%|██████████████████████████████████████████████████████| 9/9 [00:00<00:00, 154.81it/s, loss=2.73]\n"
          ]
        },
        {
          "output_type": "stream",
          "name": "stdout",
          "text": [
            "Epoch [126/3000]: Train loss: 3.3882, Valid loss: 3.6192\n"
          ]
        },
        {
          "output_type": "stream",
          "name": "stderr",
          "text": [
            "Epoch [127/3000]: 100%|██████████████████████████████████████████████████████| 9/9 [00:00<00:00, 167.35it/s, loss=3.73]\n"
          ]
        },
        {
          "output_type": "stream",
          "name": "stdout",
          "text": [
            "Epoch [127/3000]: Train loss: 3.4318, Valid loss: 3.5576\n"
          ]
        },
        {
          "output_type": "stream",
          "name": "stderr",
          "text": [
            "Epoch [128/3000]: 100%|██████████████████████████████████████████████████████| 9/9 [00:00<00:00, 183.48it/s, loss=4.25]\n"
          ]
        },
        {
          "output_type": "stream",
          "name": "stdout",
          "text": [
            "Epoch [128/3000]: Train loss: 3.4463, Valid loss: 3.0719\n",
            "Saving model with loss 3.072...\n"
          ]
        },
        {
          "output_type": "stream",
          "name": "stderr",
          "text": [
            "Epoch [129/3000]: 100%|██████████████████████████████████████████████████████| 9/9 [00:00<00:00, 181.68it/s, loss=3.91]\n"
          ]
        },
        {
          "output_type": "stream",
          "name": "stdout",
          "text": [
            "Epoch [129/3000]: Train loss: 3.4166, Valid loss: 2.9637\n",
            "Saving model with loss 2.964...\n"
          ]
        },
        {
          "output_type": "stream",
          "name": "stderr",
          "text": [
            "Epoch [130/3000]: 100%|███████████████████████████████████████████████████████| 9/9 [00:00<00:00, 39.88it/s, loss=3.49]\n"
          ]
        },
        {
          "output_type": "stream",
          "name": "stdout",
          "text": [
            "Epoch [130/3000]: Train loss: 3.3711, Valid loss: 3.6912\n"
          ]
        },
        {
          "output_type": "stream",
          "name": "stderr",
          "text": [
            "Epoch [131/3000]: 100%|██████████████████████████████████████████████████████| 9/9 [00:00<00:00, 199.85it/s, loss=2.73]\n"
          ]
        },
        {
          "output_type": "stream",
          "name": "stdout",
          "text": [
            "Epoch [131/3000]: Train loss: 3.3334, Valid loss: 3.2362\n"
          ]
        },
        {
          "output_type": "stream",
          "name": "stderr",
          "text": [
            "Epoch [132/3000]: 100%|██████████████████████████████████████████████████████| 9/9 [00:00<00:00, 188.06it/s, loss=3.01]\n"
          ]
        },
        {
          "output_type": "stream",
          "name": "stdout",
          "text": [
            "Epoch [132/3000]: Train loss: 3.3265, Valid loss: 3.3676\n"
          ]
        },
        {
          "output_type": "stream",
          "name": "stderr",
          "text": [
            "Epoch [133/3000]: 100%|██████████████████████████████████████████████████████| 9/9 [00:00<00:00, 193.36it/s, loss=4.13]\n"
          ]
        },
        {
          "output_type": "stream",
          "name": "stdout",
          "text": [
            "Epoch [133/3000]: Train loss: 3.3845, Valid loss: 3.0397\n"
          ]
        },
        {
          "output_type": "stream",
          "name": "stderr",
          "text": [
            "Epoch [134/3000]: 100%|███████████████████████████████████████████████████████| 9/9 [00:00<00:00, 197.45it/s, loss=2.7]\n"
          ]
        },
        {
          "output_type": "stream",
          "name": "stdout",
          "text": [
            "Epoch [134/3000]: Train loss: 3.2863, Valid loss: 3.4490\n"
          ]
        },
        {
          "output_type": "stream",
          "name": "stderr",
          "text": [
            "Epoch [135/3000]: 100%|██████████████████████████████████████████████████████| 9/9 [00:00<00:00, 187.28it/s, loss=4.43]\n"
          ]
        },
        {
          "output_type": "stream",
          "name": "stdout",
          "text": [
            "Epoch [135/3000]: Train loss: 3.3751, Valid loss: 3.2563\n"
          ]
        },
        {
          "output_type": "stream",
          "name": "stderr",
          "text": [
            "Epoch [136/3000]: 100%|██████████████████████████████████████████████████████| 9/9 [00:00<00:00, 221.81it/s, loss=3.47]\n"
          ]
        },
        {
          "output_type": "stream",
          "name": "stdout",
          "text": [
            "Epoch [136/3000]: Train loss: 3.3391, Valid loss: 3.2640\n"
          ]
        },
        {
          "output_type": "stream",
          "name": "stderr",
          "text": [
            "Epoch [137/3000]: 100%|██████████████████████████████████████████████████████| 9/9 [00:00<00:00, 189.16it/s, loss=3.78]\n"
          ]
        },
        {
          "output_type": "stream",
          "name": "stdout",
          "text": [
            "Epoch [137/3000]: Train loss: 3.3061, Valid loss: 3.6115\n"
          ]
        },
        {
          "output_type": "stream",
          "name": "stderr",
          "text": [
            "Epoch [138/3000]: 100%|██████████████████████████████████████████████████████| 9/9 [00:00<00:00, 197.49it/s, loss=2.88]\n"
          ]
        },
        {
          "output_type": "stream",
          "name": "stdout",
          "text": [
            "Epoch [138/3000]: Train loss: 3.2369, Valid loss: 3.7887\n"
          ]
        },
        {
          "output_type": "stream",
          "name": "stderr",
          "text": [
            "Epoch [139/3000]: 100%|██████████████████████████████████████████████████████| 9/9 [00:00<00:00, 185.36it/s, loss=2.93]\n"
          ]
        },
        {
          "output_type": "stream",
          "name": "stdout",
          "text": [
            "Epoch [139/3000]: Train loss: 3.2282, Valid loss: 3.0065\n"
          ]
        },
        {
          "output_type": "stream",
          "name": "stderr",
          "text": [
            "Epoch [140/3000]: 100%|██████████████████████████████████████████████████████| 9/9 [00:00<00:00, 178.07it/s, loss=3.39]\n"
          ]
        },
        {
          "output_type": "stream",
          "name": "stdout",
          "text": [
            "Epoch [140/3000]: Train loss: 3.2530, Valid loss: 3.3578\n"
          ]
        },
        {
          "output_type": "stream",
          "name": "stderr",
          "text": [
            "Epoch [141/3000]: 100%|██████████████████████████████████████████████████████| 9/9 [00:00<00:00, 175.69it/s, loss=3.96]\n"
          ]
        },
        {
          "output_type": "stream",
          "name": "stdout",
          "text": [
            "Epoch [141/3000]: Train loss: 3.2640, Valid loss: 3.1256\n"
          ]
        },
        {
          "output_type": "stream",
          "name": "stderr",
          "text": [
            "Epoch [142/3000]: 100%|██████████████████████████████████████████████████████| 9/9 [00:00<00:00, 181.70it/s, loss=2.97]\n"
          ]
        },
        {
          "output_type": "stream",
          "name": "stdout",
          "text": [
            "Epoch [142/3000]: Train loss: 3.2023, Valid loss: 2.9043\n",
            "Saving model with loss 2.904...\n"
          ]
        },
        {
          "output_type": "stream",
          "name": "stderr",
          "text": [
            "Epoch [143/3000]: 100%|██████████████████████████████████████████████████████| 9/9 [00:00<00:00, 187.54it/s, loss=2.91]\n"
          ]
        },
        {
          "output_type": "stream",
          "name": "stdout",
          "text": [
            "Epoch [143/3000]: Train loss: 3.1845, Valid loss: 3.1303\n"
          ]
        },
        {
          "output_type": "stream",
          "name": "stderr",
          "text": [
            "Epoch [144/3000]: 100%|██████████████████████████████████████████████████████| 9/9 [00:00<00:00, 189.30it/s, loss=3.57]\n"
          ]
        },
        {
          "output_type": "stream",
          "name": "stdout",
          "text": [
            "Epoch [144/3000]: Train loss: 3.2153, Valid loss: 3.3716\n"
          ]
        },
        {
          "output_type": "stream",
          "name": "stderr",
          "text": [
            "Epoch [145/3000]: 100%|██████████████████████████████████████████████████████| 9/9 [00:00<00:00, 165.00it/s, loss=2.16]\n"
          ]
        },
        {
          "output_type": "stream",
          "name": "stdout",
          "text": [
            "Epoch [145/3000]: Train loss: 3.1141, Valid loss: 3.3104\n"
          ]
        },
        {
          "output_type": "stream",
          "name": "stderr",
          "text": [
            "Epoch [146/3000]: 100%|███████████████████████████████████████████████████████| 9/9 [00:00<00:00, 179.77it/s, loss=3.2]\n"
          ]
        },
        {
          "output_type": "stream",
          "name": "stdout",
          "text": [
            "Epoch [146/3000]: Train loss: 3.1580, Valid loss: 2.9768\n"
          ]
        },
        {
          "output_type": "stream",
          "name": "stderr",
          "text": [
            "Epoch [147/3000]: 100%|██████████████████████████████████████████████████████| 9/9 [00:00<00:00, 193.36it/s, loss=3.58]\n"
          ]
        },
        {
          "output_type": "stream",
          "name": "stdout",
          "text": [
            "Epoch [147/3000]: Train loss: 3.1708, Valid loss: 3.1803\n"
          ]
        },
        {
          "output_type": "stream",
          "name": "stderr",
          "text": [
            "Epoch [148/3000]: 100%|██████████████████████████████████████████████████████| 9/9 [00:00<00:00, 191.33it/s, loss=2.04]\n"
          ]
        },
        {
          "output_type": "stream",
          "name": "stdout",
          "text": [
            "Epoch [148/3000]: Train loss: 3.0751, Valid loss: 3.3784\n"
          ]
        },
        {
          "output_type": "stream",
          "name": "stderr",
          "text": [
            "Epoch [149/3000]: 100%|██████████████████████████████████████████████████████| 9/9 [00:00<00:00, 193.36it/s, loss=3.66]\n"
          ]
        },
        {
          "output_type": "stream",
          "name": "stdout",
          "text": [
            "Epoch [149/3000]: Train loss: 3.1564, Valid loss: 2.8169\n",
            "Saving model with loss 2.817...\n"
          ]
        },
        {
          "output_type": "stream",
          "name": "stderr",
          "text": [
            "Epoch [150/3000]: 100%|██████████████████████████████████████████████████████| 9/9 [00:00<00:00, 183.40it/s, loss=3.43]\n"
          ]
        },
        {
          "output_type": "stream",
          "name": "stdout",
          "text": [
            "Epoch [150/3000]: Train loss: 3.1444, Valid loss: 3.5826\n"
          ]
        },
        {
          "output_type": "stream",
          "name": "stderr",
          "text": [
            "Epoch [151/3000]: 100%|██████████████████████████████████████████████████████| 9/9 [00:00<00:00, 181.60it/s, loss=2.78]\n"
          ]
        },
        {
          "output_type": "stream",
          "name": "stdout",
          "text": [
            "Epoch [151/3000]: Train loss: 3.0878, Valid loss: 2.8127\n",
            "Saving model with loss 2.813...\n"
          ]
        },
        {
          "output_type": "stream",
          "name": "stderr",
          "text": [
            "Epoch [152/3000]: 100%|██████████████████████████████████████████████████████| 9/9 [00:00<00:00, 189.33it/s, loss=3.53]\n"
          ]
        },
        {
          "output_type": "stream",
          "name": "stdout",
          "text": [
            "Epoch [152/3000]: Train loss: 3.1084, Valid loss: 3.3382\n"
          ]
        },
        {
          "output_type": "stream",
          "name": "stderr",
          "text": [
            "Epoch [153/3000]: 100%|██████████████████████████████████████████████████████| 9/9 [00:00<00:00, 199.77it/s, loss=3.06]\n"
          ]
        },
        {
          "output_type": "stream",
          "name": "stdout",
          "text": [
            "Epoch [153/3000]: Train loss: 3.0652, Valid loss: 2.9785\n"
          ]
        },
        {
          "output_type": "stream",
          "name": "stderr",
          "text": [
            "Epoch [154/3000]: 100%|██████████████████████████████████████████████████████| 9/9 [00:00<00:00, 191.30it/s, loss=2.02]\n"
          ]
        },
        {
          "output_type": "stream",
          "name": "stdout",
          "text": [
            "Epoch [154/3000]: Train loss: 2.9997, Valid loss: 3.3759\n"
          ]
        },
        {
          "output_type": "stream",
          "name": "stderr",
          "text": [
            "Epoch [155/3000]: 100%|██████████████████████████████████████████████████████| 9/9 [00:00<00:00, 191.27it/s, loss=3.32]\n"
          ]
        },
        {
          "output_type": "stream",
          "name": "stdout",
          "text": [
            "Epoch [155/3000]: Train loss: 3.0604, Valid loss: 3.1189\n"
          ]
        },
        {
          "output_type": "stream",
          "name": "stderr",
          "text": [
            "Epoch [156/3000]: 100%|██████████████████████████████████████████████████████| 9/9 [00:00<00:00, 195.55it/s, loss=3.53]\n"
          ]
        },
        {
          "output_type": "stream",
          "name": "stdout",
          "text": [
            "Epoch [156/3000]: Train loss: 3.0597, Valid loss: 2.9412\n"
          ]
        },
        {
          "output_type": "stream",
          "name": "stderr",
          "text": [
            "Epoch [157/3000]: 100%|██████████████████████████████████████████████████████| 9/9 [00:00<00:00, 187.26it/s, loss=3.34]\n"
          ]
        },
        {
          "output_type": "stream",
          "name": "stdout",
          "text": [
            "Epoch [157/3000]: Train loss: 3.0607, Valid loss: 2.9245\n"
          ]
        },
        {
          "output_type": "stream",
          "name": "stderr",
          "text": [
            "Epoch [158/3000]: 100%|██████████████████████████████████████████████████████| 9/9 [00:00<00:00, 172.32it/s, loss=2.72]\n"
          ]
        },
        {
          "output_type": "stream",
          "name": "stdout",
          "text": [
            "Epoch [158/3000]: Train loss: 2.9888, Valid loss: 2.7549\n",
            "Saving model with loss 2.755...\n"
          ]
        },
        {
          "output_type": "stream",
          "name": "stderr",
          "text": [
            "Epoch [159/3000]: 100%|██████████████████████████████████████████████████████| 9/9 [00:00<00:00, 191.01it/s, loss=2.59]\n"
          ]
        },
        {
          "output_type": "stream",
          "name": "stdout",
          "text": [
            "Epoch [159/3000]: Train loss: 2.9711, Valid loss: 2.9471\n"
          ]
        },
        {
          "output_type": "stream",
          "name": "stderr",
          "text": [
            "Epoch [160/3000]: 100%|██████████████████████████████████████████████████████| 9/9 [00:00<00:00, 183.44it/s, loss=3.26]\n"
          ]
        },
        {
          "output_type": "stream",
          "name": "stdout",
          "text": [
            "Epoch [160/3000]: Train loss: 3.0000, Valid loss: 2.7544\n",
            "Saving model with loss 2.754...\n"
          ]
        },
        {
          "output_type": "stream",
          "name": "stderr",
          "text": [
            "Epoch [161/3000]: 100%|██████████████████████████████████████████████████████| 9/9 [00:00<00:00, 202.07it/s, loss=2.13]\n"
          ]
        },
        {
          "output_type": "stream",
          "name": "stdout",
          "text": [
            "Epoch [161/3000]: Train loss: 2.9161, Valid loss: 2.9197\n"
          ]
        },
        {
          "output_type": "stream",
          "name": "stderr",
          "text": [
            "Epoch [162/3000]: 100%|██████████████████████████████████████████████████████| 9/9 [00:00<00:00, 170.52it/s, loss=2.32]\n"
          ]
        },
        {
          "output_type": "stream",
          "name": "stdout",
          "text": [
            "Epoch [162/3000]: Train loss: 2.9209, Valid loss: 3.2558\n"
          ]
        },
        {
          "output_type": "stream",
          "name": "stderr",
          "text": [
            "Epoch [163/3000]: 100%|██████████████████████████████████████████████████████| 9/9 [00:00<00:00, 165.02it/s, loss=2.57]\n"
          ]
        },
        {
          "output_type": "stream",
          "name": "stdout",
          "text": [
            "Epoch [163/3000]: Train loss: 2.9285, Valid loss: 3.4444\n"
          ]
        },
        {
          "output_type": "stream",
          "name": "stderr",
          "text": [
            "Epoch [164/3000]: 100%|███████████████████████████████████████████████████████| 9/9 [00:00<00:00, 185.39it/s, loss=2.3]\n"
          ]
        },
        {
          "output_type": "stream",
          "name": "stdout",
          "text": [
            "Epoch [164/3000]: Train loss: 2.8946, Valid loss: 2.5486\n",
            "Saving model with loss 2.549...\n"
          ]
        },
        {
          "output_type": "stream",
          "name": "stderr",
          "text": [
            "Epoch [165/3000]: 100%|███████████████████████████████████████████████████████| 9/9 [00:00<00:00, 85.40it/s, loss=3.18]\n"
          ]
        },
        {
          "output_type": "stream",
          "name": "stdout",
          "text": [
            "Epoch [165/3000]: Train loss: 2.9444, Valid loss: 3.0919\n"
          ]
        },
        {
          "output_type": "stream",
          "name": "stderr",
          "text": [
            "Epoch [166/3000]: 100%|██████████████████████████████████████████████████████| 9/9 [00:00<00:00, 183.49it/s, loss=2.42]\n"
          ]
        },
        {
          "output_type": "stream",
          "name": "stdout",
          "text": [
            "Epoch [166/3000]: Train loss: 2.8779, Valid loss: 3.0231\n"
          ]
        },
        {
          "output_type": "stream",
          "name": "stderr",
          "text": [
            "Epoch [167/3000]: 100%|██████████████████████████████████████████████████████| 9/9 [00:00<00:00, 164.97it/s, loss=2.16]\n"
          ]
        },
        {
          "output_type": "stream",
          "name": "stdout",
          "text": [
            "Epoch [167/3000]: Train loss: 2.8669, Valid loss: 2.6704\n"
          ]
        },
        {
          "output_type": "stream",
          "name": "stderr",
          "text": [
            "Epoch [168/3000]: 100%|██████████████████████████████████████████████████████| 9/9 [00:00<00:00, 163.46it/s, loss=3.12]\n"
          ]
        },
        {
          "output_type": "stream",
          "name": "stdout",
          "text": [
            "Epoch [168/3000]: Train loss: 2.9164, Valid loss: 2.9058\n"
          ]
        },
        {
          "output_type": "stream",
          "name": "stderr",
          "text": [
            "Epoch [169/3000]: 100%|██████████████████████████████████████████████████████| 9/9 [00:00<00:00, 194.89it/s, loss=2.92]\n"
          ]
        },
        {
          "output_type": "stream",
          "name": "stdout",
          "text": [
            "Epoch [169/3000]: Train loss: 2.8911, Valid loss: 2.5137\n",
            "Saving model with loss 2.514...\n"
          ]
        },
        {
          "output_type": "stream",
          "name": "stderr",
          "text": [
            "Epoch [170/3000]: 100%|██████████████████████████████████████████████████████| 9/9 [00:00<00:00, 198.59it/s, loss=2.26]\n"
          ]
        },
        {
          "output_type": "stream",
          "name": "stdout",
          "text": [
            "Epoch [170/3000]: Train loss: 2.8354, Valid loss: 2.8563\n"
          ]
        },
        {
          "output_type": "stream",
          "name": "stderr",
          "text": [
            "Epoch [171/3000]: 100%|██████████████████████████████████████████████████████| 9/9 [00:00<00:00, 192.27it/s, loss=2.43]\n"
          ]
        },
        {
          "output_type": "stream",
          "name": "stdout",
          "text": [
            "Epoch [171/3000]: Train loss: 2.8391, Valid loss: 2.4567\n",
            "Saving model with loss 2.457...\n"
          ]
        },
        {
          "output_type": "stream",
          "name": "stderr",
          "text": [
            "Epoch [172/3000]: 100%|██████████████████████████████████████████████████████| 9/9 [00:00<00:00, 204.31it/s, loss=2.78]\n"
          ]
        },
        {
          "output_type": "stream",
          "name": "stdout",
          "text": [
            "Epoch [172/3000]: Train loss: 2.8453, Valid loss: 2.9482\n"
          ]
        },
        {
          "output_type": "stream",
          "name": "stderr",
          "text": [
            "Epoch [173/3000]: 100%|█████████████████████████████████████████████████████████| 9/9 [00:00<00:00, 197.28it/s, loss=3]\n"
          ]
        },
        {
          "output_type": "stream",
          "name": "stdout",
          "text": [
            "Epoch [173/3000]: Train loss: 2.8525, Valid loss: 3.5802\n"
          ]
        },
        {
          "output_type": "stream",
          "name": "stderr",
          "text": [
            "Epoch [174/3000]: 100%|██████████████████████████████████████████████████████| 9/9 [00:00<00:00, 180.22it/s, loss=2.84]\n"
          ]
        },
        {
          "output_type": "stream",
          "name": "stdout",
          "text": [
            "Epoch [174/3000]: Train loss: 2.8262, Valid loss: 2.8821\n"
          ]
        },
        {
          "output_type": "stream",
          "name": "stderr",
          "text": [
            "Epoch [175/3000]: 100%|██████████████████████████████████████████████████████| 9/9 [00:00<00:00, 194.86it/s, loss=2.52]\n"
          ]
        },
        {
          "output_type": "stream",
          "name": "stdout",
          "text": [
            "Epoch [175/3000]: Train loss: 2.8116, Valid loss: 2.8997\n"
          ]
        },
        {
          "output_type": "stream",
          "name": "stderr",
          "text": [
            "Epoch [176/3000]: 100%|██████████████████████████████████████████████████████| 9/9 [00:00<00:00, 183.50it/s, loss=3.06]\n"
          ]
        },
        {
          "output_type": "stream",
          "name": "stdout",
          "text": [
            "Epoch [176/3000]: Train loss: 2.8310, Valid loss: 2.8315\n"
          ]
        },
        {
          "output_type": "stream",
          "name": "stderr",
          "text": [
            "Epoch [177/3000]: 100%|██████████████████████████████████████████████████████| 9/9 [00:00<00:00, 191.30it/s, loss=2.03]\n"
          ]
        },
        {
          "output_type": "stream",
          "name": "stdout",
          "text": [
            "Epoch [177/3000]: Train loss: 2.7465, Valid loss: 2.4542\n",
            "Saving model with loss 2.454...\n"
          ]
        },
        {
          "output_type": "stream",
          "name": "stderr",
          "text": [
            "Epoch [178/3000]: 100%|██████████████████████████████████████████████████████| 9/9 [00:00<00:00, 195.38it/s, loss=2.52]\n"
          ]
        },
        {
          "output_type": "stream",
          "name": "stdout",
          "text": [
            "Epoch [178/3000]: Train loss: 2.7791, Valid loss: 3.0052\n"
          ]
        },
        {
          "output_type": "stream",
          "name": "stderr",
          "text": [
            "Epoch [179/3000]: 100%|██████████████████████████████████████████████████████| 9/9 [00:00<00:00, 178.07it/s, loss=2.86]\n"
          ]
        },
        {
          "output_type": "stream",
          "name": "stdout",
          "text": [
            "Epoch [179/3000]: Train loss: 2.7872, Valid loss: 2.8108\n"
          ]
        },
        {
          "output_type": "stream",
          "name": "stderr",
          "text": [
            "Epoch [180/3000]: 100%|██████████████████████████████████████████████████████| 9/9 [00:00<00:00, 166.50it/s, loss=2.88]\n"
          ]
        },
        {
          "output_type": "stream",
          "name": "stdout",
          "text": [
            "Epoch [180/3000]: Train loss: 2.7770, Valid loss: 2.9168\n"
          ]
        },
        {
          "output_type": "stream",
          "name": "stderr",
          "text": [
            "Epoch [181/3000]: 100%|██████████████████████████████████████████████████████| 9/9 [00:00<00:00, 171.27it/s, loss=2.14]\n"
          ]
        },
        {
          "output_type": "stream",
          "name": "stdout",
          "text": [
            "Epoch [181/3000]: Train loss: 2.7432, Valid loss: 2.8430\n"
          ]
        },
        {
          "output_type": "stream",
          "name": "stderr",
          "text": [
            "Epoch [182/3000]: 100%|██████████████████████████████████████████████████████| 9/9 [00:00<00:00, 172.92it/s, loss=2.74]\n"
          ]
        },
        {
          "output_type": "stream",
          "name": "stdout",
          "text": [
            "Epoch [182/3000]: Train loss: 2.7569, Valid loss: 3.1215\n"
          ]
        },
        {
          "output_type": "stream",
          "name": "stderr",
          "text": [
            "Epoch [183/3000]: 100%|██████████████████████████████████████████████████████| 9/9 [00:00<00:00, 169.65it/s, loss=2.82]\n"
          ]
        },
        {
          "output_type": "stream",
          "name": "stdout",
          "text": [
            "Epoch [183/3000]: Train loss: 2.7487, Valid loss: 2.9512\n"
          ]
        },
        {
          "output_type": "stream",
          "name": "stderr",
          "text": [
            "Epoch [184/3000]: 100%|██████████████████████████████████████████████████████| 9/9 [00:00<00:00, 178.05it/s, loss=2.97]\n"
          ]
        },
        {
          "output_type": "stream",
          "name": "stdout",
          "text": [
            "Epoch [184/3000]: Train loss: 2.7434, Valid loss: 2.9048\n"
          ]
        },
        {
          "output_type": "stream",
          "name": "stderr",
          "text": [
            "Epoch [185/3000]: 100%|██████████████████████████████████████████████████████| 9/9 [00:00<00:00, 182.42it/s, loss=2.15]\n"
          ]
        },
        {
          "output_type": "stream",
          "name": "stdout",
          "text": [
            "Epoch [185/3000]: Train loss: 2.6853, Valid loss: 3.3389\n"
          ]
        },
        {
          "output_type": "stream",
          "name": "stderr",
          "text": [
            "Epoch [186/3000]: 100%|██████████████████████████████████████████████████████| 9/9 [00:00<00:00, 189.25it/s, loss=3.11]\n"
          ]
        },
        {
          "output_type": "stream",
          "name": "stdout",
          "text": [
            "Epoch [186/3000]: Train loss: 2.7318, Valid loss: 2.7585\n"
          ]
        },
        {
          "output_type": "stream",
          "name": "stderr",
          "text": [
            "Epoch [187/3000]: 100%|██████████████████████████████████████████████████████| 9/9 [00:00<00:00, 181.65it/s, loss=3.01]\n"
          ]
        },
        {
          "output_type": "stream",
          "name": "stdout",
          "text": [
            "Epoch [187/3000]: Train loss: 2.7176, Valid loss: 2.8172\n"
          ]
        },
        {
          "output_type": "stream",
          "name": "stderr",
          "text": [
            "Epoch [188/3000]: 100%|██████████████████████████████████████████████████████| 9/9 [00:00<00:00, 171.20it/s, loss=2.11]\n"
          ]
        },
        {
          "output_type": "stream",
          "name": "stdout",
          "text": [
            "Epoch [188/3000]: Train loss: 2.6571, Valid loss: 2.6565\n"
          ]
        },
        {
          "output_type": "stream",
          "name": "stderr",
          "text": [
            "Epoch [189/3000]: 100%|██████████████████████████████████████████████████████| 9/9 [00:00<00:00, 179.80it/s, loss=3.06]\n"
          ]
        },
        {
          "output_type": "stream",
          "name": "stdout",
          "text": [
            "Epoch [189/3000]: Train loss: 2.7027, Valid loss: 2.5673\n"
          ]
        },
        {
          "output_type": "stream",
          "name": "stderr",
          "text": [
            "Epoch [190/3000]: 100%|██████████████████████████████████████████████████████| 9/9 [00:00<00:00, 195.39it/s, loss=2.95]\n"
          ]
        },
        {
          "output_type": "stream",
          "name": "stdout",
          "text": [
            "Epoch [190/3000]: Train loss: 2.6972, Valid loss: 2.4457\n",
            "Saving model with loss 2.446...\n"
          ]
        },
        {
          "output_type": "stream",
          "name": "stderr",
          "text": [
            "Epoch [191/3000]: 100%|██████████████████████████████████████████████████████| 9/9 [00:00<00:00, 179.61it/s, loss=2.86]\n"
          ]
        },
        {
          "output_type": "stream",
          "name": "stdout",
          "text": [
            "Epoch [191/3000]: Train loss: 2.6707, Valid loss: 2.5480\n"
          ]
        },
        {
          "output_type": "stream",
          "name": "stderr",
          "text": [
            "Epoch [192/3000]: 100%|██████████████████████████████████████████████████████| 9/9 [00:00<00:00, 177.74it/s, loss=2.47]\n"
          ]
        },
        {
          "output_type": "stream",
          "name": "stdout",
          "text": [
            "Epoch [192/3000]: Train loss: 2.6356, Valid loss: 3.0294\n"
          ]
        },
        {
          "output_type": "stream",
          "name": "stderr",
          "text": [
            "Epoch [193/3000]: 100%|██████████████████████████████████████████████████████| 9/9 [00:00<00:00, 179.81it/s, loss=3.36]\n"
          ]
        },
        {
          "output_type": "stream",
          "name": "stdout",
          "text": [
            "Epoch [193/3000]: Train loss: 2.6885, Valid loss: 2.5063\n"
          ]
        },
        {
          "output_type": "stream",
          "name": "stderr",
          "text": [
            "Epoch [194/3000]: 100%|██████████████████████████████████████████████████████| 9/9 [00:00<00:00, 191.38it/s, loss=2.56]"
          ]
        },
        {
          "output_type": "stream",
          "name": "stdout",
          "text": [
            "Epoch [194/3000]: Train loss: 2.6283, Valid loss: 2.7301"
          ]
        },
        {
          "output_type": "stream",
          "name": "stderr",
          "text": [
            "\n"
          ]
        },
        {
          "output_type": "stream",
          "name": "stdout",
          "text": [
            "\n"
          ]
        },
        {
          "output_type": "stream",
          "name": "stderr",
          "text": [
            "Epoch [195/3000]: 100%|██████████████████████████████████████████████████████| 9/9 [00:00<00:00, 181.66it/s, loss=2.66]\n"
          ]
        },
        {
          "output_type": "stream",
          "name": "stdout",
          "text": [
            "Epoch [195/3000]: Train loss: 2.6318, Valid loss: 3.0611\n"
          ]
        },
        {
          "output_type": "stream",
          "name": "stderr",
          "text": [
            "Epoch [196/3000]: 100%|█████████████████████████████████████████████████████████| 9/9 [00:00<00:00, 174.64it/s, loss=3]\n"
          ]
        },
        {
          "output_type": "stream",
          "name": "stdout",
          "text": [
            "Epoch [196/3000]: Train loss: 2.6484, Valid loss: 2.8925\n"
          ]
        },
        {
          "output_type": "stream",
          "name": "stderr",
          "text": [
            "Epoch [197/3000]: 100%|███████████████████████████████████████████████████████| 9/9 [00:00<00:00, 183.17it/s, loss=2.5]\n"
          ]
        },
        {
          "output_type": "stream",
          "name": "stdout",
          "text": [
            "Epoch [197/3000]: Train loss: 2.6020, Valid loss: 2.5943\n"
          ]
        },
        {
          "output_type": "stream",
          "name": "stderr",
          "text": [
            "Epoch [198/3000]: 100%|██████████████████████████████████████████████████████| 9/9 [00:00<00:00, 193.30it/s, loss=2.76]\n"
          ]
        },
        {
          "output_type": "stream",
          "name": "stdout",
          "text": [
            "Epoch [198/3000]: Train loss: 2.6071, Valid loss: 2.6493\n"
          ]
        },
        {
          "output_type": "stream",
          "name": "stderr",
          "text": [
            "Epoch [199/3000]: 100%|██████████████████████████████████████████████████████| 9/9 [00:00<00:00, 207.02it/s, loss=1.83]\n"
          ]
        },
        {
          "output_type": "stream",
          "name": "stdout",
          "text": [
            "Epoch [199/3000]: Train loss: 2.5565, Valid loss: 2.3759\n",
            "Saving model with loss 2.376...\n"
          ]
        },
        {
          "output_type": "stream",
          "name": "stderr",
          "text": [
            "Epoch [200/3000]: 100%|██████████████████████████████████████████████████████| 9/9 [00:00<00:00, 197.57it/s, loss=2.95]\n"
          ]
        },
        {
          "output_type": "stream",
          "name": "stdout",
          "text": [
            "Epoch [200/3000]: Train loss: 2.5997, Valid loss: 3.0389\n"
          ]
        },
        {
          "output_type": "stream",
          "name": "stderr",
          "text": [
            "Epoch [201/3000]: 100%|██████████████████████████████████████████████████████| 9/9 [00:00<00:00, 197.66it/s, loss=2.83]\n"
          ]
        },
        {
          "output_type": "stream",
          "name": "stdout",
          "text": [
            "Epoch [201/3000]: Train loss: 2.5951, Valid loss: 2.5267\n"
          ]
        },
        {
          "output_type": "stream",
          "name": "stderr",
          "text": [
            "Epoch [202/3000]: 100%|██████████████████████████████████████████████████████| 9/9 [00:00<00:00, 194.90it/s, loss=2.02]\n"
          ]
        },
        {
          "output_type": "stream",
          "name": "stdout",
          "text": [
            "Epoch [202/3000]: Train loss: 2.5388, Valid loss: 2.3575\n",
            "Saving model with loss 2.357...\n"
          ]
        },
        {
          "output_type": "stream",
          "name": "stderr",
          "text": [
            "Epoch [203/3000]: 100%|██████████████████████████████████████████████████████| 9/9 [00:00<00:00, 186.67it/s, loss=2.09]\n"
          ]
        },
        {
          "output_type": "stream",
          "name": "stdout",
          "text": [
            "Epoch [203/3000]: Train loss: 2.5230, Valid loss: 2.8430\n"
          ]
        },
        {
          "output_type": "stream",
          "name": "stderr",
          "text": [
            "Epoch [204/3000]: 100%|██████████████████████████████████████████████████████| 9/9 [00:00<00:00, 203.97it/s, loss=3.92]\n"
          ]
        },
        {
          "output_type": "stream",
          "name": "stdout",
          "text": [
            "Epoch [204/3000]: Train loss: 2.6303, Valid loss: 2.9505\n"
          ]
        },
        {
          "output_type": "stream",
          "name": "stderr",
          "text": [
            "Epoch [205/3000]: 100%|██████████████████████████████████████████████████████| 9/9 [00:00<00:00, 188.14it/s, loss=3.34]\n"
          ]
        },
        {
          "output_type": "stream",
          "name": "stdout",
          "text": [
            "Epoch [205/3000]: Train loss: 2.6267, Valid loss: 2.4195\n"
          ]
        },
        {
          "output_type": "stream",
          "name": "stderr",
          "text": [
            "Epoch [206/3000]: 100%|███████████████████████████████████████████████████████| 9/9 [00:00<00:00, 187.05it/s, loss=2.1]\n"
          ]
        },
        {
          "output_type": "stream",
          "name": "stdout",
          "text": [
            "Epoch [206/3000]: Train loss: 2.5106, Valid loss: 2.3093\n",
            "Saving model with loss 2.309...\n"
          ]
        },
        {
          "output_type": "stream",
          "name": "stderr",
          "text": [
            "Epoch [207/3000]: 100%|██████████████████████████████████████████████████████| 9/9 [00:00<00:00, 187.23it/s, loss=3.42]\n"
          ]
        },
        {
          "output_type": "stream",
          "name": "stdout",
          "text": [
            "Epoch [207/3000]: Train loss: 2.5720, Valid loss: 2.4566\n"
          ]
        },
        {
          "output_type": "stream",
          "name": "stderr",
          "text": [
            "Epoch [208/3000]: 100%|██████████████████████████████████████████████████████| 9/9 [00:00<00:00, 169.65it/s, loss=2.12]\n"
          ]
        },
        {
          "output_type": "stream",
          "name": "stdout",
          "text": [
            "Epoch [208/3000]: Train loss: 2.4893, Valid loss: 2.7228\n"
          ]
        },
        {
          "output_type": "stream",
          "name": "stderr",
          "text": [
            "Epoch [209/3000]: 100%|██████████████████████████████████████████████████████| 9/9 [00:00<00:00, 186.93it/s, loss=2.35]\n"
          ]
        },
        {
          "output_type": "stream",
          "name": "stdout",
          "text": [
            "Epoch [209/3000]: Train loss: 2.4892, Valid loss: 2.4255\n"
          ]
        },
        {
          "output_type": "stream",
          "name": "stderr",
          "text": [
            "Epoch [210/3000]: 100%|██████████████████████████████████████████████████████| 9/9 [00:00<00:00, 185.71it/s, loss=2.26]\n"
          ]
        },
        {
          "output_type": "stream",
          "name": "stdout",
          "text": [
            "Epoch [210/3000]: Train loss: 2.4910, Valid loss: 2.4911\n"
          ]
        },
        {
          "output_type": "stream",
          "name": "stderr",
          "text": [
            "Epoch [211/3000]: 100%|███████████████████████████████████████████████████████| 9/9 [00:00<00:00, 167.88it/s, loss=3.2]\n"
          ]
        },
        {
          "output_type": "stream",
          "name": "stdout",
          "text": [
            "Epoch [211/3000]: Train loss: 2.5326, Valid loss: 2.2861\n",
            "Saving model with loss 2.286...\n"
          ]
        },
        {
          "output_type": "stream",
          "name": "stderr",
          "text": [
            "Epoch [212/3000]: 100%|███████████████████████████████████████████████████████| 9/9 [00:00<00:00, 181.64it/s, loss=2.3]\n"
          ]
        },
        {
          "output_type": "stream",
          "name": "stdout",
          "text": [
            "Epoch [212/3000]: Train loss: 2.4643, Valid loss: 2.4724\n"
          ]
        },
        {
          "output_type": "stream",
          "name": "stderr",
          "text": [
            "Epoch [213/3000]: 100%|██████████████████████████████████████████████████████| 9/9 [00:00<00:00, 181.71it/s, loss=2.35]\n"
          ]
        },
        {
          "output_type": "stream",
          "name": "stdout",
          "text": [
            "Epoch [213/3000]: Train loss: 2.4654, Valid loss: 2.4276\n"
          ]
        },
        {
          "output_type": "stream",
          "name": "stderr",
          "text": [
            "Epoch [214/3000]: 100%|██████████████████████████████████████████████████████| 9/9 [00:00<00:00, 187.26it/s, loss=2.51]\n"
          ]
        },
        {
          "output_type": "stream",
          "name": "stdout",
          "text": [
            "Epoch [214/3000]: Train loss: 2.4655, Valid loss: 2.9280\n"
          ]
        },
        {
          "output_type": "stream",
          "name": "stderr",
          "text": [
            "Epoch [215/3000]: 100%|███████████████████████████████████████████████████████| 9/9 [00:00<00:00, 193.37it/s, loss=2.6]\n"
          ]
        },
        {
          "output_type": "stream",
          "name": "stdout",
          "text": [
            "Epoch [215/3000]: Train loss: 2.4605, Valid loss: 2.4649\n"
          ]
        },
        {
          "output_type": "stream",
          "name": "stderr",
          "text": [
            "Epoch [216/3000]: 100%|███████████████████████████████████████████████████████| 9/9 [00:00<00:00, 174.55it/s, loss=2.1]\n"
          ]
        },
        {
          "output_type": "stream",
          "name": "stdout",
          "text": [
            "Epoch [216/3000]: Train loss: 2.4208, Valid loss: 2.7587\n"
          ]
        },
        {
          "output_type": "stream",
          "name": "stderr",
          "text": [
            "Epoch [217/3000]: 100%|██████████████████████████████████████████████████████| 9/9 [00:00<00:00, 184.18it/s, loss=2.67]\n"
          ]
        },
        {
          "output_type": "stream",
          "name": "stdout",
          "text": [
            "Epoch [217/3000]: Train loss: 2.4466, Valid loss: 2.7463\n"
          ]
        },
        {
          "output_type": "stream",
          "name": "stderr",
          "text": [
            "Epoch [218/3000]: 100%|██████████████████████████████████████████████████████| 9/9 [00:00<00:00, 176.26it/s, loss=2.71]\n"
          ]
        },
        {
          "output_type": "stream",
          "name": "stdout",
          "text": [
            "Epoch [218/3000]: Train loss: 2.4421, Valid loss: 2.6709\n"
          ]
        },
        {
          "output_type": "stream",
          "name": "stderr",
          "text": [
            "Epoch [219/3000]: 100%|██████████████████████████████████████████████████████| 9/9 [00:00<00:00, 199.73it/s, loss=2.89]\n"
          ]
        },
        {
          "output_type": "stream",
          "name": "stdout",
          "text": [
            "Epoch [219/3000]: Train loss: 2.4625, Valid loss: 2.6678\n"
          ]
        },
        {
          "output_type": "stream",
          "name": "stderr",
          "text": [
            "Epoch [220/3000]: 100%|██████████████████████████████████████████████████████| 9/9 [00:00<00:00, 189.35it/s, loss=2.39]\n"
          ]
        },
        {
          "output_type": "stream",
          "name": "stdout",
          "text": [
            "Epoch [220/3000]: Train loss: 2.4316, Valid loss: 2.4622\n"
          ]
        },
        {
          "output_type": "stream",
          "name": "stderr",
          "text": [
            "Epoch [221/3000]: 100%|██████████████████████████████████████████████████████| 9/9 [00:00<00:00, 216.52it/s, loss=2.35]\n"
          ]
        },
        {
          "output_type": "stream",
          "name": "stdout",
          "text": [
            "Epoch [221/3000]: Train loss: 2.3971, Valid loss: 2.2633\n",
            "Saving model with loss 2.263...\n"
          ]
        },
        {
          "output_type": "stream",
          "name": "stderr",
          "text": [
            "Epoch [222/3000]: 100%|██████████████████████████████████████████████████████| 9/9 [00:00<00:00, 191.25it/s, loss=2.18]\n"
          ]
        },
        {
          "output_type": "stream",
          "name": "stdout",
          "text": [
            "Epoch [222/3000]: Train loss: 2.3956, Valid loss: 2.6196\n"
          ]
        },
        {
          "output_type": "stream",
          "name": "stderr",
          "text": [
            "Epoch [223/3000]: 100%|██████████████████████████████████████████████████████| 9/9 [00:00<00:00, 177.99it/s, loss=1.92]\n"
          ]
        },
        {
          "output_type": "stream",
          "name": "stdout",
          "text": [
            "Epoch [223/3000]: Train loss: 2.3607, Valid loss: 2.3877\n"
          ]
        },
        {
          "output_type": "stream",
          "name": "stderr",
          "text": [
            "Epoch [224/3000]: 100%|██████████████████████████████████████████████████████| 9/9 [00:00<00:00, 202.05it/s, loss=1.42]\n"
          ]
        },
        {
          "output_type": "stream",
          "name": "stdout",
          "text": [
            "Epoch [224/3000]: Train loss: 2.3240, Valid loss: 2.1799\n",
            "Saving model with loss 2.180...\n"
          ]
        },
        {
          "output_type": "stream",
          "name": "stderr",
          "text": [
            "Epoch [225/3000]: 100%|██████████████████████████████████████████████████████| 9/9 [00:00<00:00, 178.06it/s, loss=1.75]\n"
          ]
        },
        {
          "output_type": "stream",
          "name": "stdout",
          "text": [
            "Epoch [225/3000]: Train loss: 2.3392, Valid loss: 2.5734\n"
          ]
        },
        {
          "output_type": "stream",
          "name": "stderr",
          "text": [
            "Epoch [226/3000]: 100%|██████████████████████████████████████████████████████| 9/9 [00:00<00:00, 155.98it/s, loss=2.12]\n"
          ]
        },
        {
          "output_type": "stream",
          "name": "stdout",
          "text": [
            "Epoch [226/3000]: Train loss: 2.3548, Valid loss: 2.8297\n"
          ]
        },
        {
          "output_type": "stream",
          "name": "stderr",
          "text": [
            "Epoch [227/3000]: 100%|██████████████████████████████████████████████████████| 9/9 [00:00<00:00, 178.05it/s, loss=2.69]\n"
          ]
        },
        {
          "output_type": "stream",
          "name": "stdout",
          "text": [
            "Epoch [227/3000]: Train loss: 2.3796, Valid loss: 2.3243\n"
          ]
        },
        {
          "output_type": "stream",
          "name": "stderr",
          "text": [
            "Epoch [228/3000]: 100%|██████████████████████████████████████████████████████| 9/9 [00:00<00:00, 176.30it/s, loss=2.14]\n"
          ]
        },
        {
          "output_type": "stream",
          "name": "stdout",
          "text": [
            "Epoch [228/3000]: Train loss: 2.3499, Valid loss: 2.3105\n"
          ]
        },
        {
          "output_type": "stream",
          "name": "stderr",
          "text": [
            "Epoch [229/3000]: 100%|██████████████████████████████████████████████████████| 9/9 [00:00<00:00, 187.39it/s, loss=1.91]\n"
          ]
        },
        {
          "output_type": "stream",
          "name": "stdout",
          "text": [
            "Epoch [229/3000]: Train loss: 2.3252, Valid loss: 1.9316\n",
            "Saving model with loss 1.932...\n"
          ]
        },
        {
          "output_type": "stream",
          "name": "stderr",
          "text": [
            "Epoch [230/3000]: 100%|██████████████████████████████████████████████████████| 9/9 [00:00<00:00, 169.93it/s, loss=2.32]\n"
          ]
        },
        {
          "output_type": "stream",
          "name": "stdout",
          "text": [
            "Epoch [230/3000]: Train loss: 2.3469, Valid loss: 2.5779\n"
          ]
        },
        {
          "output_type": "stream",
          "name": "stderr",
          "text": [
            "Epoch [231/3000]: 100%|██████████████████████████████████████████████████████| 9/9 [00:00<00:00, 169.62it/s, loss=2.42]\n"
          ]
        },
        {
          "output_type": "stream",
          "name": "stdout",
          "text": [
            "Epoch [231/3000]: Train loss: 2.3405, Valid loss: 2.2089\n"
          ]
        },
        {
          "output_type": "stream",
          "name": "stderr",
          "text": [
            "Epoch [232/3000]: 100%|██████████████████████████████████████████████████████| 9/9 [00:00<00:00, 195.54it/s, loss=2.24]"
          ]
        },
        {
          "output_type": "stream",
          "name": "stdout",
          "text": [
            "Epoch [232/3000]: Train loss: 2.3225, Valid loss: 2.4240"
          ]
        },
        {
          "output_type": "stream",
          "name": "stderr",
          "text": [
            "\n"
          ]
        },
        {
          "output_type": "stream",
          "name": "stdout",
          "text": [
            "\n"
          ]
        },
        {
          "output_type": "stream",
          "name": "stderr",
          "text": [
            "Epoch [233/3000]: 100%|██████████████████████████████████████████████████████| 9/9 [00:00<00:00, 185.06it/s, loss=1.97]\n"
          ]
        },
        {
          "output_type": "stream",
          "name": "stdout",
          "text": [
            "Epoch [233/3000]: Train loss: 2.3006, Valid loss: 2.4829\n"
          ]
        },
        {
          "output_type": "stream",
          "name": "stderr",
          "text": [
            "Epoch [234/3000]: 100%|██████████████████████████████████████████████████████| 9/9 [00:00<00:00, 181.61it/s, loss=2.75]\n"
          ]
        },
        {
          "output_type": "stream",
          "name": "stdout",
          "text": [
            "Epoch [234/3000]: Train loss: 2.3376, Valid loss: 2.0366\n"
          ]
        },
        {
          "output_type": "stream",
          "name": "stderr",
          "text": [
            "Epoch [235/3000]: 100%|██████████████████████████████████████████████████████| 9/9 [00:00<00:00, 189.19it/s, loss=2.22]\n"
          ]
        },
        {
          "output_type": "stream",
          "name": "stdout",
          "text": [
            "Epoch [235/3000]: Train loss: 2.3162, Valid loss: 2.1603\n"
          ]
        },
        {
          "output_type": "stream",
          "name": "stderr",
          "text": [
            "Epoch [236/3000]: 100%|██████████████████████████████████████████████████████| 9/9 [00:00<00:00, 189.30it/s, loss=2.67]\n"
          ]
        },
        {
          "output_type": "stream",
          "name": "stdout",
          "text": [
            "Epoch [236/3000]: Train loss: 2.3367, Valid loss: 2.2309\n"
          ]
        },
        {
          "output_type": "stream",
          "name": "stderr",
          "text": [
            "Epoch [237/3000]: 100%|██████████████████████████████████████████████████████| 9/9 [00:00<00:00, 193.20it/s, loss=2.02]\n"
          ]
        },
        {
          "output_type": "stream",
          "name": "stdout",
          "text": [
            "Epoch [237/3000]: Train loss: 2.2811, Valid loss: 2.5752\n"
          ]
        },
        {
          "output_type": "stream",
          "name": "stderr",
          "text": [
            "Epoch [238/3000]: 100%|██████████████████████████████████████████████████████| 9/9 [00:00<00:00, 196.53it/s, loss=2.66]\n"
          ]
        },
        {
          "output_type": "stream",
          "name": "stdout",
          "text": [
            "Epoch [238/3000]: Train loss: 2.3104, Valid loss: 1.9963\n"
          ]
        },
        {
          "output_type": "stream",
          "name": "stderr",
          "text": [
            "Epoch [239/3000]: 100%|██████████████████████████████████████████████████████| 9/9 [00:00<00:00, 195.39it/s, loss=2.09]\n"
          ]
        },
        {
          "output_type": "stream",
          "name": "stdout",
          "text": [
            "Epoch [239/3000]: Train loss: 2.2702, Valid loss: 2.0428\n"
          ]
        },
        {
          "output_type": "stream",
          "name": "stderr",
          "text": [
            "Epoch [240/3000]: 100%|██████████████████████████████████████████████████████| 9/9 [00:00<00:00, 189.20it/s, loss=2.82]\n"
          ]
        },
        {
          "output_type": "stream",
          "name": "stdout",
          "text": [
            "Epoch [240/3000]: Train loss: 2.3244, Valid loss: 2.4421\n"
          ]
        },
        {
          "output_type": "stream",
          "name": "stderr",
          "text": [
            "Epoch [241/3000]: 100%|██████████████████████████████████████████████████████| 9/9 [00:00<00:00, 189.37it/s, loss=2.39]\n"
          ]
        },
        {
          "output_type": "stream",
          "name": "stdout",
          "text": [
            "Epoch [241/3000]: Train loss: 2.2852, Valid loss: 2.2927\n"
          ]
        },
        {
          "output_type": "stream",
          "name": "stderr",
          "text": [
            "Epoch [242/3000]: 100%|██████████████████████████████████████████████████████| 9/9 [00:00<00:00, 180.95it/s, loss=2.26]\n"
          ]
        },
        {
          "output_type": "stream",
          "name": "stdout",
          "text": [
            "Epoch [242/3000]: Train loss: 2.2674, Valid loss: 2.5515\n"
          ]
        },
        {
          "output_type": "stream",
          "name": "stderr",
          "text": [
            "Epoch [243/3000]: 100%|██████████████████████████████████████████████████████| 9/9 [00:00<00:00, 167.72it/s, loss=1.71]\n"
          ]
        },
        {
          "output_type": "stream",
          "name": "stdout",
          "text": [
            "Epoch [243/3000]: Train loss: 2.2213, Valid loss: 2.0841\n"
          ]
        },
        {
          "output_type": "stream",
          "name": "stderr",
          "text": [
            "Epoch [244/3000]: 100%|██████████████████████████████████████████████████████| 9/9 [00:00<00:00, 188.98it/s, loss=1.83]\n"
          ]
        },
        {
          "output_type": "stream",
          "name": "stdout",
          "text": [
            "Epoch [244/3000]: Train loss: 2.2385, Valid loss: 2.2482\n"
          ]
        },
        {
          "output_type": "stream",
          "name": "stderr",
          "text": [
            "Epoch [245/3000]: 100%|██████████████████████████████████████████████████████| 9/9 [00:00<00:00, 183.48it/s, loss=2.23]\n"
          ]
        },
        {
          "output_type": "stream",
          "name": "stdout",
          "text": [
            "Epoch [245/3000]: Train loss: 2.2467, Valid loss: 2.3122\n"
          ]
        },
        {
          "output_type": "stream",
          "name": "stderr",
          "text": [
            "Epoch [246/3000]: 100%|██████████████████████████████████████████████████████| 9/9 [00:00<00:00, 193.38it/s, loss=2.31]\n"
          ]
        },
        {
          "output_type": "stream",
          "name": "stdout",
          "text": [
            "Epoch [246/3000]: Train loss: 2.2521, Valid loss: 2.0608\n"
          ]
        },
        {
          "output_type": "stream",
          "name": "stderr",
          "text": [
            "Epoch [247/3000]: 100%|███████████████████████████████████████████████████████| 9/9 [00:00<00:00, 189.24it/s, loss=2.4]\n"
          ]
        },
        {
          "output_type": "stream",
          "name": "stdout",
          "text": [
            "Epoch [247/3000]: Train loss: 2.2427, Valid loss: 2.3693\n"
          ]
        },
        {
          "output_type": "stream",
          "name": "stderr",
          "text": [
            "Epoch [248/3000]: 100%|██████████████████████████████████████████████████████| 9/9 [00:00<00:00, 189.32it/s, loss=2.89]\n"
          ]
        },
        {
          "output_type": "stream",
          "name": "stdout",
          "text": [
            "Epoch [248/3000]: Train loss: 2.2665, Valid loss: 2.5406\n"
          ]
        },
        {
          "output_type": "stream",
          "name": "stderr",
          "text": [
            "Epoch [249/3000]: 100%|███████████████████████████████████████████████████████| 9/9 [00:00<00:00, 172.86it/s, loss=1.7]\n"
          ]
        },
        {
          "output_type": "stream",
          "name": "stdout",
          "text": [
            "Epoch [249/3000]: Train loss: 2.1958, Valid loss: 2.7670\n"
          ]
        },
        {
          "output_type": "stream",
          "name": "stderr",
          "text": [
            "Epoch [250/3000]: 100%|██████████████████████████████████████████████████████| 9/9 [00:00<00:00, 202.07it/s, loss=1.68]\n"
          ]
        },
        {
          "output_type": "stream",
          "name": "stdout",
          "text": [
            "Epoch [250/3000]: Train loss: 2.1816, Valid loss: 2.4652\n"
          ]
        },
        {
          "output_type": "stream",
          "name": "stderr",
          "text": [
            "Epoch [251/3000]: 100%|██████████████████████████████████████████████████████| 9/9 [00:00<00:00, 193.39it/s, loss=2.29]\n"
          ]
        },
        {
          "output_type": "stream",
          "name": "stdout",
          "text": [
            "Epoch [251/3000]: Train loss: 2.2221, Valid loss: 2.4651\n"
          ]
        },
        {
          "output_type": "stream",
          "name": "stderr",
          "text": [
            "Epoch [252/3000]: 100%|██████████████████████████████████████████████████████| 9/9 [00:00<00:00, 197.33it/s, loss=2.22]\n"
          ]
        },
        {
          "output_type": "stream",
          "name": "stdout",
          "text": [
            "Epoch [252/3000]: Train loss: 2.2128, Valid loss: 2.5106\n"
          ]
        },
        {
          "output_type": "stream",
          "name": "stderr",
          "text": [
            "Epoch [253/3000]: 100%|██████████████████████████████████████████████████████| 9/9 [00:00<00:00, 176.29it/s, loss=1.92]\n"
          ]
        },
        {
          "output_type": "stream",
          "name": "stdout",
          "text": [
            "Epoch [253/3000]: Train loss: 2.1935, Valid loss: 2.3315\n"
          ]
        },
        {
          "output_type": "stream",
          "name": "stderr",
          "text": [
            "Epoch [254/3000]: 100%|██████████████████████████████████████████████████████| 9/9 [00:00<00:00, 168.02it/s, loss=1.93]\n"
          ]
        },
        {
          "output_type": "stream",
          "name": "stdout",
          "text": [
            "Epoch [254/3000]: Train loss: 2.1791, Valid loss: 2.3784\n"
          ]
        },
        {
          "output_type": "stream",
          "name": "stderr",
          "text": [
            "Epoch [255/3000]: 100%|██████████████████████████████████████████████████████| 9/9 [00:00<00:00, 172.92it/s, loss=1.99]\n"
          ]
        },
        {
          "output_type": "stream",
          "name": "stdout",
          "text": [
            "Epoch [255/3000]: Train loss: 2.1740, Valid loss: 2.0713\n"
          ]
        },
        {
          "output_type": "stream",
          "name": "stderr",
          "text": [
            "Epoch [256/3000]: 100%|██████████████████████████████████████████████████████| 9/9 [00:00<00:00, 183.45it/s, loss=2.02]\n"
          ]
        },
        {
          "output_type": "stream",
          "name": "stdout",
          "text": [
            "Epoch [256/3000]: Train loss: 2.1777, Valid loss: 2.3077\n"
          ]
        },
        {
          "output_type": "stream",
          "name": "stderr",
          "text": [
            "Epoch [257/3000]: 100%|██████████████████████████████████████████████████████| 9/9 [00:00<00:00, 171.17it/s, loss=2.03]\n"
          ]
        },
        {
          "output_type": "stream",
          "name": "stdout",
          "text": [
            "Epoch [257/3000]: Train loss: 2.1783, Valid loss: 2.2137\n"
          ]
        },
        {
          "output_type": "stream",
          "name": "stderr",
          "text": [
            "Epoch [258/3000]: 100%|██████████████████████████████████████████████████████| 9/9 [00:00<00:00, 172.89it/s, loss=1.71]\n"
          ]
        },
        {
          "output_type": "stream",
          "name": "stdout",
          "text": [
            "Epoch [258/3000]: Train loss: 2.1596, Valid loss: 1.9855\n"
          ]
        },
        {
          "output_type": "stream",
          "name": "stderr",
          "text": [
            "Epoch [259/3000]: 100%|██████████████████████████████████████████████████████| 9/9 [00:00<00:00, 195.58it/s, loss=1.86]\n"
          ]
        },
        {
          "output_type": "stream",
          "name": "stdout",
          "text": [
            "Epoch [259/3000]: Train loss: 2.1625, Valid loss: 2.2627\n"
          ]
        },
        {
          "output_type": "stream",
          "name": "stderr",
          "text": [
            "Epoch [260/3000]: 100%|██████████████████████████████████████████████████████| 9/9 [00:00<00:00, 183.12it/s, loss=1.87]\n"
          ]
        },
        {
          "output_type": "stream",
          "name": "stdout",
          "text": [
            "Epoch [260/3000]: Train loss: 2.1447, Valid loss: 1.9191\n",
            "Saving model with loss 1.919...\n"
          ]
        },
        {
          "output_type": "stream",
          "name": "stderr",
          "text": [
            "Epoch [261/3000]: 100%|███████████████████████████████████████████████████████| 9/9 [00:00<00:00, 193.20it/s, loss=2.2]\n"
          ]
        },
        {
          "output_type": "stream",
          "name": "stdout",
          "text": [
            "Epoch [261/3000]: Train loss: 2.1703, Valid loss: 1.9989\n"
          ]
        },
        {
          "output_type": "stream",
          "name": "stderr",
          "text": [
            "Epoch [262/3000]: 100%|██████████████████████████████████████████████████████| 9/9 [00:00<00:00, 186.88it/s, loss=2.23]\n"
          ]
        },
        {
          "output_type": "stream",
          "name": "stdout",
          "text": [
            "Epoch [262/3000]: Train loss: 2.1573, Valid loss: 2.0683\n"
          ]
        },
        {
          "output_type": "stream",
          "name": "stderr",
          "text": [
            "Epoch [263/3000]: 100%|██████████████████████████████████████████████████████| 9/9 [00:00<00:00, 177.55it/s, loss=2.06]\n"
          ]
        },
        {
          "output_type": "stream",
          "name": "stdout",
          "text": [
            "Epoch [263/3000]: Train loss: 2.1506, Valid loss: 2.4640\n"
          ]
        },
        {
          "output_type": "stream",
          "name": "stderr",
          "text": [
            "Epoch [264/3000]: 100%|██████████████████████████████████████████████████████| 9/9 [00:00<00:00, 187.12it/s, loss=1.69]\n"
          ]
        },
        {
          "output_type": "stream",
          "name": "stdout",
          "text": [
            "Epoch [264/3000]: Train loss: 2.1118, Valid loss: 2.6674\n"
          ]
        },
        {
          "output_type": "stream",
          "name": "stderr",
          "text": [
            "Epoch [265/3000]: 100%|██████████████████████████████████████████████████████| 9/9 [00:00<00:00, 169.64it/s, loss=1.54]\n"
          ]
        },
        {
          "output_type": "stream",
          "name": "stdout",
          "text": [
            "Epoch [265/3000]: Train loss: 2.1006, Valid loss: 2.2500\n"
          ]
        },
        {
          "output_type": "stream",
          "name": "stderr",
          "text": [
            "Epoch [266/3000]: 100%|██████████████████████████████████████████████████████| 9/9 [00:00<00:00, 172.89it/s, loss=1.89]\n"
          ]
        },
        {
          "output_type": "stream",
          "name": "stdout",
          "text": [
            "Epoch [266/3000]: Train loss: 2.1265, Valid loss: 2.2712\n"
          ]
        },
        {
          "output_type": "stream",
          "name": "stderr",
          "text": [
            "Epoch [267/3000]: 100%|███████████████████████████████████████████████████████| 9/9 [00:00<00:00, 195.38it/s, loss=2.1]\n"
          ]
        },
        {
          "output_type": "stream",
          "name": "stdout",
          "text": [
            "Epoch [267/3000]: Train loss: 2.1247, Valid loss: 2.0314\n"
          ]
        },
        {
          "output_type": "stream",
          "name": "stderr",
          "text": [
            "Epoch [268/3000]: 100%|██████████████████████████████████████████████████████| 9/9 [00:00<00:00, 185.39it/s, loss=1.63]\n"
          ]
        },
        {
          "output_type": "stream",
          "name": "stdout",
          "text": [
            "Epoch [268/3000]: Train loss: 2.0905, Valid loss: 2.4062\n"
          ]
        },
        {
          "output_type": "stream",
          "name": "stderr",
          "text": [
            "Epoch [269/3000]: 100%|██████████████████████████████████████████████████████| 9/9 [00:00<00:00, 185.38it/s, loss=1.78]\n"
          ]
        },
        {
          "output_type": "stream",
          "name": "stdout",
          "text": [
            "Epoch [269/3000]: Train loss: 2.1021, Valid loss: 2.1952\n"
          ]
        },
        {
          "output_type": "stream",
          "name": "stderr",
          "text": [
            "Epoch [270/3000]: 100%|██████████████████████████████████████████████████████| 9/9 [00:00<00:00, 202.03it/s, loss=3.02]\n"
          ]
        },
        {
          "output_type": "stream",
          "name": "stdout",
          "text": [
            "Epoch [270/3000]: Train loss: 2.1767, Valid loss: 2.0702\n"
          ]
        },
        {
          "output_type": "stream",
          "name": "stderr",
          "text": [
            "Epoch [271/3000]: 100%|██████████████████████████████████████████████████████| 9/9 [00:00<00:00, 195.15it/s, loss=2.63]\n"
          ]
        },
        {
          "output_type": "stream",
          "name": "stdout",
          "text": [
            "Epoch [271/3000]: Train loss: 2.1619, Valid loss: 2.3207\n"
          ]
        },
        {
          "output_type": "stream",
          "name": "stderr",
          "text": [
            "Epoch [272/3000]: 100%|████████████████████████████████████████████████████████| 9/9 [00:00<00:00, 35.18it/s, loss=2.1]\n"
          ]
        },
        {
          "output_type": "stream",
          "name": "stdout",
          "text": [
            "Epoch [272/3000]: Train loss: 2.1028, Valid loss: 1.8873\n",
            "Saving model with loss 1.887...\n"
          ]
        },
        {
          "output_type": "stream",
          "name": "stderr",
          "text": [
            "Epoch [273/3000]: 100%|██████████████████████████████████████████████████████| 9/9 [00:00<00:00, 168.01it/s, loss=2.13]\n"
          ]
        },
        {
          "output_type": "stream",
          "name": "stdout",
          "text": [
            "Epoch [273/3000]: Train loss: 2.1145, Valid loss: 2.1749\n"
          ]
        },
        {
          "output_type": "stream",
          "name": "stderr",
          "text": [
            "Epoch [274/3000]: 100%|██████████████████████████████████████████████████████| 9/9 [00:00<00:00, 181.26it/s, loss=2.27]\n"
          ]
        },
        {
          "output_type": "stream",
          "name": "stdout",
          "text": [
            "Epoch [274/3000]: Train loss: 2.1073, Valid loss: 1.9296\n"
          ]
        },
        {
          "output_type": "stream",
          "name": "stderr",
          "text": [
            "Epoch [275/3000]: 100%|██████████████████████████████████████████████████████| 9/9 [00:00<00:00, 185.42it/s, loss=1.83]\n"
          ]
        },
        {
          "output_type": "stream",
          "name": "stdout",
          "text": [
            "Epoch [275/3000]: Train loss: 2.0723, Valid loss: 1.7340\n",
            "Saving model with loss 1.734...\n"
          ]
        },
        {
          "output_type": "stream",
          "name": "stderr",
          "text": [
            "Epoch [276/3000]: 100%|██████████████████████████████████████████████████████| 9/9 [00:00<00:00, 181.00it/s, loss=2.33]\n"
          ]
        },
        {
          "output_type": "stream",
          "name": "stdout",
          "text": [
            "Epoch [276/3000]: Train loss: 2.1005, Valid loss: 1.9887\n"
          ]
        },
        {
          "output_type": "stream",
          "name": "stderr",
          "text": [
            "Epoch [277/3000]: 100%|██████████████████████████████████████████████████████| 9/9 [00:00<00:00, 179.78it/s, loss=2.17]\n"
          ]
        },
        {
          "output_type": "stream",
          "name": "stdout",
          "text": [
            "Epoch [277/3000]: Train loss: 2.0902, Valid loss: 2.4396\n"
          ]
        },
        {
          "output_type": "stream",
          "name": "stderr",
          "text": [
            "Epoch [278/3000]: 100%|██████████████████████████████████████████████████████| 9/9 [00:00<00:00, 195.31it/s, loss=2.02]\n"
          ]
        },
        {
          "output_type": "stream",
          "name": "stdout",
          "text": [
            "Epoch [278/3000]: Train loss: 2.0821, Valid loss: 2.3908\n"
          ]
        },
        {
          "output_type": "stream",
          "name": "stderr",
          "text": [
            "Epoch [279/3000]: 100%|██████████████████████████████████████████████████████| 9/9 [00:00<00:00, 179.77it/s, loss=2.29]\n"
          ]
        },
        {
          "output_type": "stream",
          "name": "stdout",
          "text": [
            "Epoch [279/3000]: Train loss: 2.0902, Valid loss: 2.3695\n"
          ]
        },
        {
          "output_type": "stream",
          "name": "stderr",
          "text": [
            "Epoch [280/3000]: 100%|██████████████████████████████████████████████████████| 9/9 [00:00<00:00, 193.38it/s, loss=2.13]\n"
          ]
        },
        {
          "output_type": "stream",
          "name": "stdout",
          "text": [
            "Epoch [280/3000]: Train loss: 2.0866, Valid loss: 1.9713\n"
          ]
        },
        {
          "output_type": "stream",
          "name": "stderr",
          "text": [
            "Epoch [281/3000]: 100%|██████████████████████████████████████████████████████| 9/9 [00:00<00:00, 183.46it/s, loss=2.97]\n"
          ]
        },
        {
          "output_type": "stream",
          "name": "stdout",
          "text": [
            "Epoch [281/3000]: Train loss: 2.1240, Valid loss: 2.1838\n"
          ]
        },
        {
          "output_type": "stream",
          "name": "stderr",
          "text": [
            "Epoch [282/3000]: 100%|███████████████████████████████████████████████████████| 9/9 [00:00<00:00, 201.68it/s, loss=2.4]\n"
          ]
        },
        {
          "output_type": "stream",
          "name": "stdout",
          "text": [
            "Epoch [282/3000]: Train loss: 2.0841, Valid loss: 2.3005\n"
          ]
        },
        {
          "output_type": "stream",
          "name": "stderr",
          "text": [
            "Epoch [283/3000]: 100%|██████████████████████████████████████████████████████| 9/9 [00:00<00:00, 197.47it/s, loss=1.94]\n"
          ]
        },
        {
          "output_type": "stream",
          "name": "stdout",
          "text": [
            "Epoch [283/3000]: Train loss: 2.0548, Valid loss: 2.1705\n"
          ]
        },
        {
          "output_type": "stream",
          "name": "stderr",
          "text": [
            "Epoch [284/3000]: 100%|██████████████████████████████████████████████████████| 9/9 [00:00<00:00, 202.05it/s, loss=2.04]\n"
          ]
        },
        {
          "output_type": "stream",
          "name": "stdout",
          "text": [
            "Epoch [284/3000]: Train loss: 2.0554, Valid loss: 2.0877\n"
          ]
        },
        {
          "output_type": "stream",
          "name": "stderr",
          "text": [
            "Epoch [285/3000]: 100%|██████████████████████████████████████████████████████| 9/9 [00:00<00:00, 193.37it/s, loss=1.99]\n"
          ]
        },
        {
          "output_type": "stream",
          "name": "stdout",
          "text": [
            "Epoch [285/3000]: Train loss: 2.0514, Valid loss: 2.1020\n"
          ]
        },
        {
          "output_type": "stream",
          "name": "stderr",
          "text": [
            "Epoch [286/3000]: 100%|██████████████████████████████████████████████████████| 9/9 [00:00<00:00, 189.06it/s, loss=2.59]\n"
          ]
        },
        {
          "output_type": "stream",
          "name": "stdout",
          "text": [
            "Epoch [286/3000]: Train loss: 2.1000, Valid loss: 2.0467\n"
          ]
        },
        {
          "output_type": "stream",
          "name": "stderr",
          "text": [
            "Epoch [287/3000]: 100%|██████████████████████████████████████████████████████| 9/9 [00:00<00:00, 200.41it/s, loss=2.64]\n"
          ]
        },
        {
          "output_type": "stream",
          "name": "stdout",
          "text": [
            "Epoch [287/3000]: Train loss: 2.0839, Valid loss: 1.9840\n"
          ]
        },
        {
          "output_type": "stream",
          "name": "stderr",
          "text": [
            "Epoch [288/3000]: 100%|██████████████████████████████████████████████████████| 9/9 [00:00<00:00, 193.35it/s, loss=2.06]\n"
          ]
        },
        {
          "output_type": "stream",
          "name": "stdout",
          "text": [
            "Epoch [288/3000]: Train loss: 2.0435, Valid loss: 2.6562\n"
          ]
        },
        {
          "output_type": "stream",
          "name": "stderr",
          "text": [
            "Epoch [289/3000]: 100%|███████████████████████████████████████████████████████| 9/9 [00:00<00:00, 197.65it/s, loss=1.9]\n"
          ]
        },
        {
          "output_type": "stream",
          "name": "stdout",
          "text": [
            "Epoch [289/3000]: Train loss: 2.0303, Valid loss: 2.3419\n"
          ]
        },
        {
          "output_type": "stream",
          "name": "stderr",
          "text": [
            "Epoch [290/3000]: 100%|███████████████████████████████████████████████████████| 9/9 [00:00<00:00, 179.79it/s, loss=2.2]\n"
          ]
        },
        {
          "output_type": "stream",
          "name": "stdout",
          "text": [
            "Epoch [290/3000]: Train loss: 2.0479, Valid loss: 2.1680\n"
          ]
        },
        {
          "output_type": "stream",
          "name": "stderr",
          "text": [
            "Epoch [291/3000]: 100%|██████████████████████████████████████████████████████| 9/9 [00:00<00:00, 190.81it/s, loss=2.16]\n"
          ]
        },
        {
          "output_type": "stream",
          "name": "stdout",
          "text": [
            "Epoch [291/3000]: Train loss: 2.0365, Valid loss: 2.4887\n"
          ]
        },
        {
          "output_type": "stream",
          "name": "stderr",
          "text": [
            "Epoch [292/3000]: 100%|██████████████████████████████████████████████████████| 9/9 [00:00<00:00, 194.68it/s, loss=1.96]\n"
          ]
        },
        {
          "output_type": "stream",
          "name": "stdout",
          "text": [
            "Epoch [292/3000]: Train loss: 2.0249, Valid loss: 2.1360\n"
          ]
        },
        {
          "output_type": "stream",
          "name": "stderr",
          "text": [
            "Epoch [293/3000]: 100%|██████████████████████████████████████████████████████| 9/9 [00:00<00:00, 187.27it/s, loss=1.85]\n"
          ]
        },
        {
          "output_type": "stream",
          "name": "stdout",
          "text": [
            "Epoch [293/3000]: Train loss: 2.0175, Valid loss: 2.3043\n"
          ]
        },
        {
          "output_type": "stream",
          "name": "stderr",
          "text": [
            "Epoch [294/3000]: 100%|██████████████████████████████████████████████████████| 9/9 [00:00<00:00, 185.39it/s, loss=1.29]\n"
          ]
        },
        {
          "output_type": "stream",
          "name": "stdout",
          "text": [
            "Epoch [294/3000]: Train loss: 1.9818, Valid loss: 2.5644\n"
          ]
        },
        {
          "output_type": "stream",
          "name": "stderr",
          "text": [
            "Epoch [295/3000]: 100%|██████████████████████████████████████████████████████| 9/9 [00:00<00:00, 209.12it/s, loss=2.48]\n"
          ]
        },
        {
          "output_type": "stream",
          "name": "stdout",
          "text": [
            "Epoch [295/3000]: Train loss: 2.0488, Valid loss: 2.1672\n"
          ]
        },
        {
          "output_type": "stream",
          "name": "stderr",
          "text": [
            "Epoch [296/3000]: 100%|██████████████████████████████████████████████████████| 9/9 [00:00<00:00, 174.58it/s, loss=1.58]\n"
          ]
        },
        {
          "output_type": "stream",
          "name": "stdout",
          "text": [
            "Epoch [296/3000]: Train loss: 2.0049, Valid loss: 2.3984\n"
          ]
        },
        {
          "output_type": "stream",
          "name": "stderr",
          "text": [
            "Epoch [297/3000]: 100%|██████████████████████████████████████████████████████| 9/9 [00:00<00:00, 169.64it/s, loss=2.19]\n"
          ]
        },
        {
          "output_type": "stream",
          "name": "stdout",
          "text": [
            "Epoch [297/3000]: Train loss: 2.0454, Valid loss: 2.0131\n"
          ]
        },
        {
          "output_type": "stream",
          "name": "stderr",
          "text": [
            "Epoch [298/3000]: 100%|██████████████████████████████████████████████████████| 9/9 [00:00<00:00, 189.00it/s, loss=1.14]\n"
          ]
        },
        {
          "output_type": "stream",
          "name": "stdout",
          "text": [
            "Epoch [298/3000]: Train loss: 1.9487, Valid loss: 1.9011\n"
          ]
        },
        {
          "output_type": "stream",
          "name": "stderr",
          "text": [
            "Epoch [299/3000]: 100%|██████████████████████████████████████████████████████| 9/9 [00:00<00:00, 185.32it/s, loss=3.12]\n"
          ]
        },
        {
          "output_type": "stream",
          "name": "stdout",
          "text": [
            "Epoch [299/3000]: Train loss: 2.0699, Valid loss: 1.9733\n"
          ]
        },
        {
          "output_type": "stream",
          "name": "stderr",
          "text": [
            "Epoch [300/3000]: 100%|██████████████████████████████████████████████████████| 9/9 [00:00<00:00, 176.29it/s, loss=2.29]\n"
          ]
        },
        {
          "output_type": "stream",
          "name": "stdout",
          "text": [
            "Epoch [300/3000]: Train loss: 2.0140, Valid loss: 2.2921\n"
          ]
        },
        {
          "output_type": "stream",
          "name": "stderr",
          "text": [
            "Epoch [301/3000]: 100%|██████████████████████████████████████████████████████| 9/9 [00:00<00:00, 187.22it/s, loss=2.09]\n"
          ]
        },
        {
          "output_type": "stream",
          "name": "stdout",
          "text": [
            "Epoch [301/3000]: Train loss: 2.0001, Valid loss: 2.2661\n"
          ]
        },
        {
          "output_type": "stream",
          "name": "stderr",
          "text": [
            "Epoch [302/3000]: 100%|██████████████████████████████████████████████████████| 9/9 [00:00<00:00, 191.18it/s, loss=2.13]\n"
          ]
        },
        {
          "output_type": "stream",
          "name": "stdout",
          "text": [
            "Epoch [302/3000]: Train loss: 1.9946, Valid loss: 1.8738\n"
          ]
        },
        {
          "output_type": "stream",
          "name": "stderr",
          "text": [
            "Epoch [303/3000]: 100%|██████████████████████████████████████████████████████| 9/9 [00:00<00:00, 204.00it/s, loss=2.03]\n"
          ]
        },
        {
          "output_type": "stream",
          "name": "stdout",
          "text": [
            "Epoch [303/3000]: Train loss: 1.9906, Valid loss: 2.0061\n"
          ]
        },
        {
          "output_type": "stream",
          "name": "stderr",
          "text": [
            "Epoch [304/3000]: 100%|██████████████████████████████████████████████████████| 9/9 [00:00<00:00, 207.74it/s, loss=1.96]\n"
          ]
        },
        {
          "output_type": "stream",
          "name": "stdout",
          "text": [
            "Epoch [304/3000]: Train loss: 1.9804, Valid loss: 2.6168\n"
          ]
        },
        {
          "output_type": "stream",
          "name": "stderr",
          "text": [
            "Epoch [305/3000]: 100%|██████████████████████████████████████████████████████| 9/9 [00:00<00:00, 194.08it/s, loss=1.69]\n"
          ]
        },
        {
          "output_type": "stream",
          "name": "stdout",
          "text": [
            "Epoch [305/3000]: Train loss: 1.9608, Valid loss: 2.2725\n"
          ]
        },
        {
          "output_type": "stream",
          "name": "stderr",
          "text": [
            "Epoch [306/3000]: 100%|██████████████████████████████████████████████████████| 9/9 [00:00<00:00, 203.10it/s, loss=1.87]\n"
          ]
        },
        {
          "output_type": "stream",
          "name": "stdout",
          "text": [
            "Epoch [306/3000]: Train loss: 1.9631, Valid loss: 2.1661\n"
          ]
        },
        {
          "output_type": "stream",
          "name": "stderr",
          "text": [
            "Epoch [307/3000]: 100%|██████████████████████████████████████████████████████| 9/9 [00:00<00:00, 197.62it/s, loss=1.98]\n"
          ]
        },
        {
          "output_type": "stream",
          "name": "stdout",
          "text": [
            "Epoch [307/3000]: Train loss: 1.9782, Valid loss: 2.1200\n"
          ]
        },
        {
          "output_type": "stream",
          "name": "stderr",
          "text": [
            "Epoch [308/3000]: 100%|██████████████████████████████████████████████████████| 9/9 [00:00<00:00, 204.29it/s, loss=1.97]\n"
          ]
        },
        {
          "output_type": "stream",
          "name": "stdout",
          "text": [
            "Epoch [308/3000]: Train loss: 1.9814, Valid loss: 2.1278\n"
          ]
        },
        {
          "output_type": "stream",
          "name": "stderr",
          "text": [
            "Epoch [309/3000]: 100%|██████████████████████████████████████████████████████| 9/9 [00:00<00:00, 185.93it/s, loss=1.56]\n"
          ]
        },
        {
          "output_type": "stream",
          "name": "stdout",
          "text": [
            "Epoch [309/3000]: Train loss: 1.9382, Valid loss: 2.3206\n"
          ]
        },
        {
          "output_type": "stream",
          "name": "stderr",
          "text": [
            "Epoch [310/3000]: 100%|██████████████████████████████████████████████████████| 9/9 [00:00<00:00, 204.16it/s, loss=2.11]\n"
          ]
        },
        {
          "output_type": "stream",
          "name": "stdout",
          "text": [
            "Epoch [310/3000]: Train loss: 1.9765, Valid loss: 2.3834\n"
          ]
        },
        {
          "output_type": "stream",
          "name": "stderr",
          "text": [
            "Epoch [311/3000]: 100%|██████████████████████████████████████████████████████| 9/9 [00:00<00:00, 193.33it/s, loss=1.82]\n"
          ]
        },
        {
          "output_type": "stream",
          "name": "stdout",
          "text": [
            "Epoch [311/3000]: Train loss: 1.9490, Valid loss: 2.0687\n"
          ]
        },
        {
          "output_type": "stream",
          "name": "stderr",
          "text": [
            "Epoch [312/3000]: 100%|██████████████████████████████████████████████████████| 9/9 [00:00<00:00, 197.53it/s, loss=1.21]\n"
          ]
        },
        {
          "output_type": "stream",
          "name": "stdout",
          "text": [
            "Epoch [312/3000]: Train loss: 1.9260, Valid loss: 2.2486\n"
          ]
        },
        {
          "output_type": "stream",
          "name": "stderr",
          "text": [
            "Epoch [313/3000]: 100%|██████████████████████████████████████████████████████| 9/9 [00:00<00:00, 185.39it/s, loss=1.65]\n"
          ]
        },
        {
          "output_type": "stream",
          "name": "stdout",
          "text": [
            "Epoch [313/3000]: Train loss: 1.9647, Valid loss: 2.4185\n"
          ]
        },
        {
          "output_type": "stream",
          "name": "stderr",
          "text": [
            "Epoch [314/3000]: 100%|███████████████████████████████████████████████████████| 9/9 [00:00<00:00, 187.41it/s, loss=2.1]\n"
          ]
        },
        {
          "output_type": "stream",
          "name": "stdout",
          "text": [
            "Epoch [314/3000]: Train loss: 1.9686, Valid loss: 2.1938\n"
          ]
        },
        {
          "output_type": "stream",
          "name": "stderr",
          "text": [
            "Epoch [315/3000]: 100%|██████████████████████████████████████████████████████| 9/9 [00:00<00:00, 179.83it/s, loss=2.27]\n"
          ]
        },
        {
          "output_type": "stream",
          "name": "stdout",
          "text": [
            "Epoch [315/3000]: Train loss: 1.9676, Valid loss: 2.2521\n"
          ]
        },
        {
          "output_type": "stream",
          "name": "stderr",
          "text": [
            "Epoch [316/3000]: 100%|██████████████████████████████████████████████████████| 9/9 [00:00<00:00, 197.59it/s, loss=2.04]\n"
          ]
        },
        {
          "output_type": "stream",
          "name": "stdout",
          "text": [
            "Epoch [316/3000]: Train loss: 1.9595, Valid loss: 1.8365\n"
          ]
        },
        {
          "output_type": "stream",
          "name": "stderr",
          "text": [
            "Epoch [317/3000]: 100%|██████████████████████████████████████████████████████| 9/9 [00:00<00:00, 190.59it/s, loss=2.15]\n"
          ]
        },
        {
          "output_type": "stream",
          "name": "stdout",
          "text": [
            "Epoch [317/3000]: Train loss: 1.9616, Valid loss: 1.8473\n"
          ]
        },
        {
          "output_type": "stream",
          "name": "stderr",
          "text": [
            "Epoch [318/3000]: 100%|██████████████████████████████████████████████████████| 9/9 [00:00<00:00, 193.41it/s, loss=2.48]\n"
          ]
        },
        {
          "output_type": "stream",
          "name": "stdout",
          "text": [
            "Epoch [318/3000]: Train loss: 1.9754, Valid loss: 2.2665\n"
          ]
        },
        {
          "output_type": "stream",
          "name": "stderr",
          "text": [
            "Epoch [319/3000]: 100%|██████████████████████████████████████████████████████| 9/9 [00:00<00:00, 178.82it/s, loss=1.86]\n"
          ]
        },
        {
          "output_type": "stream",
          "name": "stdout",
          "text": [
            "Epoch [319/3000]: Train loss: 1.9387, Valid loss: 2.4129\n"
          ]
        },
        {
          "output_type": "stream",
          "name": "stderr",
          "text": [
            "Epoch [320/3000]: 100%|██████████████████████████████████████████████████████| 9/9 [00:00<00:00, 191.40it/s, loss=2.62]\n"
          ]
        },
        {
          "output_type": "stream",
          "name": "stdout",
          "text": [
            "Epoch [320/3000]: Train loss: 1.9814, Valid loss: 1.7644\n"
          ]
        },
        {
          "output_type": "stream",
          "name": "stderr",
          "text": [
            "Epoch [321/3000]: 100%|██████████████████████████████████████████████████████| 9/9 [00:00<00:00, 183.39it/s, loss=1.95]\n"
          ]
        },
        {
          "output_type": "stream",
          "name": "stdout",
          "text": [
            "Epoch [321/3000]: Train loss: 1.9707, Valid loss: 1.8946\n"
          ]
        },
        {
          "output_type": "stream",
          "name": "stderr",
          "text": [
            "Epoch [322/3000]: 100%|██████████████████████████████████████████████████████| 9/9 [00:00<00:00, 183.26it/s, loss=2.63]\n"
          ]
        },
        {
          "output_type": "stream",
          "name": "stdout",
          "text": [
            "Epoch [322/3000]: Train loss: 1.9763, Valid loss: 1.9796\n"
          ]
        },
        {
          "output_type": "stream",
          "name": "stderr",
          "text": [
            "Epoch [323/3000]: 100%|██████████████████████████████████████████████████████| 9/9 [00:00<00:00, 187.25it/s, loss=2.23]\n"
          ]
        },
        {
          "output_type": "stream",
          "name": "stdout",
          "text": [
            "Epoch [323/3000]: Train loss: 1.9534, Valid loss: 2.8653\n"
          ]
        },
        {
          "output_type": "stream",
          "name": "stderr",
          "text": [
            "Epoch [324/3000]: 100%|██████████████████████████████████████████████████████| 9/9 [00:00<00:00, 185.29it/s, loss=1.93]\n"
          ]
        },
        {
          "output_type": "stream",
          "name": "stdout",
          "text": [
            "Epoch [324/3000]: Train loss: 1.9242, Valid loss: 1.7234\n",
            "Saving model with loss 1.723...\n"
          ]
        },
        {
          "output_type": "stream",
          "name": "stderr",
          "text": [
            "Epoch [325/3000]: 100%|██████████████████████████████████████████████████████| 9/9 [00:00<00:00, 197.64it/s, loss=1.53]\n"
          ]
        },
        {
          "output_type": "stream",
          "name": "stdout",
          "text": [
            "Epoch [325/3000]: Train loss: 1.8980, Valid loss: 2.0084\n"
          ]
        },
        {
          "output_type": "stream",
          "name": "stderr",
          "text": [
            "Epoch [326/3000]: 100%|███████████████████████████████████████████████████████| 9/9 [00:00<00:00, 182.81it/s, loss=2.1]\n"
          ]
        },
        {
          "output_type": "stream",
          "name": "stdout",
          "text": [
            "Epoch [326/3000]: Train loss: 1.9322, Valid loss: 2.5015\n"
          ]
        },
        {
          "output_type": "stream",
          "name": "stderr",
          "text": [
            "Epoch [327/3000]: 100%|██████████████████████████████████████████████████████| 9/9 [00:00<00:00, 176.31it/s, loss=1.63]\n"
          ]
        },
        {
          "output_type": "stream",
          "name": "stdout",
          "text": [
            "Epoch [327/3000]: Train loss: 1.9014, Valid loss: 1.9836\n"
          ]
        },
        {
          "output_type": "stream",
          "name": "stderr",
          "text": [
            "Epoch [328/3000]: 100%|██████████████████████████████████████████████████████| 9/9 [00:00<00:00, 174.61it/s, loss=2.04]\n"
          ]
        },
        {
          "output_type": "stream",
          "name": "stdout",
          "text": [
            "Epoch [328/3000]: Train loss: 1.9480, Valid loss: 2.2788\n"
          ]
        },
        {
          "output_type": "stream",
          "name": "stderr",
          "text": [
            "Epoch [329/3000]: 100%|██████████████████████████████████████████████████████| 9/9 [00:00<00:00, 172.93it/s, loss=1.66]\n"
          ]
        },
        {
          "output_type": "stream",
          "name": "stdout",
          "text": [
            "Epoch [329/3000]: Train loss: 1.8951, Valid loss: 2.0231\n"
          ]
        },
        {
          "output_type": "stream",
          "name": "stderr",
          "text": [
            "Epoch [330/3000]: 100%|██████████████████████████████████████████████████████| 9/9 [00:00<00:00, 202.04it/s, loss=1.86]\n"
          ]
        },
        {
          "output_type": "stream",
          "name": "stdout",
          "text": [
            "Epoch [330/3000]: Train loss: 1.9045, Valid loss: 2.1362\n"
          ]
        },
        {
          "output_type": "stream",
          "name": "stderr",
          "text": [
            "Epoch [331/3000]: 100%|██████████████████████████████████████████████████████| 9/9 [00:00<00:00, 189.17it/s, loss=1.69]\n"
          ]
        },
        {
          "output_type": "stream",
          "name": "stdout",
          "text": [
            "Epoch [331/3000]: Train loss: 1.8973, Valid loss: 2.5169\n"
          ]
        },
        {
          "output_type": "stream",
          "name": "stderr",
          "text": [
            "Epoch [332/3000]: 100%|██████████████████████████████████████████████████████| 9/9 [00:00<00:00, 185.39it/s, loss=1.84]\n"
          ]
        },
        {
          "output_type": "stream",
          "name": "stdout",
          "text": [
            "Epoch [332/3000]: Train loss: 1.9028, Valid loss: 2.3012\n"
          ]
        },
        {
          "output_type": "stream",
          "name": "stderr",
          "text": [
            "Epoch [333/3000]: 100%|██████████████████████████████████████████████████████| 9/9 [00:00<00:00, 183.49it/s, loss=2.22]\n"
          ]
        },
        {
          "output_type": "stream",
          "name": "stdout",
          "text": [
            "Epoch [333/3000]: Train loss: 1.9225, Valid loss: 1.9654\n"
          ]
        },
        {
          "output_type": "stream",
          "name": "stderr",
          "text": [
            "Epoch [334/3000]: 100%|██████████████████████████████████████████████████████| 9/9 [00:00<00:00, 197.60it/s, loss=2.12]\n"
          ]
        },
        {
          "output_type": "stream",
          "name": "stdout",
          "text": [
            "Epoch [334/3000]: Train loss: 1.9174, Valid loss: 1.9435\n"
          ]
        },
        {
          "output_type": "stream",
          "name": "stderr",
          "text": [
            "Epoch [335/3000]: 100%|██████████████████████████████████████████████████████| 9/9 [00:00<00:00, 189.35it/s, loss=1.88]\n"
          ]
        },
        {
          "output_type": "stream",
          "name": "stdout",
          "text": [
            "Epoch [335/3000]: Train loss: 1.9026, Valid loss: 1.9852\n"
          ]
        },
        {
          "output_type": "stream",
          "name": "stderr",
          "text": [
            "Epoch [336/3000]: 100%|██████████████████████████████████████████████████████| 9/9 [00:00<00:00, 172.61it/s, loss=1.56]\n"
          ]
        },
        {
          "output_type": "stream",
          "name": "stdout",
          "text": [
            "Epoch [336/3000]: Train loss: 1.8910, Valid loss: 2.3380\n"
          ]
        },
        {
          "output_type": "stream",
          "name": "stderr",
          "text": [
            "Epoch [337/3000]: 100%|██████████████████████████████████████████████████████| 9/9 [00:00<00:00, 176.10it/s, loss=1.49]"
          ]
        },
        {
          "output_type": "stream",
          "name": "stdout",
          "text": [
            "Epoch [337/3000]: Train loss: 1.8658, Valid loss: 2.0268"
          ]
        },
        {
          "output_type": "stream",
          "name": "stderr",
          "text": [
            "\n"
          ]
        },
        {
          "output_type": "stream",
          "name": "stdout",
          "text": [
            "\n"
          ]
        },
        {
          "output_type": "stream",
          "name": "stderr",
          "text": [
            "Epoch [338/3000]: 100%|██████████████████████████████████████████████████████| 9/9 [00:00<00:00, 178.00it/s, loss=1.68]\n"
          ]
        },
        {
          "output_type": "stream",
          "name": "stdout",
          "text": [
            "Epoch [338/3000]: Train loss: 1.9001, Valid loss: 2.1220\n"
          ]
        },
        {
          "output_type": "stream",
          "name": "stderr",
          "text": [
            "Epoch [339/3000]: 100%|██████████████████████████████████████████████████████| 9/9 [00:00<00:00, 176.83it/s, loss=1.41]\n"
          ]
        },
        {
          "output_type": "stream",
          "name": "stdout",
          "text": [
            "Epoch [339/3000]: Train loss: 1.8724, Valid loss: 2.0120\n"
          ]
        },
        {
          "output_type": "stream",
          "name": "stderr",
          "text": [
            "Epoch [340/3000]: 100%|█████████████████████████████████████████████████████████| 9/9 [00:00<00:00, 184.87it/s, loss=2]\n"
          ]
        },
        {
          "output_type": "stream",
          "name": "stdout",
          "text": [
            "Epoch [340/3000]: Train loss: 1.8954, Valid loss: 2.3125\n"
          ]
        },
        {
          "output_type": "stream",
          "name": "stderr",
          "text": [
            "Epoch [341/3000]: 100%|██████████████████████████████████████████████████████| 9/9 [00:00<00:00, 181.74it/s, loss=1.68]\n"
          ]
        },
        {
          "output_type": "stream",
          "name": "stdout",
          "text": [
            "Epoch [341/3000]: Train loss: 1.8712, Valid loss: 2.0283\n"
          ]
        },
        {
          "output_type": "stream",
          "name": "stderr",
          "text": [
            "Epoch [342/3000]: 100%|██████████████████████████████████████████████████████| 9/9 [00:00<00:00, 185.41it/s, loss=1.54]\n"
          ]
        },
        {
          "output_type": "stream",
          "name": "stdout",
          "text": [
            "Epoch [342/3000]: Train loss: 1.8670, Valid loss: 2.0261\n"
          ]
        },
        {
          "output_type": "stream",
          "name": "stderr",
          "text": [
            "Epoch [343/3000]: 100%|██████████████████████████████████████████████████████| 9/9 [00:00<00:00, 187.16it/s, loss=1.87]\n"
          ]
        },
        {
          "output_type": "stream",
          "name": "stdout",
          "text": [
            "Epoch [343/3000]: Train loss: 1.8965, Valid loss: 1.9258\n"
          ]
        },
        {
          "output_type": "stream",
          "name": "stderr",
          "text": [
            "Epoch [344/3000]: 100%|██████████████████████████████████████████████████████| 9/9 [00:00<00:00, 179.18it/s, loss=1.96]\n"
          ]
        },
        {
          "output_type": "stream",
          "name": "stdout",
          "text": [
            "Epoch [344/3000]: Train loss: 1.8869, Valid loss: 2.4488\n"
          ]
        },
        {
          "output_type": "stream",
          "name": "stderr",
          "text": [
            "Epoch [345/3000]: 100%|██████████████████████████████████████████████████████| 9/9 [00:00<00:00, 188.78it/s, loss=1.47]\n"
          ]
        },
        {
          "output_type": "stream",
          "name": "stdout",
          "text": [
            "Epoch [345/3000]: Train loss: 1.8646, Valid loss: 2.0450\n"
          ]
        },
        {
          "output_type": "stream",
          "name": "stderr",
          "text": [
            "Epoch [346/3000]: 100%|██████████████████████████████████████████████████████| 9/9 [00:00<00:00, 189.19it/s, loss=2.27]\n"
          ]
        },
        {
          "output_type": "stream",
          "name": "stdout",
          "text": [
            "Epoch [346/3000]: Train loss: 1.9011, Valid loss: 2.1197\n"
          ]
        },
        {
          "output_type": "stream",
          "name": "stderr",
          "text": [
            "Epoch [347/3000]: 100%|██████████████████████████████████████████████████████| 9/9 [00:00<00:00, 197.61it/s, loss=1.96]\n"
          ]
        },
        {
          "output_type": "stream",
          "name": "stdout",
          "text": [
            "Epoch [347/3000]: Train loss: 1.9023, Valid loss: 2.2491\n"
          ]
        },
        {
          "output_type": "stream",
          "name": "stderr",
          "text": [
            "Epoch [348/3000]: 100%|██████████████████████████████████████████████████████| 9/9 [00:00<00:00, 193.38it/s, loss=1.52]\n"
          ]
        },
        {
          "output_type": "stream",
          "name": "stdout",
          "text": [
            "Epoch [348/3000]: Train loss: 1.8453, Valid loss: 1.9316\n"
          ]
        },
        {
          "output_type": "stream",
          "name": "stderr",
          "text": [
            "Epoch [349/3000]: 100%|██████████████████████████████████████████████████████| 9/9 [00:00<00:00, 185.40it/s, loss=2.07]\n"
          ]
        },
        {
          "output_type": "stream",
          "name": "stdout",
          "text": [
            "Epoch [349/3000]: Train loss: 1.8774, Valid loss: 1.9645\n"
          ]
        },
        {
          "output_type": "stream",
          "name": "stderr",
          "text": [
            "Epoch [350/3000]: 100%|██████████████████████████████████████████████████████| 9/9 [00:00<00:00, 183.36it/s, loss=1.68]\n"
          ]
        },
        {
          "output_type": "stream",
          "name": "stdout",
          "text": [
            "Epoch [350/3000]: Train loss: 1.8516, Valid loss: 2.2027\n"
          ]
        },
        {
          "output_type": "stream",
          "name": "stderr",
          "text": [
            "Epoch [351/3000]: 100%|██████████████████████████████████████████████████████| 9/9 [00:00<00:00, 202.09it/s, loss=1.41]\n"
          ]
        },
        {
          "output_type": "stream",
          "name": "stdout",
          "text": [
            "Epoch [351/3000]: Train loss: 1.8382, Valid loss: 2.5518\n"
          ]
        },
        {
          "output_type": "stream",
          "name": "stderr",
          "text": [
            "Epoch [352/3000]: 100%|██████████████████████████████████████████████████████| 9/9 [00:00<00:00, 193.35it/s, loss=1.55]\n"
          ]
        },
        {
          "output_type": "stream",
          "name": "stdout",
          "text": [
            "Epoch [352/3000]: Train loss: 1.8516, Valid loss: 1.9073\n"
          ]
        },
        {
          "output_type": "stream",
          "name": "stderr",
          "text": [
            "Epoch [353/3000]: 100%|██████████████████████████████████████████████████████| 9/9 [00:00<00:00, 204.44it/s, loss=2.36]\n"
          ]
        },
        {
          "output_type": "stream",
          "name": "stdout",
          "text": [
            "Epoch [353/3000]: Train loss: 1.8895, Valid loss: 2.3621\n"
          ]
        },
        {
          "output_type": "stream",
          "name": "stderr",
          "text": [
            "Epoch [354/3000]: 100%|███████████████████████████████████████████████████████| 9/9 [00:00<00:00, 200.10it/s, loss=2.4]\n"
          ]
        },
        {
          "output_type": "stream",
          "name": "stdout",
          "text": [
            "Epoch [354/3000]: Train loss: 1.8970, Valid loss: 2.2599\n"
          ]
        },
        {
          "output_type": "stream",
          "name": "stderr",
          "text": [
            "Epoch [355/3000]: 100%|██████████████████████████████████████████████████████| 9/9 [00:00<00:00, 211.56it/s, loss=1.39]\n"
          ]
        },
        {
          "output_type": "stream",
          "name": "stdout",
          "text": [
            "Epoch [355/3000]: Train loss: 1.8336, Valid loss: 2.4139\n"
          ]
        },
        {
          "output_type": "stream",
          "name": "stderr",
          "text": [
            "Epoch [356/3000]: 100%|██████████████████████████████████████████████████████| 9/9 [00:00<00:00, 208.62it/s, loss=1.89]\n"
          ]
        },
        {
          "output_type": "stream",
          "name": "stdout",
          "text": [
            "Epoch [356/3000]: Train loss: 1.8611, Valid loss: 1.8270\n"
          ]
        },
        {
          "output_type": "stream",
          "name": "stderr",
          "text": [
            "Epoch [357/3000]: 100%|██████████████████████████████████████████████████████| 9/9 [00:00<00:00, 204.31it/s, loss=1.91]\n"
          ]
        },
        {
          "output_type": "stream",
          "name": "stdout",
          "text": [
            "Epoch [357/3000]: Train loss: 1.8657, Valid loss: 2.1178\n"
          ]
        },
        {
          "output_type": "stream",
          "name": "stderr",
          "text": [
            "Epoch [358/3000]: 100%|██████████████████████████████████████████████████████| 9/9 [00:00<00:00, 202.03it/s, loss=2.08]\n"
          ]
        },
        {
          "output_type": "stream",
          "name": "stdout",
          "text": [
            "Epoch [358/3000]: Train loss: 1.8673, Valid loss: 2.1137\n"
          ]
        },
        {
          "output_type": "stream",
          "name": "stderr",
          "text": [
            "Epoch [359/3000]: 100%|██████████████████████████████████████████████████████| 9/9 [00:00<00:00, 195.49it/s, loss=2.01]\n"
          ]
        },
        {
          "output_type": "stream",
          "name": "stdout",
          "text": [
            "Epoch [359/3000]: Train loss: 1.8632, Valid loss: 1.7799\n"
          ]
        },
        {
          "output_type": "stream",
          "name": "stderr",
          "text": [
            "Epoch [360/3000]: 100%|███████████████████████████████████████████████████████| 9/9 [00:00<00:00, 213.00it/s, loss=1.4]\n"
          ]
        },
        {
          "output_type": "stream",
          "name": "stdout",
          "text": [
            "Epoch [360/3000]: Train loss: 1.8163, Valid loss: 2.3636\n"
          ]
        },
        {
          "output_type": "stream",
          "name": "stderr",
          "text": [
            "Epoch [361/3000]: 100%|██████████████████████████████████████████████████████| 9/9 [00:00<00:00, 199.74it/s, loss=1.74]\n"
          ]
        },
        {
          "output_type": "stream",
          "name": "stdout",
          "text": [
            "Epoch [361/3000]: Train loss: 1.8334, Valid loss: 1.9757\n"
          ]
        },
        {
          "output_type": "stream",
          "name": "stderr",
          "text": [
            "Epoch [362/3000]: 100%|██████████████████████████████████████████████████████| 9/9 [00:00<00:00, 182.90it/s, loss=2.29]\n"
          ]
        },
        {
          "output_type": "stream",
          "name": "stdout",
          "text": [
            "Epoch [362/3000]: Train loss: 1.8692, Valid loss: 1.9488\n"
          ]
        },
        {
          "output_type": "stream",
          "name": "stderr",
          "text": [
            "Epoch [363/3000]: 100%|██████████████████████████████████████████████████████| 9/9 [00:00<00:00, 189.80it/s, loss=1.49]\n"
          ]
        },
        {
          "output_type": "stream",
          "name": "stdout",
          "text": [
            "Epoch [363/3000]: Train loss: 1.8191, Valid loss: 2.2730\n"
          ]
        },
        {
          "output_type": "stream",
          "name": "stderr",
          "text": [
            "Epoch [364/3000]: 100%|███████████████████████████████████████████████████████| 9/9 [00:00<00:00, 82.41it/s, loss=1.96]\n"
          ]
        },
        {
          "output_type": "stream",
          "name": "stdout",
          "text": [
            "Epoch [364/3000]: Train loss: 1.8499, Valid loss: 2.1054\n"
          ]
        },
        {
          "output_type": "stream",
          "name": "stderr",
          "text": [
            "Epoch [365/3000]: 100%|██████████████████████████████████████████████████████| 9/9 [00:00<00:00, 183.51it/s, loss=1.52]\n"
          ]
        },
        {
          "output_type": "stream",
          "name": "stdout",
          "text": [
            "Epoch [365/3000]: Train loss: 1.8248, Valid loss: 2.1440\n"
          ]
        },
        {
          "output_type": "stream",
          "name": "stderr",
          "text": [
            "Epoch [366/3000]: 100%|██████████████████████████████████████████████████████| 9/9 [00:00<00:00, 168.06it/s, loss=2.05]\n"
          ]
        },
        {
          "output_type": "stream",
          "name": "stdout",
          "text": [
            "Epoch [366/3000]: Train loss: 1.8494, Valid loss: 1.9759\n"
          ]
        },
        {
          "output_type": "stream",
          "name": "stderr",
          "text": [
            "Epoch [367/3000]: 100%|██████████████████████████████████████████████████████| 9/9 [00:00<00:00, 166.45it/s, loss=1.94]\n"
          ]
        },
        {
          "output_type": "stream",
          "name": "stdout",
          "text": [
            "Epoch [367/3000]: Train loss: 1.8467, Valid loss: 1.9210\n"
          ]
        },
        {
          "output_type": "stream",
          "name": "stderr",
          "text": [
            "Epoch [368/3000]: 100%|██████████████████████████████████████████████████████| 9/9 [00:00<00:00, 191.38it/s, loss=1.83]\n"
          ]
        },
        {
          "output_type": "stream",
          "name": "stdout",
          "text": [
            "Epoch [368/3000]: Train loss: 1.8317, Valid loss: 1.9792\n"
          ]
        },
        {
          "output_type": "stream",
          "name": "stderr",
          "text": [
            "Epoch [369/3000]: 100%|██████████████████████████████████████████████████████| 9/9 [00:00<00:00, 169.60it/s, loss=1.59]\n"
          ]
        },
        {
          "output_type": "stream",
          "name": "stdout",
          "text": [
            "Epoch [369/3000]: Train loss: 1.8209, Valid loss: 1.8055\n"
          ]
        },
        {
          "output_type": "stream",
          "name": "stderr",
          "text": [
            "Epoch [370/3000]: 100%|██████████████████████████████████████████████████████| 9/9 [00:00<00:00, 197.63it/s, loss=2.28]\n"
          ]
        },
        {
          "output_type": "stream",
          "name": "stdout",
          "text": [
            "Epoch [370/3000]: Train loss: 1.8545, Valid loss: 2.0553\n"
          ]
        },
        {
          "output_type": "stream",
          "name": "stderr",
          "text": [
            "Epoch [371/3000]: 100%|██████████████████████████████████████████████████████| 9/9 [00:00<00:00, 211.53it/s, loss=1.99]\n"
          ]
        },
        {
          "output_type": "stream",
          "name": "stdout",
          "text": [
            "Epoch [371/3000]: Train loss: 1.8433, Valid loss: 2.0959\n"
          ]
        },
        {
          "output_type": "stream",
          "name": "stderr",
          "text": [
            "Epoch [372/3000]: 100%|██████████████████████████████████████████████████████| 9/9 [00:00<00:00, 199.87it/s, loss=2.56]\n"
          ]
        },
        {
          "output_type": "stream",
          "name": "stdout",
          "text": [
            "Epoch [372/3000]: Train loss: 1.8702, Valid loss: 1.9010\n"
          ]
        },
        {
          "output_type": "stream",
          "name": "stderr",
          "text": [
            "Epoch [373/3000]: 100%|███████████████████████████████████████████████████████| 9/9 [00:00<00:00, 199.72it/s, loss=2.1]\n"
          ]
        },
        {
          "output_type": "stream",
          "name": "stdout",
          "text": [
            "Epoch [373/3000]: Train loss: 1.8388, Valid loss: 2.0793\n"
          ]
        },
        {
          "output_type": "stream",
          "name": "stderr",
          "text": [
            "Epoch [374/3000]: 100%|██████████████████████████████████████████████████████| 9/9 [00:00<00:00, 203.28it/s, loss=1.19]\n"
          ]
        },
        {
          "output_type": "stream",
          "name": "stdout",
          "text": [
            "Epoch [374/3000]: Train loss: 1.7841, Valid loss: 2.0797\n"
          ]
        },
        {
          "output_type": "stream",
          "name": "stderr",
          "text": [
            "Epoch [375/3000]: 100%|██████████████████████████████████████████████████████| 9/9 [00:00<00:00, 199.63it/s, loss=1.97]\n"
          ]
        },
        {
          "output_type": "stream",
          "name": "stdout",
          "text": [
            "Epoch [375/3000]: Train loss: 1.8322, Valid loss: 1.6807\n",
            "Saving model with loss 1.681...\n"
          ]
        },
        {
          "output_type": "stream",
          "name": "stderr",
          "text": [
            "Epoch [376/3000]: 100%|██████████████████████████████████████████████████████| 9/9 [00:00<00:00, 189.30it/s, loss=2.03]\n"
          ]
        },
        {
          "output_type": "stream",
          "name": "stdout",
          "text": [
            "Epoch [376/3000]: Train loss: 1.8344, Valid loss: 1.9340\n"
          ]
        },
        {
          "output_type": "stream",
          "name": "stderr",
          "text": [
            "Epoch [377/3000]: 100%|██████████████████████████████████████████████████████| 9/9 [00:00<00:00, 189.32it/s, loss=1.99]\n"
          ]
        },
        {
          "output_type": "stream",
          "name": "stdout",
          "text": [
            "Epoch [377/3000]: Train loss: 1.8456, Valid loss: 1.8485\n"
          ]
        },
        {
          "output_type": "stream",
          "name": "stderr",
          "text": [
            "Epoch [378/3000]: 100%|██████████████████████████████████████████████████████| 9/9 [00:00<00:00, 197.51it/s, loss=2.13]\n"
          ]
        },
        {
          "output_type": "stream",
          "name": "stdout",
          "text": [
            "Epoch [378/3000]: Train loss: 1.8338, Valid loss: 2.2514\n"
          ]
        },
        {
          "output_type": "stream",
          "name": "stderr",
          "text": [
            "Epoch [379/3000]: 100%|██████████████████████████████████████████████████████| 9/9 [00:00<00:00, 148.23it/s, loss=1.65]\n"
          ]
        },
        {
          "output_type": "stream",
          "name": "stdout",
          "text": [
            "Epoch [379/3000]: Train loss: 1.8047, Valid loss: 1.9266\n"
          ]
        },
        {
          "output_type": "stream",
          "name": "stderr",
          "text": [
            "Epoch [380/3000]: 100%|██████████████████████████████████████████████████████| 9/9 [00:00<00:00, 182.86it/s, loss=2.45]\n"
          ]
        },
        {
          "output_type": "stream",
          "name": "stdout",
          "text": [
            "Epoch [380/3000]: Train loss: 1.8570, Valid loss: 1.9799\n"
          ]
        },
        {
          "output_type": "stream",
          "name": "stderr",
          "text": [
            "Epoch [381/3000]: 100%|██████████████████████████████████████████████████████| 9/9 [00:00<00:00, 187.23it/s, loss=1.59]\n"
          ]
        },
        {
          "output_type": "stream",
          "name": "stdout",
          "text": [
            "Epoch [381/3000]: Train loss: 1.7929, Valid loss: 1.9243\n"
          ]
        },
        {
          "output_type": "stream",
          "name": "stderr",
          "text": [
            "Epoch [382/3000]: 100%|██████████████████████████████████████████████████████| 9/9 [00:00<00:00, 202.07it/s, loss=1.73]\n"
          ]
        },
        {
          "output_type": "stream",
          "name": "stdout",
          "text": [
            "Epoch [382/3000]: Train loss: 1.8067, Valid loss: 2.1116\n"
          ]
        },
        {
          "output_type": "stream",
          "name": "stderr",
          "text": [
            "Epoch [383/3000]: 100%|██████████████████████████████████████████████████████| 9/9 [00:00<00:00, 199.82it/s, loss=1.57]\n"
          ]
        },
        {
          "output_type": "stream",
          "name": "stdout",
          "text": [
            "Epoch [383/3000]: Train loss: 1.7941, Valid loss: 2.1386\n"
          ]
        },
        {
          "output_type": "stream",
          "name": "stderr",
          "text": [
            "Epoch [384/3000]: 100%|██████████████████████████████████████████████████████| 9/9 [00:00<00:00, 178.08it/s, loss=1.58]\n"
          ]
        },
        {
          "output_type": "stream",
          "name": "stdout",
          "text": [
            "Epoch [384/3000]: Train loss: 1.8096, Valid loss: 2.0443\n"
          ]
        },
        {
          "output_type": "stream",
          "name": "stderr",
          "text": [
            "Epoch [385/3000]: 100%|██████████████████████████████████████████████████████| 9/9 [00:00<00:00, 187.32it/s, loss=1.62]\n"
          ]
        },
        {
          "output_type": "stream",
          "name": "stdout",
          "text": [
            "Epoch [385/3000]: Train loss: 1.8024, Valid loss: 2.5636\n"
          ]
        },
        {
          "output_type": "stream",
          "name": "stderr",
          "text": [
            "Epoch [386/3000]: 100%|██████████████████████████████████████████████████████| 9/9 [00:00<00:00, 199.74it/s, loss=1.75]\n"
          ]
        },
        {
          "output_type": "stream",
          "name": "stdout",
          "text": [
            "Epoch [386/3000]: Train loss: 1.7978, Valid loss: 2.2497\n"
          ]
        },
        {
          "output_type": "stream",
          "name": "stderr",
          "text": [
            "Epoch [387/3000]: 100%|██████████████████████████████████████████████████████| 9/9 [00:00<00:00, 206.54it/s, loss=1.52]\n"
          ]
        },
        {
          "output_type": "stream",
          "name": "stdout",
          "text": [
            "Epoch [387/3000]: Train loss: 1.7797, Valid loss: 1.8154\n"
          ]
        },
        {
          "output_type": "stream",
          "name": "stderr",
          "text": [
            "Epoch [388/3000]: 100%|██████████████████████████████████████████████████████| 9/9 [00:00<00:00, 180.65it/s, loss=1.58]\n"
          ]
        },
        {
          "output_type": "stream",
          "name": "stdout",
          "text": [
            "Epoch [388/3000]: Train loss: 1.7828, Valid loss: 1.9822\n"
          ]
        },
        {
          "output_type": "stream",
          "name": "stderr",
          "text": [
            "Epoch [389/3000]: 100%|██████████████████████████████████████████████████████| 9/9 [00:00<00:00, 189.31it/s, loss=2.06]\n"
          ]
        },
        {
          "output_type": "stream",
          "name": "stdout",
          "text": [
            "Epoch [389/3000]: Train loss: 1.8335, Valid loss: 2.1194\n"
          ]
        },
        {
          "output_type": "stream",
          "name": "stderr",
          "text": [
            "Epoch [390/3000]: 100%|██████████████████████████████████████████████████████| 9/9 [00:00<00:00, 183.55it/s, loss=1.79]\n"
          ]
        },
        {
          "output_type": "stream",
          "name": "stdout",
          "text": [
            "Epoch [390/3000]: Train loss: 1.8024, Valid loss: 1.7738\n"
          ]
        },
        {
          "output_type": "stream",
          "name": "stderr",
          "text": [
            "Epoch [391/3000]: 100%|██████████████████████████████████████████████████████| 9/9 [00:00<00:00, 183.45it/s, loss=2.02]\n"
          ]
        },
        {
          "output_type": "stream",
          "name": "stdout",
          "text": [
            "Epoch [391/3000]: Train loss: 1.8216, Valid loss: 2.0608\n"
          ]
        },
        {
          "output_type": "stream",
          "name": "stderr",
          "text": [
            "Epoch [392/3000]: 100%|██████████████████████████████████████████████████████| 9/9 [00:00<00:00, 176.16it/s, loss=2.18]\n"
          ]
        },
        {
          "output_type": "stream",
          "name": "stdout",
          "text": [
            "Epoch [392/3000]: Train loss: 1.8166, Valid loss: 2.1140\n"
          ]
        },
        {
          "output_type": "stream",
          "name": "stderr",
          "text": [
            "Epoch [393/3000]: 100%|██████████████████████████████████████████████████████| 9/9 [00:00<00:00, 185.41it/s, loss=1.53]\n"
          ]
        },
        {
          "output_type": "stream",
          "name": "stdout",
          "text": [
            "Epoch [393/3000]: Train loss: 1.7787, Valid loss: 1.9159\n"
          ]
        },
        {
          "output_type": "stream",
          "name": "stderr",
          "text": [
            "Epoch [394/3000]: 100%|███████████████████████████████████████████████████████| 9/9 [00:00<00:00, 201.89it/s, loss=1.7]\n"
          ]
        },
        {
          "output_type": "stream",
          "name": "stdout",
          "text": [
            "Epoch [394/3000]: Train loss: 1.7892, Valid loss: 1.8187\n"
          ]
        },
        {
          "output_type": "stream",
          "name": "stderr",
          "text": [
            "Epoch [395/3000]: 100%|██████████████████████████████████████████████████████| 9/9 [00:00<00:00, 202.03it/s, loss=1.13]\n"
          ]
        },
        {
          "output_type": "stream",
          "name": "stdout",
          "text": [
            "Epoch [395/3000]: Train loss: 1.7525, Valid loss: 1.8999\n"
          ]
        },
        {
          "output_type": "stream",
          "name": "stderr",
          "text": [
            "Epoch [396/3000]: 100%|██████████████████████████████████████████████████████| 9/9 [00:00<00:00, 195.38it/s, loss=1.64]\n"
          ]
        },
        {
          "output_type": "stream",
          "name": "stdout",
          "text": [
            "Epoch [396/3000]: Train loss: 1.8154, Valid loss: 2.0322\n"
          ]
        },
        {
          "output_type": "stream",
          "name": "stderr",
          "text": [
            "Epoch [397/3000]: 100%|██████████████████████████████████████████████████████| 9/9 [00:00<00:00, 201.52it/s, loss=2.34]\n"
          ]
        },
        {
          "output_type": "stream",
          "name": "stdout",
          "text": [
            "Epoch [397/3000]: Train loss: 1.8229, Valid loss: 1.7682\n"
          ]
        },
        {
          "output_type": "stream",
          "name": "stderr",
          "text": [
            "Epoch [398/3000]: 100%|██████████████████████████████████████████████████████| 9/9 [00:00<00:00, 199.89it/s, loss=1.58]\n"
          ]
        },
        {
          "output_type": "stream",
          "name": "stdout",
          "text": [
            "Epoch [398/3000]: Train loss: 1.7761, Valid loss: 2.0466\n"
          ]
        },
        {
          "output_type": "stream",
          "name": "stderr",
          "text": [
            "Epoch [399/3000]: 100%|██████████████████████████████████████████████████████| 9/9 [00:00<00:00, 197.00it/s, loss=1.57]\n"
          ]
        },
        {
          "output_type": "stream",
          "name": "stdout",
          "text": [
            "Epoch [399/3000]: Train loss: 1.7722, Valid loss: 2.1351\n"
          ]
        },
        {
          "output_type": "stream",
          "name": "stderr",
          "text": [
            "Epoch [400/3000]: 100%|██████████████████████████████████████████████████████| 9/9 [00:00<00:00, 176.25it/s, loss=2.43]\n"
          ]
        },
        {
          "output_type": "stream",
          "name": "stdout",
          "text": [
            "Epoch [400/3000]: Train loss: 1.8252, Valid loss: 2.0602\n"
          ]
        },
        {
          "output_type": "stream",
          "name": "stderr",
          "text": [
            "Epoch [401/3000]: 100%|██████████████████████████████████████████████████████| 9/9 [00:00<00:00, 171.16it/s, loss=1.64]\n"
          ]
        },
        {
          "output_type": "stream",
          "name": "stdout",
          "text": [
            "Epoch [401/3000]: Train loss: 1.7758, Valid loss: 1.8697\n"
          ]
        },
        {
          "output_type": "stream",
          "name": "stderr",
          "text": [
            "Epoch [402/3000]: 100%|██████████████████████████████████████████████████████| 9/9 [00:00<00:00, 172.88it/s, loss=1.72]"
          ]
        },
        {
          "output_type": "stream",
          "name": "stdout",
          "text": [
            "Epoch [402/3000]: Train loss: 1.7833, Valid loss: 2.7636"
          ]
        },
        {
          "output_type": "stream",
          "name": "stderr",
          "text": [
            "\n"
          ]
        },
        {
          "output_type": "stream",
          "name": "stdout",
          "text": [
            "\n"
          ]
        },
        {
          "output_type": "stream",
          "name": "stderr",
          "text": [
            "Epoch [403/3000]: 100%|██████████████████████████████████████████████████████| 9/9 [00:00<00:00, 166.52it/s, loss=2.14]\n"
          ]
        },
        {
          "output_type": "stream",
          "name": "stdout",
          "text": [
            "Epoch [403/3000]: Train loss: 1.8226, Valid loss: 1.9340\n"
          ]
        },
        {
          "output_type": "stream",
          "name": "stderr",
          "text": [
            "Epoch [404/3000]: 100%|██████████████████████████████████████████████████████| 9/9 [00:00<00:00, 177.86it/s, loss=2.16]\n"
          ]
        },
        {
          "output_type": "stream",
          "name": "stdout",
          "text": [
            "Epoch [404/3000]: Train loss: 1.8021, Valid loss: 1.7431\n"
          ]
        },
        {
          "output_type": "stream",
          "name": "stderr",
          "text": [
            "Epoch [405/3000]: 100%|██████████████████████████████████████████████████████| 9/9 [00:00<00:00, 172.89it/s, loss=1.56]\n"
          ]
        },
        {
          "output_type": "stream",
          "name": "stdout",
          "text": [
            "Epoch [405/3000]: Train loss: 1.7620, Valid loss: 1.8097\n"
          ]
        },
        {
          "output_type": "stream",
          "name": "stderr",
          "text": [
            "Epoch [406/3000]: 100%|██████████████████████████████████████████████████████| 9/9 [00:00<00:00, 179.65it/s, loss=1.82]\n"
          ]
        },
        {
          "output_type": "stream",
          "name": "stdout",
          "text": [
            "Epoch [406/3000]: Train loss: 1.7878, Valid loss: 2.4126\n"
          ]
        },
        {
          "output_type": "stream",
          "name": "stderr",
          "text": [
            "Epoch [407/3000]: 100%|███████████████████████████████████████████████████████| 9/9 [00:00<00:00, 169.37it/s, loss=1.4]"
          ]
        },
        {
          "output_type": "stream",
          "name": "stdout",
          "text": [
            "Epoch [407/3000]: Train loss: 1.7487, Valid loss: 1.8367"
          ]
        },
        {
          "output_type": "stream",
          "name": "stderr",
          "text": [
            "\n"
          ]
        },
        {
          "output_type": "stream",
          "name": "stdout",
          "text": [
            "\n"
          ]
        },
        {
          "output_type": "stream",
          "name": "stderr",
          "text": [
            "Epoch [408/3000]: 100%|██████████████████████████████████████████████████████| 9/9 [00:00<00:00, 191.17it/s, loss=1.92]\n"
          ]
        },
        {
          "output_type": "stream",
          "name": "stdout",
          "text": [
            "Epoch [408/3000]: Train loss: 1.7796, Valid loss: 2.0417\n"
          ]
        },
        {
          "output_type": "stream",
          "name": "stderr",
          "text": [
            "Epoch [409/3000]: 100%|██████████████████████████████████████████████████████| 9/9 [00:00<00:00, 205.96it/s, loss=2.09]\n"
          ]
        },
        {
          "output_type": "stream",
          "name": "stdout",
          "text": [
            "Epoch [409/3000]: Train loss: 1.7902, Valid loss: 1.9788\n"
          ]
        },
        {
          "output_type": "stream",
          "name": "stderr",
          "text": [
            "Epoch [410/3000]: 100%|██████████████████████████████████████████████████████| 9/9 [00:00<00:00, 175.50it/s, loss=2.24]\n"
          ]
        },
        {
          "output_type": "stream",
          "name": "stdout",
          "text": [
            "Epoch [410/3000]: Train loss: 1.7985, Valid loss: 1.8052\n"
          ]
        },
        {
          "output_type": "stream",
          "name": "stderr",
          "text": [
            "Epoch [411/3000]: 100%|██████████████████████████████████████████████████████| 9/9 [00:00<00:00, 168.13it/s, loss=1.54]\n"
          ]
        },
        {
          "output_type": "stream",
          "name": "stdout",
          "text": [
            "Epoch [411/3000]: Train loss: 1.7571, Valid loss: 1.7201\n"
          ]
        },
        {
          "output_type": "stream",
          "name": "stderr",
          "text": [
            "Epoch [412/3000]: 100%|███████████████████████████████████████████████████████| 9/9 [00:00<00:00, 38.61it/s, loss=1.58]\n"
          ]
        },
        {
          "output_type": "stream",
          "name": "stdout",
          "text": [
            "Epoch [412/3000]: Train loss: 1.7603, Valid loss: 1.9086\n"
          ]
        },
        {
          "output_type": "stream",
          "name": "stderr",
          "text": [
            "Epoch [413/3000]: 100%|███████████████████████████████████████████████████████| 9/9 [00:00<00:00, 204.28it/s, loss=1.8]\n"
          ]
        },
        {
          "output_type": "stream",
          "name": "stdout",
          "text": [
            "Epoch [413/3000]: Train loss: 1.7918, Valid loss: 2.2188\n"
          ]
        },
        {
          "output_type": "stream",
          "name": "stderr",
          "text": [
            "Epoch [414/3000]: 100%|██████████████████████████████████████████████████████| 9/9 [00:00<00:00, 202.09it/s, loss=1.95]\n"
          ]
        },
        {
          "output_type": "stream",
          "name": "stdout",
          "text": [
            "Epoch [414/3000]: Train loss: 1.7763, Valid loss: 1.8866\n"
          ]
        },
        {
          "output_type": "stream",
          "name": "stderr",
          "text": [
            "Epoch [415/3000]: 100%|██████████████████████████████████████████████████████| 9/9 [00:00<00:00, 187.30it/s, loss=1.58]\n"
          ]
        },
        {
          "output_type": "stream",
          "name": "stdout",
          "text": [
            "Epoch [415/3000]: Train loss: 1.7526, Valid loss: 2.0788\n"
          ]
        },
        {
          "output_type": "stream",
          "name": "stderr",
          "text": [
            "Epoch [416/3000]: 100%|██████████████████████████████████████████████████████| 9/9 [00:00<00:00, 182.90it/s, loss=1.81]\n"
          ]
        },
        {
          "output_type": "stream",
          "name": "stdout",
          "text": [
            "Epoch [416/3000]: Train loss: 1.7614, Valid loss: 2.0576\n"
          ]
        },
        {
          "output_type": "stream",
          "name": "stderr",
          "text": [
            "Epoch [417/3000]: 100%|██████████████████████████████████████████████████████| 9/9 [00:00<00:00, 211.57it/s, loss=1.81]\n"
          ]
        },
        {
          "output_type": "stream",
          "name": "stdout",
          "text": [
            "Epoch [417/3000]: Train loss: 1.7815, Valid loss: 2.0350\n"
          ]
        },
        {
          "output_type": "stream",
          "name": "stderr",
          "text": [
            "Epoch [418/3000]: 100%|██████████████████████████████████████████████████████| 9/9 [00:00<00:00, 195.16it/s, loss=1.59]\n"
          ]
        },
        {
          "output_type": "stream",
          "name": "stdout",
          "text": [
            "Epoch [418/3000]: Train loss: 1.7570, Valid loss: 2.3382\n"
          ]
        },
        {
          "output_type": "stream",
          "name": "stderr",
          "text": [
            "Epoch [419/3000]: 100%|██████████████████████████████████████████████████████| 9/9 [00:00<00:00, 197.64it/s, loss=1.49]\n"
          ]
        },
        {
          "output_type": "stream",
          "name": "stdout",
          "text": [
            "Epoch [419/3000]: Train loss: 1.7649, Valid loss: 2.0365\n"
          ]
        },
        {
          "output_type": "stream",
          "name": "stderr",
          "text": [
            "Epoch [420/3000]: 100%|██████████████████████████████████████████████████████| 9/9 [00:00<00:00, 219.26it/s, loss=2.18]\n"
          ]
        },
        {
          "output_type": "stream",
          "name": "stdout",
          "text": [
            "Epoch [420/3000]: Train loss: 1.7898, Valid loss: 1.8570\n"
          ]
        },
        {
          "output_type": "stream",
          "name": "stderr",
          "text": [
            "Epoch [421/3000]: 100%|██████████████████████████████████████████████████████| 9/9 [00:00<00:00, 199.75it/s, loss=2.02]\n"
          ]
        },
        {
          "output_type": "stream",
          "name": "stdout",
          "text": [
            "Epoch [421/3000]: Train loss: 1.7734, Valid loss: 2.4995\n"
          ]
        },
        {
          "output_type": "stream",
          "name": "stderr",
          "text": [
            "Epoch [422/3000]: 100%|██████████████████████████████████████████████████████| 9/9 [00:00<00:00, 191.31it/s, loss=1.76]\n"
          ]
        },
        {
          "output_type": "stream",
          "name": "stdout",
          "text": [
            "Epoch [422/3000]: Train loss: 1.8048, Valid loss: 1.7750\n"
          ]
        },
        {
          "output_type": "stream",
          "name": "stderr",
          "text": [
            "Epoch [423/3000]: 100%|██████████████████████████████████████████████████████| 9/9 [00:00<00:00, 195.50it/s, loss=1.62]\n"
          ]
        },
        {
          "output_type": "stream",
          "name": "stdout",
          "text": [
            "Epoch [423/3000]: Train loss: 1.7499, Valid loss: 2.0628\n"
          ]
        },
        {
          "output_type": "stream",
          "name": "stderr",
          "text": [
            "Epoch [424/3000]: 100%|██████████████████████████████████████████████████████| 9/9 [00:00<00:00, 187.26it/s, loss=1.72]\n"
          ]
        },
        {
          "output_type": "stream",
          "name": "stdout",
          "text": [
            "Epoch [424/3000]: Train loss: 1.7569, Valid loss: 2.0516\n"
          ]
        },
        {
          "output_type": "stream",
          "name": "stderr",
          "text": [
            "Epoch [425/3000]: 100%|██████████████████████████████████████████████████████| 9/9 [00:00<00:00, 189.29it/s, loss=1.88]\n"
          ]
        },
        {
          "output_type": "stream",
          "name": "stdout",
          "text": [
            "Epoch [425/3000]: Train loss: 1.7591, Valid loss: 1.8462\n"
          ]
        },
        {
          "output_type": "stream",
          "name": "stderr",
          "text": [
            "Epoch [426/3000]: 100%|██████████████████████████████████████████████████████| 9/9 [00:00<00:00, 191.05it/s, loss=1.98]\n"
          ]
        },
        {
          "output_type": "stream",
          "name": "stdout",
          "text": [
            "Epoch [426/3000]: Train loss: 1.7705, Valid loss: 1.8178\n"
          ]
        },
        {
          "output_type": "stream",
          "name": "stderr",
          "text": [
            "Epoch [427/3000]: 100%|██████████████████████████████████████████████████████| 9/9 [00:00<00:00, 191.74it/s, loss=1.73]\n"
          ]
        },
        {
          "output_type": "stream",
          "name": "stdout",
          "text": [
            "Epoch [427/3000]: Train loss: 1.7506, Valid loss: 2.3729\n"
          ]
        },
        {
          "output_type": "stream",
          "name": "stderr",
          "text": [
            "Epoch [428/3000]: 100%|██████████████████████████████████████████████████████| 9/9 [00:00<00:00, 187.07it/s, loss=1.81]\n"
          ]
        },
        {
          "output_type": "stream",
          "name": "stdout",
          "text": [
            "Epoch [428/3000]: Train loss: 1.7704, Valid loss: 1.7538\n"
          ]
        },
        {
          "output_type": "stream",
          "name": "stderr",
          "text": [
            "Epoch [429/3000]: 100%|██████████████████████████████████████████████████████| 9/9 [00:00<00:00, 199.57it/s, loss=2.24]\n"
          ]
        },
        {
          "output_type": "stream",
          "name": "stdout",
          "text": [
            "Epoch [429/3000]: Train loss: 1.7843, Valid loss: 2.0481\n"
          ]
        },
        {
          "output_type": "stream",
          "name": "stderr",
          "text": [
            "Epoch [430/3000]: 100%|██████████████████████████████████████████████████████| 9/9 [00:00<00:00, 178.11it/s, loss=2.07]\n"
          ]
        },
        {
          "output_type": "stream",
          "name": "stdout",
          "text": [
            "Epoch [430/3000]: Train loss: 1.7917, Valid loss: 1.8984\n"
          ]
        },
        {
          "output_type": "stream",
          "name": "stderr",
          "text": [
            "Epoch [431/3000]: 100%|██████████████████████████████████████████████████████| 9/9 [00:00<00:00, 176.28it/s, loss=1.76]\n"
          ]
        },
        {
          "output_type": "stream",
          "name": "stdout",
          "text": [
            "Epoch [431/3000]: Train loss: 1.7643, Valid loss: 1.7362\n"
          ]
        },
        {
          "output_type": "stream",
          "name": "stderr",
          "text": [
            "Epoch [432/3000]: 100%|██████████████████████████████████████████████████████| 9/9 [00:00<00:00, 185.42it/s, loss=2.21]\n"
          ]
        },
        {
          "output_type": "stream",
          "name": "stdout",
          "text": [
            "Epoch [432/3000]: Train loss: 1.7964, Valid loss: 1.7092\n"
          ]
        },
        {
          "output_type": "stream",
          "name": "stderr",
          "text": [
            "Epoch [433/3000]: 100%|██████████████████████████████████████████████████████| 9/9 [00:00<00:00, 177.52it/s, loss=1.51]\n"
          ]
        },
        {
          "output_type": "stream",
          "name": "stdout",
          "text": [
            "Epoch [433/3000]: Train loss: 1.7438, Valid loss: 2.0422\n"
          ]
        },
        {
          "output_type": "stream",
          "name": "stderr",
          "text": [
            "Epoch [434/3000]: 100%|██████████████████████████████████████████████████████| 9/9 [00:00<00:00, 176.20it/s, loss=1.76]\n"
          ]
        },
        {
          "output_type": "stream",
          "name": "stdout",
          "text": [
            "Epoch [434/3000]: Train loss: 1.7424, Valid loss: 1.7419\n"
          ]
        },
        {
          "output_type": "stream",
          "name": "stderr",
          "text": [
            "Epoch [435/3000]: 100%|██████████████████████████████████████████████████████| 9/9 [00:00<00:00, 176.23it/s, loss=1.72]\n"
          ]
        },
        {
          "output_type": "stream",
          "name": "stdout",
          "text": [
            "Epoch [435/3000]: Train loss: 1.7445, Valid loss: 2.1031\n"
          ]
        },
        {
          "output_type": "stream",
          "name": "stderr",
          "text": [
            "Epoch [436/3000]: 100%|██████████████████████████████████████████████████████| 9/9 [00:00<00:00, 198.41it/s, loss=1.71]\n"
          ]
        },
        {
          "output_type": "stream",
          "name": "stdout",
          "text": [
            "Epoch [436/3000]: Train loss: 1.7336, Valid loss: 2.3164\n"
          ]
        },
        {
          "output_type": "stream",
          "name": "stderr",
          "text": [
            "Epoch [437/3000]: 100%|██████████████████████████████████████████████████████| 9/9 [00:00<00:00, 195.52it/s, loss=2.32]\n"
          ]
        },
        {
          "output_type": "stream",
          "name": "stdout",
          "text": [
            "Epoch [437/3000]: Train loss: 1.8046, Valid loss: 2.1927\n"
          ]
        },
        {
          "output_type": "stream",
          "name": "stderr",
          "text": [
            "Epoch [438/3000]: 100%|██████████████████████████████████████████████████████| 9/9 [00:00<00:00, 187.31it/s, loss=2.42]\n"
          ]
        },
        {
          "output_type": "stream",
          "name": "stdout",
          "text": [
            "Epoch [438/3000]: Train loss: 1.7925, Valid loss: 1.8598\n"
          ]
        },
        {
          "output_type": "stream",
          "name": "stderr",
          "text": [
            "Epoch [439/3000]: 100%|██████████████████████████████████████████████████████| 9/9 [00:00<00:00, 193.36it/s, loss=2.03]\n"
          ]
        },
        {
          "output_type": "stream",
          "name": "stdout",
          "text": [
            "Epoch [439/3000]: Train loss: 1.7543, Valid loss: 2.0886\n"
          ]
        },
        {
          "output_type": "stream",
          "name": "stderr",
          "text": [
            "Epoch [440/3000]: 100%|██████████████████████████████████████████████████████| 9/9 [00:00<00:00, 204.27it/s, loss=2.28]\n"
          ]
        },
        {
          "output_type": "stream",
          "name": "stdout",
          "text": [
            "Epoch [440/3000]: Train loss: 1.7766, Valid loss: 2.0936\n"
          ]
        },
        {
          "output_type": "stream",
          "name": "stderr",
          "text": [
            "Epoch [441/3000]: 100%|██████████████████████████████████████████████████████| 9/9 [00:00<00:00, 191.04it/s, loss=1.74]\n"
          ]
        },
        {
          "output_type": "stream",
          "name": "stdout",
          "text": [
            "Epoch [441/3000]: Train loss: 1.7322, Valid loss: 2.2424\n"
          ]
        },
        {
          "output_type": "stream",
          "name": "stderr",
          "text": [
            "Epoch [442/3000]: 100%|██████████████████████████████████████████████████████| 9/9 [00:00<00:00, 189.17it/s, loss=1.52]\n"
          ]
        },
        {
          "output_type": "stream",
          "name": "stdout",
          "text": [
            "Epoch [442/3000]: Train loss: 1.7312, Valid loss: 1.7753\n"
          ]
        },
        {
          "output_type": "stream",
          "name": "stderr",
          "text": [
            "Epoch [443/3000]: 100%|██████████████████████████████████████████████████████| 9/9 [00:00<00:00, 194.90it/s, loss=2.15]\n"
          ]
        },
        {
          "output_type": "stream",
          "name": "stdout",
          "text": [
            "Epoch [443/3000]: Train loss: 1.7702, Valid loss: 1.8464\n"
          ]
        },
        {
          "output_type": "stream",
          "name": "stderr",
          "text": [
            "Epoch [444/3000]: 100%|██████████████████████████████████████████████████████| 9/9 [00:00<00:00, 189.29it/s, loss=1.79]\n"
          ]
        },
        {
          "output_type": "stream",
          "name": "stdout",
          "text": [
            "Epoch [444/3000]: Train loss: 1.7480, Valid loss: 2.1398\n"
          ]
        },
        {
          "output_type": "stream",
          "name": "stderr",
          "text": [
            "Epoch [445/3000]: 100%|██████████████████████████████████████████████████████| 9/9 [00:00<00:00, 189.17it/s, loss=1.95]\n"
          ]
        },
        {
          "output_type": "stream",
          "name": "stdout",
          "text": [
            "Epoch [445/3000]: Train loss: 1.7464, Valid loss: 2.0403\n"
          ]
        },
        {
          "output_type": "stream",
          "name": "stderr",
          "text": [
            "Epoch [446/3000]: 100%|██████████████████████████████████████████████████████| 9/9 [00:00<00:00, 197.12it/s, loss=1.09]\n"
          ]
        },
        {
          "output_type": "stream",
          "name": "stdout",
          "text": [
            "Epoch [446/3000]: Train loss: 1.7079, Valid loss: 1.7815\n"
          ]
        },
        {
          "output_type": "stream",
          "name": "stderr",
          "text": [
            "Epoch [447/3000]: 100%|██████████████████████████████████████████████████████| 9/9 [00:00<00:00, 190.76it/s, loss=1.71]\n"
          ]
        },
        {
          "output_type": "stream",
          "name": "stdout",
          "text": [
            "Epoch [447/3000]: Train loss: 1.7251, Valid loss: 1.7928\n"
          ]
        },
        {
          "output_type": "stream",
          "name": "stderr",
          "text": [
            "Epoch [448/3000]: 100%|██████████████████████████████████████████████████████| 9/9 [00:00<00:00, 195.36it/s, loss=1.55]\n"
          ]
        },
        {
          "output_type": "stream",
          "name": "stdout",
          "text": [
            "Epoch [448/3000]: Train loss: 1.7142, Valid loss: 1.9184\n"
          ]
        },
        {
          "output_type": "stream",
          "name": "stderr",
          "text": [
            "Epoch [449/3000]: 100%|██████████████████████████████████████████████████████| 9/9 [00:00<00:00, 197.22it/s, loss=2.35]\n"
          ]
        },
        {
          "output_type": "stream",
          "name": "stdout",
          "text": [
            "Epoch [449/3000]: Train loss: 1.7628, Valid loss: 1.8559\n"
          ]
        },
        {
          "output_type": "stream",
          "name": "stderr",
          "text": [
            "Epoch [450/3000]: 100%|██████████████████████████████████████████████████████| 9/9 [00:00<00:00, 211.49it/s, loss=2.06]\n"
          ]
        },
        {
          "output_type": "stream",
          "name": "stdout",
          "text": [
            "Epoch [450/3000]: Train loss: 1.7408, Valid loss: 1.9975\n"
          ]
        },
        {
          "output_type": "stream",
          "name": "stderr",
          "text": [
            "Epoch [451/3000]: 100%|██████████████████████████████████████████████████████| 9/9 [00:00<00:00, 193.33it/s, loss=1.45]\n"
          ]
        },
        {
          "output_type": "stream",
          "name": "stdout",
          "text": [
            "Epoch [451/3000]: Train loss: 1.7387, Valid loss: 1.9155\n"
          ]
        },
        {
          "output_type": "stream",
          "name": "stderr",
          "text": [
            "Epoch [452/3000]: 100%|██████████████████████████████████████████████████████| 9/9 [00:00<00:00, 196.44it/s, loss=2.21]\n"
          ]
        },
        {
          "output_type": "stream",
          "name": "stdout",
          "text": [
            "Epoch [452/3000]: Train loss: 1.7488, Valid loss: 2.2504\n"
          ]
        },
        {
          "output_type": "stream",
          "name": "stderr",
          "text": [
            "Epoch [453/3000]: 100%|██████████████████████████████████████████████████████| 9/9 [00:00<00:00, 191.37it/s, loss=1.67]\n"
          ]
        },
        {
          "output_type": "stream",
          "name": "stdout",
          "text": [
            "Epoch [453/3000]: Train loss: 1.7238, Valid loss: 1.8157\n"
          ]
        },
        {
          "output_type": "stream",
          "name": "stderr",
          "text": [
            "Epoch [454/3000]: 100%|██████████████████████████████████████████████████████| 9/9 [00:00<00:00, 189.28it/s, loss=1.97]\n"
          ]
        },
        {
          "output_type": "stream",
          "name": "stdout",
          "text": [
            "Epoch [454/3000]: Train loss: 1.7398, Valid loss: 1.9067\n"
          ]
        },
        {
          "output_type": "stream",
          "name": "stderr",
          "text": [
            "Epoch [455/3000]: 100%|██████████████████████████████████████████████████████| 9/9 [00:00<00:00, 193.92it/s, loss=1.53]\n"
          ]
        },
        {
          "output_type": "stream",
          "name": "stdout",
          "text": [
            "Epoch [455/3000]: Train loss: 1.7159, Valid loss: 1.9876\n"
          ]
        },
        {
          "output_type": "stream",
          "name": "stderr",
          "text": [
            "Epoch [456/3000]: 100%|██████████████████████████████████████████████████████| 9/9 [00:00<00:00, 181.49it/s, loss=1.67]\n"
          ]
        },
        {
          "output_type": "stream",
          "name": "stdout",
          "text": [
            "Epoch [456/3000]: Train loss: 1.7316, Valid loss: 1.6275\n",
            "Saving model with loss 1.628...\n"
          ]
        },
        {
          "output_type": "stream",
          "name": "stderr",
          "text": [
            "Epoch [457/3000]: 100%|██████████████████████████████████████████████████████| 9/9 [00:00<00:00, 183.47it/s, loss=2.02]\n"
          ]
        },
        {
          "output_type": "stream",
          "name": "stdout",
          "text": [
            "Epoch [457/3000]: Train loss: 1.7436, Valid loss: 2.3404\n"
          ]
        },
        {
          "output_type": "stream",
          "name": "stderr",
          "text": [
            "Epoch [458/3000]: 100%|██████████████████████████████████████████████████████| 9/9 [00:00<00:00, 173.61it/s, loss=1.91]\n"
          ]
        },
        {
          "output_type": "stream",
          "name": "stdout",
          "text": [
            "Epoch [458/3000]: Train loss: 1.7323, Valid loss: 1.8967\n"
          ]
        },
        {
          "output_type": "stream",
          "name": "stderr",
          "text": [
            "Epoch [459/3000]: 100%|███████████████████████████████████████████████████████| 9/9 [00:00<00:00, 183.46it/s, loss=1.7]\n"
          ]
        },
        {
          "output_type": "stream",
          "name": "stdout",
          "text": [
            "Epoch [459/3000]: Train loss: 1.7151, Valid loss: 1.9361\n"
          ]
        },
        {
          "output_type": "stream",
          "name": "stderr",
          "text": [
            "Epoch [460/3000]: 100%|██████████████████████████████████████████████████████| 9/9 [00:00<00:00, 209.15it/s, loss=2.28]\n"
          ]
        },
        {
          "output_type": "stream",
          "name": "stdout",
          "text": [
            "Epoch [460/3000]: Train loss: 1.7498, Valid loss: 2.2962\n"
          ]
        },
        {
          "output_type": "stream",
          "name": "stderr",
          "text": [
            "Epoch [461/3000]: 100%|██████████████████████████████████████████████████████| 9/9 [00:00<00:00, 196.63it/s, loss=1.63]\n"
          ]
        },
        {
          "output_type": "stream",
          "name": "stdout",
          "text": [
            "Epoch [461/3000]: Train loss: 1.7159, Valid loss: 1.8624\n"
          ]
        },
        {
          "output_type": "stream",
          "name": "stderr",
          "text": [
            "Epoch [462/3000]: 100%|██████████████████████████████████████████████████████| 9/9 [00:00<00:00, 187.30it/s, loss=1.69]\n"
          ]
        },
        {
          "output_type": "stream",
          "name": "stdout",
          "text": [
            "Epoch [462/3000]: Train loss: 1.7239, Valid loss: 2.0714\n"
          ]
        },
        {
          "output_type": "stream",
          "name": "stderr",
          "text": [
            "Epoch [463/3000]: 100%|██████████████████████████████████████████████████████| 9/9 [00:00<00:00, 191.86it/s, loss=1.38]\n"
          ]
        },
        {
          "output_type": "stream",
          "name": "stdout",
          "text": [
            "Epoch [463/3000]: Train loss: 1.7235, Valid loss: 1.7978\n"
          ]
        },
        {
          "output_type": "stream",
          "name": "stderr",
          "text": [
            "Epoch [464/3000]: 100%|███████████████████████████████████████████████████████| 9/9 [00:00<00:00, 187.20it/s, loss=1.4]\n"
          ]
        },
        {
          "output_type": "stream",
          "name": "stdout",
          "text": [
            "Epoch [464/3000]: Train loss: 1.7113, Valid loss: 1.9336\n"
          ]
        },
        {
          "output_type": "stream",
          "name": "stderr",
          "text": [
            "Epoch [465/3000]: 100%|██████████████████████████████████████████████████████| 9/9 [00:00<00:00, 206.32it/s, loss=1.86]\n"
          ]
        },
        {
          "output_type": "stream",
          "name": "stdout",
          "text": [
            "Epoch [465/3000]: Train loss: 1.7179, Valid loss: 1.9688\n"
          ]
        },
        {
          "output_type": "stream",
          "name": "stderr",
          "text": [
            "Epoch [466/3000]: 100%|██████████████████████████████████████████████████████| 9/9 [00:00<00:00, 179.82it/s, loss=1.28]\n"
          ]
        },
        {
          "output_type": "stream",
          "name": "stdout",
          "text": [
            "Epoch [466/3000]: Train loss: 1.6757, Valid loss: 2.4778\n"
          ]
        },
        {
          "output_type": "stream",
          "name": "stderr",
          "text": [
            "Epoch [467/3000]: 100%|███████████████████████████████████████████████████████| 9/9 [00:00<00:00, 88.98it/s, loss=2.97]\n"
          ]
        },
        {
          "output_type": "stream",
          "name": "stdout",
          "text": [
            "Epoch [467/3000]: Train loss: 1.8074, Valid loss: 2.0128\n"
          ]
        },
        {
          "output_type": "stream",
          "name": "stderr",
          "text": [
            "Epoch [468/3000]: 100%|██████████████████████████████████████████████████████| 9/9 [00:00<00:00, 191.25it/s, loss=2.06]\n"
          ]
        },
        {
          "output_type": "stream",
          "name": "stdout",
          "text": [
            "Epoch [468/3000]: Train loss: 1.7263, Valid loss: 1.8787\n"
          ]
        },
        {
          "output_type": "stream",
          "name": "stderr",
          "text": [
            "Epoch [469/3000]: 100%|███████████████████████████████████████████████████████| 9/9 [00:00<00:00, 189.63it/s, loss=1.4]\n"
          ]
        },
        {
          "output_type": "stream",
          "name": "stdout",
          "text": [
            "Epoch [469/3000]: Train loss: 1.6908, Valid loss: 1.9859\n"
          ]
        },
        {
          "output_type": "stream",
          "name": "stderr",
          "text": [
            "Epoch [470/3000]: 100%|██████████████████████████████████████████████████████| 9/9 [00:00<00:00, 204.47it/s, loss=1.71]\n"
          ]
        },
        {
          "output_type": "stream",
          "name": "stdout",
          "text": [
            "Epoch [470/3000]: Train loss: 1.7103, Valid loss: 2.1883\n"
          ]
        },
        {
          "output_type": "stream",
          "name": "stderr",
          "text": [
            "Epoch [471/3000]: 100%|██████████████████████████████████████████████████████| 9/9 [00:00<00:00, 208.92it/s, loss=1.68]\n"
          ]
        },
        {
          "output_type": "stream",
          "name": "stdout",
          "text": [
            "Epoch [471/3000]: Train loss: 1.7101, Valid loss: 1.8940\n"
          ]
        },
        {
          "output_type": "stream",
          "name": "stderr",
          "text": [
            "Epoch [472/3000]: 100%|██████████████████████████████████████████████████████| 9/9 [00:00<00:00, 166.49it/s, loss=1.69]\n"
          ]
        },
        {
          "output_type": "stream",
          "name": "stdout",
          "text": [
            "Epoch [472/3000]: Train loss: 1.7166, Valid loss: 1.5652\n",
            "Saving model with loss 1.565...\n"
          ]
        },
        {
          "output_type": "stream",
          "name": "stderr",
          "text": [
            "Epoch [473/3000]: 100%|██████████████████████████████████████████████████████| 9/9 [00:00<00:00, 169.62it/s, loss=1.74]\n"
          ]
        },
        {
          "output_type": "stream",
          "name": "stdout",
          "text": [
            "Epoch [473/3000]: Train loss: 1.7059, Valid loss: 1.8621\n"
          ]
        },
        {
          "output_type": "stream",
          "name": "stderr",
          "text": [
            "Epoch [474/3000]: 100%|██████████████████████████████████████████████████████| 9/9 [00:00<00:00, 195.41it/s, loss=1.37]"
          ]
        },
        {
          "output_type": "stream",
          "name": "stdout",
          "text": [
            "Epoch [474/3000]: Train loss: 1.6857, Valid loss: 2.2562"
          ]
        },
        {
          "output_type": "stream",
          "name": "stderr",
          "text": [
            "\n"
          ]
        },
        {
          "output_type": "stream",
          "name": "stdout",
          "text": [
            "\n"
          ]
        },
        {
          "output_type": "stream",
          "name": "stderr",
          "text": [
            "Epoch [475/3000]: 100%|██████████████████████████████████████████████████████| 9/9 [00:00<00:00, 186.76it/s, loss=1.89]\n"
          ]
        },
        {
          "output_type": "stream",
          "name": "stdout",
          "text": [
            "Epoch [475/3000]: Train loss: 1.7129, Valid loss: 2.5682\n"
          ]
        },
        {
          "output_type": "stream",
          "name": "stderr",
          "text": [
            "Epoch [476/3000]: 100%|██████████████████████████████████████████████████████| 9/9 [00:00<00:00, 185.27it/s, loss=1.44]\n"
          ]
        },
        {
          "output_type": "stream",
          "name": "stdout",
          "text": [
            "Epoch [476/3000]: Train loss: 1.6944, Valid loss: 1.8940\n"
          ]
        },
        {
          "output_type": "stream",
          "name": "stderr",
          "text": [
            "Epoch [477/3000]: 100%|██████████████████████████████████████████████████████| 9/9 [00:00<00:00, 178.04it/s, loss=1.78]\n"
          ]
        },
        {
          "output_type": "stream",
          "name": "stdout",
          "text": [
            "Epoch [477/3000]: Train loss: 1.7100, Valid loss: 2.0461\n"
          ]
        },
        {
          "output_type": "stream",
          "name": "stderr",
          "text": [
            "Epoch [478/3000]: 100%|██████████████████████████████████████████████████████| 9/9 [00:00<00:00, 172.91it/s, loss=1.36]\n"
          ]
        },
        {
          "output_type": "stream",
          "name": "stdout",
          "text": [
            "Epoch [478/3000]: Train loss: 1.6860, Valid loss: 2.0572\n"
          ]
        },
        {
          "output_type": "stream",
          "name": "stderr",
          "text": [
            "Epoch [479/3000]: 100%|██████████████████████████████████████████████████████| 9/9 [00:00<00:00, 183.53it/s, loss=2.16]\n"
          ]
        },
        {
          "output_type": "stream",
          "name": "stdout",
          "text": [
            "Epoch [479/3000]: Train loss: 1.7264, Valid loss: 2.3169\n"
          ]
        },
        {
          "output_type": "stream",
          "name": "stderr",
          "text": [
            "Epoch [480/3000]: 100%|███████████████████████████████████████████████████████| 9/9 [00:00<00:00, 179.62it/s, loss=1.6]\n"
          ]
        },
        {
          "output_type": "stream",
          "name": "stdout",
          "text": [
            "Epoch [480/3000]: Train loss: 1.6888, Valid loss: 2.1266\n"
          ]
        },
        {
          "output_type": "stream",
          "name": "stderr",
          "text": [
            "Epoch [481/3000]: 100%|██████████████████████████████████████████████████████| 9/9 [00:00<00:00, 187.04it/s, loss=1.94]\n"
          ]
        },
        {
          "output_type": "stream",
          "name": "stdout",
          "text": [
            "Epoch [481/3000]: Train loss: 1.7127, Valid loss: 1.7707\n"
          ]
        },
        {
          "output_type": "stream",
          "name": "stderr",
          "text": [
            "Epoch [482/3000]: 100%|██████████████████████████████████████████████████████| 9/9 [00:00<00:00, 199.73it/s, loss=1.76]\n"
          ]
        },
        {
          "output_type": "stream",
          "name": "stdout",
          "text": [
            "Epoch [482/3000]: Train loss: 1.7058, Valid loss: 2.0030\n"
          ]
        },
        {
          "output_type": "stream",
          "name": "stderr",
          "text": [
            "Epoch [483/3000]: 100%|██████████████████████████████████████████████████████| 9/9 [00:00<00:00, 180.05it/s, loss=1.62]\n"
          ]
        },
        {
          "output_type": "stream",
          "name": "stdout",
          "text": [
            "Epoch [483/3000]: Train loss: 1.6844, Valid loss: 2.6160\n"
          ]
        },
        {
          "output_type": "stream",
          "name": "stderr",
          "text": [
            "Epoch [484/3000]: 100%|██████████████████████████████████████████████████████| 9/9 [00:00<00:00, 185.39it/s, loss=1.96]\n"
          ]
        },
        {
          "output_type": "stream",
          "name": "stdout",
          "text": [
            "Epoch [484/3000]: Train loss: 1.7179, Valid loss: 1.8080\n"
          ]
        },
        {
          "output_type": "stream",
          "name": "stderr",
          "text": [
            "Epoch [485/3000]: 100%|██████████████████████████████████████████████████████| 9/9 [00:00<00:00, 164.90it/s, loss=1.53]\n"
          ]
        },
        {
          "output_type": "stream",
          "name": "stdout",
          "text": [
            "Epoch [485/3000]: Train loss: 1.6794, Valid loss: 2.3061\n"
          ]
        },
        {
          "output_type": "stream",
          "name": "stderr",
          "text": [
            "Epoch [486/3000]: 100%|██████████████████████████████████████████████████████| 9/9 [00:00<00:00, 185.27it/s, loss=1.86]\n"
          ]
        },
        {
          "output_type": "stream",
          "name": "stdout",
          "text": [
            "Epoch [486/3000]: Train loss: 1.7091, Valid loss: 1.9618\n"
          ]
        },
        {
          "output_type": "stream",
          "name": "stderr",
          "text": [
            "Epoch [487/3000]: 100%|██████████████████████████████████████████████████████| 9/9 [00:00<00:00, 193.37it/s, loss=2.15]\n"
          ]
        },
        {
          "output_type": "stream",
          "name": "stdout",
          "text": [
            "Epoch [487/3000]: Train loss: 1.7285, Valid loss: 1.7143\n"
          ]
        },
        {
          "output_type": "stream",
          "name": "stderr",
          "text": [
            "Epoch [488/3000]: 100%|██████████████████████████████████████████████████████| 9/9 [00:00<00:00, 201.34it/s, loss=1.63]\n"
          ]
        },
        {
          "output_type": "stream",
          "name": "stdout",
          "text": [
            "Epoch [488/3000]: Train loss: 1.6845, Valid loss: 2.1011\n"
          ]
        },
        {
          "output_type": "stream",
          "name": "stderr",
          "text": [
            "Epoch [489/3000]: 100%|██████████████████████████████████████████████████████| 9/9 [00:00<00:00, 189.32it/s, loss=1.71]\n"
          ]
        },
        {
          "output_type": "stream",
          "name": "stdout",
          "text": [
            "Epoch [489/3000]: Train loss: 1.6943, Valid loss: 1.9775\n"
          ]
        },
        {
          "output_type": "stream",
          "name": "stderr",
          "text": [
            "Epoch [490/3000]: 100%|██████████████████████████████████████████████████████| 9/9 [00:00<00:00, 207.75it/s, loss=1.99]\n"
          ]
        },
        {
          "output_type": "stream",
          "name": "stdout",
          "text": [
            "Epoch [490/3000]: Train loss: 1.7253, Valid loss: 1.6845\n"
          ]
        },
        {
          "output_type": "stream",
          "name": "stderr",
          "text": [
            "Epoch [491/3000]: 100%|██████████████████████████████████████████████████████| 9/9 [00:00<00:00, 197.28it/s, loss=1.53]\n"
          ]
        },
        {
          "output_type": "stream",
          "name": "stdout",
          "text": [
            "Epoch [491/3000]: Train loss: 1.6888, Valid loss: 1.7611\n"
          ]
        },
        {
          "output_type": "stream",
          "name": "stderr",
          "text": [
            "Epoch [492/3000]: 100%|██████████████████████████████████████████████████████| 9/9 [00:00<00:00, 197.50it/s, loss=1.91]\n"
          ]
        },
        {
          "output_type": "stream",
          "name": "stdout",
          "text": [
            "Epoch [492/3000]: Train loss: 1.7076, Valid loss: 1.6422\n"
          ]
        },
        {
          "output_type": "stream",
          "name": "stderr",
          "text": [
            "Epoch [493/3000]: 100%|██████████████████████████████████████████████████████| 9/9 [00:00<00:00, 197.92it/s, loss=1.95]\n"
          ]
        },
        {
          "output_type": "stream",
          "name": "stdout",
          "text": [
            "Epoch [493/3000]: Train loss: 1.7048, Valid loss: 1.6514\n"
          ]
        },
        {
          "output_type": "stream",
          "name": "stderr",
          "text": [
            "Epoch [494/3000]: 100%|██████████████████████████████████████████████████████| 9/9 [00:00<00:00, 195.12it/s, loss=1.41]\n"
          ]
        },
        {
          "output_type": "stream",
          "name": "stdout",
          "text": [
            "Epoch [494/3000]: Train loss: 1.6700, Valid loss: 1.9602\n"
          ]
        },
        {
          "output_type": "stream",
          "name": "stderr",
          "text": [
            "Epoch [495/3000]: 100%|██████████████████████████████████████████████████████| 9/9 [00:00<00:00, 202.10it/s, loss=1.66]\n"
          ]
        },
        {
          "output_type": "stream",
          "name": "stdout",
          "text": [
            "Epoch [495/3000]: Train loss: 1.6782, Valid loss: 2.1910\n"
          ]
        },
        {
          "output_type": "stream",
          "name": "stderr",
          "text": [
            "Epoch [496/3000]: 100%|██████████████████████████████████████████████████████| 9/9 [00:00<00:00, 204.19it/s, loss=1.54]\n"
          ]
        },
        {
          "output_type": "stream",
          "name": "stdout",
          "text": [
            "Epoch [496/3000]: Train loss: 1.6761, Valid loss: 1.9225\n"
          ]
        },
        {
          "output_type": "stream",
          "name": "stderr",
          "text": [
            "Epoch [497/3000]: 100%|██████████████████████████████████████████████████████| 9/9 [00:00<00:00, 193.44it/s, loss=2.74]\n"
          ]
        },
        {
          "output_type": "stream",
          "name": "stdout",
          "text": [
            "Epoch [497/3000]: Train loss: 1.7488, Valid loss: 1.7258\n"
          ]
        },
        {
          "output_type": "stream",
          "name": "stderr",
          "text": [
            "Epoch [498/3000]: 100%|██████████████████████████████████████████████████████| 9/9 [00:00<00:00, 187.88it/s, loss=1.91]\n"
          ]
        },
        {
          "output_type": "stream",
          "name": "stdout",
          "text": [
            "Epoch [498/3000]: Train loss: 1.6961, Valid loss: 1.9812\n"
          ]
        },
        {
          "output_type": "stream",
          "name": "stderr",
          "text": [
            "Epoch [499/3000]: 100%|██████████████████████████████████████████████████████| 9/9 [00:00<00:00, 192.56it/s, loss=2.29]\n"
          ]
        },
        {
          "output_type": "stream",
          "name": "stdout",
          "text": [
            "Epoch [499/3000]: Train loss: 1.7190, Valid loss: 1.9945\n"
          ]
        },
        {
          "output_type": "stream",
          "name": "stderr",
          "text": [
            "Epoch [500/3000]: 100%|██████████████████████████████████████████████████████| 9/9 [00:00<00:00, 176.29it/s, loss=1.51]\n"
          ]
        },
        {
          "output_type": "stream",
          "name": "stdout",
          "text": [
            "Epoch [500/3000]: Train loss: 1.6683, Valid loss: 2.1562\n"
          ]
        },
        {
          "output_type": "stream",
          "name": "stderr",
          "text": [
            "Epoch [501/3000]: 100%|██████████████████████████████████████████████████████| 9/9 [00:00<00:00, 177.96it/s, loss=1.23]\n"
          ]
        },
        {
          "output_type": "stream",
          "name": "stdout",
          "text": [
            "Epoch [501/3000]: Train loss: 1.6653, Valid loss: 1.7362\n"
          ]
        },
        {
          "output_type": "stream",
          "name": "stderr",
          "text": [
            "Epoch [502/3000]: 100%|██████████████████████████████████████████████████████| 9/9 [00:00<00:00, 179.79it/s, loss=1.71]\n"
          ]
        },
        {
          "output_type": "stream",
          "name": "stdout",
          "text": [
            "Epoch [502/3000]: Train loss: 1.6770, Valid loss: 1.9550\n"
          ]
        },
        {
          "output_type": "stream",
          "name": "stderr",
          "text": [
            "Epoch [503/3000]: 100%|██████████████████████████████████████████████████████| 9/9 [00:00<00:00, 183.96it/s, loss=1.41]\n"
          ]
        },
        {
          "output_type": "stream",
          "name": "stdout",
          "text": [
            "Epoch [503/3000]: Train loss: 1.6791, Valid loss: 1.7590\n"
          ]
        },
        {
          "output_type": "stream",
          "name": "stderr",
          "text": [
            "Epoch [504/3000]: 100%|██████████████████████████████████████████████████████| 9/9 [00:00<00:00, 179.81it/s, loss=1.81]\n"
          ]
        },
        {
          "output_type": "stream",
          "name": "stdout",
          "text": [
            "Epoch [504/3000]: Train loss: 1.6991, Valid loss: 2.0006\n"
          ]
        },
        {
          "output_type": "stream",
          "name": "stderr",
          "text": [
            "Epoch [505/3000]: 100%|██████████████████████████████████████████████████████| 9/9 [00:00<00:00, 195.51it/s, loss=1.86]\n"
          ]
        },
        {
          "output_type": "stream",
          "name": "stdout",
          "text": [
            "Epoch [505/3000]: Train loss: 1.6820, Valid loss: 2.1809\n"
          ]
        },
        {
          "output_type": "stream",
          "name": "stderr",
          "text": [
            "Epoch [506/3000]: 100%|██████████████████████████████████████████████████████| 9/9 [00:00<00:00, 209.02it/s, loss=1.73]\n"
          ]
        },
        {
          "output_type": "stream",
          "name": "stdout",
          "text": [
            "Epoch [506/3000]: Train loss: 1.7095, Valid loss: 1.8266\n"
          ]
        },
        {
          "output_type": "stream",
          "name": "stderr",
          "text": [
            "Epoch [507/3000]: 100%|██████████████████████████████████████████████████████| 9/9 [00:00<00:00, 197.65it/s, loss=1.55]\n"
          ]
        },
        {
          "output_type": "stream",
          "name": "stdout",
          "text": [
            "Epoch [507/3000]: Train loss: 1.6663, Valid loss: 1.9630\n"
          ]
        },
        {
          "output_type": "stream",
          "name": "stderr",
          "text": [
            "Epoch [508/3000]: 100%|██████████████████████████████████████████████████████| 9/9 [00:00<00:00, 187.24it/s, loss=1.84]\n"
          ]
        },
        {
          "output_type": "stream",
          "name": "stdout",
          "text": [
            "Epoch [508/3000]: Train loss: 1.6891, Valid loss: 1.9532\n"
          ]
        },
        {
          "output_type": "stream",
          "name": "stderr",
          "text": [
            "Epoch [509/3000]: 100%|██████████████████████████████████████████████████████| 9/9 [00:00<00:00, 196.53it/s, loss=1.62]\n"
          ]
        },
        {
          "output_type": "stream",
          "name": "stdout",
          "text": [
            "Epoch [509/3000]: Train loss: 1.6658, Valid loss: 2.0821\n"
          ]
        },
        {
          "output_type": "stream",
          "name": "stderr",
          "text": [
            "Epoch [510/3000]: 100%|██████████████████████████████████████████████████████| 9/9 [00:00<00:00, 206.56it/s, loss=1.85]\n"
          ]
        },
        {
          "output_type": "stream",
          "name": "stdout",
          "text": [
            "Epoch [510/3000]: Train loss: 1.6968, Valid loss: 1.8656\n"
          ]
        },
        {
          "output_type": "stream",
          "name": "stderr",
          "text": [
            "Epoch [511/3000]: 100%|██████████████████████████████████████████████████████| 9/9 [00:00<00:00, 202.07it/s, loss=1.89]\n"
          ]
        },
        {
          "output_type": "stream",
          "name": "stdout",
          "text": [
            "Epoch [511/3000]: Train loss: 1.6860, Valid loss: 2.2906\n"
          ]
        },
        {
          "output_type": "stream",
          "name": "stderr",
          "text": [
            "Epoch [512/3000]: 100%|██████████████████████████████████████████████████████| 9/9 [00:00<00:00, 199.83it/s, loss=1.56]\n"
          ]
        },
        {
          "output_type": "stream",
          "name": "stdout",
          "text": [
            "Epoch [512/3000]: Train loss: 1.6697, Valid loss: 1.7734\n"
          ]
        },
        {
          "output_type": "stream",
          "name": "stderr",
          "text": [
            "Epoch [513/3000]: 100%|██████████████████████████████████████████████████████| 9/9 [00:00<00:00, 185.38it/s, loss=1.51]\n"
          ]
        },
        {
          "output_type": "stream",
          "name": "stdout",
          "text": [
            "Epoch [513/3000]: Train loss: 1.6686, Valid loss: 1.9896\n"
          ]
        },
        {
          "output_type": "stream",
          "name": "stderr",
          "text": [
            "Epoch [514/3000]: 100%|██████████████████████████████████████████████████████| 9/9 [00:00<00:00, 197.55it/s, loss=1.57]\n"
          ]
        },
        {
          "output_type": "stream",
          "name": "stdout",
          "text": [
            "Epoch [514/3000]: Train loss: 1.6612, Valid loss: 1.8556\n"
          ]
        },
        {
          "output_type": "stream",
          "name": "stderr",
          "text": [
            "Epoch [515/3000]: 100%|██████████████████████████████████████████████████████| 9/9 [00:00<00:00, 197.60it/s, loss=2.25]\n"
          ]
        },
        {
          "output_type": "stream",
          "name": "stdout",
          "text": [
            "Epoch [515/3000]: Train loss: 1.7011, Valid loss: 1.9564\n"
          ]
        },
        {
          "output_type": "stream",
          "name": "stderr",
          "text": [
            "Epoch [516/3000]: 100%|██████████████████████████████████████████████████████| 9/9 [00:00<00:00, 197.19it/s, loss=1.38]\n"
          ]
        },
        {
          "output_type": "stream",
          "name": "stdout",
          "text": [
            "Epoch [516/3000]: Train loss: 1.6464, Valid loss: 2.1432\n"
          ]
        },
        {
          "output_type": "stream",
          "name": "stderr",
          "text": [
            "Epoch [517/3000]: 100%|██████████████████████████████████████████████████████| 9/9 [00:00<00:00, 188.89it/s, loss=1.61]\n"
          ]
        },
        {
          "output_type": "stream",
          "name": "stdout",
          "text": [
            "Epoch [517/3000]: Train loss: 1.6851, Valid loss: 1.9250\n"
          ]
        },
        {
          "output_type": "stream",
          "name": "stderr",
          "text": [
            "Epoch [518/3000]: 100%|██████████████████████████████████████████████████████| 9/9 [00:00<00:00, 202.35it/s, loss=2.22]\n"
          ]
        },
        {
          "output_type": "stream",
          "name": "stdout",
          "text": [
            "Epoch [518/3000]: Train loss: 1.7169, Valid loss: 1.8349\n"
          ]
        },
        {
          "output_type": "stream",
          "name": "stderr",
          "text": [
            "Epoch [519/3000]: 100%|██████████████████████████████████████████████████████| 9/9 [00:00<00:00, 195.01it/s, loss=1.54]\n"
          ]
        },
        {
          "output_type": "stream",
          "name": "stdout",
          "text": [
            "Epoch [519/3000]: Train loss: 1.6636, Valid loss: 1.7805\n"
          ]
        },
        {
          "output_type": "stream",
          "name": "stderr",
          "text": [
            "Epoch [520/3000]: 100%|██████████████████████████████████████████████████████| 9/9 [00:00<00:00, 204.43it/s, loss=1.57]\n"
          ]
        },
        {
          "output_type": "stream",
          "name": "stdout",
          "text": [
            "Epoch [520/3000]: Train loss: 1.6677, Valid loss: 1.7167\n"
          ]
        },
        {
          "output_type": "stream",
          "name": "stderr",
          "text": [
            "Epoch [521/3000]: 100%|██████████████████████████████████████████████████████| 9/9 [00:00<00:00, 199.69it/s, loss=1.44]\n"
          ]
        },
        {
          "output_type": "stream",
          "name": "stdout",
          "text": [
            "Epoch [521/3000]: Train loss: 1.6560, Valid loss: 1.6985\n"
          ]
        },
        {
          "output_type": "stream",
          "name": "stderr",
          "text": [
            "Epoch [522/3000]: 100%|██████████████████████████████████████████████████████| 9/9 [00:00<00:00, 191.31it/s, loss=1.94]\n"
          ]
        },
        {
          "output_type": "stream",
          "name": "stdout",
          "text": [
            "Epoch [522/3000]: Train loss: 1.6766, Valid loss: 1.9770\n"
          ]
        },
        {
          "output_type": "stream",
          "name": "stderr",
          "text": [
            "Epoch [523/3000]: 100%|██████████████████████████████████████████████████████| 9/9 [00:00<00:00, 176.45it/s, loss=1.84]\n"
          ]
        },
        {
          "output_type": "stream",
          "name": "stdout",
          "text": [
            "Epoch [523/3000]: Train loss: 1.6710, Valid loss: 1.8754\n"
          ]
        },
        {
          "output_type": "stream",
          "name": "stderr",
          "text": [
            "Epoch [524/3000]: 100%|██████████████████████████████████████████████████████| 9/9 [00:00<00:00, 185.40it/s, loss=1.75]\n"
          ]
        },
        {
          "output_type": "stream",
          "name": "stdout",
          "text": [
            "Epoch [524/3000]: Train loss: 1.6653, Valid loss: 2.0566\n"
          ]
        },
        {
          "output_type": "stream",
          "name": "stderr",
          "text": [
            "Epoch [525/3000]: 100%|██████████████████████████████████████████████████████| 9/9 [00:00<00:00, 181.70it/s, loss=2.06]\n"
          ]
        },
        {
          "output_type": "stream",
          "name": "stdout",
          "text": [
            "Epoch [525/3000]: Train loss: 1.6860, Valid loss: 1.6847\n"
          ]
        },
        {
          "output_type": "stream",
          "name": "stderr",
          "text": [
            "Epoch [526/3000]: 100%|██████████████████████████████████████████████████████| 9/9 [00:00<00:00, 189.29it/s, loss=1.45]\n"
          ]
        },
        {
          "output_type": "stream",
          "name": "stdout",
          "text": [
            "Epoch [526/3000]: Train loss: 1.6454, Valid loss: 1.9703\n"
          ]
        },
        {
          "output_type": "stream",
          "name": "stderr",
          "text": [
            "Epoch [527/3000]: 100%|██████████████████████████████████████████████████████| 9/9 [00:00<00:00, 178.08it/s, loss=1.58]\n"
          ]
        },
        {
          "output_type": "stream",
          "name": "stdout",
          "text": [
            "Epoch [527/3000]: Train loss: 1.6507, Valid loss: 2.1552\n"
          ]
        },
        {
          "output_type": "stream",
          "name": "stderr",
          "text": [
            "Epoch [528/3000]: 100%|██████████████████████████████████████████████████████| 9/9 [00:00<00:00, 188.66it/s, loss=1.54]\n"
          ]
        },
        {
          "output_type": "stream",
          "name": "stdout",
          "text": [
            "Epoch [528/3000]: Train loss: 1.6464, Valid loss: 1.7170\n"
          ]
        },
        {
          "output_type": "stream",
          "name": "stderr",
          "text": [
            "Epoch [529/3000]: 100%|██████████████████████████████████████████████████████| 9/9 [00:00<00:00, 199.77it/s, loss=1.51]\n"
          ]
        },
        {
          "output_type": "stream",
          "name": "stdout",
          "text": [
            "Epoch [529/3000]: Train loss: 1.6819, Valid loss: 1.9328\n"
          ]
        },
        {
          "output_type": "stream",
          "name": "stderr",
          "text": [
            "Epoch [530/3000]: 100%|██████████████████████████████████████████████████████| 9/9 [00:00<00:00, 189.41it/s, loss=1.97]\n"
          ]
        },
        {
          "output_type": "stream",
          "name": "stdout",
          "text": [
            "Epoch [530/3000]: Train loss: 1.6732, Valid loss: 1.9796\n"
          ]
        },
        {
          "output_type": "stream",
          "name": "stderr",
          "text": [
            "Epoch [531/3000]: 100%|██████████████████████████████████████████████████████| 9/9 [00:00<00:00, 195.56it/s, loss=1.55]\n"
          ]
        },
        {
          "output_type": "stream",
          "name": "stdout",
          "text": [
            "Epoch [531/3000]: Train loss: 1.6464, Valid loss: 2.2194\n"
          ]
        },
        {
          "output_type": "stream",
          "name": "stderr",
          "text": [
            "Epoch [532/3000]: 100%|███████████████████████████████████████████████████████| 9/9 [00:00<00:00, 201.73it/s, loss=1.7]\n"
          ]
        },
        {
          "output_type": "stream",
          "name": "stdout",
          "text": [
            "Epoch [532/3000]: Train loss: 1.6648, Valid loss: 2.0415\n"
          ]
        },
        {
          "output_type": "stream",
          "name": "stderr",
          "text": [
            "Epoch [533/3000]: 100%|██████████████████████████████████████████████████████| 9/9 [00:00<00:00, 199.76it/s, loss=1.55]\n"
          ]
        },
        {
          "output_type": "stream",
          "name": "stdout",
          "text": [
            "Epoch [533/3000]: Train loss: 1.6544, Valid loss: 1.8871\n"
          ]
        },
        {
          "output_type": "stream",
          "name": "stderr",
          "text": [
            "Epoch [534/3000]: 100%|██████████████████████████████████████████████████████| 9/9 [00:00<00:00, 178.79it/s, loss=1.06]\n"
          ]
        },
        {
          "output_type": "stream",
          "name": "stdout",
          "text": [
            "Epoch [534/3000]: Train loss: 1.6142, Valid loss: 1.7774\n"
          ]
        },
        {
          "output_type": "stream",
          "name": "stderr",
          "text": [
            "Epoch [535/3000]: 100%|██████████████████████████████████████████████████████| 9/9 [00:00<00:00, 181.26it/s, loss=1.84]"
          ]
        },
        {
          "output_type": "stream",
          "name": "stdout",
          "text": [
            "Epoch [535/3000]: Train loss: 1.6726, Valid loss: 2.5239"
          ]
        },
        {
          "output_type": "stream",
          "name": "stderr",
          "text": [
            "\n"
          ]
        },
        {
          "output_type": "stream",
          "name": "stdout",
          "text": [
            "\n"
          ]
        },
        {
          "output_type": "stream",
          "name": "stderr",
          "text": [
            "Epoch [536/3000]: 100%|██████████████████████████████████████████████████████| 9/9 [00:00<00:00, 178.04it/s, loss=1.56]"
          ]
        },
        {
          "output_type": "stream",
          "name": "stdout",
          "text": [
            "Epoch [536/3000]: Train loss: 1.6436, Valid loss: 2.1940"
          ]
        },
        {
          "output_type": "stream",
          "name": "stderr",
          "text": [
            "\n"
          ]
        },
        {
          "output_type": "stream",
          "name": "stdout",
          "text": [
            "\n"
          ]
        },
        {
          "output_type": "stream",
          "name": "stderr",
          "text": [
            "Epoch [537/3000]: 100%|██████████████████████████████████████████████████████| 9/9 [00:00<00:00, 188.78it/s, loss=1.55]\n"
          ]
        },
        {
          "output_type": "stream",
          "name": "stdout",
          "text": [
            "Epoch [537/3000]: Train loss: 1.6430, Valid loss: 1.9359\n"
          ]
        },
        {
          "output_type": "stream",
          "name": "stderr",
          "text": [
            "Epoch [538/3000]: 100%|██████████████████████████████████████████████████████| 9/9 [00:00<00:00, 195.49it/s, loss=1.78]\n"
          ]
        },
        {
          "output_type": "stream",
          "name": "stdout",
          "text": [
            "Epoch [538/3000]: Train loss: 1.6575, Valid loss: 2.0362\n"
          ]
        },
        {
          "output_type": "stream",
          "name": "stderr",
          "text": [
            "Epoch [539/3000]: 100%|██████████████████████████████████████████████████████| 9/9 [00:00<00:00, 175.61it/s, loss=2.09]\n"
          ]
        },
        {
          "output_type": "stream",
          "name": "stdout",
          "text": [
            "Epoch [539/3000]: Train loss: 1.6754, Valid loss: 1.6129\n"
          ]
        },
        {
          "output_type": "stream",
          "name": "stderr",
          "text": [
            "Epoch [540/3000]: 100%|██████████████████████████████████████████████████████| 9/9 [00:00<00:00, 180.87it/s, loss=2.01]\n"
          ]
        },
        {
          "output_type": "stream",
          "name": "stdout",
          "text": [
            "Epoch [540/3000]: Train loss: 1.6682, Valid loss: 1.6772\n"
          ]
        },
        {
          "output_type": "stream",
          "name": "stderr",
          "text": [
            "Epoch [541/3000]: 100%|██████████████████████████████████████████████████████| 9/9 [00:00<00:00, 191.25it/s, loss=1.36]\n"
          ]
        },
        {
          "output_type": "stream",
          "name": "stdout",
          "text": [
            "Epoch [541/3000]: Train loss: 1.6339, Valid loss: 2.0259\n"
          ]
        },
        {
          "output_type": "stream",
          "name": "stderr",
          "text": [
            "Epoch [542/3000]: 100%|██████████████████████████████████████████████████████| 9/9 [00:00<00:00, 204.33it/s, loss=1.98]\n"
          ]
        },
        {
          "output_type": "stream",
          "name": "stdout",
          "text": [
            "Epoch [542/3000]: Train loss: 1.6866, Valid loss: 1.8676\n"
          ]
        },
        {
          "output_type": "stream",
          "name": "stderr",
          "text": [
            "Epoch [543/3000]: 100%|██████████████████████████████████████████████████████| 9/9 [00:00<00:00, 195.53it/s, loss=1.63]\n"
          ]
        },
        {
          "output_type": "stream",
          "name": "stdout",
          "text": [
            "Epoch [543/3000]: Train loss: 1.6456, Valid loss: 1.9273\n"
          ]
        },
        {
          "output_type": "stream",
          "name": "stderr",
          "text": [
            "Epoch [544/3000]: 100%|██████████████████████████████████████████████████████| 9/9 [00:00<00:00, 195.07it/s, loss=1.36]\n"
          ]
        },
        {
          "output_type": "stream",
          "name": "stdout",
          "text": [
            "Epoch [544/3000]: Train loss: 1.6391, Valid loss: 2.0553\n"
          ]
        },
        {
          "output_type": "stream",
          "name": "stderr",
          "text": [
            "Epoch [545/3000]: 100%|██████████████████████████████████████████████████████| 9/9 [00:00<00:00, 204.54it/s, loss=1.67]\n"
          ]
        },
        {
          "output_type": "stream",
          "name": "stdout",
          "text": [
            "Epoch [545/3000]: Train loss: 1.6417, Valid loss: 1.6458\n"
          ]
        },
        {
          "output_type": "stream",
          "name": "stderr",
          "text": [
            "Epoch [546/3000]: 100%|███████████████████████████████████████████████████████| 9/9 [00:00<00:00, 186.24it/s, loss=2.1]\n"
          ]
        },
        {
          "output_type": "stream",
          "name": "stdout",
          "text": [
            "Epoch [546/3000]: Train loss: 1.6767, Valid loss: 1.7698\n"
          ]
        },
        {
          "output_type": "stream",
          "name": "stderr",
          "text": [
            "Epoch [547/3000]: 100%|██████████████████████████████████████████████████████| 9/9 [00:00<00:00, 182.75it/s, loss=1.45]\n"
          ]
        },
        {
          "output_type": "stream",
          "name": "stdout",
          "text": [
            "Epoch [547/3000]: Train loss: 1.6317, Valid loss: 1.7565\n"
          ]
        },
        {
          "output_type": "stream",
          "name": "stderr",
          "text": [
            "Epoch [548/3000]: 100%|██████████████████████████████████████████████████████| 9/9 [00:00<00:00, 169.48it/s, loss=1.78]\n"
          ]
        },
        {
          "output_type": "stream",
          "name": "stdout",
          "text": [
            "Epoch [548/3000]: Train loss: 1.6509, Valid loss: 1.9233\n"
          ]
        },
        {
          "output_type": "stream",
          "name": "stderr",
          "text": [
            "Epoch [549/3000]: 100%|██████████████████████████████████████████████████████| 9/9 [00:00<00:00, 176.29it/s, loss=1.35]\n"
          ]
        },
        {
          "output_type": "stream",
          "name": "stdout",
          "text": [
            "Epoch [549/3000]: Train loss: 1.6350, Valid loss: 1.9728\n"
          ]
        },
        {
          "output_type": "stream",
          "name": "stderr",
          "text": [
            "Epoch [550/3000]: 100%|██████████████████████████████████████████████████████| 9/9 [00:00<00:00, 185.41it/s, loss=1.66]\n"
          ]
        },
        {
          "output_type": "stream",
          "name": "stdout",
          "text": [
            "Epoch [550/3000]: Train loss: 1.6381, Valid loss: 1.8608\n"
          ]
        },
        {
          "output_type": "stream",
          "name": "stderr",
          "text": [
            "Epoch [551/3000]: 100%|██████████████████████████████████████████████████████| 9/9 [00:00<00:00, 178.00it/s, loss=1.88]\n"
          ]
        },
        {
          "output_type": "stream",
          "name": "stdout",
          "text": [
            "Epoch [551/3000]: Train loss: 1.6640, Valid loss: 1.8886\n"
          ]
        },
        {
          "output_type": "stream",
          "name": "stderr",
          "text": [
            "Epoch [552/3000]: 100%|██████████████████████████████████████████████████████| 9/9 [00:00<00:00, 173.87it/s, loss=1.99]\n"
          ]
        },
        {
          "output_type": "stream",
          "name": "stdout",
          "text": [
            "Epoch [552/3000]: Train loss: 1.6693, Valid loss: 1.8913\n"
          ]
        },
        {
          "output_type": "stream",
          "name": "stderr",
          "text": [
            "Epoch [553/3000]: 100%|██████████████████████████████████████████████████████| 9/9 [00:00<00:00, 202.09it/s, loss=1.19]\n"
          ]
        },
        {
          "output_type": "stream",
          "name": "stdout",
          "text": [
            "Epoch [553/3000]: Train loss: 1.6196, Valid loss: 1.6200\n"
          ]
        },
        {
          "output_type": "stream",
          "name": "stderr",
          "text": [
            "Epoch [554/3000]: 100%|███████████████████████████████████████████████████████| 9/9 [00:00<00:00, 41.13it/s, loss=1.48]\n"
          ]
        },
        {
          "output_type": "stream",
          "name": "stdout",
          "text": [
            "Epoch [554/3000]: Train loss: 1.6323, Valid loss: 1.9195\n"
          ]
        },
        {
          "output_type": "stream",
          "name": "stderr",
          "text": [
            "Epoch [555/3000]: 100%|██████████████████████████████████████████████████████| 9/9 [00:00<00:00, 191.28it/s, loss=2.27]\n"
          ]
        },
        {
          "output_type": "stream",
          "name": "stdout",
          "text": [
            "Epoch [555/3000]: Train loss: 1.6739, Valid loss: 1.6183\n"
          ]
        },
        {
          "output_type": "stream",
          "name": "stderr",
          "text": [
            "Epoch [556/3000]: 100%|██████████████████████████████████████████████████████| 9/9 [00:00<00:00, 181.64it/s, loss=2.32]\n"
          ]
        },
        {
          "output_type": "stream",
          "name": "stdout",
          "text": [
            "Epoch [556/3000]: Train loss: 1.6841, Valid loss: 1.7932\n"
          ]
        },
        {
          "output_type": "stream",
          "name": "stderr",
          "text": [
            "Epoch [557/3000]: 100%|██████████████████████████████████████████████████████| 9/9 [00:00<00:00, 172.91it/s, loss=1.87]\n"
          ]
        },
        {
          "output_type": "stream",
          "name": "stdout",
          "text": [
            "Epoch [557/3000]: Train loss: 1.6538, Valid loss: 2.1163\n"
          ]
        },
        {
          "output_type": "stream",
          "name": "stderr",
          "text": [
            "Epoch [558/3000]: 100%|██████████████████████████████████████████████████████| 9/9 [00:00<00:00, 177.97it/s, loss=1.71]\n"
          ]
        },
        {
          "output_type": "stream",
          "name": "stdout",
          "text": [
            "Epoch [558/3000]: Train loss: 1.6563, Valid loss: 1.9064\n"
          ]
        },
        {
          "output_type": "stream",
          "name": "stderr",
          "text": [
            "Epoch [559/3000]: 100%|██████████████████████████████████████████████████████| 9/9 [00:00<00:00, 193.38it/s, loss=1.82]\n"
          ]
        },
        {
          "output_type": "stream",
          "name": "stdout",
          "text": [
            "Epoch [559/3000]: Train loss: 1.6446, Valid loss: 1.9230\n"
          ]
        },
        {
          "output_type": "stream",
          "name": "stderr",
          "text": [
            "Epoch [560/3000]: 100%|██████████████████████████████████████████████████████| 9/9 [00:00<00:00, 204.41it/s, loss=1.28]\n"
          ]
        },
        {
          "output_type": "stream",
          "name": "stdout",
          "text": [
            "Epoch [560/3000]: Train loss: 1.6147, Valid loss: 1.9356\n"
          ]
        },
        {
          "output_type": "stream",
          "name": "stderr",
          "text": [
            "Epoch [561/3000]: 100%|██████████████████████████████████████████████████████| 9/9 [00:00<00:00, 193.39it/s, loss=1.32]\n"
          ]
        },
        {
          "output_type": "stream",
          "name": "stdout",
          "text": [
            "Epoch [561/3000]: Train loss: 1.6251, Valid loss: 1.7114\n"
          ]
        },
        {
          "output_type": "stream",
          "name": "stderr",
          "text": [
            "Epoch [562/3000]: 100%|███████████████████████████████████████████████████████| 9/9 [00:00<00:00, 83.64it/s, loss=1.52]\n"
          ]
        },
        {
          "output_type": "stream",
          "name": "stdout",
          "text": [
            "Epoch [562/3000]: Train loss: 1.6249, Valid loss: 1.9071\n"
          ]
        },
        {
          "output_type": "stream",
          "name": "stderr",
          "text": [
            "Epoch [563/3000]: 100%|██████████████████████████████████████████████████████| 9/9 [00:00<00:00, 184.37it/s, loss=1.73]\n"
          ]
        },
        {
          "output_type": "stream",
          "name": "stdout",
          "text": [
            "Epoch [563/3000]: Train loss: 1.6359, Valid loss: 1.9047\n"
          ]
        },
        {
          "output_type": "stream",
          "name": "stderr",
          "text": [
            "Epoch [564/3000]: 100%|██████████████████████████████████████████████████████| 9/9 [00:00<00:00, 190.76it/s, loss=1.35]\n"
          ]
        },
        {
          "output_type": "stream",
          "name": "stdout",
          "text": [
            "Epoch [564/3000]: Train loss: 1.6136, Valid loss: 2.0884\n"
          ]
        },
        {
          "output_type": "stream",
          "name": "stderr",
          "text": [
            "Epoch [565/3000]: 100%|██████████████████████████████████████████████████████| 9/9 [00:00<00:00, 163.04it/s, loss=2.14]\n"
          ]
        },
        {
          "output_type": "stream",
          "name": "stdout",
          "text": [
            "Epoch [565/3000]: Train loss: 1.6645, Valid loss: 1.7732\n"
          ]
        },
        {
          "output_type": "stream",
          "name": "stderr",
          "text": [
            "Epoch [566/3000]: 100%|██████████████████████████████████████████████████████| 9/9 [00:00<00:00, 177.60it/s, loss=1.62]\n"
          ]
        },
        {
          "output_type": "stream",
          "name": "stdout",
          "text": [
            "Epoch [566/3000]: Train loss: 1.6435, Valid loss: 1.9380\n"
          ]
        },
        {
          "output_type": "stream",
          "name": "stderr",
          "text": [
            "Epoch [567/3000]: 100%|███████████████████████████████████████████████████████| 9/9 [00:00<00:00, 178.09it/s, loss=1.4]\n"
          ]
        },
        {
          "output_type": "stream",
          "name": "stdout",
          "text": [
            "Epoch [567/3000]: Train loss: 1.6219, Valid loss: 2.0136\n"
          ]
        },
        {
          "output_type": "stream",
          "name": "stderr",
          "text": [
            "Epoch [568/3000]: 100%|██████████████████████████████████████████████████████| 9/9 [00:00<00:00, 189.23it/s, loss=1.81]\n"
          ]
        },
        {
          "output_type": "stream",
          "name": "stdout",
          "text": [
            "Epoch [568/3000]: Train loss: 1.6607, Valid loss: 1.8997\n"
          ]
        },
        {
          "output_type": "stream",
          "name": "stderr",
          "text": [
            "Epoch [569/3000]: 100%|██████████████████████████████████████████████████████| 9/9 [00:00<00:00, 181.52it/s, loss=1.75]\n"
          ]
        },
        {
          "output_type": "stream",
          "name": "stdout",
          "text": [
            "Epoch [569/3000]: Train loss: 1.6462, Valid loss: 1.8732\n"
          ]
        },
        {
          "output_type": "stream",
          "name": "stderr",
          "text": [
            "Epoch [570/3000]: 100%|███████████████████████████████████████████████████████| 9/9 [00:00<00:00, 178.06it/s, loss=1.7]\n"
          ]
        },
        {
          "output_type": "stream",
          "name": "stdout",
          "text": [
            "Epoch [570/3000]: Train loss: 1.6445, Valid loss: 2.1945\n"
          ]
        },
        {
          "output_type": "stream",
          "name": "stderr",
          "text": [
            "Epoch [571/3000]: 100%|██████████████████████████████████████████████████████| 9/9 [00:00<00:00, 171.95it/s, loss=1.71]\n"
          ]
        },
        {
          "output_type": "stream",
          "name": "stdout",
          "text": [
            "Epoch [571/3000]: Train loss: 1.6284, Valid loss: 1.8831\n"
          ]
        },
        {
          "output_type": "stream",
          "name": "stderr",
          "text": [
            "Epoch [572/3000]: 100%|██████████████████████████████████████████████████████| 9/9 [00:00<00:00, 197.66it/s, loss=1.95]\n"
          ]
        },
        {
          "output_type": "stream",
          "name": "stdout",
          "text": [
            "Epoch [572/3000]: Train loss: 1.6682, Valid loss: 2.1326\n"
          ]
        },
        {
          "output_type": "stream",
          "name": "stderr",
          "text": [
            "Epoch [573/3000]: 100%|██████████████████████████████████████████████████████| 9/9 [00:00<00:00, 196.28it/s, loss=2.14]\n"
          ]
        },
        {
          "output_type": "stream",
          "name": "stdout",
          "text": [
            "Epoch [573/3000]: Train loss: 1.6632, Valid loss: 1.9811\n"
          ]
        },
        {
          "output_type": "stream",
          "name": "stderr",
          "text": [
            "Epoch [574/3000]: 100%|██████████████████████████████████████████████████████| 9/9 [00:00<00:00, 219.37it/s, loss=1.61]\n"
          ]
        },
        {
          "output_type": "stream",
          "name": "stdout",
          "text": [
            "Epoch [574/3000]: Train loss: 1.6368, Valid loss: 1.9544\n"
          ]
        },
        {
          "output_type": "stream",
          "name": "stderr",
          "text": [
            "Epoch [575/3000]: 100%|██████████████████████████████████████████████████████| 9/9 [00:00<00:00, 191.22it/s, loss=1.78]\n"
          ]
        },
        {
          "output_type": "stream",
          "name": "stdout",
          "text": [
            "Epoch [575/3000]: Train loss: 1.6363, Valid loss: 2.0323\n"
          ]
        },
        {
          "output_type": "stream",
          "name": "stderr",
          "text": [
            "Epoch [576/3000]: 100%|██████████████████████████████████████████████████████| 9/9 [00:00<00:00, 197.63it/s, loss=1.24]\n"
          ]
        },
        {
          "output_type": "stream",
          "name": "stdout",
          "text": [
            "Epoch [576/3000]: Train loss: 1.5930, Valid loss: 2.1226\n"
          ]
        },
        {
          "output_type": "stream",
          "name": "stderr",
          "text": [
            "Epoch [577/3000]: 100%|███████████████████████████████████████████████████████| 9/9 [00:00<00:00, 211.55it/s, loss=1.7]\n"
          ]
        },
        {
          "output_type": "stream",
          "name": "stdout",
          "text": [
            "Epoch [577/3000]: Train loss: 1.6307, Valid loss: 2.0274\n"
          ]
        },
        {
          "output_type": "stream",
          "name": "stderr",
          "text": [
            "Epoch [578/3000]: 100%|██████████████████████████████████████████████████████| 9/9 [00:00<00:00, 187.78it/s, loss=2.15]\n"
          ]
        },
        {
          "output_type": "stream",
          "name": "stdout",
          "text": [
            "Epoch [578/3000]: Train loss: 1.6537, Valid loss: 1.7426\n"
          ]
        },
        {
          "output_type": "stream",
          "name": "stderr",
          "text": [
            "Epoch [579/3000]: 100%|██████████████████████████████████████████████████████| 9/9 [00:00<00:00, 202.85it/s, loss=1.47]\n"
          ]
        },
        {
          "output_type": "stream",
          "name": "stdout",
          "text": [
            "Epoch [579/3000]: Train loss: 1.6108, Valid loss: 1.6373\n"
          ]
        },
        {
          "output_type": "stream",
          "name": "stderr",
          "text": [
            "Epoch [580/3000]: 100%|██████████████████████████████████████████████████████| 9/9 [00:00<00:00, 184.73it/s, loss=1.63]\n"
          ]
        },
        {
          "output_type": "stream",
          "name": "stdout",
          "text": [
            "Epoch [580/3000]: Train loss: 1.6229, Valid loss: 2.1694\n"
          ]
        },
        {
          "output_type": "stream",
          "name": "stderr",
          "text": [
            "Epoch [581/3000]: 100%|██████████████████████████████████████████████████████| 9/9 [00:00<00:00, 214.13it/s, loss=1.36]\n"
          ]
        },
        {
          "output_type": "stream",
          "name": "stdout",
          "text": [
            "Epoch [581/3000]: Train loss: 1.6068, Valid loss: 1.7537\n"
          ]
        },
        {
          "output_type": "stream",
          "name": "stderr",
          "text": [
            "Epoch [582/3000]: 100%|██████████████████████████████████████████████████████| 9/9 [00:00<00:00, 191.24it/s, loss=2.57]\n"
          ]
        },
        {
          "output_type": "stream",
          "name": "stdout",
          "text": [
            "Epoch [582/3000]: Train loss: 1.6759, Valid loss: 1.8217\n"
          ]
        },
        {
          "output_type": "stream",
          "name": "stderr",
          "text": [
            "Epoch [583/3000]: 100%|██████████████████████████████████████████████████████| 9/9 [00:00<00:00, 192.83it/s, loss=2.12]\n"
          ]
        },
        {
          "output_type": "stream",
          "name": "stdout",
          "text": [
            "Epoch [583/3000]: Train loss: 1.6590, Valid loss: 2.0701\n"
          ]
        },
        {
          "output_type": "stream",
          "name": "stderr",
          "text": [
            "Epoch [584/3000]: 100%|██████████████████████████████████████████████████████| 9/9 [00:00<00:00, 199.38it/s, loss=1.12]\n"
          ]
        },
        {
          "output_type": "stream",
          "name": "stdout",
          "text": [
            "Epoch [584/3000]: Train loss: 1.5841, Valid loss: 1.8605\n"
          ]
        },
        {
          "output_type": "stream",
          "name": "stderr",
          "text": [
            "Epoch [585/3000]: 100%|██████████████████████████████████████████████████████| 9/9 [00:00<00:00, 191.41it/s, loss=1.53]\n"
          ]
        },
        {
          "output_type": "stream",
          "name": "stdout",
          "text": [
            "Epoch [585/3000]: Train loss: 1.6171, Valid loss: 1.6783\n"
          ]
        },
        {
          "output_type": "stream",
          "name": "stderr",
          "text": [
            "Epoch [586/3000]: 100%|██████████████████████████████████████████████████████| 9/9 [00:00<00:00, 178.01it/s, loss=1.44]\n"
          ]
        },
        {
          "output_type": "stream",
          "name": "stdout",
          "text": [
            "Epoch [586/3000]: Train loss: 1.6147, Valid loss: 2.2494\n"
          ]
        },
        {
          "output_type": "stream",
          "name": "stderr",
          "text": [
            "Epoch [587/3000]: 100%|██████████████████████████████████████████████████████| 9/9 [00:00<00:00, 201.89it/s, loss=1.68]\n"
          ]
        },
        {
          "output_type": "stream",
          "name": "stdout",
          "text": [
            "Epoch [587/3000]: Train loss: 1.6208, Valid loss: 2.1066\n"
          ]
        },
        {
          "output_type": "stream",
          "name": "stderr",
          "text": [
            "Epoch [588/3000]: 100%|██████████████████████████████████████████████████████| 9/9 [00:00<00:00, 194.84it/s, loss=1.39]\n"
          ]
        },
        {
          "output_type": "stream",
          "name": "stdout",
          "text": [
            "Epoch [588/3000]: Train loss: 1.6082, Valid loss: 1.6545\n"
          ]
        },
        {
          "output_type": "stream",
          "name": "stderr",
          "text": [
            "Epoch [589/3000]: 100%|██████████████████████████████████████████████████████| 9/9 [00:00<00:00, 195.51it/s, loss=1.76]\n"
          ]
        },
        {
          "output_type": "stream",
          "name": "stdout",
          "text": [
            "Epoch [589/3000]: Train loss: 1.6256, Valid loss: 2.2871\n"
          ]
        },
        {
          "output_type": "stream",
          "name": "stderr",
          "text": [
            "Epoch [590/3000]: 100%|██████████████████████████████████████████████████████| 9/9 [00:00<00:00, 189.32it/s, loss=1.67]\n"
          ]
        },
        {
          "output_type": "stream",
          "name": "stdout",
          "text": [
            "Epoch [590/3000]: Train loss: 1.6168, Valid loss: 1.9917\n"
          ]
        },
        {
          "output_type": "stream",
          "name": "stderr",
          "text": [
            "Epoch [591/3000]: 100%|███████████████████████████████████████████████████████| 9/9 [00:00<00:00, 181.98it/s, loss=1.5]\n"
          ]
        },
        {
          "output_type": "stream",
          "name": "stdout",
          "text": [
            "Epoch [591/3000]: Train loss: 1.6052, Valid loss: 1.9061\n"
          ]
        },
        {
          "output_type": "stream",
          "name": "stderr",
          "text": [
            "Epoch [592/3000]: 100%|███████████████████████████████████████████████████████| 9/9 [00:00<00:00, 182.80it/s, loss=1.7]\n"
          ]
        },
        {
          "output_type": "stream",
          "name": "stdout",
          "text": [
            "Epoch [592/3000]: Train loss: 1.6186, Valid loss: 1.6723\n"
          ]
        },
        {
          "output_type": "stream",
          "name": "stderr",
          "text": [
            "Epoch [593/3000]: 100%|██████████████████████████████████████████████████████| 9/9 [00:00<00:00, 188.40it/s, loss=1.92]\n"
          ]
        },
        {
          "output_type": "stream",
          "name": "stdout",
          "text": [
            "Epoch [593/3000]: Train loss: 1.6296, Valid loss: 2.3222\n"
          ]
        },
        {
          "output_type": "stream",
          "name": "stderr",
          "text": [
            "Epoch [594/3000]: 100%|██████████████████████████████████████████████████████| 9/9 [00:00<00:00, 182.81it/s, loss=1.77]\n"
          ]
        },
        {
          "output_type": "stream",
          "name": "stdout",
          "text": [
            "Epoch [594/3000]: Train loss: 1.6291, Valid loss: 1.7966\n"
          ]
        },
        {
          "output_type": "stream",
          "name": "stderr",
          "text": [
            "Epoch [595/3000]: 100%|██████████████████████████████████████████████████████| 9/9 [00:00<00:00, 184.99it/s, loss=1.55]\n"
          ]
        },
        {
          "output_type": "stream",
          "name": "stdout",
          "text": [
            "Epoch [595/3000]: Train loss: 1.6130, Valid loss: 1.6626\n"
          ]
        },
        {
          "output_type": "stream",
          "name": "stderr",
          "text": [
            "Epoch [596/3000]: 100%|██████████████████████████████████████████████████████| 9/9 [00:00<00:00, 188.38it/s, loss=1.53]\n"
          ]
        },
        {
          "output_type": "stream",
          "name": "stdout",
          "text": [
            "Epoch [596/3000]: Train loss: 1.6037, Valid loss: 2.0541\n"
          ]
        },
        {
          "output_type": "stream",
          "name": "stderr",
          "text": [
            "Epoch [597/3000]: 100%|██████████████████████████████████████████████████████| 9/9 [00:00<00:00, 207.24it/s, loss=1.39]\n"
          ]
        },
        {
          "output_type": "stream",
          "name": "stdout",
          "text": [
            "Epoch [597/3000]: Train loss: 1.5896, Valid loss: 1.6902\n"
          ]
        },
        {
          "output_type": "stream",
          "name": "stderr",
          "text": [
            "Epoch [598/3000]: 100%|██████████████████████████████████████████████████████| 9/9 [00:00<00:00, 193.72it/s, loss=1.43]\n"
          ]
        },
        {
          "output_type": "stream",
          "name": "stdout",
          "text": [
            "Epoch [598/3000]: Train loss: 1.6111, Valid loss: 1.7772\n"
          ]
        },
        {
          "output_type": "stream",
          "name": "stderr",
          "text": [
            "Epoch [599/3000]: 100%|██████████████████████████████████████████████████████| 9/9 [00:00<00:00, 197.66it/s, loss=1.47]\n"
          ]
        },
        {
          "output_type": "stream",
          "name": "stdout",
          "text": [
            "Epoch [599/3000]: Train loss: 1.5988, Valid loss: 2.1126\n"
          ]
        },
        {
          "output_type": "stream",
          "name": "stderr",
          "text": [
            "Epoch [600/3000]: 100%|██████████████████████████████████████████████████████| 9/9 [00:00<00:00, 201.94it/s, loss=1.73]\n"
          ]
        },
        {
          "output_type": "stream",
          "name": "stdout",
          "text": [
            "Epoch [600/3000]: Train loss: 1.6274, Valid loss: 1.9984\n"
          ]
        },
        {
          "output_type": "stream",
          "name": "stderr",
          "text": [
            "Epoch [601/3000]: 100%|██████████████████████████████████████████████████████| 9/9 [00:00<00:00, 188.88it/s, loss=1.71]\n"
          ]
        },
        {
          "output_type": "stream",
          "name": "stdout",
          "text": [
            "Epoch [601/3000]: Train loss: 1.6174, Valid loss: 1.9773\n"
          ]
        },
        {
          "output_type": "stream",
          "name": "stderr",
          "text": [
            "Epoch [602/3000]: 100%|██████████████████████████████████████████████████████| 9/9 [00:00<00:00, 206.04it/s, loss=1.39]\n"
          ]
        },
        {
          "output_type": "stream",
          "name": "stdout",
          "text": [
            "Epoch [602/3000]: Train loss: 1.5988, Valid loss: 2.2151\n"
          ]
        },
        {
          "output_type": "stream",
          "name": "stderr",
          "text": [
            "Epoch [603/3000]: 100%|██████████████████████████████████████████████████████| 9/9 [00:00<00:00, 195.53it/s, loss=2.22]\n"
          ]
        },
        {
          "output_type": "stream",
          "name": "stdout",
          "text": [
            "Epoch [603/3000]: Train loss: 1.6420, Valid loss: 2.1110\n"
          ]
        },
        {
          "output_type": "stream",
          "name": "stderr",
          "text": [
            "Epoch [604/3000]: 100%|██████████████████████████████████████████████████████| 9/9 [00:00<00:00, 186.46it/s, loss=1.66]\n"
          ]
        },
        {
          "output_type": "stream",
          "name": "stdout",
          "text": [
            "Epoch [604/3000]: Train loss: 1.6138, Valid loss: 2.2486\n"
          ]
        },
        {
          "output_type": "stream",
          "name": "stderr",
          "text": [
            "Epoch [605/3000]: 100%|██████████████████████████████████████████████████████| 9/9 [00:00<00:00, 208.58it/s, loss=2.03]\n"
          ]
        },
        {
          "output_type": "stream",
          "name": "stdout",
          "text": [
            "Epoch [605/3000]: Train loss: 1.6357, Valid loss: 1.8247\n"
          ]
        },
        {
          "output_type": "stream",
          "name": "stderr",
          "text": [
            "Epoch [606/3000]: 100%|██████████████████████████████████████████████████████| 9/9 [00:00<00:00, 183.09it/s, loss=1.35]\n"
          ]
        },
        {
          "output_type": "stream",
          "name": "stdout",
          "text": [
            "Epoch [606/3000]: Train loss: 1.6063, Valid loss: 1.9351\n"
          ]
        },
        {
          "output_type": "stream",
          "name": "stderr",
          "text": [
            "Epoch [607/3000]: 100%|██████████████████████████████████████████████████████| 9/9 [00:00<00:00, 189.33it/s, loss=1.77]\n"
          ]
        },
        {
          "output_type": "stream",
          "name": "stdout",
          "text": [
            "Epoch [607/3000]: Train loss: 1.6124, Valid loss: 1.7050\n"
          ]
        },
        {
          "output_type": "stream",
          "name": "stderr",
          "text": [
            "Epoch [608/3000]: 100%|██████████████████████████████████████████████████████| 9/9 [00:00<00:00, 209.07it/s, loss=1.33]\n"
          ]
        },
        {
          "output_type": "stream",
          "name": "stdout",
          "text": [
            "Epoch [608/3000]: Train loss: 1.5837, Valid loss: 2.2253\n"
          ]
        },
        {
          "output_type": "stream",
          "name": "stderr",
          "text": [
            "Epoch [609/3000]: 100%|██████████████████████████████████████████████████████| 9/9 [00:00<00:00, 199.79it/s, loss=1.62]\n"
          ]
        },
        {
          "output_type": "stream",
          "name": "stdout",
          "text": [
            "Epoch [609/3000]: Train loss: 1.6066, Valid loss: 1.7037\n"
          ]
        },
        {
          "output_type": "stream",
          "name": "stderr",
          "text": [
            "Epoch [610/3000]: 100%|██████████████████████████████████████████████████████| 9/9 [00:00<00:00, 192.71it/s, loss=1.77]\n"
          ]
        },
        {
          "output_type": "stream",
          "name": "stdout",
          "text": [
            "Epoch [610/3000]: Train loss: 1.6090, Valid loss: 1.6800\n"
          ]
        },
        {
          "output_type": "stream",
          "name": "stderr",
          "text": [
            "Epoch [611/3000]: 100%|██████████████████████████████████████████████████████| 9/9 [00:00<00:00, 191.20it/s, loss=1.67]\n"
          ]
        },
        {
          "output_type": "stream",
          "name": "stdout",
          "text": [
            "Epoch [611/3000]: Train loss: 1.6003, Valid loss: 2.2541\n"
          ]
        },
        {
          "output_type": "stream",
          "name": "stderr",
          "text": [
            "Epoch [612/3000]: 100%|██████████████████████████████████████████████████████| 9/9 [00:00<00:00, 206.69it/s, loss=1.78]\n"
          ]
        },
        {
          "output_type": "stream",
          "name": "stdout",
          "text": [
            "Epoch [612/3000]: Train loss: 1.6088, Valid loss: 1.8504\n"
          ]
        },
        {
          "output_type": "stream",
          "name": "stderr",
          "text": [
            "Epoch [613/3000]: 100%|██████████████████████████████████████████████████████| 9/9 [00:00<00:00, 195.40it/s, loss=1.31]\n"
          ]
        },
        {
          "output_type": "stream",
          "name": "stdout",
          "text": [
            "Epoch [613/3000]: Train loss: 1.5865, Valid loss: 1.7927\n"
          ]
        },
        {
          "output_type": "stream",
          "name": "stderr",
          "text": [
            "Epoch [614/3000]: 100%|██████████████████████████████████████████████████████| 9/9 [00:00<00:00, 178.68it/s, loss=1.63]\n"
          ]
        },
        {
          "output_type": "stream",
          "name": "stdout",
          "text": [
            "Epoch [614/3000]: Train loss: 1.5998, Valid loss: 2.0260\n"
          ]
        },
        {
          "output_type": "stream",
          "name": "stderr",
          "text": [
            "Epoch [615/3000]: 100%|██████████████████████████████████████████████████████| 9/9 [00:00<00:00, 193.16it/s, loss=1.36]\n"
          ]
        },
        {
          "output_type": "stream",
          "name": "stdout",
          "text": [
            "Epoch [615/3000]: Train loss: 1.5853, Valid loss: 1.8214\n"
          ]
        },
        {
          "output_type": "stream",
          "name": "stderr",
          "text": [
            "Epoch [616/3000]: 100%|██████████████████████████████████████████████████████| 9/9 [00:00<00:00, 186.81it/s, loss=1.57]\n"
          ]
        },
        {
          "output_type": "stream",
          "name": "stdout",
          "text": [
            "Epoch [616/3000]: Train loss: 1.5945, Valid loss: 1.9961\n"
          ]
        },
        {
          "output_type": "stream",
          "name": "stderr",
          "text": [
            "Epoch [617/3000]: 100%|██████████████████████████████████████████████████████| 9/9 [00:00<00:00, 188.74it/s, loss=2.05]\n"
          ]
        },
        {
          "output_type": "stream",
          "name": "stdout",
          "text": [
            "Epoch [617/3000]: Train loss: 1.6246, Valid loss: 2.0637\n"
          ]
        },
        {
          "output_type": "stream",
          "name": "stderr",
          "text": [
            "Epoch [618/3000]: 100%|███████████████████████████████████████████████████████| 9/9 [00:00<00:00, 172.88it/s, loss=1.4]\n"
          ]
        },
        {
          "output_type": "stream",
          "name": "stdout",
          "text": [
            "Epoch [618/3000]: Train loss: 1.6155, Valid loss: 1.8383\n"
          ]
        },
        {
          "output_type": "stream",
          "name": "stderr",
          "text": [
            "Epoch [619/3000]: 100%|██████████████████████████████████████████████████████| 9/9 [00:00<00:00, 195.05it/s, loss=1.65]\n"
          ]
        },
        {
          "output_type": "stream",
          "name": "stdout",
          "text": [
            "Epoch [619/3000]: Train loss: 1.5970, Valid loss: 1.7986\n"
          ]
        },
        {
          "output_type": "stream",
          "name": "stderr",
          "text": [
            "Epoch [620/3000]: 100%|██████████████████████████████████████████████████████| 9/9 [00:00<00:00, 188.55it/s, loss=1.56]\n"
          ]
        },
        {
          "output_type": "stream",
          "name": "stdout",
          "text": [
            "Epoch [620/3000]: Train loss: 1.5895, Valid loss: 1.8062\n"
          ]
        },
        {
          "output_type": "stream",
          "name": "stderr",
          "text": [
            "Epoch [621/3000]: 100%|██████████████████████████████████████████████████████| 9/9 [00:00<00:00, 174.60it/s, loss=1.71]\n"
          ]
        },
        {
          "output_type": "stream",
          "name": "stdout",
          "text": [
            "Epoch [621/3000]: Train loss: 1.6020, Valid loss: 1.9020\n"
          ]
        },
        {
          "output_type": "stream",
          "name": "stderr",
          "text": [
            "Epoch [622/3000]: 100%|███████████████████████████████████████████████████████| 9/9 [00:00<00:00, 174.07it/s, loss=1.6]"
          ]
        },
        {
          "output_type": "stream",
          "name": "stdout",
          "text": [
            "Epoch [622/3000]: Train loss: 1.5897, Valid loss: 2.0040"
          ]
        },
        {
          "output_type": "stream",
          "name": "stderr",
          "text": [
            "\n"
          ]
        },
        {
          "output_type": "stream",
          "name": "stdout",
          "text": [
            "\n"
          ]
        },
        {
          "output_type": "stream",
          "name": "stderr",
          "text": [
            "Epoch [623/3000]: 100%|██████████████████████████████████████████████████████| 9/9 [00:00<00:00, 185.42it/s, loss=1.55]\n"
          ]
        },
        {
          "output_type": "stream",
          "name": "stdout",
          "text": [
            "Epoch [623/3000]: Train loss: 1.5940, Valid loss: 2.2595\n"
          ]
        },
        {
          "output_type": "stream",
          "name": "stderr",
          "text": [
            "Epoch [624/3000]: 100%|██████████████████████████████████████████████████████| 9/9 [00:00<00:00, 171.31it/s, loss=1.13]\n"
          ]
        },
        {
          "output_type": "stream",
          "name": "stdout",
          "text": [
            "Epoch [624/3000]: Train loss: 1.5806, Valid loss: 1.5526\n",
            "Saving model with loss 1.553...\n"
          ]
        },
        {
          "output_type": "stream",
          "name": "stderr",
          "text": [
            "Epoch [625/3000]: 100%|██████████████████████████████████████████████████████| 9/9 [00:00<00:00, 195.08it/s, loss=1.62]\n"
          ]
        },
        {
          "output_type": "stream",
          "name": "stdout",
          "text": [
            "Epoch [625/3000]: Train loss: 1.6009, Valid loss: 1.8466\n"
          ]
        },
        {
          "output_type": "stream",
          "name": "stderr",
          "text": [
            "Epoch [626/3000]: 100%|██████████████████████████████████████████████████████| 9/9 [00:00<00:00, 194.53it/s, loss=1.56]\n"
          ]
        },
        {
          "output_type": "stream",
          "name": "stdout",
          "text": [
            "Epoch [626/3000]: Train loss: 1.5852, Valid loss: 1.6524\n"
          ]
        },
        {
          "output_type": "stream",
          "name": "stderr",
          "text": [
            "Epoch [627/3000]: 100%|██████████████████████████████████████████████████████| 9/9 [00:00<00:00, 199.77it/s, loss=2.07]\n"
          ]
        },
        {
          "output_type": "stream",
          "name": "stdout",
          "text": [
            "Epoch [627/3000]: Train loss: 1.6162, Valid loss: 2.0396\n"
          ]
        },
        {
          "output_type": "stream",
          "name": "stderr",
          "text": [
            "Epoch [628/3000]: 100%|██████████████████████████████████████████████████████| 9/9 [00:00<00:00, 211.54it/s, loss=1.46]\n"
          ]
        },
        {
          "output_type": "stream",
          "name": "stdout",
          "text": [
            "Epoch [628/3000]: Train loss: 1.5797, Valid loss: 2.1729\n"
          ]
        },
        {
          "output_type": "stream",
          "name": "stderr",
          "text": [
            "Epoch [629/3000]: 100%|██████████████████████████████████████████████████████| 9/9 [00:00<00:00, 214.14it/s, loss=1.34]\n"
          ]
        },
        {
          "output_type": "stream",
          "name": "stdout",
          "text": [
            "Epoch [629/3000]: Train loss: 1.5798, Valid loss: 1.6470\n"
          ]
        },
        {
          "output_type": "stream",
          "name": "stderr",
          "text": [
            "Epoch [630/3000]: 100%|██████████████████████████████████████████████████████| 9/9 [00:00<00:00, 202.05it/s, loss=1.66]\n"
          ]
        },
        {
          "output_type": "stream",
          "name": "stdout",
          "text": [
            "Epoch [630/3000]: Train loss: 1.5889, Valid loss: 1.8080\n"
          ]
        },
        {
          "output_type": "stream",
          "name": "stderr",
          "text": [
            "Epoch [631/3000]: 100%|██████████████████████████████████████████████████████| 9/9 [00:00<00:00, 181.54it/s, loss=2.51]\n"
          ]
        },
        {
          "output_type": "stream",
          "name": "stdout",
          "text": [
            "Epoch [631/3000]: Train loss: 1.6507, Valid loss: 1.7803\n"
          ]
        },
        {
          "output_type": "stream",
          "name": "stderr",
          "text": [
            "Epoch [632/3000]: 100%|██████████████████████████████████████████████████████| 9/9 [00:00<00:00, 181.67it/s, loss=1.55]\n"
          ]
        },
        {
          "output_type": "stream",
          "name": "stdout",
          "text": [
            "Epoch [632/3000]: Train loss: 1.5823, Valid loss: 1.7046\n"
          ]
        },
        {
          "output_type": "stream",
          "name": "stderr",
          "text": [
            "Epoch [633/3000]: 100%|██████████████████████████████████████████████████████| 9/9 [00:00<00:00, 178.10it/s, loss=1.28]\n"
          ]
        },
        {
          "output_type": "stream",
          "name": "stdout",
          "text": [
            "Epoch [633/3000]: Train loss: 1.5657, Valid loss: 1.9234\n"
          ]
        },
        {
          "output_type": "stream",
          "name": "stderr",
          "text": [
            "Epoch [634/3000]: 100%|██████████████████████████████████████████████████████| 9/9 [00:00<00:00, 167.22it/s, loss=1.73]\n"
          ]
        },
        {
          "output_type": "stream",
          "name": "stdout",
          "text": [
            "Epoch [634/3000]: Train loss: 1.5933, Valid loss: 1.8075\n"
          ]
        },
        {
          "output_type": "stream",
          "name": "stderr",
          "text": [
            "Epoch [635/3000]: 100%|██████████████████████████████████████████████████████| 9/9 [00:00<00:00, 191.41it/s, loss=1.19]"
          ]
        },
        {
          "output_type": "stream",
          "name": "stdout",
          "text": [
            "Epoch [635/3000]: Train loss: 1.5560, Valid loss: 1.8198"
          ]
        },
        {
          "output_type": "stream",
          "name": "stderr",
          "text": [
            "\n"
          ]
        },
        {
          "output_type": "stream",
          "name": "stdout",
          "text": [
            "\n"
          ]
        },
        {
          "output_type": "stream",
          "name": "stderr",
          "text": [
            "Epoch [636/3000]: 100%|███████████████████████████████████████████████████████| 9/9 [00:00<00:00, 192.45it/s, loss=1.7]\n"
          ]
        },
        {
          "output_type": "stream",
          "name": "stdout",
          "text": [
            "Epoch [636/3000]: Train loss: 1.5909, Valid loss: 1.8726\n"
          ]
        },
        {
          "output_type": "stream",
          "name": "stderr",
          "text": [
            "Epoch [637/3000]: 100%|███████████████████████████████████████████████████████| 9/9 [00:00<00:00, 183.17it/s, loss=1.5]\n"
          ]
        },
        {
          "output_type": "stream",
          "name": "stdout",
          "text": [
            "Epoch [637/3000]: Train loss: 1.5796, Valid loss: 1.7743\n"
          ]
        },
        {
          "output_type": "stream",
          "name": "stderr",
          "text": [
            "Epoch [638/3000]: 100%|██████████████████████████████████████████████████████| 9/9 [00:00<00:00, 181.55it/s, loss=1.62]\n"
          ]
        },
        {
          "output_type": "stream",
          "name": "stdout",
          "text": [
            "Epoch [638/3000]: Train loss: 1.6157, Valid loss: 1.9835\n"
          ]
        },
        {
          "output_type": "stream",
          "name": "stderr",
          "text": [
            "Epoch [639/3000]: 100%|██████████████████████████████████████████████████████| 9/9 [00:00<00:00, 167.99it/s, loss=1.21]\n"
          ]
        },
        {
          "output_type": "stream",
          "name": "stdout",
          "text": [
            "Epoch [639/3000]: Train loss: 1.5587, Valid loss: 1.9405\n"
          ]
        },
        {
          "output_type": "stream",
          "name": "stderr",
          "text": [
            "Epoch [640/3000]: 100%|██████████████████████████████████████████████████████| 9/9 [00:00<00:00, 179.82it/s, loss=2.34]\n"
          ]
        },
        {
          "output_type": "stream",
          "name": "stdout",
          "text": [
            "Epoch [640/3000]: Train loss: 1.6261, Valid loss: 1.7111\n"
          ]
        },
        {
          "output_type": "stream",
          "name": "stderr",
          "text": [
            "Epoch [641/3000]: 100%|███████████████████████████████████████████████████████| 9/9 [00:00<00:00, 171.21it/s, loss=2.1]\n"
          ]
        },
        {
          "output_type": "stream",
          "name": "stdout",
          "text": [
            "Epoch [641/3000]: Train loss: 1.6122, Valid loss: 1.6776\n"
          ]
        },
        {
          "output_type": "stream",
          "name": "stderr",
          "text": [
            "Epoch [642/3000]: 100%|██████████████████████████████████████████████████████| 9/9 [00:00<00:00, 202.04it/s, loss=1.86]\n"
          ]
        },
        {
          "output_type": "stream",
          "name": "stdout",
          "text": [
            "Epoch [642/3000]: Train loss: 1.5991, Valid loss: 1.7621\n"
          ]
        },
        {
          "output_type": "stream",
          "name": "stderr",
          "text": [
            "Epoch [643/3000]: 100%|██████████████████████████████████████████████████████| 9/9 [00:00<00:00, 206.75it/s, loss=1.23]\n"
          ]
        },
        {
          "output_type": "stream",
          "name": "stdout",
          "text": [
            "Epoch [643/3000]: Train loss: 1.5550, Valid loss: 1.9445\n"
          ]
        },
        {
          "output_type": "stream",
          "name": "stderr",
          "text": [
            "Epoch [644/3000]: 100%|██████████████████████████████████████████████████████| 9/9 [00:00<00:00, 221.98it/s, loss=1.57]\n"
          ]
        },
        {
          "output_type": "stream",
          "name": "stdout",
          "text": [
            "Epoch [644/3000]: Train loss: 1.5747, Valid loss: 2.1113\n"
          ]
        },
        {
          "output_type": "stream",
          "name": "stderr",
          "text": [
            "Epoch [645/3000]: 100%|██████████████████████████████████████████████████████| 9/9 [00:00<00:00, 195.12it/s, loss=1.61]\n"
          ]
        },
        {
          "output_type": "stream",
          "name": "stdout",
          "text": [
            "Epoch [645/3000]: Train loss: 1.5790, Valid loss: 1.8494\n"
          ]
        },
        {
          "output_type": "stream",
          "name": "stderr",
          "text": [
            "Epoch [646/3000]: 100%|██████████████████████████████████████████████████████| 9/9 [00:00<00:00, 191.34it/s, loss=1.68]\n"
          ]
        },
        {
          "output_type": "stream",
          "name": "stdout",
          "text": [
            "Epoch [646/3000]: Train loss: 1.5910, Valid loss: 1.8340\n"
          ]
        },
        {
          "output_type": "stream",
          "name": "stderr",
          "text": [
            "Epoch [647/3000]: 100%|██████████████████████████████████████████████████████| 9/9 [00:00<00:00, 192.96it/s, loss=2.46]\n"
          ]
        },
        {
          "output_type": "stream",
          "name": "stdout",
          "text": [
            "Epoch [647/3000]: Train loss: 1.6328, Valid loss: 1.6435\n"
          ]
        },
        {
          "output_type": "stream",
          "name": "stderr",
          "text": [
            "Epoch [648/3000]: 100%|██████████████████████████████████████████████████████| 9/9 [00:00<00:00, 204.29it/s, loss=1.49]\n"
          ]
        },
        {
          "output_type": "stream",
          "name": "stdout",
          "text": [
            "Epoch [648/3000]: Train loss: 1.5711, Valid loss: 1.7529\n"
          ]
        },
        {
          "output_type": "stream",
          "name": "stderr",
          "text": [
            "Epoch [649/3000]: 100%|███████████████████████████████████████████████████████| 9/9 [00:00<00:00, 209.38it/s, loss=1.7]\n"
          ]
        },
        {
          "output_type": "stream",
          "name": "stdout",
          "text": [
            "Epoch [649/3000]: Train loss: 1.5798, Valid loss: 1.8292\n"
          ]
        },
        {
          "output_type": "stream",
          "name": "stderr",
          "text": [
            "Epoch [650/3000]: 100%|██████████████████████████████████████████████████████| 9/9 [00:00<00:00, 219.14it/s, loss=1.16]\n"
          ]
        },
        {
          "output_type": "stream",
          "name": "stdout",
          "text": [
            "Epoch [650/3000]: Train loss: 1.5670, Valid loss: 2.0263\n"
          ]
        },
        {
          "output_type": "stream",
          "name": "stderr",
          "text": [
            "Epoch [651/3000]: 100%|██████████████████████████████████████████████████████| 9/9 [00:00<00:00, 197.02it/s, loss=1.21]\n"
          ]
        },
        {
          "output_type": "stream",
          "name": "stdout",
          "text": [
            "Epoch [651/3000]: Train loss: 1.5570, Valid loss: 1.9252\n"
          ]
        },
        {
          "output_type": "stream",
          "name": "stderr",
          "text": [
            "Epoch [652/3000]: 100%|███████████████████████████████████████████████████████| 9/9 [00:00<00:00, 92.93it/s, loss=1.72]\n"
          ]
        },
        {
          "output_type": "stream",
          "name": "stdout",
          "text": [
            "Epoch [652/3000]: Train loss: 1.5836, Valid loss: 1.9461\n"
          ]
        },
        {
          "output_type": "stream",
          "name": "stderr",
          "text": [
            "Epoch [653/3000]: 100%|██████████████████████████████████████████████████████| 9/9 [00:00<00:00, 187.95it/s, loss=1.42]\n"
          ]
        },
        {
          "output_type": "stream",
          "name": "stdout",
          "text": [
            "Epoch [653/3000]: Train loss: 1.5613, Valid loss: 1.9209\n"
          ]
        },
        {
          "output_type": "stream",
          "name": "stderr",
          "text": [
            "Epoch [654/3000]: 100%|██████████████████████████████████████████████████████| 9/9 [00:00<00:00, 195.23it/s, loss=2.07]\n"
          ]
        },
        {
          "output_type": "stream",
          "name": "stdout",
          "text": [
            "Epoch [654/3000]: Train loss: 1.6024, Valid loss: 1.6753\n"
          ]
        },
        {
          "output_type": "stream",
          "name": "stderr",
          "text": [
            "Epoch [655/3000]: 100%|██████████████████████████████████████████████████████| 9/9 [00:00<00:00, 196.95it/s, loss=1.37]\n"
          ]
        },
        {
          "output_type": "stream",
          "name": "stdout",
          "text": [
            "Epoch [655/3000]: Train loss: 1.5750, Valid loss: 1.8753\n"
          ]
        },
        {
          "output_type": "stream",
          "name": "stderr",
          "text": [
            "Epoch [656/3000]: 100%|██████████████████████████████████████████████████████| 9/9 [00:00<00:00, 174.61it/s, loss=1.38]\n"
          ]
        },
        {
          "output_type": "stream",
          "name": "stdout",
          "text": [
            "Epoch [656/3000]: Train loss: 1.5566, Valid loss: 1.7202\n"
          ]
        },
        {
          "output_type": "stream",
          "name": "stderr",
          "text": [
            "Epoch [657/3000]: 100%|██████████████████████████████████████████████████████| 9/9 [00:00<00:00, 191.27it/s, loss=1.18]\n"
          ]
        },
        {
          "output_type": "stream",
          "name": "stdout",
          "text": [
            "Epoch [657/3000]: Train loss: 1.5552, Valid loss: 1.8653\n"
          ]
        },
        {
          "output_type": "stream",
          "name": "stderr",
          "text": [
            "Epoch [658/3000]: 100%|██████████████████████████████████████████████████████| 9/9 [00:00<00:00, 189.26it/s, loss=1.46]\n"
          ]
        },
        {
          "output_type": "stream",
          "name": "stdout",
          "text": [
            "Epoch [658/3000]: Train loss: 1.5687, Valid loss: 1.8791\n"
          ]
        },
        {
          "output_type": "stream",
          "name": "stderr",
          "text": [
            "Epoch [659/3000]: 100%|██████████████████████████████████████████████████████| 9/9 [00:00<00:00, 176.24it/s, loss=1.56]\n"
          ]
        },
        {
          "output_type": "stream",
          "name": "stdout",
          "text": [
            "Epoch [659/3000]: Train loss: 1.5765, Valid loss: 1.8279\n"
          ]
        },
        {
          "output_type": "stream",
          "name": "stderr",
          "text": [
            "Epoch [660/3000]: 100%|██████████████████████████████████████████████████████| 9/9 [00:00<00:00, 181.61it/s, loss=1.57]\n"
          ]
        },
        {
          "output_type": "stream",
          "name": "stdout",
          "text": [
            "Epoch [660/3000]: Train loss: 1.5657, Valid loss: 2.1559\n"
          ]
        },
        {
          "output_type": "stream",
          "name": "stderr",
          "text": [
            "Epoch [661/3000]: 100%|██████████████████████████████████████████████████████| 9/9 [00:00<00:00, 189.33it/s, loss=1.48]\n"
          ]
        },
        {
          "output_type": "stream",
          "name": "stdout",
          "text": [
            "Epoch [661/3000]: Train loss: 1.5686, Valid loss: 1.9333\n"
          ]
        },
        {
          "output_type": "stream",
          "name": "stderr",
          "text": [
            "Epoch [662/3000]: 100%|██████████████████████████████████████████████████████| 9/9 [00:00<00:00, 195.41it/s, loss=2.24]\n"
          ]
        },
        {
          "output_type": "stream",
          "name": "stdout",
          "text": [
            "Epoch [662/3000]: Train loss: 1.6151, Valid loss: 1.6112\n"
          ]
        },
        {
          "output_type": "stream",
          "name": "stderr",
          "text": [
            "Epoch [663/3000]: 100%|██████████████████████████████████████████████████████| 9/9 [00:00<00:00, 181.68it/s, loss=1.28]\n"
          ]
        },
        {
          "output_type": "stream",
          "name": "stdout",
          "text": [
            "Epoch [663/3000]: Train loss: 1.5513, Valid loss: 2.1481\n"
          ]
        },
        {
          "output_type": "stream",
          "name": "stderr",
          "text": [
            "Epoch [664/3000]: 100%|██████████████████████████████████████████████████████| 9/9 [00:00<00:00, 201.43it/s, loss=1.61]\n"
          ]
        },
        {
          "output_type": "stream",
          "name": "stdout",
          "text": [
            "Epoch [664/3000]: Train loss: 1.5835, Valid loss: 1.6345\n"
          ]
        },
        {
          "output_type": "stream",
          "name": "stderr",
          "text": [
            "Epoch [665/3000]: 100%|██████████████████████████████████████████████████████| 9/9 [00:00<00:00, 206.68it/s, loss=1.05]\n"
          ]
        },
        {
          "output_type": "stream",
          "name": "stdout",
          "text": [
            "Epoch [665/3000]: Train loss: 1.5407, Valid loss: 1.7629\n"
          ]
        },
        {
          "output_type": "stream",
          "name": "stderr",
          "text": [
            "Epoch [666/3000]: 100%|██████████████████████████████████████████████████████| 9/9 [00:00<00:00, 195.55it/s, loss=1.78]\n"
          ]
        },
        {
          "output_type": "stream",
          "name": "stdout",
          "text": [
            "Epoch [666/3000]: Train loss: 1.5833, Valid loss: 1.4632\n",
            "Saving model with loss 1.463...\n"
          ]
        },
        {
          "output_type": "stream",
          "name": "stderr",
          "text": [
            "Epoch [667/3000]: 100%|██████████████████████████████████████████████████████| 9/9 [00:00<00:00, 187.24it/s, loss=1.69]\n"
          ]
        },
        {
          "output_type": "stream",
          "name": "stdout",
          "text": [
            "Epoch [667/3000]: Train loss: 1.5859, Valid loss: 1.8582\n"
          ]
        },
        {
          "output_type": "stream",
          "name": "stderr",
          "text": [
            "Epoch [668/3000]: 100%|██████████████████████████████████████████████████████| 9/9 [00:00<00:00, 203.50it/s, loss=2.12]\n"
          ]
        },
        {
          "output_type": "stream",
          "name": "stdout",
          "text": [
            "Epoch [668/3000]: Train loss: 1.6133, Valid loss: 2.1036\n"
          ]
        },
        {
          "output_type": "stream",
          "name": "stderr",
          "text": [
            "Epoch [669/3000]: 100%|██████████████████████████████████████████████████████| 9/9 [00:00<00:00, 195.43it/s, loss=1.36]\n"
          ]
        },
        {
          "output_type": "stream",
          "name": "stdout",
          "text": [
            "Epoch [669/3000]: Train loss: 1.5497, Valid loss: 1.9393\n"
          ]
        },
        {
          "output_type": "stream",
          "name": "stderr",
          "text": [
            "Epoch [670/3000]: 100%|██████████████████████████████████████████████████████| 9/9 [00:00<00:00, 199.90it/s, loss=1.64]\n"
          ]
        },
        {
          "output_type": "stream",
          "name": "stdout",
          "text": [
            "Epoch [670/3000]: Train loss: 1.5707, Valid loss: 1.9985\n"
          ]
        },
        {
          "output_type": "stream",
          "name": "stderr",
          "text": [
            "Epoch [671/3000]: 100%|██████████████████████████████████████████████████████| 9/9 [00:00<00:00, 191.26it/s, loss=1.23]\n"
          ]
        },
        {
          "output_type": "stream",
          "name": "stdout",
          "text": [
            "Epoch [671/3000]: Train loss: 1.5403, Valid loss: 1.8031\n"
          ]
        },
        {
          "output_type": "stream",
          "name": "stderr",
          "text": [
            "Epoch [672/3000]: 100%|██████████████████████████████████████████████████████| 9/9 [00:00<00:00, 181.29it/s, loss=1.82]\n"
          ]
        },
        {
          "output_type": "stream",
          "name": "stdout",
          "text": [
            "Epoch [672/3000]: Train loss: 1.5771, Valid loss: 1.8148\n"
          ]
        },
        {
          "output_type": "stream",
          "name": "stderr",
          "text": [
            "Epoch [673/3000]: 100%|██████████████████████████████████████████████████████| 9/9 [00:00<00:00, 208.99it/s, loss=1.18]\n"
          ]
        },
        {
          "output_type": "stream",
          "name": "stdout",
          "text": [
            "Epoch [673/3000]: Train loss: 1.5381, Valid loss: 1.9327\n"
          ]
        },
        {
          "output_type": "stream",
          "name": "stderr",
          "text": [
            "Epoch [674/3000]: 100%|██████████████████████████████████████████████████████| 9/9 [00:00<00:00, 178.10it/s, loss=1.82]\n"
          ]
        },
        {
          "output_type": "stream",
          "name": "stdout",
          "text": [
            "Epoch [674/3000]: Train loss: 1.5741, Valid loss: 1.6953\n"
          ]
        },
        {
          "output_type": "stream",
          "name": "stderr",
          "text": [
            "Epoch [675/3000]: 100%|██████████████████████████████████████████████████████| 9/9 [00:00<00:00, 174.61it/s, loss=1.76]\n"
          ]
        },
        {
          "output_type": "stream",
          "name": "stdout",
          "text": [
            "Epoch [675/3000]: Train loss: 1.5758, Valid loss: 2.3675\n"
          ]
        },
        {
          "output_type": "stream",
          "name": "stderr",
          "text": [
            "Epoch [676/3000]: 100%|██████████████████████████████████████████████████████| 9/9 [00:00<00:00, 179.80it/s, loss=1.17]\n"
          ]
        },
        {
          "output_type": "stream",
          "name": "stdout",
          "text": [
            "Epoch [676/3000]: Train loss: 1.5377, Valid loss: 1.8188\n"
          ]
        },
        {
          "output_type": "stream",
          "name": "stderr",
          "text": [
            "Epoch [677/3000]: 100%|██████████████████████████████████████████████████████| 9/9 [00:00<00:00, 185.46it/s, loss=1.99]\n"
          ]
        },
        {
          "output_type": "stream",
          "name": "stdout",
          "text": [
            "Epoch [677/3000]: Train loss: 1.6118, Valid loss: 1.7768\n"
          ]
        },
        {
          "output_type": "stream",
          "name": "stderr",
          "text": [
            "Epoch [678/3000]: 100%|██████████████████████████████████████████████████████| 9/9 [00:00<00:00, 180.98it/s, loss=1.24]\n"
          ]
        },
        {
          "output_type": "stream",
          "name": "stdout",
          "text": [
            "Epoch [678/3000]: Train loss: 1.5472, Valid loss: 1.6245\n"
          ]
        },
        {
          "output_type": "stream",
          "name": "stderr",
          "text": [
            "Epoch [679/3000]: 100%|██████████████████████████████████████████████████████| 9/9 [00:00<00:00, 187.26it/s, loss=1.71]\n"
          ]
        },
        {
          "output_type": "stream",
          "name": "stdout",
          "text": [
            "Epoch [679/3000]: Train loss: 1.5680, Valid loss: 1.6699\n"
          ]
        },
        {
          "output_type": "stream",
          "name": "stderr",
          "text": [
            "Epoch [680/3000]: 100%|██████████████████████████████████████████████████████| 9/9 [00:00<00:00, 179.40it/s, loss=1.06]\n"
          ]
        },
        {
          "output_type": "stream",
          "name": "stdout",
          "text": [
            "Epoch [680/3000]: Train loss: 1.5284, Valid loss: 1.7358\n"
          ]
        },
        {
          "output_type": "stream",
          "name": "stderr",
          "text": [
            "Epoch [681/3000]: 100%|██████████████████████████████████████████████████████| 9/9 [00:00<00:00, 177.93it/s, loss=1.45]\n"
          ]
        },
        {
          "output_type": "stream",
          "name": "stdout",
          "text": [
            "Epoch [681/3000]: Train loss: 1.5457, Valid loss: 2.0442\n"
          ]
        },
        {
          "output_type": "stream",
          "name": "stderr",
          "text": [
            "Epoch [682/3000]: 100%|██████████████████████████████████████████████████████| 9/9 [00:00<00:00, 176.34it/s, loss=1.95]\n"
          ]
        },
        {
          "output_type": "stream",
          "name": "stdout",
          "text": [
            "Epoch [682/3000]: Train loss: 1.5809, Valid loss: 1.7878\n"
          ]
        },
        {
          "output_type": "stream",
          "name": "stderr",
          "text": [
            "Epoch [683/3000]: 100%|██████████████████████████████████████████████████████| 9/9 [00:00<00:00, 191.26it/s, loss=2.16]\n"
          ]
        },
        {
          "output_type": "stream",
          "name": "stdout",
          "text": [
            "Epoch [683/3000]: Train loss: 1.6006, Valid loss: 1.9182\n"
          ]
        },
        {
          "output_type": "stream",
          "name": "stderr",
          "text": [
            "Epoch [684/3000]: 100%|██████████████████████████████████████████████████████| 9/9 [00:00<00:00, 183.29it/s, loss=1.78]\n"
          ]
        },
        {
          "output_type": "stream",
          "name": "stdout",
          "text": [
            "Epoch [684/3000]: Train loss: 1.5785, Valid loss: 1.8425\n"
          ]
        },
        {
          "output_type": "stream",
          "name": "stderr",
          "text": [
            "Epoch [685/3000]: 100%|██████████████████████████████████████████████████████| 9/9 [00:00<00:00, 190.22it/s, loss=1.16]\n"
          ]
        },
        {
          "output_type": "stream",
          "name": "stdout",
          "text": [
            "Epoch [685/3000]: Train loss: 1.5335, Valid loss: 1.8162\n"
          ]
        },
        {
          "output_type": "stream",
          "name": "stderr",
          "text": [
            "Epoch [686/3000]: 100%|██████████████████████████████████████████████████████| 9/9 [00:00<00:00, 169.58it/s, loss=1.47]\n"
          ]
        },
        {
          "output_type": "stream",
          "name": "stdout",
          "text": [
            "Epoch [686/3000]: Train loss: 1.5474, Valid loss: 2.2449\n"
          ]
        },
        {
          "output_type": "stream",
          "name": "stderr",
          "text": [
            "Epoch [687/3000]: 100%|██████████████████████████████████████████████████████| 9/9 [00:00<00:00, 197.98it/s, loss=1.64]\n"
          ]
        },
        {
          "output_type": "stream",
          "name": "stdout",
          "text": [
            "Epoch [687/3000]: Train loss: 1.5586, Valid loss: 1.7554\n"
          ]
        },
        {
          "output_type": "stream",
          "name": "stderr",
          "text": [
            "Epoch [688/3000]: 100%|██████████████████████████████████████████████████████| 9/9 [00:00<00:00, 199.74it/s, loss=1.28]\n"
          ]
        },
        {
          "output_type": "stream",
          "name": "stdout",
          "text": [
            "Epoch [688/3000]: Train loss: 1.5313, Valid loss: 1.7167\n"
          ]
        },
        {
          "output_type": "stream",
          "name": "stderr",
          "text": [
            "Epoch [689/3000]: 100%|██████████████████████████████████████████████████████| 9/9 [00:00<00:00, 159.24it/s, loss=1.61]\n"
          ]
        },
        {
          "output_type": "stream",
          "name": "stdout",
          "text": [
            "Epoch [689/3000]: Train loss: 1.5511, Valid loss: 1.7776\n"
          ]
        },
        {
          "output_type": "stream",
          "name": "stderr",
          "text": [
            "Epoch [690/3000]: 100%|██████████████████████████████████████████████████████| 9/9 [00:00<00:00, 185.49it/s, loss=1.96]\n"
          ]
        },
        {
          "output_type": "stream",
          "name": "stdout",
          "text": [
            "Epoch [690/3000]: Train loss: 1.5749, Valid loss: 2.0083\n"
          ]
        },
        {
          "output_type": "stream",
          "name": "stderr",
          "text": [
            "Epoch [691/3000]: 100%|███████████████████████████████████████████████████████| 9/9 [00:00<00:00, 183.43it/s, loss=1.5]\n"
          ]
        },
        {
          "output_type": "stream",
          "name": "stdout",
          "text": [
            "Epoch [691/3000]: Train loss: 1.5503, Valid loss: 1.8041\n"
          ]
        },
        {
          "output_type": "stream",
          "name": "stderr",
          "text": [
            "Epoch [692/3000]: 100%|██████████████████████████████████████████████████████| 9/9 [00:00<00:00, 204.27it/s, loss=1.85]\n"
          ]
        },
        {
          "output_type": "stream",
          "name": "stdout",
          "text": [
            "Epoch [692/3000]: Train loss: 1.5673, Valid loss: 1.6625\n"
          ]
        },
        {
          "output_type": "stream",
          "name": "stderr",
          "text": [
            "Epoch [693/3000]: 100%|██████████████████████████████████████████████████████| 9/9 [00:00<00:00, 185.39it/s, loss=1.43]\n"
          ]
        },
        {
          "output_type": "stream",
          "name": "stdout",
          "text": [
            "Epoch [693/3000]: Train loss: 1.5510, Valid loss: 1.8637\n"
          ]
        },
        {
          "output_type": "stream",
          "name": "stderr",
          "text": [
            "Epoch [694/3000]: 100%|██████████████████████████████████████████████████████| 9/9 [00:00<00:00, 183.52it/s, loss=1.86]\n"
          ]
        },
        {
          "output_type": "stream",
          "name": "stdout",
          "text": [
            "Epoch [694/3000]: Train loss: 1.5684, Valid loss: 1.9637\n"
          ]
        },
        {
          "output_type": "stream",
          "name": "stderr",
          "text": [
            "Epoch [695/3000]: 100%|██████████████████████████████████████████████████████| 9/9 [00:00<00:00, 199.90it/s, loss=1.48]\n"
          ]
        },
        {
          "output_type": "stream",
          "name": "stdout",
          "text": [
            "Epoch [695/3000]: Train loss: 1.5449, Valid loss: 1.8197\n"
          ]
        },
        {
          "output_type": "stream",
          "name": "stderr",
          "text": [
            "Epoch [696/3000]: 100%|███████████████████████████████████████████████████████| 9/9 [00:00<00:00, 179.83it/s, loss=1.7]\n"
          ]
        },
        {
          "output_type": "stream",
          "name": "stdout",
          "text": [
            "Epoch [696/3000]: Train loss: 1.5776, Valid loss: 2.0252\n"
          ]
        },
        {
          "output_type": "stream",
          "name": "stderr",
          "text": [
            "Epoch [697/3000]: 100%|██████████████████████████████████████████████████████| 9/9 [00:00<00:00, 206.68it/s, loss=1.16]\n"
          ]
        },
        {
          "output_type": "stream",
          "name": "stdout",
          "text": [
            "Epoch [697/3000]: Train loss: 1.5187, Valid loss: 1.6740\n"
          ]
        },
        {
          "output_type": "stream",
          "name": "stderr",
          "text": [
            "Epoch [698/3000]: 100%|██████████████████████████████████████████████████████| 9/9 [00:00<00:00, 205.98it/s, loss=1.59]\n"
          ]
        },
        {
          "output_type": "stream",
          "name": "stdout",
          "text": [
            "Epoch [698/3000]: Train loss: 1.5533, Valid loss: 2.0452\n"
          ]
        },
        {
          "output_type": "stream",
          "name": "stderr",
          "text": [
            "Epoch [699/3000]: 100%|██████████████████████████████████████████████████████| 9/9 [00:00<00:00, 207.46it/s, loss=1.75]\n"
          ]
        },
        {
          "output_type": "stream",
          "name": "stdout",
          "text": [
            "Epoch [699/3000]: Train loss: 1.5562, Valid loss: 1.8281\n"
          ]
        },
        {
          "output_type": "stream",
          "name": "stderr",
          "text": [
            "Epoch [700/3000]: 100%|██████████████████████████████████████████████████████| 9/9 [00:00<00:00, 199.22it/s, loss=1.59]\n"
          ]
        },
        {
          "output_type": "stream",
          "name": "stdout",
          "text": [
            "Epoch [700/3000]: Train loss: 1.5556, Valid loss: 1.5501\n"
          ]
        },
        {
          "output_type": "stream",
          "name": "stderr",
          "text": [
            "Epoch [701/3000]: 100%|██████████████████████████████████████████████████████| 9/9 [00:00<00:00, 204.34it/s, loss=2.07]\n"
          ]
        },
        {
          "output_type": "stream",
          "name": "stdout",
          "text": [
            "Epoch [701/3000]: Train loss: 1.5788, Valid loss: 1.6225\n"
          ]
        },
        {
          "output_type": "stream",
          "name": "stderr",
          "text": [
            "Epoch [702/3000]: 100%|██████████████████████████████████████████████████████| 9/9 [00:00<00:00, 181.64it/s, loss=2.29]\n"
          ]
        },
        {
          "output_type": "stream",
          "name": "stdout",
          "text": [
            "Epoch [702/3000]: Train loss: 1.6104, Valid loss: 1.6644\n"
          ]
        },
        {
          "output_type": "stream",
          "name": "stderr",
          "text": [
            "Epoch [703/3000]: 100%|██████████████████████████████████████████████████████| 9/9 [00:00<00:00, 166.47it/s, loss=1.62]\n"
          ]
        },
        {
          "output_type": "stream",
          "name": "stdout",
          "text": [
            "Epoch [703/3000]: Train loss: 1.5542, Valid loss: 1.8381\n"
          ]
        },
        {
          "output_type": "stream",
          "name": "stderr",
          "text": [
            "Epoch [704/3000]: 100%|██████████████████████████████████████████████████████| 9/9 [00:00<00:00, 176.08it/s, loss=1.17]\n"
          ]
        },
        {
          "output_type": "stream",
          "name": "stdout",
          "text": [
            "Epoch [704/3000]: Train loss: 1.5219, Valid loss: 1.9254\n"
          ]
        },
        {
          "output_type": "stream",
          "name": "stderr",
          "text": [
            "Epoch [705/3000]: 100%|█████████████████████████████████████████████████████████| 9/9 [00:00<00:00, 169.65it/s, loss=1]\n"
          ]
        },
        {
          "output_type": "stream",
          "name": "stdout",
          "text": [
            "Epoch [705/3000]: Train loss: 1.5074, Valid loss: 1.7573\n"
          ]
        },
        {
          "output_type": "stream",
          "name": "stderr",
          "text": [
            "Epoch [706/3000]: 100%|██████████████████████████████████████████████████████| 9/9 [00:00<00:00, 178.17it/s, loss=1.65]\n"
          ]
        },
        {
          "output_type": "stream",
          "name": "stdout",
          "text": [
            "Epoch [706/3000]: Train loss: 1.5461, Valid loss: 1.9921\n"
          ]
        },
        {
          "output_type": "stream",
          "name": "stderr",
          "text": [
            "Epoch [707/3000]: 100%|███████████████████████████████████████████████████████| 9/9 [00:00<00:00, 181.67it/s, loss=1.3]\n"
          ]
        },
        {
          "output_type": "stream",
          "name": "stdout",
          "text": [
            "Epoch [707/3000]: Train loss: 1.5290, Valid loss: 1.6611\n"
          ]
        },
        {
          "output_type": "stream",
          "name": "stderr",
          "text": [
            "Epoch [708/3000]: 100%|███████████████████████████████████████████████████████| 9/9 [00:00<00:00, 172.92it/s, loss=1.8]\n"
          ]
        },
        {
          "output_type": "stream",
          "name": "stdout",
          "text": [
            "Epoch [708/3000]: Train loss: 1.5593, Valid loss: 1.6599\n"
          ]
        },
        {
          "output_type": "stream",
          "name": "stderr",
          "text": [
            "Epoch [709/3000]: 100%|██████████████████████████████████████████████████████| 9/9 [00:00<00:00, 195.56it/s, loss=1.63]\n"
          ]
        },
        {
          "output_type": "stream",
          "name": "stdout",
          "text": [
            "Epoch [709/3000]: Train loss: 1.5501, Valid loss: 1.6340\n"
          ]
        },
        {
          "output_type": "stream",
          "name": "stderr",
          "text": [
            "Epoch [710/3000]: 100%|██████████████████████████████████████████████████████| 9/9 [00:00<00:00, 202.05it/s, loss=1.74]\n"
          ]
        },
        {
          "output_type": "stream",
          "name": "stdout",
          "text": [
            "Epoch [710/3000]: Train loss: 1.5543, Valid loss: 1.5965\n"
          ]
        },
        {
          "output_type": "stream",
          "name": "stderr",
          "text": [
            "Epoch [711/3000]: 100%|██████████████████████████████████████████████████████| 9/9 [00:00<00:00, 191.28it/s, loss=2.18]\n"
          ]
        },
        {
          "output_type": "stream",
          "name": "stdout",
          "text": [
            "Epoch [711/3000]: Train loss: 1.5750, Valid loss: 1.7173\n"
          ]
        },
        {
          "output_type": "stream",
          "name": "stderr",
          "text": [
            "Epoch [712/3000]: 100%|███████████████████████████████████████████████████████| 9/9 [00:00<00:00, 197.92it/s, loss=1.2]\n"
          ]
        },
        {
          "output_type": "stream",
          "name": "stdout",
          "text": [
            "Epoch [712/3000]: Train loss: 1.5311, Valid loss: 1.7766\n"
          ]
        },
        {
          "output_type": "stream",
          "name": "stderr",
          "text": [
            "Epoch [713/3000]: 100%|██████████████████████████████████████████████████████| 9/9 [00:00<00:00, 181.71it/s, loss=1.73]\n"
          ]
        },
        {
          "output_type": "stream",
          "name": "stdout",
          "text": [
            "Epoch [713/3000]: Train loss: 1.5443, Valid loss: 1.7305\n"
          ]
        },
        {
          "output_type": "stream",
          "name": "stderr",
          "text": [
            "Epoch [714/3000]: 100%|██████████████████████████████████████████████████████| 9/9 [00:00<00:00, 199.67it/s, loss=2.11]\n"
          ]
        },
        {
          "output_type": "stream",
          "name": "stdout",
          "text": [
            "Epoch [714/3000]: Train loss: 1.6057, Valid loss: 2.1137\n"
          ]
        },
        {
          "output_type": "stream",
          "name": "stderr",
          "text": [
            "Epoch [715/3000]: 100%|██████████████████████████████████████████████████████| 9/9 [00:00<00:00, 186.50it/s, loss=1.39]\n"
          ]
        },
        {
          "output_type": "stream",
          "name": "stdout",
          "text": [
            "Epoch [715/3000]: Train loss: 1.5314, Valid loss: 1.9175\n"
          ]
        },
        {
          "output_type": "stream",
          "name": "stderr",
          "text": [
            "Epoch [716/3000]: 100%|██████████████████████████████████████████████████████| 9/9 [00:00<00:00, 187.16it/s, loss=1.51]\n"
          ]
        },
        {
          "output_type": "stream",
          "name": "stdout",
          "text": [
            "Epoch [716/3000]: Train loss: 1.5412, Valid loss: 1.7181\n"
          ]
        },
        {
          "output_type": "stream",
          "name": "stderr",
          "text": [
            "Epoch [717/3000]: 100%|██████████████████████████████████████████████████████| 9/9 [00:00<00:00, 199.28it/s, loss=1.85]\n"
          ]
        },
        {
          "output_type": "stream",
          "name": "stdout",
          "text": [
            "Epoch [717/3000]: Train loss: 1.5534, Valid loss: 1.8160\n"
          ]
        },
        {
          "output_type": "stream",
          "name": "stderr",
          "text": [
            "Epoch [718/3000]: 100%|██████████████████████████████████████████████████████| 9/9 [00:00<00:00, 174.62it/s, loss=1.56]\n"
          ]
        },
        {
          "output_type": "stream",
          "name": "stdout",
          "text": [
            "Epoch [718/3000]: Train loss: 1.5358, Valid loss: 1.4821\n"
          ]
        },
        {
          "output_type": "stream",
          "name": "stderr",
          "text": [
            "Epoch [719/3000]: 100%|██████████████████████████████████████████████████████| 9/9 [00:00<00:00, 204.32it/s, loss=1.58]\n"
          ]
        },
        {
          "output_type": "stream",
          "name": "stdout",
          "text": [
            "Epoch [719/3000]: Train loss: 1.5307, Valid loss: 1.6320\n"
          ]
        },
        {
          "output_type": "stream",
          "name": "stderr",
          "text": [
            "Epoch [720/3000]: 100%|██████████████████████████████████████████████████████| 9/9 [00:00<00:00, 191.29it/s, loss=1.59]\n"
          ]
        },
        {
          "output_type": "stream",
          "name": "stdout",
          "text": [
            "Epoch [720/3000]: Train loss: 1.5468, Valid loss: 1.6191\n"
          ]
        },
        {
          "output_type": "stream",
          "name": "stderr",
          "text": [
            "Epoch [721/3000]: 100%|██████████████████████████████████████████████████████| 9/9 [00:00<00:00, 190.93it/s, loss=1.34]\n"
          ]
        },
        {
          "output_type": "stream",
          "name": "stdout",
          "text": [
            "Epoch [721/3000]: Train loss: 1.5253, Valid loss: 1.9009\n"
          ]
        },
        {
          "output_type": "stream",
          "name": "stderr",
          "text": [
            "Epoch [722/3000]: 100%|██████████████████████████████████████████████████████| 9/9 [00:00<00:00, 204.05it/s, loss=1.32]\n"
          ]
        },
        {
          "output_type": "stream",
          "name": "stdout",
          "text": [
            "Epoch [722/3000]: Train loss: 1.5162, Valid loss: 1.8000\n"
          ]
        },
        {
          "output_type": "stream",
          "name": "stderr",
          "text": [
            "Epoch [723/3000]: 100%|██████████████████████████████████████████████████████| 9/9 [00:00<00:00, 195.17it/s, loss=1.29]\n"
          ]
        },
        {
          "output_type": "stream",
          "name": "stdout",
          "text": [
            "Epoch [723/3000]: Train loss: 1.5250, Valid loss: 1.6605\n"
          ]
        },
        {
          "output_type": "stream",
          "name": "stderr",
          "text": [
            "Epoch [724/3000]: 100%|██████████████████████████████████████████████████████| 9/9 [00:00<00:00, 185.22it/s, loss=1.43]\n"
          ]
        },
        {
          "output_type": "stream",
          "name": "stdout",
          "text": [
            "Epoch [724/3000]: Train loss: 1.5276, Valid loss: 2.0858\n"
          ]
        },
        {
          "output_type": "stream",
          "name": "stderr",
          "text": [
            "Epoch [725/3000]: 100%|██████████████████████████████████████████████████████| 9/9 [00:00<00:00, 211.57it/s, loss=1.42]\n"
          ]
        },
        {
          "output_type": "stream",
          "name": "stdout",
          "text": [
            "Epoch [725/3000]: Train loss: 1.5327, Valid loss: 1.8458\n"
          ]
        },
        {
          "output_type": "stream",
          "name": "stderr",
          "text": [
            "Epoch [726/3000]: 100%|██████████████████████████████████████████████████████| 9/9 [00:00<00:00, 204.10it/s, loss=1.51]\n"
          ]
        },
        {
          "output_type": "stream",
          "name": "stdout",
          "text": [
            "Epoch [726/3000]: Train loss: 1.5295, Valid loss: 1.5794\n"
          ]
        },
        {
          "output_type": "stream",
          "name": "stderr",
          "text": [
            "Epoch [727/3000]: 100%|██████████████████████████████████████████████████████| 9/9 [00:00<00:00, 163.06it/s, loss=1.57]\n"
          ]
        },
        {
          "output_type": "stream",
          "name": "stdout",
          "text": [
            "Epoch [727/3000]: Train loss: 1.5367, Valid loss: 1.9037\n"
          ]
        },
        {
          "output_type": "stream",
          "name": "stderr",
          "text": [
            "Epoch [728/3000]: 100%|██████████████████████████████████████████████████████| 9/9 [00:00<00:00, 179.84it/s, loss=2.13]\n"
          ]
        },
        {
          "output_type": "stream",
          "name": "stdout",
          "text": [
            "Epoch [728/3000]: Train loss: 1.5642, Valid loss: 2.0096\n"
          ]
        },
        {
          "output_type": "stream",
          "name": "stderr",
          "text": [
            "Epoch [729/3000]: 100%|██████████████████████████████████████████████████████| 9/9 [00:00<00:00, 179.77it/s, loss=2.01]\n"
          ]
        },
        {
          "output_type": "stream",
          "name": "stdout",
          "text": [
            "Epoch [729/3000]: Train loss: 1.5850, Valid loss: 1.5099\n"
          ]
        },
        {
          "output_type": "stream",
          "name": "stderr",
          "text": [
            "Epoch [730/3000]: 100%|██████████████████████████████████████████████████████| 9/9 [00:00<00:00, 185.59it/s, loss=1.52]\n"
          ]
        },
        {
          "output_type": "stream",
          "name": "stdout",
          "text": [
            "Epoch [730/3000]: Train loss: 1.5286, Valid loss: 1.6177\n"
          ]
        },
        {
          "output_type": "stream",
          "name": "stderr",
          "text": [
            "Epoch [731/3000]: 100%|██████████████████████████████████████████████████████| 9/9 [00:00<00:00, 178.26it/s, loss=1.88]\n"
          ]
        },
        {
          "output_type": "stream",
          "name": "stdout",
          "text": [
            "Epoch [731/3000]: Train loss: 1.5503, Valid loss: 2.0093\n"
          ]
        },
        {
          "output_type": "stream",
          "name": "stderr",
          "text": [
            "Epoch [732/3000]: 100%|██████████████████████████████████████████████████████| 9/9 [00:00<00:00, 216.70it/s, loss=1.22]\n"
          ]
        },
        {
          "output_type": "stream",
          "name": "stdout",
          "text": [
            "Epoch [732/3000]: Train loss: 1.5178, Valid loss: 1.6859\n"
          ]
        },
        {
          "output_type": "stream",
          "name": "stderr",
          "text": [
            "Epoch [733/3000]: 100%|██████████████████████████████████████████████████████| 9/9 [00:00<00:00, 197.25it/s, loss=1.65]\n"
          ]
        },
        {
          "output_type": "stream",
          "name": "stdout",
          "text": [
            "Epoch [733/3000]: Train loss: 1.5404, Valid loss: 2.0094\n"
          ]
        },
        {
          "output_type": "stream",
          "name": "stderr",
          "text": [
            "Epoch [734/3000]: 100%|██████████████████████████████████████████████████████| 9/9 [00:00<00:00, 193.10it/s, loss=2.23]\n"
          ]
        },
        {
          "output_type": "stream",
          "name": "stdout",
          "text": [
            "Epoch [734/3000]: Train loss: 1.5722, Valid loss: 1.6149\n"
          ]
        },
        {
          "output_type": "stream",
          "name": "stderr",
          "text": [
            "Epoch [735/3000]: 100%|██████████████████████████████████████████████████████| 9/9 [00:00<00:00, 197.43it/s, loss=1.78]\n"
          ]
        },
        {
          "output_type": "stream",
          "name": "stdout",
          "text": [
            "Epoch [735/3000]: Train loss: 1.5364, Valid loss: 2.1565\n"
          ]
        },
        {
          "output_type": "stream",
          "name": "stderr",
          "text": [
            "Epoch [736/3000]: 100%|██████████████████████████████████████████████████████| 9/9 [00:00<00:00, 195.57it/s, loss=1.18]\n"
          ]
        },
        {
          "output_type": "stream",
          "name": "stdout",
          "text": [
            "Epoch [736/3000]: Train loss: 1.5000, Valid loss: 1.7517\n"
          ]
        },
        {
          "output_type": "stream",
          "name": "stderr",
          "text": [
            "Epoch [737/3000]: 100%|██████████████████████████████████████████████████████| 9/9 [00:00<00:00, 197.66it/s, loss=1.42]\n"
          ]
        },
        {
          "output_type": "stream",
          "name": "stdout",
          "text": [
            "Epoch [737/3000]: Train loss: 1.5135, Valid loss: 1.5499\n"
          ]
        },
        {
          "output_type": "stream",
          "name": "stderr",
          "text": [
            "Epoch [738/3000]: 100%|██████████████████████████████████████████████████████| 9/9 [00:00<00:00, 206.68it/s, loss=1.83]\n"
          ]
        },
        {
          "output_type": "stream",
          "name": "stdout",
          "text": [
            "Epoch [738/3000]: Train loss: 1.5387, Valid loss: 1.8715\n"
          ]
        },
        {
          "output_type": "stream",
          "name": "stderr",
          "text": [
            "Epoch [739/3000]: 100%|██████████████████████████████████████████████████████| 9/9 [00:00<00:00, 187.17it/s, loss=1.37]\n"
          ]
        },
        {
          "output_type": "stream",
          "name": "stdout",
          "text": [
            "Epoch [739/3000]: Train loss: 1.5218, Valid loss: 1.6277\n"
          ]
        },
        {
          "output_type": "stream",
          "name": "stderr",
          "text": [
            "Epoch [740/3000]: 100%|██████████████████████████████████████████████████████| 9/9 [00:00<00:00, 191.43it/s, loss=1.37]\n"
          ]
        },
        {
          "output_type": "stream",
          "name": "stdout",
          "text": [
            "Epoch [740/3000]: Train loss: 1.5155, Valid loss: 1.6833\n"
          ]
        },
        {
          "output_type": "stream",
          "name": "stderr",
          "text": [
            "Epoch [741/3000]: 100%|███████████████████████████████████████████████████████| 9/9 [00:00<00:00, 95.36it/s, loss=1.55]\n"
          ]
        },
        {
          "output_type": "stream",
          "name": "stdout",
          "text": [
            "Epoch [741/3000]: Train loss: 1.5205, Valid loss: 2.3685\n"
          ]
        },
        {
          "output_type": "stream",
          "name": "stderr",
          "text": [
            "Epoch [742/3000]: 100%|██████████████████████████████████████████████████████| 9/9 [00:00<00:00, 195.37it/s, loss=1.06]\n"
          ]
        },
        {
          "output_type": "stream",
          "name": "stdout",
          "text": [
            "Epoch [742/3000]: Train loss: 1.4937, Valid loss: 1.8587\n"
          ]
        },
        {
          "output_type": "stream",
          "name": "stderr",
          "text": [
            "Epoch [743/3000]: 100%|██████████████████████████████████████████████████████| 9/9 [00:00<00:00, 164.03it/s, loss=1.62]\n"
          ]
        },
        {
          "output_type": "stream",
          "name": "stdout",
          "text": [
            "Epoch [743/3000]: Train loss: 1.5412, Valid loss: 1.7743\n"
          ]
        },
        {
          "output_type": "stream",
          "name": "stderr",
          "text": [
            "Epoch [744/3000]: 100%|██████████████████████████████████████████████████████| 9/9 [00:00<00:00, 195.43it/s, loss=1.61]\n"
          ]
        },
        {
          "output_type": "stream",
          "name": "stdout",
          "text": [
            "Epoch [744/3000]: Train loss: 1.5381, Valid loss: 2.0630\n"
          ]
        },
        {
          "output_type": "stream",
          "name": "stderr",
          "text": [
            "Epoch [745/3000]: 100%|██████████████████████████████████████████████████████| 9/9 [00:00<00:00, 206.97it/s, loss=2.04]\n"
          ]
        },
        {
          "output_type": "stream",
          "name": "stdout",
          "text": [
            "Epoch [745/3000]: Train loss: 1.5546, Valid loss: 1.7701\n"
          ]
        },
        {
          "output_type": "stream",
          "name": "stderr",
          "text": [
            "Epoch [746/3000]: 100%|██████████████████████████████████████████████████████| 9/9 [00:00<00:00, 214.08it/s, loss=1.37]\n"
          ]
        },
        {
          "output_type": "stream",
          "name": "stdout",
          "text": [
            "Epoch [746/3000]: Train loss: 1.5050, Valid loss: 1.8015\n"
          ]
        },
        {
          "output_type": "stream",
          "name": "stderr",
          "text": [
            "Epoch [747/3000]: 100%|██████████████████████████████████████████████████████| 9/9 [00:00<00:00, 193.12it/s, loss=1.29]\n"
          ]
        },
        {
          "output_type": "stream",
          "name": "stdout",
          "text": [
            "Epoch [747/3000]: Train loss: 1.5052, Valid loss: 1.9713\n"
          ]
        },
        {
          "output_type": "stream",
          "name": "stderr",
          "text": [
            "Epoch [748/3000]: 100%|██████████████████████████████████████████████████████| 9/9 [00:00<00:00, 176.26it/s, loss=1.44]\n"
          ]
        },
        {
          "output_type": "stream",
          "name": "stdout",
          "text": [
            "Epoch [748/3000]: Train loss: 1.5130, Valid loss: 1.8252\n"
          ]
        },
        {
          "output_type": "stream",
          "name": "stderr",
          "text": [
            "Epoch [749/3000]: 100%|██████████████████████████████████████████████████████| 9/9 [00:00<00:00, 197.87it/s, loss=1.82]\n"
          ]
        },
        {
          "output_type": "stream",
          "name": "stdout",
          "text": [
            "Epoch [749/3000]: Train loss: 1.5499, Valid loss: 1.7634\n"
          ]
        },
        {
          "output_type": "stream",
          "name": "stderr",
          "text": [
            "Epoch [750/3000]: 100%|██████████████████████████████████████████████████████| 9/9 [00:00<00:00, 177.78it/s, loss=1.61]\n"
          ]
        },
        {
          "output_type": "stream",
          "name": "stdout",
          "text": [
            "Epoch [750/3000]: Train loss: 1.5209, Valid loss: 1.6296\n"
          ]
        },
        {
          "output_type": "stream",
          "name": "stderr",
          "text": [
            "Epoch [751/3000]: 100%|██████████████████████████████████████████████████████| 9/9 [00:00<00:00, 187.16it/s, loss=1.26]\n"
          ]
        },
        {
          "output_type": "stream",
          "name": "stdout",
          "text": [
            "Epoch [751/3000]: Train loss: 1.5011, Valid loss: 1.6796\n"
          ]
        },
        {
          "output_type": "stream",
          "name": "stderr",
          "text": [
            "Epoch [752/3000]: 100%|██████████████████████████████████████████████████████| 9/9 [00:00<00:00, 186.84it/s, loss=1.33]"
          ]
        },
        {
          "output_type": "stream",
          "name": "stdout",
          "text": [
            "Epoch [752/3000]: Train loss: 1.5004, Valid loss: 1.7433"
          ]
        },
        {
          "output_type": "stream",
          "name": "stderr",
          "text": [
            "\n"
          ]
        },
        {
          "output_type": "stream",
          "name": "stdout",
          "text": [
            "\n"
          ]
        },
        {
          "output_type": "stream",
          "name": "stderr",
          "text": [
            "Epoch [753/3000]: 100%|██████████████████████████████████████████████████████| 9/9 [00:00<00:00, 172.89it/s, loss=1.66]\n"
          ]
        },
        {
          "output_type": "stream",
          "name": "stdout",
          "text": [
            "Epoch [753/3000]: Train loss: 1.5377, Valid loss: 1.6166\n"
          ]
        },
        {
          "output_type": "stream",
          "name": "stderr",
          "text": [
            "Epoch [754/3000]: 100%|██████████████████████████████████████████████████████| 9/9 [00:00<00:00, 211.57it/s, loss=1.37]\n"
          ]
        },
        {
          "output_type": "stream",
          "name": "stdout",
          "text": [
            "Epoch [754/3000]: Train loss: 1.5117, Valid loss: 1.8132\n"
          ]
        },
        {
          "output_type": "stream",
          "name": "stderr",
          "text": [
            "Epoch [755/3000]: 100%|██████████████████████████████████████████████████████| 9/9 [00:00<00:00, 209.09it/s, loss=1.92]\n"
          ]
        },
        {
          "output_type": "stream",
          "name": "stdout",
          "text": [
            "Epoch [755/3000]: Train loss: 1.5371, Valid loss: 1.5243\n"
          ]
        },
        {
          "output_type": "stream",
          "name": "stderr",
          "text": [
            "Epoch [756/3000]: 100%|██████████████████████████████████████████████████████| 9/9 [00:00<00:00, 195.08it/s, loss=1.45]\n"
          ]
        },
        {
          "output_type": "stream",
          "name": "stdout",
          "text": [
            "Epoch [756/3000]: Train loss: 1.5032, Valid loss: 1.8918\n"
          ]
        },
        {
          "output_type": "stream",
          "name": "stderr",
          "text": [
            "Epoch [757/3000]: 100%|██████████████████████████████████████████████████████| 9/9 [00:00<00:00, 201.67it/s, loss=1.05]\n"
          ]
        },
        {
          "output_type": "stream",
          "name": "stdout",
          "text": [
            "Epoch [757/3000]: Train loss: 1.4853, Valid loss: 1.7055\n"
          ]
        },
        {
          "output_type": "stream",
          "name": "stderr",
          "text": [
            "Epoch [758/3000]: 100%|██████████████████████████████████████████████████████| 9/9 [00:00<00:00, 189.34it/s, loss=1.58]\n"
          ]
        },
        {
          "output_type": "stream",
          "name": "stdout",
          "text": [
            "Epoch [758/3000]: Train loss: 1.5144, Valid loss: 1.7753\n"
          ]
        },
        {
          "output_type": "stream",
          "name": "stderr",
          "text": [
            "Epoch [759/3000]: 100%|███████████████████████████████████████████████████████| 9/9 [00:00<00:00, 209.15it/s, loss=1.3]\n"
          ]
        },
        {
          "output_type": "stream",
          "name": "stdout",
          "text": [
            "Epoch [759/3000]: Train loss: 1.5021, Valid loss: 1.5582\n"
          ]
        },
        {
          "output_type": "stream",
          "name": "stderr",
          "text": [
            "Epoch [760/3000]: 100%|██████████████████████████████████████████████████████| 9/9 [00:00<00:00, 206.70it/s, loss=1.74]\n"
          ]
        },
        {
          "output_type": "stream",
          "name": "stdout",
          "text": [
            "Epoch [760/3000]: Train loss: 1.5247, Valid loss: 1.8674\n"
          ]
        },
        {
          "output_type": "stream",
          "name": "stderr",
          "text": [
            "Epoch [761/3000]: 100%|██████████████████████████████████████████████████████| 9/9 [00:00<00:00, 191.28it/s, loss=1.47]\n"
          ]
        },
        {
          "output_type": "stream",
          "name": "stdout",
          "text": [
            "Epoch [761/3000]: Train loss: 1.5091, Valid loss: 1.7013\n"
          ]
        },
        {
          "output_type": "stream",
          "name": "stderr",
          "text": [
            "Epoch [762/3000]: 100%|██████████████████████████████████████████████████████| 9/9 [00:00<00:00, 199.89it/s, loss=1.66]\n"
          ]
        },
        {
          "output_type": "stream",
          "name": "stdout",
          "text": [
            "Epoch [762/3000]: Train loss: 1.5344, Valid loss: 1.6545\n"
          ]
        },
        {
          "output_type": "stream",
          "name": "stderr",
          "text": [
            "Epoch [763/3000]: 100%|██████████████████████████████████████████████████████| 9/9 [00:00<00:00, 201.77it/s, loss=1.33]\n"
          ]
        },
        {
          "output_type": "stream",
          "name": "stdout",
          "text": [
            "Epoch [763/3000]: Train loss: 1.4982, Valid loss: 1.6799\n"
          ]
        },
        {
          "output_type": "stream",
          "name": "stderr",
          "text": [
            "Epoch [764/3000]: 100%|██████████████████████████████████████████████████████| 9/9 [00:00<00:00, 201.99it/s, loss=1.57]\n"
          ]
        },
        {
          "output_type": "stream",
          "name": "stdout",
          "text": [
            "Epoch [764/3000]: Train loss: 1.5105, Valid loss: 1.6427\n"
          ]
        },
        {
          "output_type": "stream",
          "name": "stderr",
          "text": [
            "Epoch [765/3000]: 100%|██████████████████████████████████████████████████████| 9/9 [00:00<00:00, 193.17it/s, loss=1.64]\n"
          ]
        },
        {
          "output_type": "stream",
          "name": "stdout",
          "text": [
            "Epoch [765/3000]: Train loss: 1.5177, Valid loss: 1.7154\n"
          ]
        },
        {
          "output_type": "stream",
          "name": "stderr",
          "text": [
            "Epoch [766/3000]: 100%|██████████████████████████████████████████████████████| 9/9 [00:00<00:00, 193.41it/s, loss=1.38]\n"
          ]
        },
        {
          "output_type": "stream",
          "name": "stdout",
          "text": [
            "Epoch [766/3000]: Train loss: 1.5009, Valid loss: 1.6163\n"
          ]
        },
        {
          "output_type": "stream",
          "name": "stderr",
          "text": [
            "Epoch [767/3000]: 100%|██████████████████████████████████████████████████████| 9/9 [00:00<00:00, 206.42it/s, loss=1.48]\n"
          ]
        },
        {
          "output_type": "stream",
          "name": "stdout",
          "text": [
            "Epoch [767/3000]: Train loss: 1.5100, Valid loss: 1.5895\n"
          ]
        },
        {
          "output_type": "stream",
          "name": "stderr",
          "text": [
            "Epoch [768/3000]: 100%|██████████████████████████████████████████████████████| 9/9 [00:00<00:00, 185.30it/s, loss=1.53]\n"
          ]
        },
        {
          "output_type": "stream",
          "name": "stdout",
          "text": [
            "Epoch [768/3000]: Train loss: 1.5049, Valid loss: 1.5456\n"
          ]
        },
        {
          "output_type": "stream",
          "name": "stderr",
          "text": [
            "Epoch [769/3000]: 100%|██████████████████████████████████████████████████████| 9/9 [00:00<00:00, 193.37it/s, loss=1.72]\n"
          ]
        },
        {
          "output_type": "stream",
          "name": "stdout",
          "text": [
            "Epoch [769/3000]: Train loss: 1.5214, Valid loss: 1.6948\n"
          ]
        },
        {
          "output_type": "stream",
          "name": "stderr",
          "text": [
            "Epoch [770/3000]: 100%|██████████████████████████████████████████████████████| 9/9 [00:00<00:00, 197.38it/s, loss=1.36]\n"
          ]
        },
        {
          "output_type": "stream",
          "name": "stdout",
          "text": [
            "Epoch [770/3000]: Train loss: 1.4965, Valid loss: 1.6726\n"
          ]
        },
        {
          "output_type": "stream",
          "name": "stderr",
          "text": [
            "Epoch [771/3000]: 100%|██████████████████████████████████████████████████████| 9/9 [00:00<00:00, 183.55it/s, loss=1.72]\n"
          ]
        },
        {
          "output_type": "stream",
          "name": "stdout",
          "text": [
            "Epoch [771/3000]: Train loss: 1.5144, Valid loss: 1.8317\n"
          ]
        },
        {
          "output_type": "stream",
          "name": "stderr",
          "text": [
            "Epoch [772/3000]: 100%|██████████████████████████████████████████████████████| 9/9 [00:00<00:00, 190.79it/s, loss=1.45]\n"
          ]
        },
        {
          "output_type": "stream",
          "name": "stdout",
          "text": [
            "Epoch [772/3000]: Train loss: 1.5078, Valid loss: 1.8550\n"
          ]
        },
        {
          "output_type": "stream",
          "name": "stderr",
          "text": [
            "Epoch [773/3000]: 100%|██████████████████████████████████████████████████████| 9/9 [00:00<00:00, 174.64it/s, loss=2.17]\n"
          ]
        },
        {
          "output_type": "stream",
          "name": "stdout",
          "text": [
            "Epoch [773/3000]: Train loss: 1.5441, Valid loss: 1.6779\n"
          ]
        },
        {
          "output_type": "stream",
          "name": "stderr",
          "text": [
            "Epoch [774/3000]: 100%|██████████████████████████████████████████████████████| 9/9 [00:00<00:00, 174.15it/s, loss=1.33]\n"
          ]
        },
        {
          "output_type": "stream",
          "name": "stdout",
          "text": [
            "Epoch [774/3000]: Train loss: 1.4931, Valid loss: 1.5672\n"
          ]
        },
        {
          "output_type": "stream",
          "name": "stderr",
          "text": [
            "Epoch [775/3000]: 100%|██████████████████████████████████████████████████████| 9/9 [00:00<00:00, 184.30it/s, loss=1.41]\n"
          ]
        },
        {
          "output_type": "stream",
          "name": "stdout",
          "text": [
            "Epoch [775/3000]: Train loss: 1.4946, Valid loss: 1.7808\n"
          ]
        },
        {
          "output_type": "stream",
          "name": "stderr",
          "text": [
            "Epoch [776/3000]: 100%|██████████████████████████████████████████████████████| 9/9 [00:00<00:00, 174.49it/s, loss=1.65]\n"
          ]
        },
        {
          "output_type": "stream",
          "name": "stdout",
          "text": [
            "Epoch [776/3000]: Train loss: 1.5181, Valid loss: 2.3936\n"
          ]
        },
        {
          "output_type": "stream",
          "name": "stderr",
          "text": [
            "Epoch [777/3000]: 100%|██████████████████████████████████████████████████████| 9/9 [00:00<00:00, 170.90it/s, loss=1.22]\n"
          ]
        },
        {
          "output_type": "stream",
          "name": "stdout",
          "text": [
            "Epoch [777/3000]: Train loss: 1.4915, Valid loss: 1.8069\n"
          ]
        },
        {
          "output_type": "stream",
          "name": "stderr",
          "text": [
            "Epoch [778/3000]: 100%|██████████████████████████████████████████████████████| 9/9 [00:00<00:00, 172.88it/s, loss=1.25]\n"
          ]
        },
        {
          "output_type": "stream",
          "name": "stdout",
          "text": [
            "Epoch [778/3000]: Train loss: 1.4844, Valid loss: 1.6036\n"
          ]
        },
        {
          "output_type": "stream",
          "name": "stderr",
          "text": [
            "Epoch [779/3000]: 100%|██████████████████████████████████████████████████████| 9/9 [00:00<00:00, 158.83it/s, loss=1.91]\n"
          ]
        },
        {
          "output_type": "stream",
          "name": "stdout",
          "text": [
            "Epoch [779/3000]: Train loss: 1.5290, Valid loss: 1.5816\n"
          ]
        },
        {
          "output_type": "stream",
          "name": "stderr",
          "text": [
            "Epoch [780/3000]: 100%|██████████████████████████████████████████████████████| 9/9 [00:00<00:00, 176.80it/s, loss=1.16]\n"
          ]
        },
        {
          "output_type": "stream",
          "name": "stdout",
          "text": [
            "Epoch [780/3000]: Train loss: 1.4804, Valid loss: 1.7164\n"
          ]
        },
        {
          "output_type": "stream",
          "name": "stderr",
          "text": [
            "Epoch [781/3000]: 100%|██████████████████████████████████████████████████████| 9/9 [00:00<00:00, 168.87it/s, loss=1.07]\n"
          ]
        },
        {
          "output_type": "stream",
          "name": "stdout",
          "text": [
            "Epoch [781/3000]: Train loss: 1.4698, Valid loss: 1.7856\n"
          ]
        },
        {
          "output_type": "stream",
          "name": "stderr",
          "text": [
            "Epoch [782/3000]: 100%|███████████████████████████████████████████████████████| 9/9 [00:00<00:00, 180.69it/s, loss=1.3]\n"
          ]
        },
        {
          "output_type": "stream",
          "name": "stdout",
          "text": [
            "Epoch [782/3000]: Train loss: 1.4874, Valid loss: 1.6721\n"
          ]
        },
        {
          "output_type": "stream",
          "name": "stderr",
          "text": [
            "Epoch [783/3000]: 100%|██████████████████████████████████████████████████████| 9/9 [00:00<00:00, 189.12it/s, loss=1.41]\n"
          ]
        },
        {
          "output_type": "stream",
          "name": "stdout",
          "text": [
            "Epoch [783/3000]: Train loss: 1.4905, Valid loss: 2.0105\n"
          ]
        },
        {
          "output_type": "stream",
          "name": "stderr",
          "text": [
            "Epoch [784/3000]: 100%|██████████████████████████████████████████████████████| 9/9 [00:00<00:00, 197.63it/s, loss=1.63]\n"
          ]
        },
        {
          "output_type": "stream",
          "name": "stdout",
          "text": [
            "Epoch [784/3000]: Train loss: 1.5184, Valid loss: 1.5251\n"
          ]
        },
        {
          "output_type": "stream",
          "name": "stderr",
          "text": [
            "Epoch [785/3000]: 100%|███████████████████████████████████████████████████████| 9/9 [00:00<00:00, 191.28it/s, loss=1.8]\n"
          ]
        },
        {
          "output_type": "stream",
          "name": "stdout",
          "text": [
            "Epoch [785/3000]: Train loss: 1.5337, Valid loss: 1.6274\n"
          ]
        },
        {
          "output_type": "stream",
          "name": "stderr",
          "text": [
            "Epoch [786/3000]: 100%|██████████████████████████████████████████████████████| 9/9 [00:00<00:00, 206.72it/s, loss=1.42]\n"
          ]
        },
        {
          "output_type": "stream",
          "name": "stdout",
          "text": [
            "Epoch [786/3000]: Train loss: 1.4956, Valid loss: 1.5949\n"
          ]
        },
        {
          "output_type": "stream",
          "name": "stderr",
          "text": [
            "Epoch [787/3000]: 100%|██████████████████████████████████████████████████████| 9/9 [00:00<00:00, 204.70it/s, loss=1.64]\n"
          ]
        },
        {
          "output_type": "stream",
          "name": "stdout",
          "text": [
            "Epoch [787/3000]: Train loss: 1.5073, Valid loss: 1.4083\n",
            "Saving model with loss 1.408...\n"
          ]
        },
        {
          "output_type": "stream",
          "name": "stderr",
          "text": [
            "Epoch [788/3000]: 100%|███████████████████████████████████████████████████████| 9/9 [00:00<00:00, 197.61it/s, loss=1.3]\n"
          ]
        },
        {
          "output_type": "stream",
          "name": "stdout",
          "text": [
            "Epoch [788/3000]: Train loss: 1.5013, Valid loss: 1.7115\n"
          ]
        },
        {
          "output_type": "stream",
          "name": "stderr",
          "text": [
            "Epoch [789/3000]: 100%|███████████████████████████████████████████████████████| 9/9 [00:00<00:00, 195.41it/s, loss=2.4]\n"
          ]
        },
        {
          "output_type": "stream",
          "name": "stdout",
          "text": [
            "Epoch [789/3000]: Train loss: 1.5568, Valid loss: 1.7227\n"
          ]
        },
        {
          "output_type": "stream",
          "name": "stderr",
          "text": [
            "Epoch [790/3000]: 100%|██████████████████████████████████████████████████████| 9/9 [00:00<00:00, 197.78it/s, loss=1.35]\n"
          ]
        },
        {
          "output_type": "stream",
          "name": "stdout",
          "text": [
            "Epoch [790/3000]: Train loss: 1.5055, Valid loss: 1.8346\n"
          ]
        },
        {
          "output_type": "stream",
          "name": "stderr",
          "text": [
            "Epoch [791/3000]: 100%|██████████████████████████████████████████████████████| 9/9 [00:00<00:00, 181.28it/s, loss=1.15]\n"
          ]
        },
        {
          "output_type": "stream",
          "name": "stdout",
          "text": [
            "Epoch [791/3000]: Train loss: 1.4799, Valid loss: 1.7655\n"
          ]
        },
        {
          "output_type": "stream",
          "name": "stderr",
          "text": [
            "Epoch [792/3000]: 100%|██████████████████████████████████████████████████████| 9/9 [00:00<00:00, 208.54it/s, loss=1.83]\n"
          ]
        },
        {
          "output_type": "stream",
          "name": "stdout",
          "text": [
            "Epoch [792/3000]: Train loss: 1.5351, Valid loss: 1.5261\n"
          ]
        },
        {
          "output_type": "stream",
          "name": "stderr",
          "text": [
            "Epoch [793/3000]: 100%|██████████████████████████████████████████████████████| 9/9 [00:00<00:00, 185.40it/s, loss=1.64]\n"
          ]
        },
        {
          "output_type": "stream",
          "name": "stdout",
          "text": [
            "Epoch [793/3000]: Train loss: 1.5052, Valid loss: 1.8008\n"
          ]
        },
        {
          "output_type": "stream",
          "name": "stderr",
          "text": [
            "Epoch [794/3000]: 100%|██████████████████████████████████████████████████████| 9/9 [00:00<00:00, 222.03it/s, loss=1.45]\n"
          ]
        },
        {
          "output_type": "stream",
          "name": "stdout",
          "text": [
            "Epoch [794/3000]: Train loss: 1.5101, Valid loss: 1.5559\n"
          ]
        },
        {
          "output_type": "stream",
          "name": "stderr",
          "text": [
            "Epoch [795/3000]: 100%|██████████████████████████████████████████████████████| 9/9 [00:00<00:00, 191.26it/s, loss=1.94]\n"
          ]
        },
        {
          "output_type": "stream",
          "name": "stdout",
          "text": [
            "Epoch [795/3000]: Train loss: 1.5243, Valid loss: 1.5092\n"
          ]
        },
        {
          "output_type": "stream",
          "name": "stderr",
          "text": [
            "Epoch [796/3000]: 100%|██████████████████████████████████████████████████████| 9/9 [00:00<00:00, 186.16it/s, loss=1.63]\n"
          ]
        },
        {
          "output_type": "stream",
          "name": "stdout",
          "text": [
            "Epoch [796/3000]: Train loss: 1.5062, Valid loss: 2.0367\n"
          ]
        },
        {
          "output_type": "stream",
          "name": "stderr",
          "text": [
            "Epoch [797/3000]: 100%|██████████████████████████████████████████████████████| 9/9 [00:00<00:00, 157.75it/s, loss=1.37]\n"
          ]
        },
        {
          "output_type": "stream",
          "name": "stdout",
          "text": [
            "Epoch [797/3000]: Train loss: 1.4826, Valid loss: 1.9217\n"
          ]
        },
        {
          "output_type": "stream",
          "name": "stderr",
          "text": [
            "Epoch [798/3000]: 100%|███████████████████████████████████████████████████████| 9/9 [00:00<00:00, 161.96it/s, loss=1.7]\n"
          ]
        },
        {
          "output_type": "stream",
          "name": "stdout",
          "text": [
            "Epoch [798/3000]: Train loss: 1.5104, Valid loss: 1.6048\n"
          ]
        },
        {
          "output_type": "stream",
          "name": "stderr",
          "text": [
            "Epoch [799/3000]: 100%|██████████████████████████████████████████████████████| 9/9 [00:00<00:00, 163.53it/s, loss=1.35]\n"
          ]
        },
        {
          "output_type": "stream",
          "name": "stdout",
          "text": [
            "Epoch [799/3000]: Train loss: 1.4745, Valid loss: 1.6437\n"
          ]
        },
        {
          "output_type": "stream",
          "name": "stderr",
          "text": [
            "Epoch [800/3000]: 100%|██████████████████████████████████████████████████████| 9/9 [00:00<00:00, 171.26it/s, loss=1.44]\n"
          ]
        },
        {
          "output_type": "stream",
          "name": "stdout",
          "text": [
            "Epoch [800/3000]: Train loss: 1.4915, Valid loss: 1.8305\n"
          ]
        },
        {
          "output_type": "stream",
          "name": "stderr",
          "text": [
            "Epoch [801/3000]: 100%|██████████████████████████████████████████████████████| 9/9 [00:00<00:00, 166.45it/s, loss=1.26]\n"
          ]
        },
        {
          "output_type": "stream",
          "name": "stdout",
          "text": [
            "Epoch [801/3000]: Train loss: 1.4815, Valid loss: 1.4585\n"
          ]
        },
        {
          "output_type": "stream",
          "name": "stderr",
          "text": [
            "Epoch [802/3000]: 100%|██████████████████████████████████████████████████████| 9/9 [00:00<00:00, 174.60it/s, loss=2.04]\n"
          ]
        },
        {
          "output_type": "stream",
          "name": "stdout",
          "text": [
            "Epoch [802/3000]: Train loss: 1.5206, Valid loss: 1.6105\n"
          ]
        },
        {
          "output_type": "stream",
          "name": "stderr",
          "text": [
            "Epoch [803/3000]: 100%|█████████████████████████████████████████████████████████| 9/9 [00:00<00:00, 176.17it/s, loss=2]\n"
          ]
        },
        {
          "output_type": "stream",
          "name": "stdout",
          "text": [
            "Epoch [803/3000]: Train loss: 1.5366, Valid loss: 2.0051\n"
          ]
        },
        {
          "output_type": "stream",
          "name": "stderr",
          "text": [
            "Epoch [804/3000]: 100%|██████████████████████████████████████████████████████| 9/9 [00:00<00:00, 184.80it/s, loss=1.66]\n"
          ]
        },
        {
          "output_type": "stream",
          "name": "stdout",
          "text": [
            "Epoch [804/3000]: Train loss: 1.5001, Valid loss: 2.1077\n"
          ]
        },
        {
          "output_type": "stream",
          "name": "stderr",
          "text": [
            "Epoch [805/3000]: 100%|██████████████████████████████████████████████████████| 9/9 [00:00<00:00, 187.28it/s, loss=1.46]\n"
          ]
        },
        {
          "output_type": "stream",
          "name": "stdout",
          "text": [
            "Epoch [805/3000]: Train loss: 1.5014, Valid loss: 1.5624\n"
          ]
        },
        {
          "output_type": "stream",
          "name": "stderr",
          "text": [
            "Epoch [806/3000]: 100%|██████████████████████████████████████████████████████| 9/9 [00:00<00:00, 188.72it/s, loss=1.71]\n"
          ]
        },
        {
          "output_type": "stream",
          "name": "stdout",
          "text": [
            "Epoch [806/3000]: Train loss: 1.4987, Valid loss: 1.9290\n"
          ]
        },
        {
          "output_type": "stream",
          "name": "stderr",
          "text": [
            "Epoch [807/3000]: 100%|███████████████████████████████████████████████████████| 9/9 [00:00<00:00, 159.05it/s, loss=1.4]\n"
          ]
        },
        {
          "output_type": "stream",
          "name": "stdout",
          "text": [
            "Epoch [807/3000]: Train loss: 1.4759, Valid loss: 1.6864\n"
          ]
        },
        {
          "output_type": "stream",
          "name": "stderr",
          "text": [
            "Epoch [808/3000]: 100%|██████████████████████████████████████████████████████| 9/9 [00:00<00:00, 181.25it/s, loss=1.93]\n"
          ]
        },
        {
          "output_type": "stream",
          "name": "stdout",
          "text": [
            "Epoch [808/3000]: Train loss: 1.5173, Valid loss: 1.6638\n"
          ]
        },
        {
          "output_type": "stream",
          "name": "stderr",
          "text": [
            "Epoch [809/3000]: 100%|█████████████████████████████████████████████████████| 9/9 [00:00<00:00, 196.15it/s, loss=0.877]\n"
          ]
        },
        {
          "output_type": "stream",
          "name": "stdout",
          "text": [
            "Epoch [809/3000]: Train loss: 1.4702, Valid loss: 1.7333\n"
          ]
        },
        {
          "output_type": "stream",
          "name": "stderr",
          "text": [
            "Epoch [810/3000]: 100%|███████████████████████████████████████████████████████| 9/9 [00:00<00:00, 181.66it/s, loss=1.5]\n"
          ]
        },
        {
          "output_type": "stream",
          "name": "stdout",
          "text": [
            "Epoch [810/3000]: Train loss: 1.4912, Valid loss: 1.5102\n"
          ]
        },
        {
          "output_type": "stream",
          "name": "stderr",
          "text": [
            "Epoch [811/3000]: 100%|██████████████████████████████████████████████████████| 9/9 [00:00<00:00, 185.44it/s, loss=1.22]\n"
          ]
        },
        {
          "output_type": "stream",
          "name": "stdout",
          "text": [
            "Epoch [811/3000]: Train loss: 1.4774, Valid loss: 1.5696\n"
          ]
        },
        {
          "output_type": "stream",
          "name": "stderr",
          "text": [
            "Epoch [812/3000]: 100%|██████████████████████████████████████████████████████| 9/9 [00:00<00:00, 197.59it/s, loss=2.21]\n"
          ]
        },
        {
          "output_type": "stream",
          "name": "stdout",
          "text": [
            "Epoch [812/3000]: Train loss: 1.5281, Valid loss: 1.5684\n"
          ]
        },
        {
          "output_type": "stream",
          "name": "stderr",
          "text": [
            "Epoch [813/3000]: 100%|██████████████████████████████████████████████████████| 9/9 [00:00<00:00, 189.30it/s, loss=1.32]\n"
          ]
        },
        {
          "output_type": "stream",
          "name": "stdout",
          "text": [
            "Epoch [813/3000]: Train loss: 1.4702, Valid loss: 1.7184\n"
          ]
        },
        {
          "output_type": "stream",
          "name": "stderr",
          "text": [
            "Epoch [814/3000]: 100%|██████████████████████████████████████████████████████| 9/9 [00:00<00:00, 190.91it/s, loss=1.57]\n"
          ]
        },
        {
          "output_type": "stream",
          "name": "stdout",
          "text": [
            "Epoch [814/3000]: Train loss: 1.4833, Valid loss: 1.5336\n"
          ]
        },
        {
          "output_type": "stream",
          "name": "stderr",
          "text": [
            "Epoch [815/3000]: 100%|██████████████████████████████████████████████████████| 9/9 [00:00<00:00, 183.49it/s, loss=1.77]\n"
          ]
        },
        {
          "output_type": "stream",
          "name": "stdout",
          "text": [
            "Epoch [815/3000]: Train loss: 1.4949, Valid loss: 1.5295\n"
          ]
        },
        {
          "output_type": "stream",
          "name": "stderr",
          "text": [
            "Epoch [816/3000]: 100%|██████████████████████████████████████████████████████| 9/9 [00:00<00:00, 193.26it/s, loss=1.48]\n"
          ]
        },
        {
          "output_type": "stream",
          "name": "stdout",
          "text": [
            "Epoch [816/3000]: Train loss: 1.4834, Valid loss: 1.9338\n"
          ]
        },
        {
          "output_type": "stream",
          "name": "stderr",
          "text": [
            "Epoch [817/3000]: 100%|██████████████████████████████████████████████████████| 9/9 [00:00<00:00, 199.90it/s, loss=1.84]\n"
          ]
        },
        {
          "output_type": "stream",
          "name": "stdout",
          "text": [
            "Epoch [817/3000]: Train loss: 1.5107, Valid loss: 1.8869\n"
          ]
        },
        {
          "output_type": "stream",
          "name": "stderr",
          "text": [
            "Epoch [818/3000]: 100%|██████████████████████████████████████████████████████| 9/9 [00:00<00:00, 209.07it/s, loss=1.31]\n"
          ]
        },
        {
          "output_type": "stream",
          "name": "stdout",
          "text": [
            "Epoch [818/3000]: Train loss: 1.4679, Valid loss: 1.6483\n"
          ]
        },
        {
          "output_type": "stream",
          "name": "stderr",
          "text": [
            "Epoch [819/3000]: 100%|██████████████████████████████████████████████████████| 9/9 [00:00<00:00, 179.84it/s, loss=1.03]\n"
          ]
        },
        {
          "output_type": "stream",
          "name": "stdout",
          "text": [
            "Epoch [819/3000]: Train loss: 1.4471, Valid loss: 1.8259\n"
          ]
        },
        {
          "output_type": "stream",
          "name": "stderr",
          "text": [
            "Epoch [820/3000]: 100%|██████████████████████████████████████████████████████| 9/9 [00:00<00:00, 183.89it/s, loss=1.54]\n"
          ]
        },
        {
          "output_type": "stream",
          "name": "stdout",
          "text": [
            "Epoch [820/3000]: Train loss: 1.4838, Valid loss: 1.9618\n"
          ]
        },
        {
          "output_type": "stream",
          "name": "stderr",
          "text": [
            "Epoch [821/3000]: 100%|██████████████████████████████████████████████████████| 9/9 [00:00<00:00, 187.34it/s, loss=1.59]\n"
          ]
        },
        {
          "output_type": "stream",
          "name": "stdout",
          "text": [
            "Epoch [821/3000]: Train loss: 1.4965, Valid loss: 2.0712\n"
          ]
        },
        {
          "output_type": "stream",
          "name": "stderr",
          "text": [
            "Epoch [822/3000]: 100%|██████████████████████████████████████████████████████| 9/9 [00:00<00:00, 181.67it/s, loss=1.33]\n"
          ]
        },
        {
          "output_type": "stream",
          "name": "stdout",
          "text": [
            "Epoch [822/3000]: Train loss: 1.4672, Valid loss: 1.6128\n"
          ]
        },
        {
          "output_type": "stream",
          "name": "stderr",
          "text": [
            "Epoch [823/3000]: 100%|██████████████████████████████████████████████████████| 9/9 [00:00<00:00, 168.07it/s, loss=1.47]\n"
          ]
        },
        {
          "output_type": "stream",
          "name": "stdout",
          "text": [
            "Epoch [823/3000]: Train loss: 1.4868, Valid loss: 1.6440\n"
          ]
        },
        {
          "output_type": "stream",
          "name": "stderr",
          "text": [
            "Epoch [824/3000]: 100%|███████████████████████████████████████████████████████| 9/9 [00:00<00:00, 178.03it/s, loss=1.5]\n"
          ]
        },
        {
          "output_type": "stream",
          "name": "stdout",
          "text": [
            "Epoch [824/3000]: Train loss: 1.4874, Valid loss: 1.5021\n"
          ]
        },
        {
          "output_type": "stream",
          "name": "stderr",
          "text": [
            "Epoch [825/3000]: 100%|██████████████████████████████████████████████████████| 9/9 [00:00<00:00, 185.44it/s, loss=1.41]\n"
          ]
        },
        {
          "output_type": "stream",
          "name": "stdout",
          "text": [
            "Epoch [825/3000]: Train loss: 1.4945, Valid loss: 2.0189\n"
          ]
        },
        {
          "output_type": "stream",
          "name": "stderr",
          "text": [
            "Epoch [826/3000]: 100%|██████████████████████████████████████████████████████| 9/9 [00:00<00:00, 210.95it/s, loss=1.83]\n"
          ]
        },
        {
          "output_type": "stream",
          "name": "stdout",
          "text": [
            "Epoch [826/3000]: Train loss: 1.5069, Valid loss: 1.6526\n"
          ]
        },
        {
          "output_type": "stream",
          "name": "stderr",
          "text": [
            "Epoch [827/3000]: 100%|██████████████████████████████████████████████████████| 9/9 [00:00<00:00, 215.37it/s, loss=1.37]\n"
          ]
        },
        {
          "output_type": "stream",
          "name": "stdout",
          "text": [
            "Epoch [827/3000]: Train loss: 1.4710, Valid loss: 1.7004\n"
          ]
        },
        {
          "output_type": "stream",
          "name": "stderr",
          "text": [
            "Epoch [828/3000]: 100%|██████████████████████████████████████████████████████| 9/9 [00:00<00:00, 201.66it/s, loss=1.24]\n"
          ]
        },
        {
          "output_type": "stream",
          "name": "stdout",
          "text": [
            "Epoch [828/3000]: Train loss: 1.4602, Valid loss: 2.1771\n"
          ]
        },
        {
          "output_type": "stream",
          "name": "stderr",
          "text": [
            "Epoch [829/3000]: 100%|██████████████████████████████████████████████████████| 9/9 [00:00<00:00, 187.61it/s, loss=1.94]\n"
          ]
        },
        {
          "output_type": "stream",
          "name": "stdout",
          "text": [
            "Epoch [829/3000]: Train loss: 1.5256, Valid loss: 1.6956\n"
          ]
        },
        {
          "output_type": "stream",
          "name": "stderr",
          "text": [
            "Epoch [830/3000]: 100%|█████████████████████████████████████████████████████████| 9/9 [00:00<00:00, 206.74it/s, loss=2]\n"
          ]
        },
        {
          "output_type": "stream",
          "name": "stdout",
          "text": [
            "Epoch [830/3000]: Train loss: 1.5122, Valid loss: 1.6862\n"
          ]
        },
        {
          "output_type": "stream",
          "name": "stderr",
          "text": [
            "Epoch [831/3000]: 100%|████████████████████████████████████████████████████████| 9/9 [00:00<00:00, 91.74it/s, loss=1.6]\n"
          ]
        },
        {
          "output_type": "stream",
          "name": "stdout",
          "text": [
            "Epoch [831/3000]: Train loss: 1.4889, Valid loss: 1.6573\n"
          ]
        },
        {
          "output_type": "stream",
          "name": "stderr",
          "text": [
            "Epoch [832/3000]: 100%|██████████████████████████████████████████████████████| 9/9 [00:00<00:00, 181.70it/s, loss=1.78]\n"
          ]
        },
        {
          "output_type": "stream",
          "name": "stdout",
          "text": [
            "Epoch [832/3000]: Train loss: 1.5214, Valid loss: 1.6971\n"
          ]
        },
        {
          "output_type": "stream",
          "name": "stderr",
          "text": [
            "Epoch [833/3000]: 100%|██████████████████████████████████████████████████████| 9/9 [00:00<00:00, 208.18it/s, loss=1.51]\n"
          ]
        },
        {
          "output_type": "stream",
          "name": "stdout",
          "text": [
            "Epoch [833/3000]: Train loss: 1.4703, Valid loss: 1.5878\n"
          ]
        },
        {
          "output_type": "stream",
          "name": "stderr",
          "text": [
            "Epoch [834/3000]: 100%|██████████████████████████████████████████████████████| 9/9 [00:00<00:00, 202.07it/s, loss=1.29]\n"
          ]
        },
        {
          "output_type": "stream",
          "name": "stdout",
          "text": [
            "Epoch [834/3000]: Train loss: 1.4548, Valid loss: 1.8630\n"
          ]
        },
        {
          "output_type": "stream",
          "name": "stderr",
          "text": [
            "Epoch [835/3000]: 100%|███████████████████████████████████████████████████████| 9/9 [00:00<00:00, 193.03it/s, loss=1.4]\n"
          ]
        },
        {
          "output_type": "stream",
          "name": "stdout",
          "text": [
            "Epoch [835/3000]: Train loss: 1.4726, Valid loss: 1.5308\n"
          ]
        },
        {
          "output_type": "stream",
          "name": "stderr",
          "text": [
            "Epoch [836/3000]: 100%|████████████████████████████████████████████████████████| 9/9 [00:00<00:00, 39.54it/s, loss=1.6]\n"
          ]
        },
        {
          "output_type": "stream",
          "name": "stdout",
          "text": [
            "Epoch [836/3000]: Train loss: 1.4838, Valid loss: 1.7765\n"
          ]
        },
        {
          "output_type": "stream",
          "name": "stderr",
          "text": [
            "Epoch [837/3000]: 100%|██████████████████████████████████████████████████████| 9/9 [00:00<00:00, 187.29it/s, loss=1.03]\n"
          ]
        },
        {
          "output_type": "stream",
          "name": "stdout",
          "text": [
            "Epoch [837/3000]: Train loss: 1.4506, Valid loss: 1.5453\n"
          ]
        },
        {
          "output_type": "stream",
          "name": "stderr",
          "text": [
            "Epoch [838/3000]: 100%|██████████████████████████████████████████████████████| 9/9 [00:00<00:00, 179.83it/s, loss=1.16]\n"
          ]
        },
        {
          "output_type": "stream",
          "name": "stdout",
          "text": [
            "Epoch [838/3000]: Train loss: 1.4550, Valid loss: 1.4770\n"
          ]
        },
        {
          "output_type": "stream",
          "name": "stderr",
          "text": [
            "Epoch [839/3000]: 100%|██████████████████████████████████████████████████████| 9/9 [00:00<00:00, 140.23it/s, loss=1.25]\n"
          ]
        },
        {
          "output_type": "stream",
          "name": "stdout",
          "text": [
            "Epoch [839/3000]: Train loss: 1.4522, Valid loss: 1.5859\n"
          ]
        },
        {
          "output_type": "stream",
          "name": "stderr",
          "text": [
            "Epoch [840/3000]: 100%|██████████████████████████████████████████████████████| 9/9 [00:00<00:00, 172.66it/s, loss=1.93]\n"
          ]
        },
        {
          "output_type": "stream",
          "name": "stdout",
          "text": [
            "Epoch [840/3000]: Train loss: 1.4939, Valid loss: 1.6820\n"
          ]
        },
        {
          "output_type": "stream",
          "name": "stderr",
          "text": [
            "Epoch [841/3000]: 100%|██████████████████████████████████████████████████████| 9/9 [00:00<00:00, 171.29it/s, loss=1.16]\n"
          ]
        },
        {
          "output_type": "stream",
          "name": "stdout",
          "text": [
            "Epoch [841/3000]: Train loss: 1.4540, Valid loss: 1.6864\n"
          ]
        },
        {
          "output_type": "stream",
          "name": "stderr",
          "text": [
            "Epoch [842/3000]: 100%|██████████████████████████████████████████████████████| 9/9 [00:00<00:00, 164.92it/s, loss=1.45]\n"
          ]
        },
        {
          "output_type": "stream",
          "name": "stdout",
          "text": [
            "Epoch [842/3000]: Train loss: 1.4670, Valid loss: 1.9361\n"
          ]
        },
        {
          "output_type": "stream",
          "name": "stderr",
          "text": [
            "Epoch [843/3000]: 100%|██████████████████████████████████████████████████████| 9/9 [00:00<00:00, 167.90it/s, loss=1.23]\n"
          ]
        },
        {
          "output_type": "stream",
          "name": "stdout",
          "text": [
            "Epoch [843/3000]: Train loss: 1.4512, Valid loss: 1.8347\n"
          ]
        },
        {
          "output_type": "stream",
          "name": "stderr",
          "text": [
            "Epoch [844/3000]: 100%|██████████████████████████████████████████████████████| 9/9 [00:00<00:00, 181.73it/s, loss=1.75]\n"
          ]
        },
        {
          "output_type": "stream",
          "name": "stdout",
          "text": [
            "Epoch [844/3000]: Train loss: 1.4868, Valid loss: 1.7215\n"
          ]
        },
        {
          "output_type": "stream",
          "name": "stderr",
          "text": [
            "Epoch [845/3000]: 100%|██████████████████████████████████████████████████████| 9/9 [00:00<00:00, 197.62it/s, loss=1.41]\n"
          ]
        },
        {
          "output_type": "stream",
          "name": "stdout",
          "text": [
            "Epoch [845/3000]: Train loss: 1.4599, Valid loss: 1.4752\n"
          ]
        },
        {
          "output_type": "stream",
          "name": "stderr",
          "text": [
            "Epoch [846/3000]: 100%|██████████████████████████████████████████████████████| 9/9 [00:00<00:00, 189.32it/s, loss=1.68]\n"
          ]
        },
        {
          "output_type": "stream",
          "name": "stdout",
          "text": [
            "Epoch [846/3000]: Train loss: 1.4807, Valid loss: 1.8543\n"
          ]
        },
        {
          "output_type": "stream",
          "name": "stderr",
          "text": [
            "Epoch [847/3000]: 100%|██████████████████████████████████████████████████████| 9/9 [00:00<00:00, 182.92it/s, loss=1.61]\n"
          ]
        },
        {
          "output_type": "stream",
          "name": "stdout",
          "text": [
            "Epoch [847/3000]: Train loss: 1.4714, Valid loss: 1.8821\n"
          ]
        },
        {
          "output_type": "stream",
          "name": "stderr",
          "text": [
            "Epoch [848/3000]: 100%|██████████████████████████████████████████████████████| 9/9 [00:00<00:00, 164.93it/s, loss=1.27]\n"
          ]
        },
        {
          "output_type": "stream",
          "name": "stdout",
          "text": [
            "Epoch [848/3000]: Train loss: 1.4492, Valid loss: 1.7331\n"
          ]
        },
        {
          "output_type": "stream",
          "name": "stderr",
          "text": [
            "Epoch [849/3000]: 100%|██████████████████████████████████████████████████████| 9/9 [00:00<00:00, 150.79it/s, loss=1.16]\n"
          ]
        },
        {
          "output_type": "stream",
          "name": "stdout",
          "text": [
            "Epoch [849/3000]: Train loss: 1.4466, Valid loss: 1.8344\n"
          ]
        },
        {
          "output_type": "stream",
          "name": "stderr",
          "text": [
            "Epoch [850/3000]: 100%|██████████████████████████████████████████████████████| 9/9 [00:00<00:00, 166.48it/s, loss=1.76]\n"
          ]
        },
        {
          "output_type": "stream",
          "name": "stdout",
          "text": [
            "Epoch [850/3000]: Train loss: 1.4845, Valid loss: 1.6465\n"
          ]
        },
        {
          "output_type": "stream",
          "name": "stderr",
          "text": [
            "Epoch [851/3000]: 100%|██████████████████████████████████████████████████████| 9/9 [00:00<00:00, 181.63it/s, loss=1.18]\n"
          ]
        },
        {
          "output_type": "stream",
          "name": "stdout",
          "text": [
            "Epoch [851/3000]: Train loss: 1.4497, Valid loss: 1.6862\n"
          ]
        },
        {
          "output_type": "stream",
          "name": "stderr",
          "text": [
            "Epoch [852/3000]: 100%|██████████████████████████████████████████████████████| 9/9 [00:00<00:00, 193.45it/s, loss=1.01]\n"
          ]
        },
        {
          "output_type": "stream",
          "name": "stdout",
          "text": [
            "Epoch [852/3000]: Train loss: 1.4329, Valid loss: 1.9570\n"
          ]
        },
        {
          "output_type": "stream",
          "name": "stderr",
          "text": [
            "Epoch [853/3000]: 100%|██████████████████████████████████████████████████████| 9/9 [00:00<00:00, 199.54it/s, loss=1.61]\n"
          ]
        },
        {
          "output_type": "stream",
          "name": "stdout",
          "text": [
            "Epoch [853/3000]: Train loss: 1.4698, Valid loss: 1.5535\n"
          ]
        },
        {
          "output_type": "stream",
          "name": "stderr",
          "text": [
            "Epoch [854/3000]: 100%|██████████████████████████████████████████████████████| 9/9 [00:00<00:00, 211.87it/s, loss=1.23]\n"
          ]
        },
        {
          "output_type": "stream",
          "name": "stdout",
          "text": [
            "Epoch [854/3000]: Train loss: 1.4749, Valid loss: 1.9149\n"
          ]
        },
        {
          "output_type": "stream",
          "name": "stderr",
          "text": [
            "Epoch [855/3000]: 100%|██████████████████████████████████████████████████████| 9/9 [00:00<00:00, 195.43it/s, loss=1.37]\n"
          ]
        },
        {
          "output_type": "stream",
          "name": "stdout",
          "text": [
            "Epoch [855/3000]: Train loss: 1.4551, Valid loss: 2.0734\n"
          ]
        },
        {
          "output_type": "stream",
          "name": "stderr",
          "text": [
            "Epoch [856/3000]: 100%|██████████████████████████████████████████████████████| 9/9 [00:00<00:00, 195.59it/s, loss=1.26]\n"
          ]
        },
        {
          "output_type": "stream",
          "name": "stdout",
          "text": [
            "Epoch [856/3000]: Train loss: 1.4566, Valid loss: 1.6903\n"
          ]
        },
        {
          "output_type": "stream",
          "name": "stderr",
          "text": [
            "Epoch [857/3000]: 100%|██████████████████████████████████████████████████████| 9/9 [00:00<00:00, 209.04it/s, loss=1.27]\n"
          ]
        },
        {
          "output_type": "stream",
          "name": "stdout",
          "text": [
            "Epoch [857/3000]: Train loss: 1.4470, Valid loss: 1.7251\n"
          ]
        },
        {
          "output_type": "stream",
          "name": "stderr",
          "text": [
            "Epoch [858/3000]: 100%|██████████████████████████████████████████████████████| 9/9 [00:00<00:00, 199.86it/s, loss=1.16]\n"
          ]
        },
        {
          "output_type": "stream",
          "name": "stdout",
          "text": [
            "Epoch [858/3000]: Train loss: 1.4393, Valid loss: 1.5735\n"
          ]
        },
        {
          "output_type": "stream",
          "name": "stderr",
          "text": [
            "Epoch [859/3000]: 100%|███████████████████████████████████████████████████████| 9/9 [00:00<00:00, 208.42it/s, loss=1.3]\n"
          ]
        },
        {
          "output_type": "stream",
          "name": "stdout",
          "text": [
            "Epoch [859/3000]: Train loss: 1.4504, Valid loss: 1.5673\n"
          ]
        },
        {
          "output_type": "stream",
          "name": "stderr",
          "text": [
            "Epoch [860/3000]: 100%|██████████████████████████████████████████████████████| 9/9 [00:00<00:00, 191.27it/s, loss=1.66]\n"
          ]
        },
        {
          "output_type": "stream",
          "name": "stdout",
          "text": [
            "Epoch [860/3000]: Train loss: 1.4743, Valid loss: 2.0727\n"
          ]
        },
        {
          "output_type": "stream",
          "name": "stderr",
          "text": [
            "Epoch [861/3000]: 100%|██████████████████████████████████████████████████████| 9/9 [00:00<00:00, 176.21it/s, loss=1.74]\n"
          ]
        },
        {
          "output_type": "stream",
          "name": "stdout",
          "text": [
            "Epoch [861/3000]: Train loss: 1.4840, Valid loss: 1.4782\n"
          ]
        },
        {
          "output_type": "stream",
          "name": "stderr",
          "text": [
            "Epoch [862/3000]: 100%|██████████████████████████████████████████████████████| 9/9 [00:00<00:00, 172.90it/s, loss=1.41]\n"
          ]
        },
        {
          "output_type": "stream",
          "name": "stdout",
          "text": [
            "Epoch [862/3000]: Train loss: 1.4526, Valid loss: 1.3607\n",
            "Saving model with loss 1.361...\n"
          ]
        },
        {
          "output_type": "stream",
          "name": "stderr",
          "text": [
            "Epoch [863/3000]: 100%|█████████████████████████████████████████████████████████| 9/9 [00:00<00:00, 181.65it/s, loss=1]\n"
          ]
        },
        {
          "output_type": "stream",
          "name": "stdout",
          "text": [
            "Epoch [863/3000]: Train loss: 1.4309, Valid loss: 1.9917\n"
          ]
        },
        {
          "output_type": "stream",
          "name": "stderr",
          "text": [
            "Epoch [864/3000]: 100%|██████████████████████████████████████████████████████| 9/9 [00:00<00:00, 206.70it/s, loss=1.64]\n"
          ]
        },
        {
          "output_type": "stream",
          "name": "stdout",
          "text": [
            "Epoch [864/3000]: Train loss: 1.4874, Valid loss: 1.9371\n"
          ]
        },
        {
          "output_type": "stream",
          "name": "stderr",
          "text": [
            "Epoch [865/3000]: 100%|██████████████████████████████████████████████████████| 9/9 [00:00<00:00, 178.08it/s, loss=1.26]\n"
          ]
        },
        {
          "output_type": "stream",
          "name": "stdout",
          "text": [
            "Epoch [865/3000]: Train loss: 1.4399, Valid loss: 1.5979\n"
          ]
        },
        {
          "output_type": "stream",
          "name": "stderr",
          "text": [
            "Epoch [866/3000]: 100%|█████████████████████████████████████████████████████| 9/9 [00:00<00:00, 204.27it/s, loss=0.934]\n"
          ]
        },
        {
          "output_type": "stream",
          "name": "stdout",
          "text": [
            "Epoch [866/3000]: Train loss: 1.4211, Valid loss: 1.4367\n"
          ]
        },
        {
          "output_type": "stream",
          "name": "stderr",
          "text": [
            "Epoch [867/3000]: 100%|███████████████████████████████████████████████████████| 9/9 [00:00<00:00, 206.69it/s, loss=1.4]\n"
          ]
        },
        {
          "output_type": "stream",
          "name": "stdout",
          "text": [
            "Epoch [867/3000]: Train loss: 1.4534, Valid loss: 1.7599\n"
          ]
        },
        {
          "output_type": "stream",
          "name": "stderr",
          "text": [
            "Epoch [868/3000]: 100%|██████████████████████████████████████████████████████| 9/9 [00:00<00:00, 199.81it/s, loss=1.51]\n"
          ]
        },
        {
          "output_type": "stream",
          "name": "stdout",
          "text": [
            "Epoch [868/3000]: Train loss: 1.4742, Valid loss: 1.6971\n"
          ]
        },
        {
          "output_type": "stream",
          "name": "stderr",
          "text": [
            "Epoch [869/3000]: 100%|█████████████████████████████████████████████████████| 9/9 [00:00<00:00, 193.34it/s, loss=0.624]\n"
          ]
        },
        {
          "output_type": "stream",
          "name": "stdout",
          "text": [
            "Epoch [869/3000]: Train loss: 1.4041, Valid loss: 1.8714\n"
          ]
        },
        {
          "output_type": "stream",
          "name": "stderr",
          "text": [
            "Epoch [870/3000]: 100%|██████████████████████████████████████████████████████| 9/9 [00:00<00:00, 195.17it/s, loss=1.75]\n"
          ]
        },
        {
          "output_type": "stream",
          "name": "stdout",
          "text": [
            "Epoch [870/3000]: Train loss: 1.4768, Valid loss: 1.6413\n"
          ]
        },
        {
          "output_type": "stream",
          "name": "stderr",
          "text": [
            "Epoch [871/3000]: 100%|██████████████████████████████████████████████████████| 9/9 [00:00<00:00, 202.06it/s, loss=1.19]\n"
          ]
        },
        {
          "output_type": "stream",
          "name": "stdout",
          "text": [
            "Epoch [871/3000]: Train loss: 1.4433, Valid loss: 1.6742\n"
          ]
        },
        {
          "output_type": "stream",
          "name": "stderr",
          "text": [
            "Epoch [872/3000]: 100%|██████████████████████████████████████████████████████| 9/9 [00:00<00:00, 204.40it/s, loss=1.45]\n"
          ]
        },
        {
          "output_type": "stream",
          "name": "stdout",
          "text": [
            "Epoch [872/3000]: Train loss: 1.4647, Valid loss: 1.8691\n"
          ]
        },
        {
          "output_type": "stream",
          "name": "stderr",
          "text": [
            "Epoch [873/3000]: 100%|██████████████████████████████████████████████████████| 9/9 [00:00<00:00, 189.19it/s, loss=1.35]\n"
          ]
        },
        {
          "output_type": "stream",
          "name": "stdout",
          "text": [
            "Epoch [873/3000]: Train loss: 1.4597, Valid loss: 1.6647\n"
          ]
        },
        {
          "output_type": "stream",
          "name": "stderr",
          "text": [
            "Epoch [874/3000]: 100%|██████████████████████████████████████████████████████| 9/9 [00:00<00:00, 183.11it/s, loss=1.72]\n"
          ]
        },
        {
          "output_type": "stream",
          "name": "stdout",
          "text": [
            "Epoch [874/3000]: Train loss: 1.4836, Valid loss: 1.4786\n"
          ]
        },
        {
          "output_type": "stream",
          "name": "stderr",
          "text": [
            "Epoch [875/3000]: 100%|██████████████████████████████████████████████████████| 9/9 [00:00<00:00, 199.76it/s, loss=1.58]\n"
          ]
        },
        {
          "output_type": "stream",
          "name": "stdout",
          "text": [
            "Epoch [875/3000]: Train loss: 1.4635, Valid loss: 1.8318\n"
          ]
        },
        {
          "output_type": "stream",
          "name": "stderr",
          "text": [
            "Epoch [876/3000]: 100%|██████████████████████████████████████████████████████| 9/9 [00:00<00:00, 193.37it/s, loss=1.52]\n"
          ]
        },
        {
          "output_type": "stream",
          "name": "stdout",
          "text": [
            "Epoch [876/3000]: Train loss: 1.4528, Valid loss: 1.5468\n"
          ]
        },
        {
          "output_type": "stream",
          "name": "stderr",
          "text": [
            "Epoch [877/3000]: 100%|██████████████████████████████████████████████████████| 9/9 [00:00<00:00, 202.03it/s, loss=1.52]\n"
          ]
        },
        {
          "output_type": "stream",
          "name": "stdout",
          "text": [
            "Epoch [877/3000]: Train loss: 1.4568, Valid loss: 1.5606\n"
          ]
        },
        {
          "output_type": "stream",
          "name": "stderr",
          "text": [
            "Epoch [878/3000]: 100%|██████████████████████████████████████████████████████| 9/9 [00:00<00:00, 197.65it/s, loss=1.61]\n"
          ]
        },
        {
          "output_type": "stream",
          "name": "stdout",
          "text": [
            "Epoch [878/3000]: Train loss: 1.4821, Valid loss: 1.5826\n"
          ]
        },
        {
          "output_type": "stream",
          "name": "stderr",
          "text": [
            "Epoch [879/3000]: 100%|██████████████████████████████████████████████████████| 9/9 [00:00<00:00, 181.42it/s, loss=1.53]\n"
          ]
        },
        {
          "output_type": "stream",
          "name": "stdout",
          "text": [
            "Epoch [879/3000]: Train loss: 1.4541, Valid loss: 1.8824\n"
          ]
        },
        {
          "output_type": "stream",
          "name": "stderr",
          "text": [
            "Epoch [880/3000]: 100%|██████████████████████████████████████████████████████| 9/9 [00:00<00:00, 197.64it/s, loss=1.34]\n"
          ]
        },
        {
          "output_type": "stream",
          "name": "stdout",
          "text": [
            "Epoch [880/3000]: Train loss: 1.4392, Valid loss: 1.8619\n"
          ]
        },
        {
          "output_type": "stream",
          "name": "stderr",
          "text": [
            "Epoch [881/3000]: 100%|██████████████████████████████████████████████████████| 9/9 [00:00<00:00, 203.57it/s, loss=1.51]\n"
          ]
        },
        {
          "output_type": "stream",
          "name": "stdout",
          "text": [
            "Epoch [881/3000]: Train loss: 1.4511, Valid loss: 1.3935\n"
          ]
        },
        {
          "output_type": "stream",
          "name": "stderr",
          "text": [
            "Epoch [882/3000]: 100%|██████████████████████████████████████████████████████| 9/9 [00:00<00:00, 199.79it/s, loss=1.13]\n"
          ]
        },
        {
          "output_type": "stream",
          "name": "stdout",
          "text": [
            "Epoch [882/3000]: Train loss: 1.4492, Valid loss: 1.7286\n"
          ]
        },
        {
          "output_type": "stream",
          "name": "stderr",
          "text": [
            "Epoch [883/3000]: 100%|██████████████████████████████████████████████████████| 9/9 [00:00<00:00, 202.07it/s, loss=1.41]\n"
          ]
        },
        {
          "output_type": "stream",
          "name": "stdout",
          "text": [
            "Epoch [883/3000]: Train loss: 1.4494, Valid loss: 1.7270\n"
          ]
        },
        {
          "output_type": "stream",
          "name": "stderr",
          "text": [
            "Epoch [884/3000]: 100%|██████████████████████████████████████████████████████| 9/9 [00:00<00:00, 191.17it/s, loss=1.74]\n"
          ]
        },
        {
          "output_type": "stream",
          "name": "stdout",
          "text": [
            "Epoch [884/3000]: Train loss: 1.4658, Valid loss: 1.4141\n"
          ]
        },
        {
          "output_type": "stream",
          "name": "stderr",
          "text": [
            "Epoch [885/3000]: 100%|██████████████████████████████████████████████████████| 9/9 [00:00<00:00, 185.37it/s, loss=1.38]\n"
          ]
        },
        {
          "output_type": "stream",
          "name": "stdout",
          "text": [
            "Epoch [885/3000]: Train loss: 1.4370, Valid loss: 1.6369\n"
          ]
        },
        {
          "output_type": "stream",
          "name": "stderr",
          "text": [
            "Epoch [886/3000]: 100%|███████████████████████████████████████████████████████| 9/9 [00:00<00:00, 191.08it/s, loss=1.1]\n"
          ]
        },
        {
          "output_type": "stream",
          "name": "stdout",
          "text": [
            "Epoch [886/3000]: Train loss: 1.4301, Valid loss: 1.4771\n"
          ]
        },
        {
          "output_type": "stream",
          "name": "stderr",
          "text": [
            "Epoch [887/3000]: 100%|██████████████████████████████████████████████████████| 9/9 [00:00<00:00, 197.80it/s, loss=1.54]\n"
          ]
        },
        {
          "output_type": "stream",
          "name": "stdout",
          "text": [
            "Epoch [887/3000]: Train loss: 1.4539, Valid loss: 1.7330\n"
          ]
        },
        {
          "output_type": "stream",
          "name": "stderr",
          "text": [
            "Epoch [888/3000]: 100%|██████████████████████████████████████████████████████| 9/9 [00:00<00:00, 199.41it/s, loss=1.06]\n"
          ]
        },
        {
          "output_type": "stream",
          "name": "stdout",
          "text": [
            "Epoch [888/3000]: Train loss: 1.4194, Valid loss: 1.6487\n"
          ]
        },
        {
          "output_type": "stream",
          "name": "stderr",
          "text": [
            "Epoch [889/3000]: 100%|███████████████████████████████████████████████████████| 9/9 [00:00<00:00, 183.51it/s, loss=1.5]\n"
          ]
        },
        {
          "output_type": "stream",
          "name": "stdout",
          "text": [
            "Epoch [889/3000]: Train loss: 1.4551, Valid loss: 1.5802\n"
          ]
        },
        {
          "output_type": "stream",
          "name": "stderr",
          "text": [
            "Epoch [890/3000]: 100%|██████████████████████████████████████████████████████| 9/9 [00:00<00:00, 197.36it/s, loss=1.68]\n"
          ]
        },
        {
          "output_type": "stream",
          "name": "stdout",
          "text": [
            "Epoch [890/3000]: Train loss: 1.4618, Valid loss: 1.7127\n"
          ]
        },
        {
          "output_type": "stream",
          "name": "stderr",
          "text": [
            "Epoch [891/3000]: 100%|██████████████████████████████████████████████████████| 9/9 [00:00<00:00, 185.32it/s, loss=1.43]\n"
          ]
        },
        {
          "output_type": "stream",
          "name": "stdout",
          "text": [
            "Epoch [891/3000]: Train loss: 1.4488, Valid loss: 1.6887\n"
          ]
        },
        {
          "output_type": "stream",
          "name": "stderr",
          "text": [
            "Epoch [892/3000]: 100%|██████████████████████████████████████████████████████| 9/9 [00:00<00:00, 179.32it/s, loss=1.41]\n"
          ]
        },
        {
          "output_type": "stream",
          "name": "stdout",
          "text": [
            "Epoch [892/3000]: Train loss: 1.4389, Valid loss: 1.4716\n"
          ]
        },
        {
          "output_type": "stream",
          "name": "stderr",
          "text": [
            "Epoch [893/3000]: 100%|██████████████████████████████████████████████████████| 9/9 [00:00<00:00, 195.98it/s, loss=1.53]\n"
          ]
        },
        {
          "output_type": "stream",
          "name": "stdout",
          "text": [
            "Epoch [893/3000]: Train loss: 1.4473, Valid loss: 2.0954\n"
          ]
        },
        {
          "output_type": "stream",
          "name": "stderr",
          "text": [
            "Epoch [894/3000]: 100%|██████████████████████████████████████████████████████| 9/9 [00:00<00:00, 202.61it/s, loss=1.51]\n"
          ]
        },
        {
          "output_type": "stream",
          "name": "stdout",
          "text": [
            "Epoch [894/3000]: Train loss: 1.4446, Valid loss: 1.3373\n",
            "Saving model with loss 1.337...\n"
          ]
        },
        {
          "output_type": "stream",
          "name": "stderr",
          "text": [
            "Epoch [895/3000]: 100%|██████████████████████████████████████████████████████| 9/9 [00:00<00:00, 194.42it/s, loss=1.67]\n"
          ]
        },
        {
          "output_type": "stream",
          "name": "stdout",
          "text": [
            "Epoch [895/3000]: Train loss: 1.4541, Valid loss: 1.6797\n"
          ]
        },
        {
          "output_type": "stream",
          "name": "stderr",
          "text": [
            "Epoch [896/3000]: 100%|██████████████████████████████████████████████████████| 9/9 [00:00<00:00, 193.38it/s, loss=1.73]\n"
          ]
        },
        {
          "output_type": "stream",
          "name": "stdout",
          "text": [
            "Epoch [896/3000]: Train loss: 1.4629, Valid loss: 1.9010\n"
          ]
        },
        {
          "output_type": "stream",
          "name": "stderr",
          "text": [
            "Epoch [897/3000]: 100%|██████████████████████████████████████████████████████| 9/9 [00:00<00:00, 197.63it/s, loss=1.85]\n"
          ]
        },
        {
          "output_type": "stream",
          "name": "stdout",
          "text": [
            "Epoch [897/3000]: Train loss: 1.4714, Valid loss: 1.6121\n"
          ]
        },
        {
          "output_type": "stream",
          "name": "stderr",
          "text": [
            "Epoch [898/3000]: 100%|███████████████████████████████████████████████████████| 9/9 [00:00<00:00, 187.30it/s, loss=1.7]\n"
          ]
        },
        {
          "output_type": "stream",
          "name": "stdout",
          "text": [
            "Epoch [898/3000]: Train loss: 1.4513, Valid loss: 1.5061\n"
          ]
        },
        {
          "output_type": "stream",
          "name": "stderr",
          "text": [
            "Epoch [899/3000]: 100%|██████████████████████████████████████████████████████| 9/9 [00:00<00:00, 206.71it/s, loss=1.24]\n"
          ]
        },
        {
          "output_type": "stream",
          "name": "stdout",
          "text": [
            "Epoch [899/3000]: Train loss: 1.4268, Valid loss: 1.5629\n"
          ]
        },
        {
          "output_type": "stream",
          "name": "stderr",
          "text": [
            "Epoch [900/3000]: 100%|██████████████████████████████████████████████████████| 9/9 [00:00<00:00, 197.57it/s, loss=1.64]\n"
          ]
        },
        {
          "output_type": "stream",
          "name": "stdout",
          "text": [
            "Epoch [900/3000]: Train loss: 1.4608, Valid loss: 1.5315\n"
          ]
        },
        {
          "output_type": "stream",
          "name": "stderr",
          "text": [
            "Epoch [901/3000]: 100%|██████████████████████████████████████████████████████| 9/9 [00:00<00:00, 182.26it/s, loss=2.08]\n"
          ]
        },
        {
          "output_type": "stream",
          "name": "stdout",
          "text": [
            "Epoch [901/3000]: Train loss: 1.4762, Valid loss: 1.6172\n"
          ]
        },
        {
          "output_type": "stream",
          "name": "stderr",
          "text": [
            "Epoch [902/3000]: 100%|██████████████████████████████████████████████████████| 9/9 [00:00<00:00, 211.56it/s, loss=1.73]\n"
          ]
        },
        {
          "output_type": "stream",
          "name": "stdout",
          "text": [
            "Epoch [902/3000]: Train loss: 1.4685, Valid loss: 1.6326\n"
          ]
        },
        {
          "output_type": "stream",
          "name": "stderr",
          "text": [
            "Epoch [903/3000]: 100%|██████████████████████████████████████████████████████| 9/9 [00:00<00:00, 197.36it/s, loss=1.33]\n"
          ]
        },
        {
          "output_type": "stream",
          "name": "stdout",
          "text": [
            "Epoch [903/3000]: Train loss: 1.4331, Valid loss: 1.6983\n"
          ]
        },
        {
          "output_type": "stream",
          "name": "stderr",
          "text": [
            "Epoch [904/3000]: 100%|██████████████████████████████████████████████████████| 9/9 [00:00<00:00, 193.15it/s, loss=1.67]\n"
          ]
        },
        {
          "output_type": "stream",
          "name": "stdout",
          "text": [
            "Epoch [904/3000]: Train loss: 1.4495, Valid loss: 1.7465\n"
          ]
        },
        {
          "output_type": "stream",
          "name": "stderr",
          "text": [
            "Epoch [905/3000]: 100%|██████████████████████████████████████████████████████| 9/9 [00:00<00:00, 193.37it/s, loss=1.58]\n"
          ]
        },
        {
          "output_type": "stream",
          "name": "stdout",
          "text": [
            "Epoch [905/3000]: Train loss: 1.4439, Valid loss: 1.7255\n"
          ]
        },
        {
          "output_type": "stream",
          "name": "stderr",
          "text": [
            "Epoch [906/3000]: 100%|█████████████████████████████████████████████████████| 9/9 [00:00<00:00, 195.40it/s, loss=0.967]\n"
          ]
        },
        {
          "output_type": "stream",
          "name": "stdout",
          "text": [
            "Epoch [906/3000]: Train loss: 1.4088, Valid loss: 1.7809\n"
          ]
        },
        {
          "output_type": "stream",
          "name": "stderr",
          "text": [
            "Epoch [907/3000]: 100%|█████████████████████████████████████████████████████| 9/9 [00:00<00:00, 181.64it/s, loss=0.975]\n"
          ]
        },
        {
          "output_type": "stream",
          "name": "stdout",
          "text": [
            "Epoch [907/3000]: Train loss: 1.4118, Valid loss: 1.9534\n"
          ]
        },
        {
          "output_type": "stream",
          "name": "stderr",
          "text": [
            "Epoch [908/3000]: 100%|██████████████████████████████████████████████████████| 9/9 [00:00<00:00, 172.89it/s, loss=1.84]\n"
          ]
        },
        {
          "output_type": "stream",
          "name": "stdout",
          "text": [
            "Epoch [908/3000]: Train loss: 1.4588, Valid loss: 1.6813\n"
          ]
        },
        {
          "output_type": "stream",
          "name": "stderr",
          "text": [
            "Epoch [909/3000]: 100%|██████████████████████████████████████████████████████| 9/9 [00:00<00:00, 185.56it/s, loss=1.62]\n"
          ]
        },
        {
          "output_type": "stream",
          "name": "stdout",
          "text": [
            "Epoch [909/3000]: Train loss: 1.4613, Valid loss: 1.9575\n"
          ]
        },
        {
          "output_type": "stream",
          "name": "stderr",
          "text": [
            "Epoch [910/3000]: 100%|██████████████████████████████████████████████████████| 9/9 [00:00<00:00, 193.66it/s, loss=1.47]\n"
          ]
        },
        {
          "output_type": "stream",
          "name": "stdout",
          "text": [
            "Epoch [910/3000]: Train loss: 1.4393, Valid loss: 1.5499\n"
          ]
        },
        {
          "output_type": "stream",
          "name": "stderr",
          "text": [
            "Epoch [911/3000]: 100%|██████████████████████████████████████████████████████| 9/9 [00:00<00:00, 185.30it/s, loss=1.89]\n"
          ]
        },
        {
          "output_type": "stream",
          "name": "stdout",
          "text": [
            "Epoch [911/3000]: Train loss: 1.4638, Valid loss: 1.8231\n"
          ]
        },
        {
          "output_type": "stream",
          "name": "stderr",
          "text": [
            "Epoch [912/3000]: 100%|███████████████████████████████████████████████████████| 9/9 [00:00<00:00, 176.27it/s, loss=1.7]\n"
          ]
        },
        {
          "output_type": "stream",
          "name": "stdout",
          "text": [
            "Epoch [912/3000]: Train loss: 1.4516, Valid loss: 1.5505\n"
          ]
        },
        {
          "output_type": "stream",
          "name": "stderr",
          "text": [
            "Epoch [913/3000]: 100%|██████████████████████████████████████████████████████| 9/9 [00:00<00:00, 178.72it/s, loss=1.69]\n"
          ]
        },
        {
          "output_type": "stream",
          "name": "stdout",
          "text": [
            "Epoch [913/3000]: Train loss: 1.4479, Valid loss: 1.5268\n"
          ]
        },
        {
          "output_type": "stream",
          "name": "stderr",
          "text": [
            "Epoch [914/3000]: 100%|██████████████████████████████████████████████████████| 9/9 [00:00<00:00, 172.55it/s, loss=1.71]\n"
          ]
        },
        {
          "output_type": "stream",
          "name": "stdout",
          "text": [
            "Epoch [914/3000]: Train loss: 1.4525, Valid loss: 1.7268\n"
          ]
        },
        {
          "output_type": "stream",
          "name": "stderr",
          "text": [
            "Epoch [915/3000]: 100%|██████████████████████████████████████████████████████| 9/9 [00:00<00:00, 176.29it/s, loss=1.58]\n"
          ]
        },
        {
          "output_type": "stream",
          "name": "stdout",
          "text": [
            "Epoch [915/3000]: Train loss: 1.4459, Valid loss: 1.8319\n"
          ]
        },
        {
          "output_type": "stream",
          "name": "stderr",
          "text": [
            "Epoch [916/3000]: 100%|██████████████████████████████████████████████████████| 9/9 [00:00<00:00, 192.76it/s, loss=1.83]\n"
          ]
        },
        {
          "output_type": "stream",
          "name": "stdout",
          "text": [
            "Epoch [916/3000]: Train loss: 1.4592, Valid loss: 1.5666\n"
          ]
        },
        {
          "output_type": "stream",
          "name": "stderr",
          "text": [
            "Epoch [917/3000]: 100%|██████████████████████████████████████████████████████| 9/9 [00:00<00:00, 187.31it/s, loss=1.11]\n"
          ]
        },
        {
          "output_type": "stream",
          "name": "stdout",
          "text": [
            "Epoch [917/3000]: Train loss: 1.4225, Valid loss: 1.6622\n"
          ]
        },
        {
          "output_type": "stream",
          "name": "stderr",
          "text": [
            "Epoch [918/3000]: 100%|██████████████████████████████████████████████████████| 9/9 [00:00<00:00, 186.33it/s, loss=1.53]\n"
          ]
        },
        {
          "output_type": "stream",
          "name": "stdout",
          "text": [
            "Epoch [918/3000]: Train loss: 1.4492, Valid loss: 1.9638\n"
          ]
        },
        {
          "output_type": "stream",
          "name": "stderr",
          "text": [
            "Epoch [919/3000]: 100%|█████████████████████████████████████████████████████| 9/9 [00:00<00:00, 193.39it/s, loss=0.925]\n"
          ]
        },
        {
          "output_type": "stream",
          "name": "stdout",
          "text": [
            "Epoch [919/3000]: Train loss: 1.4245, Valid loss: 1.6116\n"
          ]
        },
        {
          "output_type": "stream",
          "name": "stderr",
          "text": [
            "Epoch [920/3000]: 100%|██████████████████████████████████████████████████████| 9/9 [00:00<00:00, 206.19it/s, loss=1.16]\n"
          ]
        },
        {
          "output_type": "stream",
          "name": "stdout",
          "text": [
            "Epoch [920/3000]: Train loss: 1.4170, Valid loss: 1.5360\n"
          ]
        },
        {
          "output_type": "stream",
          "name": "stderr",
          "text": [
            "Epoch [921/3000]: 100%|███████████████████████████████████████████████████████| 9/9 [00:00<00:00, 204.43it/s, loss=1.3]\n"
          ]
        },
        {
          "output_type": "stream",
          "name": "stdout",
          "text": [
            "Epoch [921/3000]: Train loss: 1.4178, Valid loss: 1.4528\n"
          ]
        },
        {
          "output_type": "stream",
          "name": "stderr",
          "text": [
            "Epoch [922/3000]: 100%|██████████████████████████████████████████████████████| 9/9 [00:00<00:00, 201.71it/s, loss=1.47]\n"
          ]
        },
        {
          "output_type": "stream",
          "name": "stdout",
          "text": [
            "Epoch [922/3000]: Train loss: 1.4279, Valid loss: 1.4808\n"
          ]
        },
        {
          "output_type": "stream",
          "name": "stderr",
          "text": [
            "Epoch [923/3000]: 100%|██████████████████████████████████████████████████████| 9/9 [00:00<00:00, 197.43it/s, loss=1.22]\n"
          ]
        },
        {
          "output_type": "stream",
          "name": "stdout",
          "text": [
            "Epoch [923/3000]: Train loss: 1.4115, Valid loss: 1.6254\n"
          ]
        },
        {
          "output_type": "stream",
          "name": "stderr",
          "text": [
            "Epoch [924/3000]: 100%|██████████████████████████████████████████████████████| 9/9 [00:00<00:00, 179.69it/s, loss=1.28]\n"
          ]
        },
        {
          "output_type": "stream",
          "name": "stdout",
          "text": [
            "Epoch [924/3000]: Train loss: 1.4236, Valid loss: 1.6220\n"
          ]
        },
        {
          "output_type": "stream",
          "name": "stderr",
          "text": [
            "Epoch [925/3000]: 100%|██████████████████████████████████████████████████████| 9/9 [00:00<00:00, 191.28it/s, loss=1.49]\n"
          ]
        },
        {
          "output_type": "stream",
          "name": "stdout",
          "text": [
            "Epoch [925/3000]: Train loss: 1.4765, Valid loss: 2.0701\n"
          ]
        },
        {
          "output_type": "stream",
          "name": "stderr",
          "text": [
            "Epoch [926/3000]: 100%|██████████████████████████████████████████████████████| 9/9 [00:00<00:00, 183.57it/s, loss=1.46]\n"
          ]
        },
        {
          "output_type": "stream",
          "name": "stdout",
          "text": [
            "Epoch [926/3000]: Train loss: 1.4275, Valid loss: 1.6144\n"
          ]
        },
        {
          "output_type": "stream",
          "name": "stderr",
          "text": [
            "Epoch [927/3000]: 100%|██████████████████████████████████████████████████████| 9/9 [00:00<00:00, 179.47it/s, loss=1.01]\n"
          ]
        },
        {
          "output_type": "stream",
          "name": "stdout",
          "text": [
            "Epoch [927/3000]: Train loss: 1.3991, Valid loss: 1.6176\n"
          ]
        },
        {
          "output_type": "stream",
          "name": "stderr",
          "text": [
            "Epoch [928/3000]: 100%|██████████████████████████████████████████████████████| 9/9 [00:00<00:00, 197.06it/s, loss=1.39]\n"
          ]
        },
        {
          "output_type": "stream",
          "name": "stdout",
          "text": [
            "Epoch [928/3000]: Train loss: 1.4217, Valid loss: 1.4441\n"
          ]
        },
        {
          "output_type": "stream",
          "name": "stderr",
          "text": [
            "Epoch [929/3000]: 100%|███████████████████████████████████████████████████████| 9/9 [00:00<00:00, 193.26it/s, loss=1.9]\n"
          ]
        },
        {
          "output_type": "stream",
          "name": "stdout",
          "text": [
            "Epoch [929/3000]: Train loss: 1.4684, Valid loss: 1.6782\n"
          ]
        },
        {
          "output_type": "stream",
          "name": "stderr",
          "text": [
            "Epoch [930/3000]: 100%|███████████████████████████████████████████████████████| 9/9 [00:00<00:00, 93.25it/s, loss=1.25]\n"
          ]
        },
        {
          "output_type": "stream",
          "name": "stdout",
          "text": [
            "Epoch [930/3000]: Train loss: 1.4140, Valid loss: 1.6390\n"
          ]
        },
        {
          "output_type": "stream",
          "name": "stderr",
          "text": [
            "Epoch [931/3000]: 100%|██████████████████████████████████████████████████████| 9/9 [00:00<00:00, 171.13it/s, loss=1.69]\n"
          ]
        },
        {
          "output_type": "stream",
          "name": "stdout",
          "text": [
            "Epoch [931/3000]: Train loss: 1.4407, Valid loss: 1.5241\n"
          ]
        },
        {
          "output_type": "stream",
          "name": "stderr",
          "text": [
            "Epoch [932/3000]: 100%|██████████████████████████████████████████████████████| 9/9 [00:00<00:00, 179.77it/s, loss=1.42]\n"
          ]
        },
        {
          "output_type": "stream",
          "name": "stdout",
          "text": [
            "Epoch [932/3000]: Train loss: 1.4354, Valid loss: 1.8186\n"
          ]
        },
        {
          "output_type": "stream",
          "name": "stderr",
          "text": [
            "Epoch [933/3000]: 100%|██████████████████████████████████████████████████████| 9/9 [00:00<00:00, 171.19it/s, loss=1.84]\n"
          ]
        },
        {
          "output_type": "stream",
          "name": "stdout",
          "text": [
            "Epoch [933/3000]: Train loss: 1.4550, Valid loss: 1.4865\n"
          ]
        },
        {
          "output_type": "stream",
          "name": "stderr",
          "text": [
            "Epoch [934/3000]: 100%|██████████████████████████████████████████████████████| 9/9 [00:00<00:00, 181.64it/s, loss=2.01]\n"
          ]
        },
        {
          "output_type": "stream",
          "name": "stdout",
          "text": [
            "Epoch [934/3000]: Train loss: 1.4683, Valid loss: 2.0112\n"
          ]
        },
        {
          "output_type": "stream",
          "name": "stderr",
          "text": [
            "Epoch [935/3000]: 100%|█████████████████████████████████████████████████████████| 9/9 [00:00<00:00, 181.68it/s, loss=2]\n"
          ]
        },
        {
          "output_type": "stream",
          "name": "stdout",
          "text": [
            "Epoch [935/3000]: Train loss: 1.4569, Valid loss: 1.6316\n"
          ]
        },
        {
          "output_type": "stream",
          "name": "stderr",
          "text": [
            "Epoch [936/3000]: 100%|██████████████████████████████████████████████████████| 9/9 [00:00<00:00, 208.72it/s, loss=2.02]\n"
          ]
        },
        {
          "output_type": "stream",
          "name": "stdout",
          "text": [
            "Epoch [936/3000]: Train loss: 1.4887, Valid loss: 1.6422\n"
          ]
        },
        {
          "output_type": "stream",
          "name": "stderr",
          "text": [
            "Epoch [937/3000]: 100%|██████████████████████████████████████████████████████| 9/9 [00:00<00:00, 201.83it/s, loss=1.31]\n"
          ]
        },
        {
          "output_type": "stream",
          "name": "stdout",
          "text": [
            "Epoch [937/3000]: Train loss: 1.4179, Valid loss: 1.6842\n"
          ]
        },
        {
          "output_type": "stream",
          "name": "stderr",
          "text": [
            "Epoch [938/3000]: 100%|██████████████████████████████████████████████████████| 9/9 [00:00<00:00, 209.11it/s, loss=1.26]\n"
          ]
        },
        {
          "output_type": "stream",
          "name": "stdout",
          "text": [
            "Epoch [938/3000]: Train loss: 1.4140, Valid loss: 1.8940\n"
          ]
        },
        {
          "output_type": "stream",
          "name": "stderr",
          "text": [
            "Epoch [939/3000]: 100%|██████████████████████████████████████████████████████| 9/9 [00:00<00:00, 185.41it/s, loss=1.62]\n"
          ]
        },
        {
          "output_type": "stream",
          "name": "stdout",
          "text": [
            "Epoch [939/3000]: Train loss: 1.4487, Valid loss: 1.6006\n"
          ]
        },
        {
          "output_type": "stream",
          "name": "stderr",
          "text": [
            "Epoch [940/3000]: 100%|███████████████████████████████████████████████████████| 9/9 [00:00<00:00, 202.00it/s, loss=1.7]\n"
          ]
        },
        {
          "output_type": "stream",
          "name": "stdout",
          "text": [
            "Epoch [940/3000]: Train loss: 1.4562, Valid loss: 1.6350\n"
          ]
        },
        {
          "output_type": "stream",
          "name": "stderr",
          "text": [
            "Epoch [941/3000]: 100%|██████████████████████████████████████████████████████| 9/9 [00:00<00:00, 185.37it/s, loss=1.04]\n"
          ]
        },
        {
          "output_type": "stream",
          "name": "stdout",
          "text": [
            "Epoch [941/3000]: Train loss: 1.3940, Valid loss: 1.5635\n"
          ]
        },
        {
          "output_type": "stream",
          "name": "stderr",
          "text": [
            "Epoch [942/3000]: 100%|██████████████████████████████████████████████████████| 9/9 [00:00<00:00, 195.34it/s, loss=1.73]\n"
          ]
        },
        {
          "output_type": "stream",
          "name": "stdout",
          "text": [
            "Epoch [942/3000]: Train loss: 1.4538, Valid loss: 1.5473\n"
          ]
        },
        {
          "output_type": "stream",
          "name": "stderr",
          "text": [
            "Epoch [943/3000]: 100%|██████████████████████████████████████████████████████| 9/9 [00:00<00:00, 206.69it/s, loss=1.42]\n"
          ]
        },
        {
          "output_type": "stream",
          "name": "stdout",
          "text": [
            "Epoch [943/3000]: Train loss: 1.4448, Valid loss: 1.7613\n"
          ]
        },
        {
          "output_type": "stream",
          "name": "stderr",
          "text": [
            "Epoch [944/3000]: 100%|███████████████████████████████████████████████████████| 9/9 [00:00<00:00, 188.98it/s, loss=1.4]\n"
          ]
        },
        {
          "output_type": "stream",
          "name": "stdout",
          "text": [
            "Epoch [944/3000]: Train loss: 1.4220, Valid loss: 1.7410\n"
          ]
        },
        {
          "output_type": "stream",
          "name": "stderr",
          "text": [
            "Epoch [945/3000]: 100%|██████████████████████████████████████████████████████| 9/9 [00:00<00:00, 185.77it/s, loss=1.49]\n"
          ]
        },
        {
          "output_type": "stream",
          "name": "stdout",
          "text": [
            "Epoch [945/3000]: Train loss: 1.4251, Valid loss: 1.7775\n"
          ]
        },
        {
          "output_type": "stream",
          "name": "stderr",
          "text": [
            "Epoch [946/3000]: 100%|██████████████████████████████████████████████████████| 9/9 [00:00<00:00, 184.12it/s, loss=1.38]\n"
          ]
        },
        {
          "output_type": "stream",
          "name": "stdout",
          "text": [
            "Epoch [946/3000]: Train loss: 1.4150, Valid loss: 1.9746\n"
          ]
        },
        {
          "output_type": "stream",
          "name": "stderr",
          "text": [
            "Epoch [947/3000]: 100%|██████████████████████████████████████████████████████| 9/9 [00:00<00:00, 211.57it/s, loss=1.14]\n"
          ]
        },
        {
          "output_type": "stream",
          "name": "stdout",
          "text": [
            "Epoch [947/3000]: Train loss: 1.4040, Valid loss: 1.4855\n"
          ]
        },
        {
          "output_type": "stream",
          "name": "stderr",
          "text": [
            "Epoch [948/3000]: 100%|██████████████████████████████████████████████████████| 9/9 [00:00<00:00, 209.17it/s, loss=1.85]\n"
          ]
        },
        {
          "output_type": "stream",
          "name": "stdout",
          "text": [
            "Epoch [948/3000]: Train loss: 1.4497, Valid loss: 1.5623\n"
          ]
        },
        {
          "output_type": "stream",
          "name": "stderr",
          "text": [
            "Epoch [949/3000]: 100%|██████████████████████████████████████████████████████| 9/9 [00:00<00:00, 195.35it/s, loss=1.51]\n"
          ]
        },
        {
          "output_type": "stream",
          "name": "stdout",
          "text": [
            "Epoch [949/3000]: Train loss: 1.4385, Valid loss: 1.5907\n"
          ]
        },
        {
          "output_type": "stream",
          "name": "stderr",
          "text": [
            "Epoch [950/3000]: 100%|██████████████████████████████████████████████████████| 9/9 [00:00<00:00, 191.26it/s, loss=1.73]\n"
          ]
        },
        {
          "output_type": "stream",
          "name": "stdout",
          "text": [
            "Epoch [950/3000]: Train loss: 1.4392, Valid loss: 1.6545\n"
          ]
        },
        {
          "output_type": "stream",
          "name": "stderr",
          "text": [
            "Epoch [951/3000]: 100%|██████████████████████████████████████████████████████| 9/9 [00:00<00:00, 199.79it/s, loss=1.68]\n"
          ]
        },
        {
          "output_type": "stream",
          "name": "stdout",
          "text": [
            "Epoch [951/3000]: Train loss: 1.4361, Valid loss: 1.6881\n"
          ]
        },
        {
          "output_type": "stream",
          "name": "stderr",
          "text": [
            "Epoch [952/3000]: 100%|██████████████████████████████████████████████████████| 9/9 [00:00<00:00, 195.54it/s, loss=1.12]\n"
          ]
        },
        {
          "output_type": "stream",
          "name": "stdout",
          "text": [
            "Epoch [952/3000]: Train loss: 1.3932, Valid loss: 1.5734\n"
          ]
        },
        {
          "output_type": "stream",
          "name": "stderr",
          "text": [
            "Epoch [953/3000]: 100%|██████████████████████████████████████████████████████| 9/9 [00:00<00:00, 179.82it/s, loss=1.68]\n"
          ]
        },
        {
          "output_type": "stream",
          "name": "stdout",
          "text": [
            "Epoch [953/3000]: Train loss: 1.4376, Valid loss: 1.4679\n"
          ]
        },
        {
          "output_type": "stream",
          "name": "stderr",
          "text": [
            "Epoch [954/3000]: 100%|██████████████████████████████████████████████████████| 9/9 [00:00<00:00, 174.62it/s, loss=1.36]\n"
          ]
        },
        {
          "output_type": "stream",
          "name": "stdout",
          "text": [
            "Epoch [954/3000]: Train loss: 1.4110, Valid loss: 1.6757\n"
          ]
        },
        {
          "output_type": "stream",
          "name": "stderr",
          "text": [
            "Epoch [955/3000]: 100%|███████████████████████████████████████████████████████| 9/9 [00:00<00:00, 183.50it/s, loss=1.4]\n"
          ]
        },
        {
          "output_type": "stream",
          "name": "stdout",
          "text": [
            "Epoch [955/3000]: Train loss: 1.4184, Valid loss: 1.6375\n"
          ]
        },
        {
          "output_type": "stream",
          "name": "stderr",
          "text": [
            "Epoch [956/3000]: 100%|██████████████████████████████████████████████████████| 9/9 [00:00<00:00, 181.15it/s, loss=1.58]\n"
          ]
        },
        {
          "output_type": "stream",
          "name": "stdout",
          "text": [
            "Epoch [956/3000]: Train loss: 1.4366, Valid loss: 1.3816\n"
          ]
        },
        {
          "output_type": "stream",
          "name": "stderr",
          "text": [
            "Epoch [957/3000]: 100%|██████████████████████████████████████████████████████| 9/9 [00:00<00:00, 167.34it/s, loss=1.44]\n"
          ]
        },
        {
          "output_type": "stream",
          "name": "stdout",
          "text": [
            "Epoch [957/3000]: Train loss: 1.4105, Valid loss: 1.6852\n"
          ]
        },
        {
          "output_type": "stream",
          "name": "stderr",
          "text": [
            "Epoch [958/3000]: 100%|██████████████████████████████████████████████████████| 9/9 [00:00<00:00, 188.50it/s, loss=1.16]\n"
          ]
        },
        {
          "output_type": "stream",
          "name": "stdout",
          "text": [
            "Epoch [958/3000]: Train loss: 1.4057, Valid loss: 1.7830\n"
          ]
        },
        {
          "output_type": "stream",
          "name": "stderr",
          "text": [
            "Epoch [959/3000]: 100%|██████████████████████████████████████████████████████| 9/9 [00:00<00:00, 191.36it/s, loss=1.24]\n"
          ]
        },
        {
          "output_type": "stream",
          "name": "stdout",
          "text": [
            "Epoch [959/3000]: Train loss: 1.4176, Valid loss: 1.6143\n"
          ]
        },
        {
          "output_type": "stream",
          "name": "stderr",
          "text": [
            "Epoch [960/3000]: 100%|███████████████████████████████████████████████████████| 9/9 [00:00<00:00, 199.80it/s, loss=1.5]\n"
          ]
        },
        {
          "output_type": "stream",
          "name": "stdout",
          "text": [
            "Epoch [960/3000]: Train loss: 1.4321, Valid loss: 1.6758\n"
          ]
        },
        {
          "output_type": "stream",
          "name": "stderr",
          "text": [
            "Epoch [961/3000]: 100%|██████████████████████████████████████████████████████| 9/9 [00:00<00:00, 193.28it/s, loss=1.91]\n"
          ]
        },
        {
          "output_type": "stream",
          "name": "stdout",
          "text": [
            "Epoch [961/3000]: Train loss: 1.4480, Valid loss: 1.4478\n"
          ]
        },
        {
          "output_type": "stream",
          "name": "stderr",
          "text": [
            "Epoch [962/3000]: 100%|██████████████████████████████████████████████████████| 9/9 [00:00<00:00, 179.76it/s, loss=1.14]\n"
          ]
        },
        {
          "output_type": "stream",
          "name": "stdout",
          "text": [
            "Epoch [962/3000]: Train loss: 1.3986, Valid loss: 1.5855\n"
          ]
        },
        {
          "output_type": "stream",
          "name": "stderr",
          "text": [
            "Epoch [963/3000]: 100%|██████████████████████████████████████████████████████| 9/9 [00:00<00:00, 194.88it/s, loss=1.72]\n"
          ]
        },
        {
          "output_type": "stream",
          "name": "stdout",
          "text": [
            "Epoch [963/3000]: Train loss: 1.4318, Valid loss: 1.7897\n"
          ]
        },
        {
          "output_type": "stream",
          "name": "stderr",
          "text": [
            "Epoch [964/3000]: 100%|██████████████████████████████████████████████████████| 9/9 [00:00<00:00, 191.36it/s, loss=2.03]\n"
          ]
        },
        {
          "output_type": "stream",
          "name": "stdout",
          "text": [
            "Epoch [964/3000]: Train loss: 1.4612, Valid loss: 1.7831\n"
          ]
        },
        {
          "output_type": "stream",
          "name": "stderr",
          "text": [
            "Epoch [965/3000]: 100%|██████████████████████████████████████████████████████| 9/9 [00:00<00:00, 195.38it/s, loss=1.08]\n"
          ]
        },
        {
          "output_type": "stream",
          "name": "stdout",
          "text": [
            "Epoch [965/3000]: Train loss: 1.3879, Valid loss: 1.7132\n"
          ]
        },
        {
          "output_type": "stream",
          "name": "stderr",
          "text": [
            "Epoch [966/3000]: 100%|███████████████████████████████████████████████████████| 9/9 [00:00<00:00, 206.70it/s, loss=1.1]\n"
          ]
        },
        {
          "output_type": "stream",
          "name": "stdout",
          "text": [
            "Epoch [966/3000]: Train loss: 1.3969, Valid loss: 1.5832\n"
          ]
        },
        {
          "output_type": "stream",
          "name": "stderr",
          "text": [
            "Epoch [967/3000]: 100%|██████████████████████████████████████████████████████| 9/9 [00:00<00:00, 197.64it/s, loss=1.38]\n"
          ]
        },
        {
          "output_type": "stream",
          "name": "stdout",
          "text": [
            "Epoch [967/3000]: Train loss: 1.4252, Valid loss: 1.8485\n"
          ]
        },
        {
          "output_type": "stream",
          "name": "stderr",
          "text": [
            "Epoch [968/3000]: 100%|██████████████████████████████████████████████████████| 9/9 [00:00<00:00, 181.66it/s, loss=1.32]\n"
          ]
        },
        {
          "output_type": "stream",
          "name": "stdout",
          "text": [
            "Epoch [968/3000]: Train loss: 1.4092, Valid loss: 1.4543\n"
          ]
        },
        {
          "output_type": "stream",
          "name": "stderr",
          "text": [
            "Epoch [969/3000]: 100%|██████████████████████████████████████████████████████| 9/9 [00:00<00:00, 209.08it/s, loss=1.51]\n"
          ]
        },
        {
          "output_type": "stream",
          "name": "stdout",
          "text": [
            "Epoch [969/3000]: Train loss: 1.4109, Valid loss: 1.6309\n"
          ]
        },
        {
          "output_type": "stream",
          "name": "stderr",
          "text": [
            "Epoch [970/3000]: 100%|██████████████████████████████████████████████████████| 9/9 [00:00<00:00, 199.77it/s, loss=1.06]\n"
          ]
        },
        {
          "output_type": "stream",
          "name": "stdout",
          "text": [
            "Epoch [970/3000]: Train loss: 1.3849, Valid loss: 1.5984\n"
          ]
        },
        {
          "output_type": "stream",
          "name": "stderr",
          "text": [
            "Epoch [971/3000]: 100%|██████████████████████████████████████████████████████| 9/9 [00:00<00:00, 202.08it/s, loss=1.28]\n"
          ]
        },
        {
          "output_type": "stream",
          "name": "stdout",
          "text": [
            "Epoch [971/3000]: Train loss: 1.3994, Valid loss: 1.5202\n"
          ]
        },
        {
          "output_type": "stream",
          "name": "stderr",
          "text": [
            "Epoch [972/3000]: 100%|██████████████████████████████████████████████████████| 9/9 [00:00<00:00, 206.73it/s, loss=1.01]\n"
          ]
        },
        {
          "output_type": "stream",
          "name": "stdout",
          "text": [
            "Epoch [972/3000]: Train loss: 1.3807, Valid loss: 1.6049\n"
          ]
        },
        {
          "output_type": "stream",
          "name": "stderr",
          "text": [
            "Epoch [973/3000]: 100%|██████████████████████████████████████████████████████| 9/9 [00:00<00:00, 192.56it/s, loss=1.75]\n"
          ]
        },
        {
          "output_type": "stream",
          "name": "stdout",
          "text": [
            "Epoch [973/3000]: Train loss: 1.4273, Valid loss: 1.7494\n"
          ]
        },
        {
          "output_type": "stream",
          "name": "stderr",
          "text": [
            "Epoch [974/3000]: 100%|██████████████████████████████████████████████████████| 9/9 [00:00<00:00, 201.04it/s, loss=1.82]\n"
          ]
        },
        {
          "output_type": "stream",
          "name": "stdout",
          "text": [
            "Epoch [974/3000]: Train loss: 1.4271, Valid loss: 1.5521\n"
          ]
        },
        {
          "output_type": "stream",
          "name": "stderr",
          "text": [
            "Epoch [975/3000]: 100%|██████████████████████████████████████████████████████| 9/9 [00:00<00:00, 195.57it/s, loss=1.25]\n"
          ]
        },
        {
          "output_type": "stream",
          "name": "stdout",
          "text": [
            "Epoch [975/3000]: Train loss: 1.4138, Valid loss: 1.6734\n"
          ]
        },
        {
          "output_type": "stream",
          "name": "stderr",
          "text": [
            "Epoch [976/3000]: 100%|██████████████████████████████████████████████████████| 9/9 [00:00<00:00, 204.33it/s, loss=1.55]\n"
          ]
        },
        {
          "output_type": "stream",
          "name": "stdout",
          "text": [
            "Epoch [976/3000]: Train loss: 1.4198, Valid loss: 1.4521\n"
          ]
        },
        {
          "output_type": "stream",
          "name": "stderr",
          "text": [
            "Epoch [977/3000]: 100%|███████████████████████████████████████████████████████| 9/9 [00:00<00:00, 37.65it/s, loss=1.26]\n"
          ]
        },
        {
          "output_type": "stream",
          "name": "stdout",
          "text": [
            "Epoch [977/3000]: Train loss: 1.4014, Valid loss: 1.4897\n"
          ]
        },
        {
          "output_type": "stream",
          "name": "stderr",
          "text": [
            "Epoch [978/3000]: 100%|██████████████████████████████████████████████████████| 9/9 [00:00<00:00, 196.92it/s, loss=1.36]\n"
          ]
        },
        {
          "output_type": "stream",
          "name": "stdout",
          "text": [
            "Epoch [978/3000]: Train loss: 1.4176, Valid loss: 1.5900\n"
          ]
        },
        {
          "output_type": "stream",
          "name": "stderr",
          "text": [
            "Epoch [979/3000]: 100%|██████████████████████████████████████████████████████| 9/9 [00:00<00:00, 185.39it/s, loss=1.45]\n"
          ]
        },
        {
          "output_type": "stream",
          "name": "stdout",
          "text": [
            "Epoch [979/3000]: Train loss: 1.4073, Valid loss: 1.6470\n"
          ]
        },
        {
          "output_type": "stream",
          "name": "stderr",
          "text": [
            "Epoch [980/3000]: 100%|███████████████████████████████████████████████████████| 9/9 [00:00<00:00, 189.07it/s, loss=1.6]\n"
          ]
        },
        {
          "output_type": "stream",
          "name": "stdout",
          "text": [
            "Epoch [980/3000]: Train loss: 1.4204, Valid loss: 1.4972\n"
          ]
        },
        {
          "output_type": "stream",
          "name": "stderr",
          "text": [
            "Epoch [981/3000]: 100%|███████████████████████████████████████████████████████| 9/9 [00:00<00:00, 197.67it/s, loss=1.1]\n"
          ]
        },
        {
          "output_type": "stream",
          "name": "stdout",
          "text": [
            "Epoch [981/3000]: Train loss: 1.3892, Valid loss: 1.5276\n"
          ]
        },
        {
          "output_type": "stream",
          "name": "stderr",
          "text": [
            "Epoch [982/3000]: 100%|██████████████████████████████████████████████████████| 9/9 [00:00<00:00, 189.56it/s, loss=1.57]\n"
          ]
        },
        {
          "output_type": "stream",
          "name": "stdout",
          "text": [
            "Epoch [982/3000]: Train loss: 1.4400, Valid loss: 1.6473\n"
          ]
        },
        {
          "output_type": "stream",
          "name": "stderr",
          "text": [
            "Epoch [983/3000]: 100%|██████████████████████████████████████████████████████| 9/9 [00:00<00:00, 201.86it/s, loss=1.53]\n"
          ]
        },
        {
          "output_type": "stream",
          "name": "stdout",
          "text": [
            "Epoch [983/3000]: Train loss: 1.4085, Valid loss: 1.5550\n"
          ]
        },
        {
          "output_type": "stream",
          "name": "stderr",
          "text": [
            "Epoch [984/3000]: 100%|██████████████████████████████████████████████████████| 9/9 [00:00<00:00, 199.34it/s, loss=1.37]\n"
          ]
        },
        {
          "output_type": "stream",
          "name": "stdout",
          "text": [
            "Epoch [984/3000]: Train loss: 1.4077, Valid loss: 1.4990\n"
          ]
        },
        {
          "output_type": "stream",
          "name": "stderr",
          "text": [
            "Epoch [985/3000]: 100%|██████████████████████████████████████████████████████| 9/9 [00:00<00:00, 202.02it/s, loss=1.55]\n"
          ]
        },
        {
          "output_type": "stream",
          "name": "stdout",
          "text": [
            "Epoch [985/3000]: Train loss: 1.4063, Valid loss: 1.7067\n"
          ]
        },
        {
          "output_type": "stream",
          "name": "stderr",
          "text": [
            "Epoch [986/3000]: 100%|██████████████████████████████████████████████████████| 9/9 [00:00<00:00, 185.40it/s, loss=1.59]\n"
          ]
        },
        {
          "output_type": "stream",
          "name": "stdout",
          "text": [
            "Epoch [986/3000]: Train loss: 1.4223, Valid loss: 1.8210\n"
          ]
        },
        {
          "output_type": "stream",
          "name": "stderr",
          "text": [
            "Epoch [987/3000]: 100%|██████████████████████████████████████████████████████| 9/9 [00:00<00:00, 175.60it/s, loss=1.14]\n"
          ]
        },
        {
          "output_type": "stream",
          "name": "stdout",
          "text": [
            "Epoch [987/3000]: Train loss: 1.4087, Valid loss: 1.6066\n"
          ]
        },
        {
          "output_type": "stream",
          "name": "stderr",
          "text": [
            "Epoch [988/3000]: 100%|███████████████████████████████████████████████████████| 9/9 [00:00<00:00, 191.27it/s, loss=1.9]\n"
          ]
        },
        {
          "output_type": "stream",
          "name": "stdout",
          "text": [
            "Epoch [988/3000]: Train loss: 1.4281, Valid loss: 1.6246\n"
          ]
        },
        {
          "output_type": "stream",
          "name": "stderr",
          "text": [
            "Epoch [989/3000]: 100%|██████████████████████████████████████████████████████| 9/9 [00:00<00:00, 187.18it/s, loss=1.51]\n"
          ]
        },
        {
          "output_type": "stream",
          "name": "stdout",
          "text": [
            "Epoch [989/3000]: Train loss: 1.4092, Valid loss: 1.6592\n"
          ]
        },
        {
          "output_type": "stream",
          "name": "stderr",
          "text": [
            "Epoch [990/3000]: 100%|██████████████████████████████████████████████████████| 9/9 [00:00<00:00, 200.75it/s, loss=1.08]\n"
          ]
        },
        {
          "output_type": "stream",
          "name": "stdout",
          "text": [
            "Epoch [990/3000]: Train loss: 1.3805, Valid loss: 1.5809\n"
          ]
        },
        {
          "output_type": "stream",
          "name": "stderr",
          "text": [
            "Epoch [991/3000]: 100%|██████████████████████████████████████████████████████| 9/9 [00:00<00:00, 200.00it/s, loss=1.32]\n"
          ]
        },
        {
          "output_type": "stream",
          "name": "stdout",
          "text": [
            "Epoch [991/3000]: Train loss: 1.3959, Valid loss: 1.4799\n"
          ]
        },
        {
          "output_type": "stream",
          "name": "stderr",
          "text": [
            "Epoch [992/3000]: 100%|██████████████████████████████████████████████████████| 9/9 [00:00<00:00, 206.73it/s, loss=1.34]\n"
          ]
        },
        {
          "output_type": "stream",
          "name": "stdout",
          "text": [
            "Epoch [992/3000]: Train loss: 1.3919, Valid loss: 1.5859\n"
          ]
        },
        {
          "output_type": "stream",
          "name": "stderr",
          "text": [
            "Epoch [993/3000]: 100%|██████████████████████████████████████████████████████| 9/9 [00:00<00:00, 199.28it/s, loss=1.17]\n"
          ]
        },
        {
          "output_type": "stream",
          "name": "stdout",
          "text": [
            "Epoch [993/3000]: Train loss: 1.3896, Valid loss: 1.3392\n"
          ]
        },
        {
          "output_type": "stream",
          "name": "stderr",
          "text": [
            "Epoch [994/3000]: 100%|██████████████████████████████████████████████████████| 9/9 [00:00<00:00, 189.26it/s, loss=1.17]\n"
          ]
        },
        {
          "output_type": "stream",
          "name": "stdout",
          "text": [
            "Epoch [994/3000]: Train loss: 1.3841, Valid loss: 1.5670\n"
          ]
        },
        {
          "output_type": "stream",
          "name": "stderr",
          "text": [
            "Epoch [995/3000]: 100%|██████████████████████████████████████████████████████| 9/9 [00:00<00:00, 148.22it/s, loss=1.14]\n"
          ]
        },
        {
          "output_type": "stream",
          "name": "stdout",
          "text": [
            "Epoch [995/3000]: Train loss: 1.3861, Valid loss: 1.6612\n"
          ]
        },
        {
          "output_type": "stream",
          "name": "stderr",
          "text": [
            "Epoch [996/3000]: 100%|██████████████████████████████████████████████████████| 9/9 [00:00<00:00, 160.53it/s, loss=1.37]\n"
          ]
        },
        {
          "output_type": "stream",
          "name": "stdout",
          "text": [
            "Epoch [996/3000]: Train loss: 1.3949, Valid loss: 1.7200\n"
          ]
        },
        {
          "output_type": "stream",
          "name": "stderr",
          "text": [
            "Epoch [997/3000]: 100%|██████████████████████████████████████████████████████| 9/9 [00:00<00:00, 159.16it/s, loss=1.27]\n"
          ]
        },
        {
          "output_type": "stream",
          "name": "stdout",
          "text": [
            "Epoch [997/3000]: Train loss: 1.3827, Valid loss: 1.5283\n"
          ]
        },
        {
          "output_type": "stream",
          "name": "stderr",
          "text": [
            "Epoch [998/3000]: 100%|██████████████████████████████████████████████████████| 9/9 [00:00<00:00, 174.61it/s, loss=1.48]\n"
          ]
        },
        {
          "output_type": "stream",
          "name": "stdout",
          "text": [
            "Epoch [998/3000]: Train loss: 1.4022, Valid loss: 2.1591\n"
          ]
        },
        {
          "output_type": "stream",
          "name": "stderr",
          "text": [
            "Epoch [999/3000]: 100%|██████████████████████████████████████████████████████| 9/9 [00:00<00:00, 163.34it/s, loss=1.67]\n"
          ]
        },
        {
          "output_type": "stream",
          "name": "stdout",
          "text": [
            "Epoch [999/3000]: Train loss: 1.4080, Valid loss: 1.6826\n"
          ]
        },
        {
          "output_type": "stream",
          "name": "stderr",
          "text": [
            "Epoch [1000/3000]: 100%|█████████████████████████████████████████████████████| 9/9 [00:00<00:00, 166.49it/s, loss=1.12]"
          ]
        },
        {
          "output_type": "stream",
          "name": "stdout",
          "text": [
            "Epoch [1000/3000]: Train loss: 1.3784, Valid loss: 1.7201"
          ]
        },
        {
          "output_type": "stream",
          "name": "stderr",
          "text": [
            "\n"
          ]
        },
        {
          "output_type": "stream",
          "name": "stdout",
          "text": [
            "\n"
          ]
        },
        {
          "output_type": "stream",
          "name": "stderr",
          "text": [
            "Epoch [1001/3000]: 100%|█████████████████████████████████████████████████████| 9/9 [00:00<00:00, 176.11it/s, loss=1.29]"
          ]
        },
        {
          "output_type": "stream",
          "name": "stdout",
          "text": [
            "Epoch [1001/3000]: Train loss: 1.3928, Valid loss: 1.6974"
          ]
        },
        {
          "output_type": "stream",
          "name": "stderr",
          "text": [
            "\n"
          ]
        },
        {
          "output_type": "stream",
          "name": "stdout",
          "text": [
            "\n"
          ]
        },
        {
          "output_type": "stream",
          "name": "stderr",
          "text": [
            "Epoch [1002/3000]: 100%|██████████████████████████████████████████████████████| 9/9 [00:00<00:00, 177.94it/s, loss=1.4]\n"
          ]
        },
        {
          "output_type": "stream",
          "name": "stdout",
          "text": [
            "Epoch [1002/3000]: Train loss: 1.4044, Valid loss: 1.5175\n"
          ]
        },
        {
          "output_type": "stream",
          "name": "stderr",
          "text": [
            "Epoch [1003/3000]: 100%|█████████████████████████████████████████████████████| 9/9 [00:00<00:00, 219.33it/s, loss=1.01]\n"
          ]
        },
        {
          "output_type": "stream",
          "name": "stdout",
          "text": [
            "Epoch [1003/3000]: Train loss: 1.3682, Valid loss: 1.8019\n"
          ]
        },
        {
          "output_type": "stream",
          "name": "stderr",
          "text": [
            "Epoch [1004/3000]: 100%|██████████████████████████████████████████████████████| 9/9 [00:00<00:00, 206.72it/s, loss=1.5]\n"
          ]
        },
        {
          "output_type": "stream",
          "name": "stdout",
          "text": [
            "Epoch [1004/3000]: Train loss: 1.4150, Valid loss: 1.5764\n"
          ]
        },
        {
          "output_type": "stream",
          "name": "stderr",
          "text": [
            "Epoch [1005/3000]: 100%|█████████████████████████████████████████████████████| 9/9 [00:00<00:00, 195.41it/s, loss=1.33]\n"
          ]
        },
        {
          "output_type": "stream",
          "name": "stdout",
          "text": [
            "Epoch [1005/3000]: Train loss: 1.4028, Valid loss: 1.7439\n"
          ]
        },
        {
          "output_type": "stream",
          "name": "stderr",
          "text": [
            "Epoch [1006/3000]: 100%|█████████████████████████████████████████████████████| 9/9 [00:00<00:00, 216.57it/s, loss=1.75]\n"
          ]
        },
        {
          "output_type": "stream",
          "name": "stdout",
          "text": [
            "Epoch [1006/3000]: Train loss: 1.4153, Valid loss: 1.3392\n"
          ]
        },
        {
          "output_type": "stream",
          "name": "stderr",
          "text": [
            "Epoch [1007/3000]: 100%|█████████████████████████████████████████████████████| 9/9 [00:00<00:00, 206.73it/s, loss=1.33]\n"
          ]
        },
        {
          "output_type": "stream",
          "name": "stdout",
          "text": [
            "Epoch [1007/3000]: Train loss: 1.4207, Valid loss: 1.7778\n"
          ]
        },
        {
          "output_type": "stream",
          "name": "stderr",
          "text": [
            "Epoch [1008/3000]: 100%|█████████████████████████████████████████████████████| 9/9 [00:00<00:00, 200.55it/s, loss=1.44]\n"
          ]
        },
        {
          "output_type": "stream",
          "name": "stdout",
          "text": [
            "Epoch [1008/3000]: Train loss: 1.4066, Valid loss: 1.5386\n"
          ]
        },
        {
          "output_type": "stream",
          "name": "stderr",
          "text": [
            "Epoch [1009/3000]: 100%|█████████████████████████████████████████████████████| 9/9 [00:00<00:00, 202.08it/s, loss=1.51]\n"
          ]
        },
        {
          "output_type": "stream",
          "name": "stdout",
          "text": [
            "Epoch [1009/3000]: Train loss: 1.3986, Valid loss: 1.7206\n"
          ]
        },
        {
          "output_type": "stream",
          "name": "stderr",
          "text": [
            "Epoch [1010/3000]: 100%|█████████████████████████████████████████████████████| 9/9 [00:00<00:00, 209.19it/s, loss=1.24]\n"
          ]
        },
        {
          "output_type": "stream",
          "name": "stdout",
          "text": [
            "Epoch [1010/3000]: Train loss: 1.3876, Valid loss: 1.5194\n"
          ]
        },
        {
          "output_type": "stream",
          "name": "stderr",
          "text": [
            "Epoch [1011/3000]: 100%|██████████████████████████████████████████████████████| 9/9 [00:00<00:00, 193.41it/s, loss=1.7]\n"
          ]
        },
        {
          "output_type": "stream",
          "name": "stdout",
          "text": [
            "Epoch [1011/3000]: Train loss: 1.4073, Valid loss: 1.5637\n"
          ]
        },
        {
          "output_type": "stream",
          "name": "stderr",
          "text": [
            "Epoch [1012/3000]: 100%|█████████████████████████████████████████████████████| 9/9 [00:00<00:00, 186.92it/s, loss=1.01]\n"
          ]
        },
        {
          "output_type": "stream",
          "name": "stdout",
          "text": [
            "Epoch [1012/3000]: Train loss: 1.3698, Valid loss: 1.7892\n"
          ]
        },
        {
          "output_type": "stream",
          "name": "stderr",
          "text": [
            "Epoch [1013/3000]: 100%|█████████████████████████████████████████████████████| 9/9 [00:00<00:00, 213.52it/s, loss=1.06]\n"
          ]
        },
        {
          "output_type": "stream",
          "name": "stdout",
          "text": [
            "Epoch [1013/3000]: Train loss: 1.3687, Valid loss: 1.4633\n"
          ]
        },
        {
          "output_type": "stream",
          "name": "stderr",
          "text": [
            "Epoch [1014/3000]: 100%|█████████████████████████████████████████████████████| 9/9 [00:00<00:00, 195.52it/s, loss=2.05]\n"
          ]
        },
        {
          "output_type": "stream",
          "name": "stdout",
          "text": [
            "Epoch [1014/3000]: Train loss: 1.4323, Valid loss: 1.5522\n"
          ]
        },
        {
          "output_type": "stream",
          "name": "stderr",
          "text": [
            "Epoch [1015/3000]: 100%|█████████████████████████████████████████████████████| 9/9 [00:00<00:00, 202.08it/s, loss=1.55]\n"
          ]
        },
        {
          "output_type": "stream",
          "name": "stdout",
          "text": [
            "Epoch [1015/3000]: Train loss: 1.4036, Valid loss: 1.3779\n"
          ]
        },
        {
          "output_type": "stream",
          "name": "stderr",
          "text": [
            "Epoch [1016/3000]: 100%|█████████████████████████████████████████████████████| 9/9 [00:00<00:00, 211.58it/s, loss=1.13]\n"
          ]
        },
        {
          "output_type": "stream",
          "name": "stdout",
          "text": [
            "Epoch [1016/3000]: Train loss: 1.3693, Valid loss: 1.4212\n"
          ]
        },
        {
          "output_type": "stream",
          "name": "stderr",
          "text": [
            "Epoch [1017/3000]: 100%|█████████████████████████████████████████████████████| 9/9 [00:00<00:00, 193.16it/s, loss=1.46]\n"
          ]
        },
        {
          "output_type": "stream",
          "name": "stdout",
          "text": [
            "Epoch [1017/3000]: Train loss: 1.4029, Valid loss: 1.9040\n"
          ]
        },
        {
          "output_type": "stream",
          "name": "stderr",
          "text": [
            "Epoch [1018/3000]: 100%|█████████████████████████████████████████████████████| 9/9 [00:00<00:00, 136.44it/s, loss=1.69]"
          ]
        },
        {
          "output_type": "stream",
          "name": "stdout",
          "text": [
            "Epoch [1018/3000]: Train loss: 1.4182, Valid loss: 1.5437\n"
          ]
        },
        {
          "output_type": "stream",
          "name": "stderr",
          "text": [
            "\n",
            "Epoch [1019/3000]: 100%|█████████████████████████████████████████████████████| 9/9 [00:00<00:00, 156.32it/s, loss=1.44]\n"
          ]
        },
        {
          "output_type": "stream",
          "name": "stdout",
          "text": [
            "Epoch [1019/3000]: Train loss: 1.3901, Valid loss: 1.6037\n"
          ]
        },
        {
          "output_type": "stream",
          "name": "stderr",
          "text": [
            "Epoch [1020/3000]: 100%|█████████████████████████████████████████████████████| 9/9 [00:00<00:00, 164.87it/s, loss=1.62]\n"
          ]
        },
        {
          "output_type": "stream",
          "name": "stdout",
          "text": [
            "Epoch [1020/3000]: Train loss: 1.4011, Valid loss: 1.6093\n"
          ]
        },
        {
          "output_type": "stream",
          "name": "stderr",
          "text": [
            "Epoch [1021/3000]: 100%|█████████████████████████████████████████████████████| 9/9 [00:00<00:00, 189.31it/s, loss=1.51]\n"
          ]
        },
        {
          "output_type": "stream",
          "name": "stdout",
          "text": [
            "Epoch [1021/3000]: Train loss: 1.3976, Valid loss: 1.5691\n"
          ]
        },
        {
          "output_type": "stream",
          "name": "stderr",
          "text": [
            "Epoch [1022/3000]: 100%|█████████████████████████████████████████████████████| 9/9 [00:00<00:00, 182.97it/s, loss=1.24]\n"
          ]
        },
        {
          "output_type": "stream",
          "name": "stdout",
          "text": [
            "Epoch [1022/3000]: Train loss: 1.3721, Valid loss: 1.3898\n"
          ]
        },
        {
          "output_type": "stream",
          "name": "stderr",
          "text": [
            "Epoch [1023/3000]: 100%|█████████████████████████████████████████████████████| 9/9 [00:00<00:00, 191.27it/s, loss=1.45]\n"
          ]
        },
        {
          "output_type": "stream",
          "name": "stdout",
          "text": [
            "Epoch [1023/3000]: Train loss: 1.3867, Valid loss: 1.4630\n"
          ]
        },
        {
          "output_type": "stream",
          "name": "stderr",
          "text": [
            "Epoch [1024/3000]: 100%|█████████████████████████████████████████████████████| 9/9 [00:00<00:00, 181.55it/s, loss=1.46]\n"
          ]
        },
        {
          "output_type": "stream",
          "name": "stdout",
          "text": [
            "Epoch [1024/3000]: Train loss: 1.3849, Valid loss: 1.7363\n"
          ]
        },
        {
          "output_type": "stream",
          "name": "stderr",
          "text": [
            "Epoch [1025/3000]: 100%|█████████████████████████████████████████████████████| 9/9 [00:00<00:00, 199.67it/s, loss=2.23]\n"
          ]
        },
        {
          "output_type": "stream",
          "name": "stdout",
          "text": [
            "Epoch [1025/3000]: Train loss: 1.4332, Valid loss: 1.4347\n"
          ]
        },
        {
          "output_type": "stream",
          "name": "stderr",
          "text": [
            "Epoch [1026/3000]: 100%|█████████████████████████████████████████████████████| 9/9 [00:00<00:00, 206.74it/s, loss=1.44]\n"
          ]
        },
        {
          "output_type": "stream",
          "name": "stdout",
          "text": [
            "Epoch [1026/3000]: Train loss: 1.3870, Valid loss: 1.9573\n"
          ]
        },
        {
          "output_type": "stream",
          "name": "stderr",
          "text": [
            "Epoch [1027/3000]: 100%|█████████████████████████████████████████████████████| 9/9 [00:00<00:00, 212.77it/s, loss=1.04]\n"
          ]
        },
        {
          "output_type": "stream",
          "name": "stdout",
          "text": [
            "Epoch [1027/3000]: Train loss: 1.3632, Valid loss: 1.8018\n"
          ]
        },
        {
          "output_type": "stream",
          "name": "stderr",
          "text": [
            "Epoch [1028/3000]: 100%|█████████████████████████████████████████████████████| 9/9 [00:00<00:00, 197.65it/s, loss=1.84]\n"
          ]
        },
        {
          "output_type": "stream",
          "name": "stdout",
          "text": [
            "Epoch [1028/3000]: Train loss: 1.4098, Valid loss: 1.5406\n"
          ]
        },
        {
          "output_type": "stream",
          "name": "stderr",
          "text": [
            "Epoch [1029/3000]: 100%|████████████████████████████████████████████████████| 9/9 [00:00<00:00, 183.01it/s, loss=0.904]\n"
          ]
        },
        {
          "output_type": "stream",
          "name": "stdout",
          "text": [
            "Epoch [1029/3000]: Train loss: 1.3521, Valid loss: 1.8842\n"
          ]
        },
        {
          "output_type": "stream",
          "name": "stderr",
          "text": [
            "Epoch [1030/3000]: 100%|█████████████████████████████████████████████████████| 9/9 [00:00<00:00, 213.54it/s, loss=1.17]\n"
          ]
        },
        {
          "output_type": "stream",
          "name": "stdout",
          "text": [
            "Epoch [1030/3000]: Train loss: 1.3752, Valid loss: 1.3283\n",
            "Saving model with loss 1.328...\n"
          ]
        },
        {
          "output_type": "stream",
          "name": "stderr",
          "text": [
            "Epoch [1031/3000]: 100%|█████████████████████████████████████████████████████| 9/9 [00:00<00:00, 211.57it/s, loss=1.43]\n"
          ]
        },
        {
          "output_type": "stream",
          "name": "stdout",
          "text": [
            "Epoch [1031/3000]: Train loss: 1.3886, Valid loss: 1.5109\n"
          ]
        },
        {
          "output_type": "stream",
          "name": "stderr",
          "text": [
            "Epoch [1032/3000]: 100%|█████████████████████████████████████████████████████| 9/9 [00:00<00:00, 202.04it/s, loss=1.01]\n"
          ]
        },
        {
          "output_type": "stream",
          "name": "stdout",
          "text": [
            "Epoch [1032/3000]: Train loss: 1.3684, Valid loss: 1.3380\n"
          ]
        },
        {
          "output_type": "stream",
          "name": "stderr",
          "text": [
            "Epoch [1033/3000]: 100%|█████████████████████████████████████████████████████| 9/9 [00:00<00:00, 179.82it/s, loss=1.26]\n"
          ]
        },
        {
          "output_type": "stream",
          "name": "stdout",
          "text": [
            "Epoch [1033/3000]: Train loss: 1.3803, Valid loss: 1.5184\n"
          ]
        },
        {
          "output_type": "stream",
          "name": "stderr",
          "text": [
            "Epoch [1034/3000]: 100%|█████████████████████████████████████████████████████| 9/9 [00:00<00:00, 181.67it/s, loss=1.36]\n"
          ]
        },
        {
          "output_type": "stream",
          "name": "stdout",
          "text": [
            "Epoch [1034/3000]: Train loss: 1.3817, Valid loss: 1.3143\n",
            "Saving model with loss 1.314...\n"
          ]
        },
        {
          "output_type": "stream",
          "name": "stderr",
          "text": [
            "Epoch [1035/3000]: 100%|█████████████████████████████████████████████████████| 9/9 [00:00<00:00, 197.88it/s, loss=1.12]\n"
          ]
        },
        {
          "output_type": "stream",
          "name": "stdout",
          "text": [
            "Epoch [1035/3000]: Train loss: 1.3601, Valid loss: 1.6271\n"
          ]
        },
        {
          "output_type": "stream",
          "name": "stderr",
          "text": [
            "Epoch [1036/3000]: 100%|█████████████████████████████████████████████████████| 9/9 [00:00<00:00, 176.26it/s, loss=1.07]\n"
          ]
        },
        {
          "output_type": "stream",
          "name": "stdout",
          "text": [
            "Epoch [1036/3000]: Train loss: 1.3604, Valid loss: 1.5587\n"
          ]
        },
        {
          "output_type": "stream",
          "name": "stderr",
          "text": [
            "Epoch [1037/3000]: 100%|█████████████████████████████████████████████████████| 9/9 [00:00<00:00, 204.37it/s, loss=1.04]\n"
          ]
        },
        {
          "output_type": "stream",
          "name": "stdout",
          "text": [
            "Epoch [1037/3000]: Train loss: 1.3580, Valid loss: 1.3355\n"
          ]
        },
        {
          "output_type": "stream",
          "name": "stderr",
          "text": [
            "Epoch [1038/3000]: 100%|█████████████████████████████████████████████████████| 9/9 [00:00<00:00, 206.63it/s, loss=1.72]\n"
          ]
        },
        {
          "output_type": "stream",
          "name": "stdout",
          "text": [
            "Epoch [1038/3000]: Train loss: 1.4074, Valid loss: 1.8637\n"
          ]
        },
        {
          "output_type": "stream",
          "name": "stderr",
          "text": [
            "Epoch [1039/3000]: 100%|█████████████████████████████████████████████████████| 9/9 [00:00<00:00, 209.18it/s, loss=1.57]\n"
          ]
        },
        {
          "output_type": "stream",
          "name": "stdout",
          "text": [
            "Epoch [1039/3000]: Train loss: 1.4216, Valid loss: 1.7802\n"
          ]
        },
        {
          "output_type": "stream",
          "name": "stderr",
          "text": [
            "Epoch [1040/3000]: 100%|██████████████████████████████████████████████████████| 9/9 [00:00<00:00, 225.46it/s, loss=1.3]\n"
          ]
        },
        {
          "output_type": "stream",
          "name": "stdout",
          "text": [
            "Epoch [1040/3000]: Train loss: 1.3702, Valid loss: 1.4436\n"
          ]
        },
        {
          "output_type": "stream",
          "name": "stderr",
          "text": [
            "Epoch [1041/3000]: 100%|█████████████████████████████████████████████████████| 9/9 [00:00<00:00, 179.83it/s, loss=1.28]\n"
          ]
        },
        {
          "output_type": "stream",
          "name": "stdout",
          "text": [
            "Epoch [1041/3000]: Train loss: 1.3699, Valid loss: 1.5828\n"
          ]
        },
        {
          "output_type": "stream",
          "name": "stderr",
          "text": [
            "Epoch [1042/3000]: 100%|█████████████████████████████████████████████████████| 9/9 [00:00<00:00, 195.44it/s, loss=1.19]\n"
          ]
        },
        {
          "output_type": "stream",
          "name": "stdout",
          "text": [
            "Epoch [1042/3000]: Train loss: 1.3786, Valid loss: 1.3699\n"
          ]
        },
        {
          "output_type": "stream",
          "name": "stderr",
          "text": [
            "Epoch [1043/3000]: 100%|█████████████████████████████████████████████████████| 9/9 [00:00<00:00, 199.88it/s, loss=1.44]\n"
          ]
        },
        {
          "output_type": "stream",
          "name": "stdout",
          "text": [
            "Epoch [1043/3000]: Train loss: 1.3843, Valid loss: 1.7838\n"
          ]
        },
        {
          "output_type": "stream",
          "name": "stderr",
          "text": [
            "Epoch [1044/3000]: 100%|█████████████████████████████████████████████████████| 9/9 [00:00<00:00, 186.50it/s, loss=1.75]\n"
          ]
        },
        {
          "output_type": "stream",
          "name": "stdout",
          "text": [
            "Epoch [1044/3000]: Train loss: 1.3953, Valid loss: 1.8252\n"
          ]
        },
        {
          "output_type": "stream",
          "name": "stderr",
          "text": [
            "Epoch [1045/3000]: 100%|█████████████████████████████████████████████████████| 9/9 [00:00<00:00, 191.36it/s, loss=1.47]\n"
          ]
        },
        {
          "output_type": "stream",
          "name": "stdout",
          "text": [
            "Epoch [1045/3000]: Train loss: 1.3882, Valid loss: 1.4673\n"
          ]
        },
        {
          "output_type": "stream",
          "name": "stderr",
          "text": [
            "Epoch [1046/3000]: 100%|█████████████████████████████████████████████████████| 9/9 [00:00<00:00, 191.30it/s, loss=1.85]\n"
          ]
        },
        {
          "output_type": "stream",
          "name": "stdout",
          "text": [
            "Epoch [1046/3000]: Train loss: 1.4267, Valid loss: 1.5672\n"
          ]
        },
        {
          "output_type": "stream",
          "name": "stderr",
          "text": [
            "Epoch [1047/3000]: 100%|█████████████████████████████████████████████████████| 9/9 [00:00<00:00, 177.57it/s, loss=1.88]\n"
          ]
        },
        {
          "output_type": "stream",
          "name": "stdout",
          "text": [
            "Epoch [1047/3000]: Train loss: 1.4072, Valid loss: 1.3973\n"
          ]
        },
        {
          "output_type": "stream",
          "name": "stderr",
          "text": [
            "Epoch [1048/3000]: 100%|█████████████████████████████████████████████████████| 9/9 [00:00<00:00, 183.20it/s, loss=1.53]\n"
          ]
        },
        {
          "output_type": "stream",
          "name": "stdout",
          "text": [
            "Epoch [1048/3000]: Train loss: 1.3823, Valid loss: 1.7247\n"
          ]
        },
        {
          "output_type": "stream",
          "name": "stderr",
          "text": [
            "Epoch [1049/3000]: 100%|█████████████████████████████████████████████████████| 9/9 [00:00<00:00, 204.22it/s, loss=1.39]\n"
          ]
        },
        {
          "output_type": "stream",
          "name": "stdout",
          "text": [
            "Epoch [1049/3000]: Train loss: 1.3739, Valid loss: 1.5091\n"
          ]
        },
        {
          "output_type": "stream",
          "name": "stderr",
          "text": [
            "Epoch [1050/3000]: 100%|█████████████████████████████████████████████████████| 9/9 [00:00<00:00, 211.58it/s, loss=1.22]\n"
          ]
        },
        {
          "output_type": "stream",
          "name": "stdout",
          "text": [
            "Epoch [1050/3000]: Train loss: 1.3684, Valid loss: 1.4775\n"
          ]
        },
        {
          "output_type": "stream",
          "name": "stderr",
          "text": [
            "Epoch [1051/3000]: 100%|█████████████████████████████████████████████████████| 9/9 [00:00<00:00, 202.10it/s, loss=1.87]\n"
          ]
        },
        {
          "output_type": "stream",
          "name": "stdout",
          "text": [
            "Epoch [1051/3000]: Train loss: 1.4155, Valid loss: 1.7545\n"
          ]
        },
        {
          "output_type": "stream",
          "name": "stderr",
          "text": [
            "Epoch [1052/3000]: 100%|█████████████████████████████████████████████████████| 9/9 [00:00<00:00, 187.37it/s, loss=1.61]\n"
          ]
        },
        {
          "output_type": "stream",
          "name": "stdout",
          "text": [
            "Epoch [1052/3000]: Train loss: 1.3905, Valid loss: 1.4851\n"
          ]
        },
        {
          "output_type": "stream",
          "name": "stderr",
          "text": [
            "Epoch [1053/3000]: 100%|█████████████████████████████████████████████████████| 9/9 [00:00<00:00, 133.90it/s, loss=1.54]\n"
          ]
        },
        {
          "output_type": "stream",
          "name": "stdout",
          "text": [
            "Epoch [1053/3000]: Train loss: 1.3840, Valid loss: 1.6610\n"
          ]
        },
        {
          "output_type": "stream",
          "name": "stderr",
          "text": [
            "Epoch [1054/3000]: 100%|█████████████████████████████████████████████████████| 9/9 [00:00<00:00, 149.50it/s, loss=1.61]\n"
          ]
        },
        {
          "output_type": "stream",
          "name": "stdout",
          "text": [
            "Epoch [1054/3000]: Train loss: 1.4088, Valid loss: 1.4304\n"
          ]
        },
        {
          "output_type": "stream",
          "name": "stderr",
          "text": [
            "Epoch [1055/3000]: 100%|████████████████████████████████████████████████████| 9/9 [00:00<00:00, 144.48it/s, loss=0.963]\n"
          ]
        },
        {
          "output_type": "stream",
          "name": "stdout",
          "text": [
            "Epoch [1055/3000]: Train loss: 1.3579, Valid loss: 1.5653\n"
          ]
        },
        {
          "output_type": "stream",
          "name": "stderr",
          "text": [
            "Epoch [1056/3000]: 100%|█████████████████████████████████████████████████████| 9/9 [00:00<00:00, 149.83it/s, loss=1.39]\n"
          ]
        },
        {
          "output_type": "stream",
          "name": "stdout",
          "text": [
            "Epoch [1056/3000]: Train loss: 1.3732, Valid loss: 1.2803\n",
            "Saving model with loss 1.280...\n"
          ]
        },
        {
          "output_type": "stream",
          "name": "stderr",
          "text": [
            "Epoch [1057/3000]: 100%|█████████████████████████████████████████████████████| 9/9 [00:00<00:00, 209.05it/s, loss=1.38]\n"
          ]
        },
        {
          "output_type": "stream",
          "name": "stdout",
          "text": [
            "Epoch [1057/3000]: Train loss: 1.3799, Valid loss: 1.6379\n"
          ]
        },
        {
          "output_type": "stream",
          "name": "stderr",
          "text": [
            "Epoch [1058/3000]: 100%|█████████████████████████████████████████████████████| 9/9 [00:00<00:00, 178.50it/s, loss=1.57]\n"
          ]
        },
        {
          "output_type": "stream",
          "name": "stdout",
          "text": [
            "Epoch [1058/3000]: Train loss: 1.3890, Valid loss: 1.6554\n"
          ]
        },
        {
          "output_type": "stream",
          "name": "stderr",
          "text": [
            "Epoch [1059/3000]: 100%|█████████████████████████████████████████████████████| 9/9 [00:00<00:00, 183.16it/s, loss=1.37]\n"
          ]
        },
        {
          "output_type": "stream",
          "name": "stdout",
          "text": [
            "Epoch [1059/3000]: Train loss: 1.3681, Valid loss: 1.5029\n"
          ]
        },
        {
          "output_type": "stream",
          "name": "stderr",
          "text": [
            "Epoch [1060/3000]: 100%|█████████████████████████████████████████████████████| 9/9 [00:00<00:00, 179.49it/s, loss=1.38]\n"
          ]
        },
        {
          "output_type": "stream",
          "name": "stdout",
          "text": [
            "Epoch [1060/3000]: Train loss: 1.3762, Valid loss: 1.4753\n"
          ]
        },
        {
          "output_type": "stream",
          "name": "stderr",
          "text": [
            "Epoch [1061/3000]: 100%|█████████████████████████████████████████████████████| 9/9 [00:00<00:00, 176.04it/s, loss=1.75]\n"
          ]
        },
        {
          "output_type": "stream",
          "name": "stdout",
          "text": [
            "Epoch [1061/3000]: Train loss: 1.4092, Valid loss: 1.3394\n"
          ]
        },
        {
          "output_type": "stream",
          "name": "stderr",
          "text": [
            "Epoch [1062/3000]: 100%|█████████████████████████████████████████████████████| 9/9 [00:00<00:00, 183.47it/s, loss=1.51]\n"
          ]
        },
        {
          "output_type": "stream",
          "name": "stdout",
          "text": [
            "Epoch [1062/3000]: Train loss: 1.3778, Valid loss: 1.8396\n"
          ]
        },
        {
          "output_type": "stream",
          "name": "stderr",
          "text": [
            "Epoch [1063/3000]: 100%|█████████████████████████████████████████████████████| 9/9 [00:00<00:00, 199.67it/s, loss=1.38]\n"
          ]
        },
        {
          "output_type": "stream",
          "name": "stdout",
          "text": [
            "Epoch [1063/3000]: Train loss: 1.3720, Valid loss: 1.8698\n"
          ]
        },
        {
          "output_type": "stream",
          "name": "stderr",
          "text": [
            "Epoch [1064/3000]: 100%|█████████████████████████████████████████████████████| 9/9 [00:00<00:00, 180.15it/s, loss=1.34]\n"
          ]
        },
        {
          "output_type": "stream",
          "name": "stdout",
          "text": [
            "Epoch [1064/3000]: Train loss: 1.3875, Valid loss: 1.4261\n"
          ]
        },
        {
          "output_type": "stream",
          "name": "stderr",
          "text": [
            "Epoch [1065/3000]: 100%|█████████████████████████████████████████████████████| 9/9 [00:00<00:00, 187.30it/s, loss=0.93]\n"
          ]
        },
        {
          "output_type": "stream",
          "name": "stdout",
          "text": [
            "Epoch [1065/3000]: Train loss: 1.3465, Valid loss: 1.6764\n"
          ]
        },
        {
          "output_type": "stream",
          "name": "stderr",
          "text": [
            "Epoch [1066/3000]: 100%|█████████████████████████████████████████████████████| 9/9 [00:00<00:00, 185.40it/s, loss=1.65]\n"
          ]
        },
        {
          "output_type": "stream",
          "name": "stdout",
          "text": [
            "Epoch [1066/3000]: Train loss: 1.3862, Valid loss: 1.5026\n"
          ]
        },
        {
          "output_type": "stream",
          "name": "stderr",
          "text": [
            "Epoch [1067/3000]: 100%|█████████████████████████████████████████████████████| 9/9 [00:00<00:00, 197.53it/s, loss=1.03]\n"
          ]
        },
        {
          "output_type": "stream",
          "name": "stdout",
          "text": [
            "Epoch [1067/3000]: Train loss: 1.3692, Valid loss: 1.3365\n"
          ]
        },
        {
          "output_type": "stream",
          "name": "stderr",
          "text": [
            "Epoch [1068/3000]: 100%|█████████████████████████████████████████████████████| 9/9 [00:00<00:00, 185.42it/s, loss=1.51]\n"
          ]
        },
        {
          "output_type": "stream",
          "name": "stdout",
          "text": [
            "Epoch [1068/3000]: Train loss: 1.3772, Valid loss: 1.7900\n"
          ]
        },
        {
          "output_type": "stream",
          "name": "stderr",
          "text": [
            "Epoch [1069/3000]: 100%|█████████████████████████████████████████████████████| 9/9 [00:00<00:00, 172.97it/s, loss=1.38]\n"
          ]
        },
        {
          "output_type": "stream",
          "name": "stdout",
          "text": [
            "Epoch [1069/3000]: Train loss: 1.3739, Valid loss: 1.4417\n"
          ]
        },
        {
          "output_type": "stream",
          "name": "stderr",
          "text": [
            "Epoch [1070/3000]: 100%|█████████████████████████████████████████████████████| 9/9 [00:00<00:00, 185.40it/s, loss=1.21]\n"
          ]
        },
        {
          "output_type": "stream",
          "name": "stdout",
          "text": [
            "Epoch [1070/3000]: Train loss: 1.3510, Valid loss: 1.5099\n"
          ]
        },
        {
          "output_type": "stream",
          "name": "stderr",
          "text": [
            "Epoch [1071/3000]: 100%|█████████████████████████████████████████████████████| 9/9 [00:00<00:00, 172.34it/s, loss=1.73]\n"
          ]
        },
        {
          "output_type": "stream",
          "name": "stdout",
          "text": [
            "Epoch [1071/3000]: Train loss: 1.3901, Valid loss: 1.5432\n"
          ]
        },
        {
          "output_type": "stream",
          "name": "stderr",
          "text": [
            "Epoch [1072/3000]: 100%|█████████████████████████████████████████████████████| 9/9 [00:00<00:00, 194.34it/s, loss=1.29]\n"
          ]
        },
        {
          "output_type": "stream",
          "name": "stdout",
          "text": [
            "Epoch [1072/3000]: Train loss: 1.3585, Valid loss: 1.6382\n"
          ]
        },
        {
          "output_type": "stream",
          "name": "stderr",
          "text": [
            "Epoch [1073/3000]: 100%|█████████████████████████████████████████████████████| 9/9 [00:00<00:00, 182.05it/s, loss=1.21]\n"
          ]
        },
        {
          "output_type": "stream",
          "name": "stdout",
          "text": [
            "Epoch [1073/3000]: Train loss: 1.3553, Valid loss: 1.4471\n"
          ]
        },
        {
          "output_type": "stream",
          "name": "stderr",
          "text": [
            "Epoch [1074/3000]: 100%|█████████████████████████████████████████████████████| 9/9 [00:00<00:00, 194.38it/s, loss=1.42]\n"
          ]
        },
        {
          "output_type": "stream",
          "name": "stdout",
          "text": [
            "Epoch [1074/3000]: Train loss: 1.3791, Valid loss: 1.7706\n"
          ]
        },
        {
          "output_type": "stream",
          "name": "stderr",
          "text": [
            "Epoch [1075/3000]: 100%|██████████████████████████████████████████████████████| 9/9 [00:00<00:00, 206.43it/s, loss=1.2]\n"
          ]
        },
        {
          "output_type": "stream",
          "name": "stdout",
          "text": [
            "Epoch [1075/3000]: Train loss: 1.3774, Valid loss: 1.5390\n"
          ]
        },
        {
          "output_type": "stream",
          "name": "stderr",
          "text": [
            "Epoch [1076/3000]: 100%|█████████████████████████████████████████████████████| 9/9 [00:00<00:00, 192.88it/s, loss=2.13]\n"
          ]
        },
        {
          "output_type": "stream",
          "name": "stdout",
          "text": [
            "Epoch [1076/3000]: Train loss: 1.4284, Valid loss: 1.5872\n"
          ]
        },
        {
          "output_type": "stream",
          "name": "stderr",
          "text": [
            "Epoch [1077/3000]: 100%|█████████████████████████████████████████████████████| 9/9 [00:00<00:00, 193.34it/s, loss=2.01]\n"
          ]
        },
        {
          "output_type": "stream",
          "name": "stdout",
          "text": [
            "Epoch [1077/3000]: Train loss: 1.4191, Valid loss: 1.8226\n"
          ]
        },
        {
          "output_type": "stream",
          "name": "stderr",
          "text": [
            "Epoch [1078/3000]: 100%|█████████████████████████████████████████████████████| 9/9 [00:00<00:00, 202.09it/s, loss=1.35]\n"
          ]
        },
        {
          "output_type": "stream",
          "name": "stdout",
          "text": [
            "Epoch [1078/3000]: Train loss: 1.3658, Valid loss: 1.8722\n"
          ]
        },
        {
          "output_type": "stream",
          "name": "stderr",
          "text": [
            "Epoch [1079/3000]: 100%|█████████████████████████████████████████████████████| 9/9 [00:00<00:00, 193.43it/s, loss=1.49]\n"
          ]
        },
        {
          "output_type": "stream",
          "name": "stdout",
          "text": [
            "Epoch [1079/3000]: Train loss: 1.3702, Valid loss: 1.7493\n"
          ]
        },
        {
          "output_type": "stream",
          "name": "stderr",
          "text": [
            "Epoch [1080/3000]: 100%|█████████████████████████████████████████████████████| 9/9 [00:00<00:00, 206.91it/s, loss=1.57]\n"
          ]
        },
        {
          "output_type": "stream",
          "name": "stdout",
          "text": [
            "Epoch [1080/3000]: Train loss: 1.3810, Valid loss: 1.7296\n"
          ]
        },
        {
          "output_type": "stream",
          "name": "stderr",
          "text": [
            "Epoch [1081/3000]: 100%|██████████████████████████████████████████████████████| 9/9 [00:00<00:00, 198.82it/s, loss=1.1]\n"
          ]
        },
        {
          "output_type": "stream",
          "name": "stdout",
          "text": [
            "Epoch [1081/3000]: Train loss: 1.3449, Valid loss: 1.6663\n"
          ]
        },
        {
          "output_type": "stream",
          "name": "stderr",
          "text": [
            "Epoch [1082/3000]: 100%|█████████████████████████████████████████████████████| 9/9 [00:00<00:00, 179.46it/s, loss=1.13]\n"
          ]
        },
        {
          "output_type": "stream",
          "name": "stdout",
          "text": [
            "Epoch [1082/3000]: Train loss: 1.3518, Valid loss: 1.5823\n"
          ]
        },
        {
          "output_type": "stream",
          "name": "stderr",
          "text": [
            "Epoch [1083/3000]: 100%|█████████████████████████████████████████████████████| 9/9 [00:00<00:00, 196.40it/s, loss=1.23]\n"
          ]
        },
        {
          "output_type": "stream",
          "name": "stdout",
          "text": [
            "Epoch [1083/3000]: Train loss: 1.3531, Valid loss: 1.4601\n"
          ]
        },
        {
          "output_type": "stream",
          "name": "stderr",
          "text": [
            "Epoch [1084/3000]: 100%|█████████████████████████████████████████████████████| 9/9 [00:00<00:00, 197.64it/s, loss=1.66]\n"
          ]
        },
        {
          "output_type": "stream",
          "name": "stdout",
          "text": [
            "Epoch [1084/3000]: Train loss: 1.3852, Valid loss: 1.4850\n"
          ]
        },
        {
          "output_type": "stream",
          "name": "stderr",
          "text": [
            "Epoch [1085/3000]: 100%|█████████████████████████████████████████████████████| 9/9 [00:00<00:00, 204.27it/s, loss=1.33]\n"
          ]
        },
        {
          "output_type": "stream",
          "name": "stdout",
          "text": [
            "Epoch [1085/3000]: Train loss: 1.3693, Valid loss: 1.5112\n"
          ]
        },
        {
          "output_type": "stream",
          "name": "stderr",
          "text": [
            "Epoch [1086/3000]: 100%|█████████████████████████████████████████████████████| 9/9 [00:00<00:00, 197.62it/s, loss=1.75]\n"
          ]
        },
        {
          "output_type": "stream",
          "name": "stdout",
          "text": [
            "Epoch [1086/3000]: Train loss: 1.3914, Valid loss: 1.4808\n"
          ]
        },
        {
          "output_type": "stream",
          "name": "stderr",
          "text": [
            "Epoch [1087/3000]: 100%|█████████████████████████████████████████████████████| 9/9 [00:00<00:00, 192.75it/s, loss=1.54]\n"
          ]
        },
        {
          "output_type": "stream",
          "name": "stdout",
          "text": [
            "Epoch [1087/3000]: Train loss: 1.3682, Valid loss: 1.6868\n"
          ]
        },
        {
          "output_type": "stream",
          "name": "stderr",
          "text": [
            "Epoch [1088/3000]: 100%|█████████████████████████████████████████████████████| 9/9 [00:00<00:00, 206.69it/s, loss=1.21]\n"
          ]
        },
        {
          "output_type": "stream",
          "name": "stdout",
          "text": [
            "Epoch [1088/3000]: Train loss: 1.3558, Valid loss: 1.4714\n"
          ]
        },
        {
          "output_type": "stream",
          "name": "stderr",
          "text": [
            "Epoch [1089/3000]: 100%|█████████████████████████████████████████████████████| 9/9 [00:00<00:00, 172.76it/s, loss=1.16]\n"
          ]
        },
        {
          "output_type": "stream",
          "name": "stdout",
          "text": [
            "Epoch [1089/3000]: Train loss: 1.3442, Valid loss: 1.6265\n"
          ]
        },
        {
          "output_type": "stream",
          "name": "stderr",
          "text": [
            "Epoch [1090/3000]: 100%|█████████████████████████████████████████████████████| 9/9 [00:00<00:00, 183.43it/s, loss=1.64]\n"
          ]
        },
        {
          "output_type": "stream",
          "name": "stdout",
          "text": [
            "Epoch [1090/3000]: Train loss: 1.3830, Valid loss: 1.5391\n"
          ]
        },
        {
          "output_type": "stream",
          "name": "stderr",
          "text": [
            "Epoch [1091/3000]: 100%|█████████████████████████████████████████████████████| 9/9 [00:00<00:00, 178.08it/s, loss=1.48]\n"
          ]
        },
        {
          "output_type": "stream",
          "name": "stdout",
          "text": [
            "Epoch [1091/3000]: Train loss: 1.3758, Valid loss: 1.6073\n"
          ]
        },
        {
          "output_type": "stream",
          "name": "stderr",
          "text": [
            "Epoch [1092/3000]: 100%|█████████████████████████████████████████████████████| 9/9 [00:00<00:00, 178.07it/s, loss=1.39]\n"
          ]
        },
        {
          "output_type": "stream",
          "name": "stdout",
          "text": [
            "Epoch [1092/3000]: Train loss: 1.3749, Valid loss: 1.5053\n"
          ]
        },
        {
          "output_type": "stream",
          "name": "stderr",
          "text": [
            "Epoch [1093/3000]: 100%|█████████████████████████████████████████████████████| 9/9 [00:00<00:00, 174.63it/s, loss=1.21]\n"
          ]
        },
        {
          "output_type": "stream",
          "name": "stdout",
          "text": [
            "Epoch [1093/3000]: Train loss: 1.3578, Valid loss: 1.4388\n"
          ]
        },
        {
          "output_type": "stream",
          "name": "stderr",
          "text": [
            "Epoch [1094/3000]: 100%|█████████████████████████████████████████████████████| 9/9 [00:00<00:00, 185.31it/s, loss=1.38]\n"
          ]
        },
        {
          "output_type": "stream",
          "name": "stdout",
          "text": [
            "Epoch [1094/3000]: Train loss: 1.3759, Valid loss: 1.7495\n"
          ]
        },
        {
          "output_type": "stream",
          "name": "stderr",
          "text": [
            "Epoch [1095/3000]: 100%|█████████████████████████████████████████████████████| 9/9 [00:00<00:00, 155.80it/s, loss=1.04]\n"
          ]
        },
        {
          "output_type": "stream",
          "name": "stdout",
          "text": [
            "Epoch [1095/3000]: Train loss: 1.3454, Valid loss: 1.4975\n"
          ]
        },
        {
          "output_type": "stream",
          "name": "stderr",
          "text": [
            "Epoch [1096/3000]: 100%|█████████████████████████████████████████████████████| 9/9 [00:00<00:00, 199.81it/s, loss=1.27]\n"
          ]
        },
        {
          "output_type": "stream",
          "name": "stdout",
          "text": [
            "Epoch [1096/3000]: Train loss: 1.3565, Valid loss: 1.3757\n"
          ]
        },
        {
          "output_type": "stream",
          "name": "stderr",
          "text": [
            "Epoch [1097/3000]: 100%|█████████████████████████████████████████████████████| 9/9 [00:00<00:00, 183.57it/s, loss=1.06]\n"
          ]
        },
        {
          "output_type": "stream",
          "name": "stdout",
          "text": [
            "Epoch [1097/3000]: Train loss: 1.3371, Valid loss: 1.3391\n"
          ]
        },
        {
          "output_type": "stream",
          "name": "stderr",
          "text": [
            "Epoch [1098/3000]: 100%|█████████████████████████████████████████████████████| 9/9 [00:00<00:00, 196.80it/s, loss=1.44]\n"
          ]
        },
        {
          "output_type": "stream",
          "name": "stdout",
          "text": [
            "Epoch [1098/3000]: Train loss: 1.3594, Valid loss: 1.7874\n"
          ]
        },
        {
          "output_type": "stream",
          "name": "stderr",
          "text": [
            "Epoch [1099/3000]: 100%|█████████████████████████████████████████████████████| 9/9 [00:00<00:00, 192.94it/s, loss=1.35]\n"
          ]
        },
        {
          "output_type": "stream",
          "name": "stdout",
          "text": [
            "Epoch [1099/3000]: Train loss: 1.3557, Valid loss: 1.3545\n"
          ]
        },
        {
          "output_type": "stream",
          "name": "stderr",
          "text": [
            "Epoch [1100/3000]: 100%|█████████████████████████████████████████████████████| 9/9 [00:00<00:00, 166.42it/s, loss=1.47]\n"
          ]
        },
        {
          "output_type": "stream",
          "name": "stdout",
          "text": [
            "Epoch [1100/3000]: Train loss: 1.3718, Valid loss: 1.5596\n"
          ]
        },
        {
          "output_type": "stream",
          "name": "stderr",
          "text": [
            "Epoch [1101/3000]: 100%|█████████████████████████████████████████████████████| 9/9 [00:00<00:00, 181.52it/s, loss=1.81]\n"
          ]
        },
        {
          "output_type": "stream",
          "name": "stdout",
          "text": [
            "Epoch [1101/3000]: Train loss: 1.3769, Valid loss: 1.9867\n"
          ]
        },
        {
          "output_type": "stream",
          "name": "stderr",
          "text": [
            "Epoch [1102/3000]: 100%|█████████████████████████████████████████████████████| 9/9 [00:00<00:00, 206.72it/s, loss=1.52]\n"
          ]
        },
        {
          "output_type": "stream",
          "name": "stdout",
          "text": [
            "Epoch [1102/3000]: Train loss: 1.3718, Valid loss: 1.5517\n"
          ]
        },
        {
          "output_type": "stream",
          "name": "stderr",
          "text": [
            "Epoch [1103/3000]: 100%|██████████████████████████████████████████████████████| 9/9 [00:00<00:00, 204.43it/s, loss=1.4]\n"
          ]
        },
        {
          "output_type": "stream",
          "name": "stdout",
          "text": [
            "Epoch [1103/3000]: Train loss: 1.3603, Valid loss: 1.5616\n"
          ]
        },
        {
          "output_type": "stream",
          "name": "stderr",
          "text": [
            "Epoch [1104/3000]: 100%|█████████████████████████████████████████████████████| 9/9 [00:00<00:00, 193.39it/s, loss=1.56]\n"
          ]
        },
        {
          "output_type": "stream",
          "name": "stdout",
          "text": [
            "Epoch [1104/3000]: Train loss: 1.3648, Valid loss: 1.3604\n"
          ]
        },
        {
          "output_type": "stream",
          "name": "stderr",
          "text": [
            "Epoch [1105/3000]: 100%|█████████████████████████████████████████████████████| 9/9 [00:00<00:00, 197.54it/s, loss=1.05]\n"
          ]
        },
        {
          "output_type": "stream",
          "name": "stdout",
          "text": [
            "Epoch [1105/3000]: Train loss: 1.3498, Valid loss: 1.4677\n"
          ]
        },
        {
          "output_type": "stream",
          "name": "stderr",
          "text": [
            "Epoch [1106/3000]: 100%|█████████████████████████████████████████████████████| 9/9 [00:00<00:00, 174.60it/s, loss=1.11]\n"
          ]
        },
        {
          "output_type": "stream",
          "name": "stdout",
          "text": [
            "Epoch [1106/3000]: Train loss: 1.3352, Valid loss: 1.5702\n"
          ]
        },
        {
          "output_type": "stream",
          "name": "stderr",
          "text": [
            "Epoch [1107/3000]: 100%|█████████████████████████████████████████████████████| 9/9 [00:00<00:00, 203.34it/s, loss=1.65]\n"
          ]
        },
        {
          "output_type": "stream",
          "name": "stdout",
          "text": [
            "Epoch [1107/3000]: Train loss: 1.3711, Valid loss: 1.8745\n"
          ]
        },
        {
          "output_type": "stream",
          "name": "stderr",
          "text": [
            "Epoch [1108/3000]: 100%|█████████████████████████████████████████████████████| 9/9 [00:00<00:00, 211.52it/s, loss=1.17]\n"
          ]
        },
        {
          "output_type": "stream",
          "name": "stdout",
          "text": [
            "Epoch [1108/3000]: Train loss: 1.3481, Valid loss: 1.5384\n"
          ]
        },
        {
          "output_type": "stream",
          "name": "stderr",
          "text": [
            "Epoch [1109/3000]: 100%|█████████████████████████████████████████████████████| 9/9 [00:00<00:00, 201.92it/s, loss=1.57]\n"
          ]
        },
        {
          "output_type": "stream",
          "name": "stdout",
          "text": [
            "Epoch [1109/3000]: Train loss: 1.3640, Valid loss: 1.5095\n"
          ]
        },
        {
          "output_type": "stream",
          "name": "stderr",
          "text": [
            "Epoch [1110/3000]: 100%|█████████████████████████████████████████████████████| 9/9 [00:00<00:00, 211.64it/s, loss=1.16]\n"
          ]
        },
        {
          "output_type": "stream",
          "name": "stdout",
          "text": [
            "Epoch [1110/3000]: Train loss: 1.3506, Valid loss: 1.6836\n"
          ]
        },
        {
          "output_type": "stream",
          "name": "stderr",
          "text": [
            "Epoch [1111/3000]: 100%|██████████████████████████████████████████████████████| 9/9 [00:00<00:00, 185.40it/s, loss=1.3]\n"
          ]
        },
        {
          "output_type": "stream",
          "name": "stdout",
          "text": [
            "Epoch [1111/3000]: Train loss: 1.3695, Valid loss: 1.3900\n"
          ]
        },
        {
          "output_type": "stream",
          "name": "stderr",
          "text": [
            "Epoch [1112/3000]: 100%|█████████████████████████████████████████████████████| 9/9 [00:00<00:00, 176.21it/s, loss=1.47]\n"
          ]
        },
        {
          "output_type": "stream",
          "name": "stdout",
          "text": [
            "Epoch [1112/3000]: Train loss: 1.3634, Valid loss: 1.8496\n"
          ]
        },
        {
          "output_type": "stream",
          "name": "stderr",
          "text": [
            "Epoch [1113/3000]: 100%|█████████████████████████████████████████████████████| 9/9 [00:00<00:00, 191.03it/s, loss=1.04]\n"
          ]
        },
        {
          "output_type": "stream",
          "name": "stdout",
          "text": [
            "Epoch [1113/3000]: Train loss: 1.3332, Valid loss: 1.6691\n"
          ]
        },
        {
          "output_type": "stream",
          "name": "stderr",
          "text": [
            "Epoch [1114/3000]: 100%|████████████████████████████████████████████████████| 9/9 [00:00<00:00, 182.93it/s, loss=0.951]\n"
          ]
        },
        {
          "output_type": "stream",
          "name": "stdout",
          "text": [
            "Epoch [1114/3000]: Train loss: 1.3247, Valid loss: 1.4756\n"
          ]
        },
        {
          "output_type": "stream",
          "name": "stderr",
          "text": [
            "Epoch [1115/3000]: 100%|█████████████████████████████████████████████████████| 9/9 [00:00<00:00, 163.95it/s, loss=1.73]\n"
          ]
        },
        {
          "output_type": "stream",
          "name": "stdout",
          "text": [
            "Epoch [1115/3000]: Train loss: 1.4004, Valid loss: 1.5487\n"
          ]
        },
        {
          "output_type": "stream",
          "name": "stderr",
          "text": [
            "Epoch [1116/3000]: 100%|██████████████████████████████████████████████████████| 9/9 [00:00<00:00, 193.04it/s, loss=1.4]\n"
          ]
        },
        {
          "output_type": "stream",
          "name": "stdout",
          "text": [
            "Epoch [1116/3000]: Train loss: 1.3659, Valid loss: 1.5572\n"
          ]
        },
        {
          "output_type": "stream",
          "name": "stderr",
          "text": [
            "Epoch [1117/3000]: 100%|█████████████████████████████████████████████████████| 9/9 [00:00<00:00, 197.24it/s, loss=1.48]\n"
          ]
        },
        {
          "output_type": "stream",
          "name": "stdout",
          "text": [
            "Epoch [1117/3000]: Train loss: 1.3609, Valid loss: 1.6581\n"
          ]
        },
        {
          "output_type": "stream",
          "name": "stderr",
          "text": [
            "Epoch [1118/3000]: 100%|██████████████████████████████████████████████████████| 9/9 [00:00<00:00, 37.53it/s, loss=1.19]\n"
          ]
        },
        {
          "output_type": "stream",
          "name": "stdout",
          "text": [
            "Epoch [1118/3000]: Train loss: 1.3447, Valid loss: 1.4889\n"
          ]
        },
        {
          "output_type": "stream",
          "name": "stderr",
          "text": [
            "Epoch [1119/3000]: 100%|████████████████████████████████████████████████████| 9/9 [00:00<00:00, 179.91it/s, loss=0.979]\n"
          ]
        },
        {
          "output_type": "stream",
          "name": "stdout",
          "text": [
            "Epoch [1119/3000]: Train loss: 1.3404, Valid loss: 1.7554\n"
          ]
        },
        {
          "output_type": "stream",
          "name": "stderr",
          "text": [
            "Epoch [1120/3000]: 100%|██████████████████████████████████████████████████████| 9/9 [00:00<00:00, 169.69it/s, loss=1.5]\n"
          ]
        },
        {
          "output_type": "stream",
          "name": "stdout",
          "text": [
            "Epoch [1120/3000]: Train loss: 1.3536, Valid loss: 1.4651\n"
          ]
        },
        {
          "output_type": "stream",
          "name": "stderr",
          "text": [
            "Epoch [1121/3000]: 100%|█████████████████████████████████████████████████████| 9/9 [00:00<00:00, 178.87it/s, loss=1.62]\n"
          ]
        },
        {
          "output_type": "stream",
          "name": "stdout",
          "text": [
            "Epoch [1121/3000]: Train loss: 1.3693, Valid loss: 1.5797\n"
          ]
        },
        {
          "output_type": "stream",
          "name": "stderr",
          "text": [
            "Epoch [1122/3000]: 100%|█████████████████████████████████████████████████████| 9/9 [00:00<00:00, 174.63it/s, loss=1.28]\n"
          ]
        },
        {
          "output_type": "stream",
          "name": "stdout",
          "text": [
            "Epoch [1122/3000]: Train loss: 1.3630, Valid loss: 1.3986\n"
          ]
        },
        {
          "output_type": "stream",
          "name": "stderr",
          "text": [
            "Epoch [1123/3000]: 100%|██████████████████████████████████████████████████████| 9/9 [00:00<00:00, 204.48it/s, loss=1.4]\n"
          ]
        },
        {
          "output_type": "stream",
          "name": "stdout",
          "text": [
            "Epoch [1123/3000]: Train loss: 1.3680, Valid loss: 1.6580\n"
          ]
        },
        {
          "output_type": "stream",
          "name": "stderr",
          "text": [
            "Epoch [1124/3000]: 100%|████████████████████████████████████████████████████| 9/9 [00:00<00:00, 214.94it/s, loss=0.951]\n"
          ]
        },
        {
          "output_type": "stream",
          "name": "stdout",
          "text": [
            "Epoch [1124/3000]: Train loss: 1.3343, Valid loss: 1.2875\n"
          ]
        },
        {
          "output_type": "stream",
          "name": "stderr",
          "text": [
            "Epoch [1125/3000]: 100%|█████████████████████████████████████████████████████| 9/9 [00:00<00:00, 217.96it/s, loss=1.57]\n"
          ]
        },
        {
          "output_type": "stream",
          "name": "stdout",
          "text": [
            "Epoch [1125/3000]: Train loss: 1.3554, Valid loss: 1.4453\n"
          ]
        },
        {
          "output_type": "stream",
          "name": "stderr",
          "text": [
            "Epoch [1126/3000]: 100%|█████████████████████████████████████████████████████| 9/9 [00:00<00:00, 187.24it/s, loss=1.02]\n"
          ]
        },
        {
          "output_type": "stream",
          "name": "stdout",
          "text": [
            "Epoch [1126/3000]: Train loss: 1.3268, Valid loss: 1.4541\n"
          ]
        },
        {
          "output_type": "stream",
          "name": "stderr",
          "text": [
            "Epoch [1127/3000]: 100%|█████████████████████████████████████████████████████| 9/9 [00:00<00:00, 199.51it/s, loss=1.42]\n"
          ]
        },
        {
          "output_type": "stream",
          "name": "stdout",
          "text": [
            "Epoch [1127/3000]: Train loss: 1.3481, Valid loss: 1.3880\n"
          ]
        },
        {
          "output_type": "stream",
          "name": "stderr",
          "text": [
            "Epoch [1128/3000]: 100%|██████████████████████████████████████████████████████| 9/9 [00:00<00:00, 213.96it/s, loss=1.4]\n"
          ]
        },
        {
          "output_type": "stream",
          "name": "stdout",
          "text": [
            "Epoch [1128/3000]: Train loss: 1.3500, Valid loss: 1.4352\n"
          ]
        },
        {
          "output_type": "stream",
          "name": "stderr",
          "text": [
            "Epoch [1129/3000]: 100%|█████████████████████████████████████████████████████| 9/9 [00:00<00:00, 211.58it/s, loss=1.86]\n"
          ]
        },
        {
          "output_type": "stream",
          "name": "stdout",
          "text": [
            "Epoch [1129/3000]: Train loss: 1.3725, Valid loss: 1.6443\n"
          ]
        },
        {
          "output_type": "stream",
          "name": "stderr",
          "text": [
            "Epoch [1130/3000]: 100%|█████████████████████████████████████████████████████| 9/9 [00:00<00:00, 186.97it/s, loss=1.28]\n"
          ]
        },
        {
          "output_type": "stream",
          "name": "stdout",
          "text": [
            "Epoch [1130/3000]: Train loss: 1.3546, Valid loss: 1.5660\n"
          ]
        },
        {
          "output_type": "stream",
          "name": "stderr",
          "text": [
            "Epoch [1131/3000]: 100%|█████████████████████████████████████████████████████| 9/9 [00:00<00:00, 185.08it/s, loss=1.21]\n"
          ]
        },
        {
          "output_type": "stream",
          "name": "stdout",
          "text": [
            "Epoch [1131/3000]: Train loss: 1.3351, Valid loss: 1.7759\n"
          ]
        },
        {
          "output_type": "stream",
          "name": "stderr",
          "text": [
            "Epoch [1132/3000]: 100%|█████████████████████████████████████████████████████| 9/9 [00:00<00:00, 172.76it/s, loss=1.41]\n"
          ]
        },
        {
          "output_type": "stream",
          "name": "stdout",
          "text": [
            "Epoch [1132/3000]: Train loss: 1.3432, Valid loss: 1.6025\n"
          ]
        },
        {
          "output_type": "stream",
          "name": "stderr",
          "text": [
            "Epoch [1133/3000]: 100%|█████████████████████████████████████████████████████| 9/9 [00:00<00:00, 179.63it/s, loss=1.05]\n"
          ]
        },
        {
          "output_type": "stream",
          "name": "stdout",
          "text": [
            "Epoch [1133/3000]: Train loss: 1.3247, Valid loss: 1.8198\n"
          ]
        },
        {
          "output_type": "stream",
          "name": "stderr",
          "text": [
            "Epoch [1134/3000]: 100%|█████████████████████████████████████████████████████| 9/9 [00:00<00:00, 181.69it/s, loss=1.97]\n"
          ]
        },
        {
          "output_type": "stream",
          "name": "stdout",
          "text": [
            "Epoch [1134/3000]: Train loss: 1.3890, Valid loss: 1.4248\n"
          ]
        },
        {
          "output_type": "stream",
          "name": "stderr",
          "text": [
            "Epoch [1135/3000]: 100%|█████████████████████████████████████████████████████| 9/9 [00:00<00:00, 166.50it/s, loss=1.75]\n"
          ]
        },
        {
          "output_type": "stream",
          "name": "stdout",
          "text": [
            "Epoch [1135/3000]: Train loss: 1.4016, Valid loss: 2.1690\n"
          ]
        },
        {
          "output_type": "stream",
          "name": "stderr",
          "text": [
            "Epoch [1136/3000]: 100%|█████████████████████████████████████████████████████| 9/9 [00:00<00:00, 178.09it/s, loss=1.23]\n"
          ]
        },
        {
          "output_type": "stream",
          "name": "stdout",
          "text": [
            "Epoch [1136/3000]: Train loss: 1.3402, Valid loss: 1.7811\n"
          ]
        },
        {
          "output_type": "stream",
          "name": "stderr",
          "text": [
            "Epoch [1137/3000]: 100%|████████████████████████████████████████████████████| 9/9 [00:00<00:00, 198.21it/s, loss=0.935]\n"
          ]
        },
        {
          "output_type": "stream",
          "name": "stdout",
          "text": [
            "Epoch [1137/3000]: Train loss: 1.3173, Valid loss: 1.2305\n",
            "Saving model with loss 1.231...\n"
          ]
        },
        {
          "output_type": "stream",
          "name": "stderr",
          "text": [
            "Epoch [1138/3000]: 100%|████████████████████████████████████████████████████████| 9/9 [00:00<00:00, 183.01it/s, loss=1]\n"
          ]
        },
        {
          "output_type": "stream",
          "name": "stdout",
          "text": [
            "Epoch [1138/3000]: Train loss: 1.3141, Valid loss: 1.7741\n"
          ]
        },
        {
          "output_type": "stream",
          "name": "stderr",
          "text": [
            "Epoch [1139/3000]: 100%|██████████████████████████████████████████████████████| 9/9 [00:00<00:00, 198.45it/s, loss=1.2]\n"
          ]
        },
        {
          "output_type": "stream",
          "name": "stdout",
          "text": [
            "Epoch [1139/3000]: Train loss: 1.3416, Valid loss: 1.4968\n"
          ]
        },
        {
          "output_type": "stream",
          "name": "stderr",
          "text": [
            "Epoch [1140/3000]: 100%|█████████████████████████████████████████████████████| 9/9 [00:00<00:00, 195.09it/s, loss=1.63]\n"
          ]
        },
        {
          "output_type": "stream",
          "name": "stdout",
          "text": [
            "Epoch [1140/3000]: Train loss: 1.3817, Valid loss: 1.4596\n"
          ]
        },
        {
          "output_type": "stream",
          "name": "stderr",
          "text": [
            "Epoch [1141/3000]: 100%|█████████████████████████████████████████████████████| 9/9 [00:00<00:00, 209.16it/s, loss=1.63]\n"
          ]
        },
        {
          "output_type": "stream",
          "name": "stdout",
          "text": [
            "Epoch [1141/3000]: Train loss: 1.3668, Valid loss: 1.3559\n"
          ]
        },
        {
          "output_type": "stream",
          "name": "stderr",
          "text": [
            "Epoch [1142/3000]: 100%|█████████████████████████████████████████████████████| 9/9 [00:00<00:00, 203.97it/s, loss=1.69]\n"
          ]
        },
        {
          "output_type": "stream",
          "name": "stdout",
          "text": [
            "Epoch [1142/3000]: Train loss: 1.3705, Valid loss: 1.4993\n"
          ]
        },
        {
          "output_type": "stream",
          "name": "stderr",
          "text": [
            "Epoch [1143/3000]: 100%|█████████████████████████████████████████████████████| 9/9 [00:00<00:00, 179.82it/s, loss=1.09]\n"
          ]
        },
        {
          "output_type": "stream",
          "name": "stdout",
          "text": [
            "Epoch [1143/3000]: Train loss: 1.3157, Valid loss: 1.5076\n"
          ]
        },
        {
          "output_type": "stream",
          "name": "stderr",
          "text": [
            "Epoch [1144/3000]: 100%|█████████████████████████████████████████████████████| 9/9 [00:00<00:00, 179.02it/s, loss=1.02]\n"
          ]
        },
        {
          "output_type": "stream",
          "name": "stdout",
          "text": [
            "Epoch [1144/3000]: Train loss: 1.3228, Valid loss: 1.5981\n"
          ]
        },
        {
          "output_type": "stream",
          "name": "stderr",
          "text": [
            "Epoch [1145/3000]: 100%|█████████████████████████████████████████████████████| 9/9 [00:00<00:00, 166.45it/s, loss=1.15]\n"
          ]
        },
        {
          "output_type": "stream",
          "name": "stdout",
          "text": [
            "Epoch [1145/3000]: Train loss: 1.3261, Valid loss: 1.3725\n"
          ]
        },
        {
          "output_type": "stream",
          "name": "stderr",
          "text": [
            "Epoch [1146/3000]: 100%|█████████████████████████████████████████████████████| 9/9 [00:00<00:00, 183.44it/s, loss=1.31]\n"
          ]
        },
        {
          "output_type": "stream",
          "name": "stdout",
          "text": [
            "Epoch [1146/3000]: Train loss: 1.3342, Valid loss: 1.4219\n"
          ]
        },
        {
          "output_type": "stream",
          "name": "stderr",
          "text": [
            "Epoch [1147/3000]: 100%|█████████████████████████████████████████████████████| 9/9 [00:00<00:00, 195.12it/s, loss=1.32]\n"
          ]
        },
        {
          "output_type": "stream",
          "name": "stdout",
          "text": [
            "Epoch [1147/3000]: Train loss: 1.3364, Valid loss: 1.6242\n"
          ]
        },
        {
          "output_type": "stream",
          "name": "stderr",
          "text": [
            "Epoch [1148/3000]: 100%|█████████████████████████████████████████████████████| 9/9 [00:00<00:00, 159.92it/s, loss=1.87]\n"
          ]
        },
        {
          "output_type": "stream",
          "name": "stdout",
          "text": [
            "Epoch [1148/3000]: Train loss: 1.3651, Valid loss: 1.8221\n"
          ]
        },
        {
          "output_type": "stream",
          "name": "stderr",
          "text": [
            "Epoch [1149/3000]: 100%|█████████████████████████████████████████████████████| 9/9 [00:00<00:00, 179.72it/s, loss=1.23]\n"
          ]
        },
        {
          "output_type": "stream",
          "name": "stdout",
          "text": [
            "Epoch [1149/3000]: Train loss: 1.3420, Valid loss: 1.6296\n"
          ]
        },
        {
          "output_type": "stream",
          "name": "stderr",
          "text": [
            "Epoch [1150/3000]: 100%|████████████████████████████████████████████████████| 9/9 [00:00<00:00, 163.81it/s, loss=0.972]\n"
          ]
        },
        {
          "output_type": "stream",
          "name": "stdout",
          "text": [
            "Epoch [1150/3000]: Train loss: 1.3205, Valid loss: 1.4560\n"
          ]
        },
        {
          "output_type": "stream",
          "name": "stderr",
          "text": [
            "Epoch [1151/3000]: 100%|█████████████████████████████████████████████████████| 9/9 [00:00<00:00, 206.74it/s, loss=1.62]\n"
          ]
        },
        {
          "output_type": "stream",
          "name": "stdout",
          "text": [
            "Epoch [1151/3000]: Train loss: 1.3669, Valid loss: 1.6231\n"
          ]
        },
        {
          "output_type": "stream",
          "name": "stderr",
          "text": [
            "Epoch [1152/3000]: 100%|█████████████████████████████████████████████████████| 9/9 [00:00<00:00, 191.35it/s, loss=1.54]\n"
          ]
        },
        {
          "output_type": "stream",
          "name": "stdout",
          "text": [
            "Epoch [1152/3000]: Train loss: 1.3516, Valid loss: 1.3839\n"
          ]
        },
        {
          "output_type": "stream",
          "name": "stderr",
          "text": [
            "Epoch [1153/3000]: 100%|█████████████████████████████████████████████████████| 9/9 [00:00<00:00, 193.38it/s, loss=1.61]\n"
          ]
        },
        {
          "output_type": "stream",
          "name": "stdout",
          "text": [
            "Epoch [1153/3000]: Train loss: 1.3529, Valid loss: 1.4218\n"
          ]
        },
        {
          "output_type": "stream",
          "name": "stderr",
          "text": [
            "Epoch [1154/3000]: 100%|█████████████████████████████████████████████████████| 9/9 [00:00<00:00, 191.23it/s, loss=1.54]\n"
          ]
        },
        {
          "output_type": "stream",
          "name": "stdout",
          "text": [
            "Epoch [1154/3000]: Train loss: 1.3519, Valid loss: 1.4945\n"
          ]
        },
        {
          "output_type": "stream",
          "name": "stderr",
          "text": [
            "Epoch [1155/3000]: 100%|█████████████████████████████████████████████████████| 9/9 [00:00<00:00, 195.43it/s, loss=1.49]\n"
          ]
        },
        {
          "output_type": "stream",
          "name": "stdout",
          "text": [
            "Epoch [1155/3000]: Train loss: 1.3459, Valid loss: 1.5293\n"
          ]
        },
        {
          "output_type": "stream",
          "name": "stderr",
          "text": [
            "Epoch [1156/3000]: 100%|█████████████████████████████████████████████████████| 9/9 [00:00<00:00, 173.30it/s, loss=1.08]\n"
          ]
        },
        {
          "output_type": "stream",
          "name": "stdout",
          "text": [
            "Epoch [1156/3000]: Train loss: 1.3228, Valid loss: 1.5240\n"
          ]
        },
        {
          "output_type": "stream",
          "name": "stderr",
          "text": [
            "Epoch [1157/3000]: 100%|█████████████████████████████████████████████████████| 9/9 [00:00<00:00, 185.41it/s, loss=1.76]\n"
          ]
        },
        {
          "output_type": "stream",
          "name": "stdout",
          "text": [
            "Epoch [1157/3000]: Train loss: 1.3676, Valid loss: 1.7604\n"
          ]
        },
        {
          "output_type": "stream",
          "name": "stderr",
          "text": [
            "Epoch [1158/3000]: 100%|█████████████████████████████████████████████████████| 9/9 [00:00<00:00, 178.05it/s, loss=1.72]\n"
          ]
        },
        {
          "output_type": "stream",
          "name": "stdout",
          "text": [
            "Epoch [1158/3000]: Train loss: 1.3856, Valid loss: 1.5715\n"
          ]
        },
        {
          "output_type": "stream",
          "name": "stderr",
          "text": [
            "Epoch [1159/3000]: 100%|█████████████████████████████████████████████████████| 9/9 [00:00<00:00, 181.57it/s, loss=1.82]\n"
          ]
        },
        {
          "output_type": "stream",
          "name": "stdout",
          "text": [
            "Epoch [1159/3000]: Train loss: 1.3732, Valid loss: 1.5583\n"
          ]
        },
        {
          "output_type": "stream",
          "name": "stderr",
          "text": [
            "Epoch [1160/3000]: 100%|█████████████████████████████████████████████████████| 9/9 [00:00<00:00, 208.75it/s, loss=1.35]\n"
          ]
        },
        {
          "output_type": "stream",
          "name": "stdout",
          "text": [
            "Epoch [1160/3000]: Train loss: 1.3346, Valid loss: 1.6366\n"
          ]
        },
        {
          "output_type": "stream",
          "name": "stderr",
          "text": [
            "Epoch [1161/3000]: 100%|█████████████████████████████████████████████████████| 9/9 [00:00<00:00, 201.37it/s, loss=1.68]\n"
          ]
        },
        {
          "output_type": "stream",
          "name": "stdout",
          "text": [
            "Epoch [1161/3000]: Train loss: 1.3514, Valid loss: 1.2999\n"
          ]
        },
        {
          "output_type": "stream",
          "name": "stderr",
          "text": [
            "Epoch [1162/3000]: 100%|█████████████████████████████████████████████████████| 9/9 [00:00<00:00, 202.05it/s, loss=1.58]\n"
          ]
        },
        {
          "output_type": "stream",
          "name": "stdout",
          "text": [
            "Epoch [1162/3000]: Train loss: 1.3615, Valid loss: 1.6372\n"
          ]
        },
        {
          "output_type": "stream",
          "name": "stderr",
          "text": [
            "Epoch [1163/3000]: 100%|█████████████████████████████████████████████████████| 9/9 [00:00<00:00, 196.60it/s, loss=1.45]\n"
          ]
        },
        {
          "output_type": "stream",
          "name": "stdout",
          "text": [
            "Epoch [1163/3000]: Train loss: 1.3652, Valid loss: 1.6022\n"
          ]
        },
        {
          "output_type": "stream",
          "name": "stderr",
          "text": [
            "Epoch [1164/3000]: 100%|█████████████████████████████████████████████████████| 9/9 [00:00<00:00, 206.72it/s, loss=1.22]\n"
          ]
        },
        {
          "output_type": "stream",
          "name": "stdout",
          "text": [
            "Epoch [1164/3000]: Train loss: 1.3352, Valid loss: 1.6831\n"
          ]
        },
        {
          "output_type": "stream",
          "name": "stderr",
          "text": [
            "Epoch [1165/3000]: 100%|██████████████████████████████████████████████████████| 9/9 [00:00<00:00, 198.86it/s, loss=1.7]\n"
          ]
        },
        {
          "output_type": "stream",
          "name": "stdout",
          "text": [
            "Epoch [1165/3000]: Train loss: 1.3539, Valid loss: 1.5419\n"
          ]
        },
        {
          "output_type": "stream",
          "name": "stderr",
          "text": [
            "Epoch [1166/3000]: 100%|█████████████████████████████████████████████████████| 9/9 [00:00<00:00, 199.42it/s, loss=1.73]\n"
          ]
        },
        {
          "output_type": "stream",
          "name": "stdout",
          "text": [
            "Epoch [1166/3000]: Train loss: 1.3684, Valid loss: 1.7844\n"
          ]
        },
        {
          "output_type": "stream",
          "name": "stderr",
          "text": [
            "Epoch [1167/3000]: 100%|█████████████████████████████████████████████████████| 9/9 [00:00<00:00, 204.02it/s, loss=1.13]\n"
          ]
        },
        {
          "output_type": "stream",
          "name": "stdout",
          "text": [
            "Epoch [1167/3000]: Train loss: 1.3301, Valid loss: 1.5941\n"
          ]
        },
        {
          "output_type": "stream",
          "name": "stderr",
          "text": [
            "Epoch [1168/3000]: 100%|█████████████████████████████████████████████████████| 9/9 [00:00<00:00, 199.80it/s, loss=1.35]\n"
          ]
        },
        {
          "output_type": "stream",
          "name": "stdout",
          "text": [
            "Epoch [1168/3000]: Train loss: 1.3307, Valid loss: 1.3881\n"
          ]
        },
        {
          "output_type": "stream",
          "name": "stderr",
          "text": [
            "Epoch [1169/3000]: 100%|████████████████████████████████████████████████████| 9/9 [00:00<00:00, 206.50it/s, loss=0.861]\n"
          ]
        },
        {
          "output_type": "stream",
          "name": "stdout",
          "text": [
            "Epoch [1169/3000]: Train loss: 1.3074, Valid loss: 1.6887\n"
          ]
        },
        {
          "output_type": "stream",
          "name": "stderr",
          "text": [
            "Epoch [1170/3000]: 100%|█████████████████████████████████████████████████████| 9/9 [00:00<00:00, 181.67it/s, loss=1.21]\n"
          ]
        },
        {
          "output_type": "stream",
          "name": "stdout",
          "text": [
            "Epoch [1170/3000]: Train loss: 1.3219, Valid loss: 1.2505\n"
          ]
        },
        {
          "output_type": "stream",
          "name": "stderr",
          "text": [
            "Epoch [1171/3000]: 100%|█████████████████████████████████████████████████████| 9/9 [00:00<00:00, 189.28it/s, loss=1.44]\n"
          ]
        },
        {
          "output_type": "stream",
          "name": "stdout",
          "text": [
            "Epoch [1171/3000]: Train loss: 1.3371, Valid loss: 1.8934\n"
          ]
        },
        {
          "output_type": "stream",
          "name": "stderr",
          "text": [
            "Epoch [1172/3000]: 100%|█████████████████████████████████████████████████████| 9/9 [00:00<00:00, 195.44it/s, loss=2.18]\n"
          ]
        },
        {
          "output_type": "stream",
          "name": "stdout",
          "text": [
            "Epoch [1172/3000]: Train loss: 1.3864, Valid loss: 1.4142\n"
          ]
        },
        {
          "output_type": "stream",
          "name": "stderr",
          "text": [
            "Epoch [1173/3000]: 100%|█████████████████████████████████████████████████████| 9/9 [00:00<00:00, 199.76it/s, loss=1.14]\n"
          ]
        },
        {
          "output_type": "stream",
          "name": "stdout",
          "text": [
            "Epoch [1173/3000]: Train loss: 1.3399, Valid loss: 1.6908\n"
          ]
        },
        {
          "output_type": "stream",
          "name": "stderr",
          "text": [
            "Epoch [1174/3000]: 100%|█████████████████████████████████████████████████████| 9/9 [00:00<00:00, 204.27it/s, loss=1.25]\n"
          ]
        },
        {
          "output_type": "stream",
          "name": "stdout",
          "text": [
            "Epoch [1174/3000]: Train loss: 1.3299, Valid loss: 1.5337\n"
          ]
        },
        {
          "output_type": "stream",
          "name": "stderr",
          "text": [
            "Epoch [1175/3000]: 100%|█████████████████████████████████████████████████████| 9/9 [00:00<00:00, 201.87it/s, loss=1.33]\n"
          ]
        },
        {
          "output_type": "stream",
          "name": "stdout",
          "text": [
            "Epoch [1175/3000]: Train loss: 1.3244, Valid loss: 1.5208\n"
          ]
        },
        {
          "output_type": "stream",
          "name": "stderr",
          "text": [
            "Epoch [1176/3000]: 100%|█████████████████████████████████████████████████████| 9/9 [00:00<00:00, 189.14it/s, loss=1.46]\n"
          ]
        },
        {
          "output_type": "stream",
          "name": "stdout",
          "text": [
            "Epoch [1176/3000]: Train loss: 1.3438, Valid loss: 1.5027\n"
          ]
        },
        {
          "output_type": "stream",
          "name": "stderr",
          "text": [
            "Epoch [1177/3000]: 100%|█████████████████████████████████████████████████████| 9/9 [00:00<00:00, 206.72it/s, loss=1.25]\n"
          ]
        },
        {
          "output_type": "stream",
          "name": "stdout",
          "text": [
            "Epoch [1177/3000]: Train loss: 1.3504, Valid loss: 1.4698\n"
          ]
        },
        {
          "output_type": "stream",
          "name": "stderr",
          "text": [
            "Epoch [1178/3000]: 100%|█████████████████████████████████████████████████████| 9/9 [00:00<00:00, 195.06it/s, loss=1.39]\n"
          ]
        },
        {
          "output_type": "stream",
          "name": "stdout",
          "text": [
            "Epoch [1178/3000]: Train loss: 1.3296, Valid loss: 1.8188\n"
          ]
        },
        {
          "output_type": "stream",
          "name": "stderr",
          "text": [
            "Epoch [1179/3000]: 100%|██████████████████████████████████████████████████████| 9/9 [00:00<00:00, 181.63it/s, loss=2.1]\n"
          ]
        },
        {
          "output_type": "stream",
          "name": "stdout",
          "text": [
            "Epoch [1179/3000]: Train loss: 1.3731, Valid loss: 1.6615\n"
          ]
        },
        {
          "output_type": "stream",
          "name": "stderr",
          "text": [
            "Epoch [1180/3000]: 100%|█████████████████████████████████████████████████████| 9/9 [00:00<00:00, 184.74it/s, loss=1.27]\n"
          ]
        },
        {
          "output_type": "stream",
          "name": "stdout",
          "text": [
            "Epoch [1180/3000]: Train loss: 1.3246, Valid loss: 1.6844\n"
          ]
        },
        {
          "output_type": "stream",
          "name": "stderr",
          "text": [
            "Epoch [1181/3000]: 100%|████████████████████████████████████████████████████| 9/9 [00:00<00:00, 196.51it/s, loss=0.868]\n"
          ]
        },
        {
          "output_type": "stream",
          "name": "stdout",
          "text": [
            "Epoch [1181/3000]: Train loss: 1.3190, Valid loss: 1.6718\n"
          ]
        },
        {
          "output_type": "stream",
          "name": "stderr",
          "text": [
            "Epoch [1182/3000]: 100%|█████████████████████████████████████████████████████| 9/9 [00:00<00:00, 193.35it/s, loss=0.99]\n"
          ]
        },
        {
          "output_type": "stream",
          "name": "stdout",
          "text": [
            "Epoch [1182/3000]: Train loss: 1.3034, Valid loss: 1.5423\n"
          ]
        },
        {
          "output_type": "stream",
          "name": "stderr",
          "text": [
            "Epoch [1183/3000]: 100%|██████████████████████████████████████████████████████| 9/9 [00:00<00:00, 170.93it/s, loss=1.1]\n"
          ]
        },
        {
          "output_type": "stream",
          "name": "stdout",
          "text": [
            "Epoch [1183/3000]: Train loss: 1.3405, Valid loss: 1.4390\n"
          ]
        },
        {
          "output_type": "stream",
          "name": "stderr",
          "text": [
            "Epoch [1184/3000]: 100%|█████████████████████████████████████████████████████| 9/9 [00:00<00:00, 179.79it/s, loss=2.03]\n"
          ]
        },
        {
          "output_type": "stream",
          "name": "stdout",
          "text": [
            "Epoch [1184/3000]: Train loss: 1.3736, Valid loss: 1.7259\n"
          ]
        },
        {
          "output_type": "stream",
          "name": "stderr",
          "text": [
            "Epoch [1185/3000]: 100%|█████████████████████████████████████████████████████| 9/9 [00:00<00:00, 179.62it/s, loss=1.83]"
          ]
        },
        {
          "output_type": "stream",
          "name": "stdout",
          "text": [
            "Epoch [1185/3000]: Train loss: 1.3654, Valid loss: 1.4709"
          ]
        },
        {
          "output_type": "stream",
          "name": "stderr",
          "text": [
            "\n"
          ]
        },
        {
          "output_type": "stream",
          "name": "stdout",
          "text": [
            "\n"
          ]
        },
        {
          "output_type": "stream",
          "name": "stderr",
          "text": [
            "Epoch [1186/3000]: 100%|█████████████████████████████████████████████████████| 9/9 [00:00<00:00, 197.60it/s, loss=1.42]\n"
          ]
        },
        {
          "output_type": "stream",
          "name": "stdout",
          "text": [
            "Epoch [1186/3000]: Train loss: 1.3307, Valid loss: 1.4206\n"
          ]
        },
        {
          "output_type": "stream",
          "name": "stderr",
          "text": [
            "Epoch [1187/3000]: 100%|█████████████████████████████████████████████████████| 9/9 [00:00<00:00, 199.80it/s, loss=1.66]\n"
          ]
        },
        {
          "output_type": "stream",
          "name": "stdout",
          "text": [
            "Epoch [1187/3000]: Train loss: 1.3471, Valid loss: 1.5476\n"
          ]
        },
        {
          "output_type": "stream",
          "name": "stderr",
          "text": [
            "Epoch [1188/3000]: 100%|█████████████████████████████████████████████████████| 9/9 [00:00<00:00, 195.49it/s, loss=1.86]\n"
          ]
        },
        {
          "output_type": "stream",
          "name": "stdout",
          "text": [
            "Epoch [1188/3000]: Train loss: 1.3535, Valid loss: 1.4924\n"
          ]
        },
        {
          "output_type": "stream",
          "name": "stderr",
          "text": [
            "Epoch [1189/3000]: 100%|█████████████████████████████████████████████████████| 9/9 [00:00<00:00, 209.03it/s, loss=1.62]\n"
          ]
        },
        {
          "output_type": "stream",
          "name": "stdout",
          "text": [
            "Epoch [1189/3000]: Train loss: 1.3507, Valid loss: 1.4205\n"
          ]
        },
        {
          "output_type": "stream",
          "name": "stderr",
          "text": [
            "Epoch [1190/3000]: 100%|█████████████████████████████████████████████████████| 9/9 [00:00<00:00, 183.48it/s, loss=2.17]\n"
          ]
        },
        {
          "output_type": "stream",
          "name": "stdout",
          "text": [
            "Epoch [1190/3000]: Train loss: 1.3772, Valid loss: 1.5060\n"
          ]
        },
        {
          "output_type": "stream",
          "name": "stderr",
          "text": [
            "Epoch [1191/3000]: 100%|██████████████████████████████████████████████████████| 9/9 [00:00<00:00, 189.67it/s, loss=1.3]\n"
          ]
        },
        {
          "output_type": "stream",
          "name": "stdout",
          "text": [
            "Epoch [1191/3000]: Train loss: 1.3249, Valid loss: 1.4300\n"
          ]
        },
        {
          "output_type": "stream",
          "name": "stderr",
          "text": [
            "Epoch [1192/3000]: 100%|█████████████████████████████████████████████████████| 9/9 [00:00<00:00, 193.39it/s, loss=1.33]\n"
          ]
        },
        {
          "output_type": "stream",
          "name": "stdout",
          "text": [
            "Epoch [1192/3000]: Train loss: 1.3424, Valid loss: 1.6227\n"
          ]
        },
        {
          "output_type": "stream",
          "name": "stderr",
          "text": [
            "Epoch [1193/3000]: 100%|█████████████████████████████████████████████████████| 9/9 [00:00<00:00, 197.58it/s, loss=1.45]\n"
          ]
        },
        {
          "output_type": "stream",
          "name": "stdout",
          "text": [
            "Epoch [1193/3000]: Train loss: 1.3346, Valid loss: 1.3928\n"
          ]
        },
        {
          "output_type": "stream",
          "name": "stderr",
          "text": [
            "Epoch [1194/3000]: 100%|█████████████████████████████████████████████████████| 9/9 [00:00<00:00, 205.80it/s, loss=1.33]\n"
          ]
        },
        {
          "output_type": "stream",
          "name": "stdout",
          "text": [
            "Epoch [1194/3000]: Train loss: 1.3253, Valid loss: 1.5238\n"
          ]
        },
        {
          "output_type": "stream",
          "name": "stderr",
          "text": [
            "Epoch [1195/3000]: 100%|████████████████████████████████████████████████████| 9/9 [00:00<00:00, 194.70it/s, loss=0.954]\n"
          ]
        },
        {
          "output_type": "stream",
          "name": "stdout",
          "text": [
            "Epoch [1195/3000]: Train loss: 1.2988, Valid loss: 1.3238\n"
          ]
        },
        {
          "output_type": "stream",
          "name": "stderr",
          "text": [
            "Epoch [1196/3000]: 100%|█████████████████████████████████████████████████████| 9/9 [00:00<00:00, 182.92it/s, loss=1.24]\n"
          ]
        },
        {
          "output_type": "stream",
          "name": "stdout",
          "text": [
            "Epoch [1196/3000]: Train loss: 1.3140, Valid loss: 1.5755\n"
          ]
        },
        {
          "output_type": "stream",
          "name": "stderr",
          "text": [
            "Epoch [1197/3000]: 100%|█████████████████████████████████████████████████████| 9/9 [00:00<00:00, 193.36it/s, loss=1.42]\n"
          ]
        },
        {
          "output_type": "stream",
          "name": "stdout",
          "text": [
            "Epoch [1197/3000]: Train loss: 1.3315, Valid loss: 1.6805\n"
          ]
        },
        {
          "output_type": "stream",
          "name": "stderr",
          "text": [
            "Epoch [1198/3000]: 100%|█████████████████████████████████████████████████████| 9/9 [00:00<00:00, 201.98it/s, loss=1.08]\n"
          ]
        },
        {
          "output_type": "stream",
          "name": "stdout",
          "text": [
            "Epoch [1198/3000]: Train loss: 1.3062, Valid loss: 1.6574\n"
          ]
        },
        {
          "output_type": "stream",
          "name": "stderr",
          "text": [
            "Epoch [1199/3000]: 100%|█████████████████████████████████████████████████████| 9/9 [00:00<00:00, 202.07it/s, loss=1.32]\n"
          ]
        },
        {
          "output_type": "stream",
          "name": "stdout",
          "text": [
            "Epoch [1199/3000]: Train loss: 1.3620, Valid loss: 1.6422\n"
          ]
        },
        {
          "output_type": "stream",
          "name": "stderr",
          "text": [
            "Epoch [1200/3000]: 100%|█████████████████████████████████████████████████████| 9/9 [00:00<00:00, 198.97it/s, loss=1.71]\n"
          ]
        },
        {
          "output_type": "stream",
          "name": "stdout",
          "text": [
            "Epoch [1200/3000]: Train loss: 1.3507, Valid loss: 1.4539\n"
          ]
        },
        {
          "output_type": "stream",
          "name": "stderr",
          "text": [
            "Epoch [1201/3000]: 100%|█████████████████████████████████████████████████████| 9/9 [00:00<00:00, 187.26it/s, loss=1.26]\n"
          ]
        },
        {
          "output_type": "stream",
          "name": "stdout",
          "text": [
            "Epoch [1201/3000]: Train loss: 1.3156, Valid loss: 1.4868\n"
          ]
        },
        {
          "output_type": "stream",
          "name": "stderr",
          "text": [
            "Epoch [1202/3000]: 100%|█████████████████████████████████████████████████████| 9/9 [00:00<00:00, 189.30it/s, loss=1.31]\n"
          ]
        },
        {
          "output_type": "stream",
          "name": "stdout",
          "text": [
            "Epoch [1202/3000]: Train loss: 1.3179, Valid loss: 1.4274\n"
          ]
        },
        {
          "output_type": "stream",
          "name": "stderr",
          "text": [
            "Epoch [1203/3000]: 100%|█████████████████████████████████████████████████████| 9/9 [00:00<00:00, 174.87it/s, loss=1.44]\n"
          ]
        },
        {
          "output_type": "stream",
          "name": "stdout",
          "text": [
            "Epoch [1203/3000]: Train loss: 1.3291, Valid loss: 1.6460\n"
          ]
        },
        {
          "output_type": "stream",
          "name": "stderr",
          "text": [
            "Epoch [1204/3000]: 100%|█████████████████████████████████████████████████████| 9/9 [00:00<00:00, 183.48it/s, loss=1.03]\n"
          ]
        },
        {
          "output_type": "stream",
          "name": "stdout",
          "text": [
            "Epoch [1204/3000]: Train loss: 1.3080, Valid loss: 1.3954\n"
          ]
        },
        {
          "output_type": "stream",
          "name": "stderr",
          "text": [
            "Epoch [1205/3000]: 100%|█████████████████████████████████████████████████████| 9/9 [00:00<00:00, 174.56it/s, loss=1.28]\n"
          ]
        },
        {
          "output_type": "stream",
          "name": "stdout",
          "text": [
            "Epoch [1205/3000]: Train loss: 1.3382, Valid loss: 1.8576\n"
          ]
        },
        {
          "output_type": "stream",
          "name": "stderr",
          "text": [
            "Epoch [1206/3000]: 100%|█████████████████████████████████████████████████████| 9/9 [00:00<00:00, 197.65it/s, loss=1.55]\n"
          ]
        },
        {
          "output_type": "stream",
          "name": "stdout",
          "text": [
            "Epoch [1206/3000]: Train loss: 1.3400, Valid loss: 1.6458\n"
          ]
        },
        {
          "output_type": "stream",
          "name": "stderr",
          "text": [
            "Epoch [1207/3000]: 100%|████████████████████████████████████████████████████| 9/9 [00:00<00:00, 189.27it/s, loss=0.982]\n"
          ]
        },
        {
          "output_type": "stream",
          "name": "stdout",
          "text": [
            "Epoch [1207/3000]: Train loss: 1.3192, Valid loss: 1.3388\n"
          ]
        },
        {
          "output_type": "stream",
          "name": "stderr",
          "text": [
            "Epoch [1208/3000]: 100%|█████████████████████████████████████████████████████| 9/9 [00:00<00:00, 189.31it/s, loss=1.23]\n"
          ]
        },
        {
          "output_type": "stream",
          "name": "stdout",
          "text": [
            "Epoch [1208/3000]: Train loss: 1.3159, Valid loss: 1.5215\n"
          ]
        },
        {
          "output_type": "stream",
          "name": "stderr",
          "text": [
            "Epoch [1209/3000]: 100%|█████████████████████████████████████████████████████| 9/9 [00:00<00:00, 172.14it/s, loss=1.14]\n"
          ]
        },
        {
          "output_type": "stream",
          "name": "stdout",
          "text": [
            "Epoch [1209/3000]: Train loss: 1.3108, Valid loss: 1.3525\n"
          ]
        },
        {
          "output_type": "stream",
          "name": "stderr",
          "text": [
            "Epoch [1210/3000]: 100%|█████████████████████████████████████████████████████| 9/9 [00:00<00:00, 185.41it/s, loss=1.69]\n"
          ]
        },
        {
          "output_type": "stream",
          "name": "stdout",
          "text": [
            "Epoch [1210/3000]: Train loss: 1.3418, Valid loss: 1.2114\n",
            "Saving model with loss 1.211...\n"
          ]
        },
        {
          "output_type": "stream",
          "name": "stderr",
          "text": [
            "Epoch [1211/3000]: 100%|█████████████████████████████████████████████████████| 9/9 [00:00<00:00, 185.16it/s, loss=1.31]\n"
          ]
        },
        {
          "output_type": "stream",
          "name": "stdout",
          "text": [
            "Epoch [1211/3000]: Train loss: 1.3132, Valid loss: 1.3289\n"
          ]
        },
        {
          "output_type": "stream",
          "name": "stderr",
          "text": [
            "Epoch [1212/3000]: 100%|█████████████████████████████████████████████████████| 9/9 [00:00<00:00, 206.59it/s, loss=1.19]\n"
          ]
        },
        {
          "output_type": "stream",
          "name": "stdout",
          "text": [
            "Epoch [1212/3000]: Train loss: 1.3020, Valid loss: 1.6187\n"
          ]
        },
        {
          "output_type": "stream",
          "name": "stderr",
          "text": [
            "Epoch [1213/3000]: 100%|█████████████████████████████████████████████████████| 9/9 [00:00<00:00, 193.40it/s, loss=1.36]\n"
          ]
        },
        {
          "output_type": "stream",
          "name": "stdout",
          "text": [
            "Epoch [1213/3000]: Train loss: 1.3161, Valid loss: 1.7701\n"
          ]
        },
        {
          "output_type": "stream",
          "name": "stderr",
          "text": [
            "Epoch [1214/3000]: 100%|██████████████████████████████████████████████████████| 9/9 [00:00<00:00, 211.52it/s, loss=1.8]\n"
          ]
        },
        {
          "output_type": "stream",
          "name": "stdout",
          "text": [
            "Epoch [1214/3000]: Train loss: 1.3613, Valid loss: 1.6777\n"
          ]
        },
        {
          "output_type": "stream",
          "name": "stderr",
          "text": [
            "Epoch [1215/3000]: 100%|█████████████████████████████████████████████████████| 9/9 [00:00<00:00, 195.44it/s, loss=1.28]\n"
          ]
        },
        {
          "output_type": "stream",
          "name": "stdout",
          "text": [
            "Epoch [1215/3000]: Train loss: 1.3127, Valid loss: 1.4430\n"
          ]
        },
        {
          "output_type": "stream",
          "name": "stderr",
          "text": [
            "Epoch [1216/3000]: 100%|█████████████████████████████████████████████████████| 9/9 [00:00<00:00, 186.61it/s, loss=1.06]\n"
          ]
        },
        {
          "output_type": "stream",
          "name": "stdout",
          "text": [
            "Epoch [1216/3000]: Train loss: 1.3013, Valid loss: 1.7526\n"
          ]
        },
        {
          "output_type": "stream",
          "name": "stderr",
          "text": [
            "Epoch [1217/3000]: 100%|██████████████████████████████████████████████████████| 9/9 [00:00<00:00, 178.49it/s, loss=1.8]\n"
          ]
        },
        {
          "output_type": "stream",
          "name": "stdout",
          "text": [
            "Epoch [1217/3000]: Train loss: 1.3481, Valid loss: 1.4718\n"
          ]
        },
        {
          "output_type": "stream",
          "name": "stderr",
          "text": [
            "Epoch [1218/3000]: 100%|██████████████████████████████████████████████████████| 9/9 [00:00<00:00, 193.23it/s, loss=1.1]\n"
          ]
        },
        {
          "output_type": "stream",
          "name": "stdout",
          "text": [
            "Epoch [1218/3000]: Train loss: 1.2988, Valid loss: 1.4888\n"
          ]
        },
        {
          "output_type": "stream",
          "name": "stderr",
          "text": [
            "Epoch [1219/3000]: 100%|█████████████████████████████████████████████████████| 9/9 [00:00<00:00, 176.76it/s, loss=1.02]"
          ]
        },
        {
          "output_type": "stream",
          "name": "stdout",
          "text": [
            "Epoch [1219/3000]: Train loss: 1.2934, Valid loss: 1.5944"
          ]
        },
        {
          "output_type": "stream",
          "name": "stderr",
          "text": [
            "\n"
          ]
        },
        {
          "output_type": "stream",
          "name": "stdout",
          "text": [
            "\n"
          ]
        },
        {
          "output_type": "stream",
          "name": "stderr",
          "text": [
            "Epoch [1220/3000]: 100%|█████████████████████████████████████████████████████| 9/9 [00:00<00:00, 185.41it/s, loss=1.35]\n"
          ]
        },
        {
          "output_type": "stream",
          "name": "stdout",
          "text": [
            "Epoch [1220/3000]: Train loss: 1.3173, Valid loss: 1.7040\n"
          ]
        },
        {
          "output_type": "stream",
          "name": "stderr",
          "text": [
            "Epoch [1221/3000]: 100%|█████████████████████████████████████████████████████| 9/9 [00:00<00:00, 197.59it/s, loss=1.54]\n"
          ]
        },
        {
          "output_type": "stream",
          "name": "stdout",
          "text": [
            "Epoch [1221/3000]: Train loss: 1.3319, Valid loss: 1.5849\n"
          ]
        },
        {
          "output_type": "stream",
          "name": "stderr",
          "text": [
            "Epoch [1222/3000]: 100%|█████████████████████████████████████████████████████| 9/9 [00:00<00:00, 189.35it/s, loss=1.41]\n"
          ]
        },
        {
          "output_type": "stream",
          "name": "stdout",
          "text": [
            "Epoch [1222/3000]: Train loss: 1.3245, Valid loss: 1.7043\n"
          ]
        },
        {
          "output_type": "stream",
          "name": "stderr",
          "text": [
            "Epoch [1223/3000]: 100%|█████████████████████████████████████████████████████| 9/9 [00:00<00:00, 174.59it/s, loss=1.18]\n"
          ]
        },
        {
          "output_type": "stream",
          "name": "stdout",
          "text": [
            "Epoch [1223/3000]: Train loss: 1.3055, Valid loss: 1.3805\n"
          ]
        },
        {
          "output_type": "stream",
          "name": "stderr",
          "text": [
            "Epoch [1224/3000]: 100%|█████████████████████████████████████████████████████| 9/9 [00:00<00:00, 177.77it/s, loss=1.19]\n"
          ]
        },
        {
          "output_type": "stream",
          "name": "stdout",
          "text": [
            "Epoch [1224/3000]: Train loss: 1.3038, Valid loss: 1.7002\n"
          ]
        },
        {
          "output_type": "stream",
          "name": "stderr",
          "text": [
            "Epoch [1225/3000]: 100%|█████████████████████████████████████████████████████| 9/9 [00:00<00:00, 187.39it/s, loss=1.29]\n"
          ]
        },
        {
          "output_type": "stream",
          "name": "stdout",
          "text": [
            "Epoch [1225/3000]: Train loss: 1.3367, Valid loss: 1.5081\n"
          ]
        },
        {
          "output_type": "stream",
          "name": "stderr",
          "text": [
            "Epoch [1226/3000]: 100%|████████████████████████████████████████████████████| 9/9 [00:00<00:00, 178.08it/s, loss=0.887]\n"
          ]
        },
        {
          "output_type": "stream",
          "name": "stdout",
          "text": [
            "Epoch [1226/3000]: Train loss: 1.2998, Valid loss: 1.5155\n"
          ]
        },
        {
          "output_type": "stream",
          "name": "stderr",
          "text": [
            "Epoch [1227/3000]: 100%|█████████████████████████████████████████████████████| 9/9 [00:00<00:00, 193.41it/s, loss=1.16]\n"
          ]
        },
        {
          "output_type": "stream",
          "name": "stdout",
          "text": [
            "Epoch [1227/3000]: Train loss: 1.2990, Valid loss: 1.7402\n"
          ]
        },
        {
          "output_type": "stream",
          "name": "stderr",
          "text": [
            "Epoch [1228/3000]: 100%|█████████████████████████████████████████████████████| 9/9 [00:00<00:00, 183.19it/s, loss=1.12]\n"
          ]
        },
        {
          "output_type": "stream",
          "name": "stdout",
          "text": [
            "Epoch [1228/3000]: Train loss: 1.3060, Valid loss: 1.3308\n"
          ]
        },
        {
          "output_type": "stream",
          "name": "stderr",
          "text": [
            "Epoch [1229/3000]: 100%|██████████████████████████████████████████████████████| 9/9 [00:00<00:00, 179.80it/s, loss=1.3]\n"
          ]
        },
        {
          "output_type": "stream",
          "name": "stdout",
          "text": [
            "Epoch [1229/3000]: Train loss: 1.3158, Valid loss: 1.4181\n"
          ]
        },
        {
          "output_type": "stream",
          "name": "stderr",
          "text": [
            "Epoch [1230/3000]: 100%|██████████████████████████████████████████████████████| 9/9 [00:00<00:00, 198.04it/s, loss=1.1]\n"
          ]
        },
        {
          "output_type": "stream",
          "name": "stdout",
          "text": [
            "Epoch [1230/3000]: Train loss: 1.3076, Valid loss: 1.9635\n"
          ]
        },
        {
          "output_type": "stream",
          "name": "stderr",
          "text": [
            "Epoch [1231/3000]: 100%|█████████████████████████████████████████████████████| 9/9 [00:00<00:00, 212.24it/s, loss=1.41]\n"
          ]
        },
        {
          "output_type": "stream",
          "name": "stdout",
          "text": [
            "Epoch [1231/3000]: Train loss: 1.3436, Valid loss: 1.4346\n"
          ]
        },
        {
          "output_type": "stream",
          "name": "stderr",
          "text": [
            "Epoch [1232/3000]: 100%|█████████████████████████████████████████████████████| 9/9 [00:00<00:00, 204.35it/s, loss=1.24]\n"
          ]
        },
        {
          "output_type": "stream",
          "name": "stdout",
          "text": [
            "Epoch [1232/3000]: Train loss: 1.3129, Valid loss: 1.5489\n"
          ]
        },
        {
          "output_type": "stream",
          "name": "stderr",
          "text": [
            "Epoch [1233/3000]: 100%|█████████████████████████████████████████████████████| 9/9 [00:00<00:00, 222.00it/s, loss=1.11]\n"
          ]
        },
        {
          "output_type": "stream",
          "name": "stdout",
          "text": [
            "Epoch [1233/3000]: Train loss: 1.2974, Valid loss: 1.4099\n"
          ]
        },
        {
          "output_type": "stream",
          "name": "stderr",
          "text": [
            "Epoch [1234/3000]: 100%|█████████████████████████████████████████████████████| 9/9 [00:00<00:00, 211.58it/s, loss=1.41]\n"
          ]
        },
        {
          "output_type": "stream",
          "name": "stdout",
          "text": [
            "Epoch [1234/3000]: Train loss: 1.3200, Valid loss: 1.5232\n"
          ]
        },
        {
          "output_type": "stream",
          "name": "stderr",
          "text": [
            "Epoch [1235/3000]: 100%|█████████████████████████████████████████████████████| 9/9 [00:00<00:00, 180.95it/s, loss=1.47]\n"
          ]
        },
        {
          "output_type": "stream",
          "name": "stdout",
          "text": [
            "Epoch [1235/3000]: Train loss: 1.3227, Valid loss: 1.3477\n"
          ]
        },
        {
          "output_type": "stream",
          "name": "stderr",
          "text": [
            "Epoch [1236/3000]: 100%|█████████████████████████████████████████████████████| 9/9 [00:00<00:00, 201.69it/s, loss=1.09]\n"
          ]
        },
        {
          "output_type": "stream",
          "name": "stdout",
          "text": [
            "Epoch [1236/3000]: Train loss: 1.3001, Valid loss: 1.3499\n"
          ]
        },
        {
          "output_type": "stream",
          "name": "stderr",
          "text": [
            "Epoch [1237/3000]: 100%|█████████████████████████████████████████████████████| 9/9 [00:00<00:00, 183.28it/s, loss=1.24]\n"
          ]
        },
        {
          "output_type": "stream",
          "name": "stdout",
          "text": [
            "Epoch [1237/3000]: Train loss: 1.3050, Valid loss: 1.3189\n"
          ]
        },
        {
          "output_type": "stream",
          "name": "stderr",
          "text": [
            "Epoch [1238/3000]: 100%|█████████████████████████████████████████████████████| 9/9 [00:00<00:00, 211.58it/s, loss=1.26]\n"
          ]
        },
        {
          "output_type": "stream",
          "name": "stdout",
          "text": [
            "Epoch [1238/3000]: Train loss: 1.3261, Valid loss: 1.4522\n"
          ]
        },
        {
          "output_type": "stream",
          "name": "stderr",
          "text": [
            "Epoch [1239/3000]: 100%|████████████████████████████████████████████████████| 9/9 [00:00<00:00, 178.02it/s, loss=0.964]\n"
          ]
        },
        {
          "output_type": "stream",
          "name": "stdout",
          "text": [
            "Epoch [1239/3000]: Train loss: 1.2905, Valid loss: 1.5841\n"
          ]
        },
        {
          "output_type": "stream",
          "name": "stderr",
          "text": [
            "Epoch [1240/3000]: 100%|█████████████████████████████████████████████████████| 9/9 [00:00<00:00, 164.97it/s, loss=1.07]\n"
          ]
        },
        {
          "output_type": "stream",
          "name": "stdout",
          "text": [
            "Epoch [1240/3000]: Train loss: 1.3180, Valid loss: 1.6924\n"
          ]
        },
        {
          "output_type": "stream",
          "name": "stderr",
          "text": [
            "Epoch [1241/3000]: 100%|█████████████████████████████████████████████████████| 9/9 [00:00<00:00, 181.66it/s, loss=1.15]\n"
          ]
        },
        {
          "output_type": "stream",
          "name": "stdout",
          "text": [
            "Epoch [1241/3000]: Train loss: 1.3080, Valid loss: 1.5350\n"
          ]
        },
        {
          "output_type": "stream",
          "name": "stderr",
          "text": [
            "Epoch [1242/3000]: 100%|█████████████████████████████████████████████████████| 9/9 [00:00<00:00, 183.47it/s, loss=1.55]\n"
          ]
        },
        {
          "output_type": "stream",
          "name": "stdout",
          "text": [
            "Epoch [1242/3000]: Train loss: 1.3261, Valid loss: 1.2704\n"
          ]
        },
        {
          "output_type": "stream",
          "name": "stderr",
          "text": [
            "Epoch [1243/3000]: 100%|█████████████████████████████████████████████████████| 9/9 [00:00<00:00, 199.89it/s, loss=1.18]\n"
          ]
        },
        {
          "output_type": "stream",
          "name": "stdout",
          "text": [
            "Epoch [1243/3000]: Train loss: 1.3097, Valid loss: 1.6014\n"
          ]
        },
        {
          "output_type": "stream",
          "name": "stderr",
          "text": [
            "Epoch [1244/3000]: 100%|██████████████████████████████████████████████████████| 9/9 [00:00<00:00, 190.56it/s, loss=1.5]\n"
          ]
        },
        {
          "output_type": "stream",
          "name": "stdout",
          "text": [
            "Epoch [1244/3000]: Train loss: 1.3315, Valid loss: 1.3530\n"
          ]
        },
        {
          "output_type": "stream",
          "name": "stderr",
          "text": [
            "Epoch [1245/3000]: 100%|█████████████████████████████████████████████████████| 9/9 [00:00<00:00, 206.74it/s, loss=1.27]\n"
          ]
        },
        {
          "output_type": "stream",
          "name": "stdout",
          "text": [
            "Epoch [1245/3000]: Train loss: 1.3295, Valid loss: 1.6131\n"
          ]
        },
        {
          "output_type": "stream",
          "name": "stderr",
          "text": [
            "Epoch [1246/3000]: 100%|█████████████████████████████████████████████████████| 9/9 [00:00<00:00, 206.68it/s, loss=1.34]\n"
          ]
        },
        {
          "output_type": "stream",
          "name": "stdout",
          "text": [
            "Epoch [1246/3000]: Train loss: 1.3170, Valid loss: 1.5113\n"
          ]
        },
        {
          "output_type": "stream",
          "name": "stderr",
          "text": [
            "Epoch [1247/3000]: 100%|█████████████████████████████████████████████████████| 9/9 [00:00<00:00, 206.72it/s, loss=1.78]\n"
          ]
        },
        {
          "output_type": "stream",
          "name": "stdout",
          "text": [
            "Epoch [1247/3000]: Train loss: 1.3375, Valid loss: 1.8917\n"
          ]
        },
        {
          "output_type": "stream",
          "name": "stderr",
          "text": [
            "Epoch [1248/3000]: 100%|█████████████████████████████████████████████████████| 9/9 [00:00<00:00, 178.03it/s, loss=1.21]\n"
          ]
        },
        {
          "output_type": "stream",
          "name": "stdout",
          "text": [
            "Epoch [1248/3000]: Train loss: 1.3446, Valid loss: 1.9048\n"
          ]
        },
        {
          "output_type": "stream",
          "name": "stderr",
          "text": [
            "Epoch [1249/3000]: 100%|█████████████████████████████████████████████████████| 9/9 [00:00<00:00, 191.16it/s, loss=1.72]\n"
          ]
        },
        {
          "output_type": "stream",
          "name": "stdout",
          "text": [
            "Epoch [1249/3000]: Train loss: 1.3690, Valid loss: 1.6145\n"
          ]
        },
        {
          "output_type": "stream",
          "name": "stderr",
          "text": [
            "Epoch [1250/3000]: 100%|█████████████████████████████████████████████████████| 9/9 [00:00<00:00, 189.32it/s, loss=1.11]\n"
          ]
        },
        {
          "output_type": "stream",
          "name": "stdout",
          "text": [
            "Epoch [1250/3000]: Train loss: 1.3263, Valid loss: 1.4959\n"
          ]
        },
        {
          "output_type": "stream",
          "name": "stderr",
          "text": [
            "Epoch [1251/3000]: 100%|█████████████████████████████████████████████████████| 9/9 [00:00<00:00, 191.30it/s, loss=1.68]\n"
          ]
        },
        {
          "output_type": "stream",
          "name": "stdout",
          "text": [
            "Epoch [1251/3000]: Train loss: 1.3358, Valid loss: 1.6086\n"
          ]
        },
        {
          "output_type": "stream",
          "name": "stderr",
          "text": [
            "Epoch [1252/3000]: 100%|█████████████████████████████████████████████████████| 9/9 [00:00<00:00, 189.33it/s, loss=1.03]\n"
          ]
        },
        {
          "output_type": "stream",
          "name": "stdout",
          "text": [
            "Epoch [1252/3000]: Train loss: 1.3034, Valid loss: 1.4702\n"
          ]
        },
        {
          "output_type": "stream",
          "name": "stderr",
          "text": [
            "Epoch [1253/3000]: 100%|█████████████████████████████████████████████████████| 9/9 [00:00<00:00, 186.12it/s, loss=1.03]\n"
          ]
        },
        {
          "output_type": "stream",
          "name": "stdout",
          "text": [
            "Epoch [1253/3000]: Train loss: 1.2941, Valid loss: 1.2464\n"
          ]
        },
        {
          "output_type": "stream",
          "name": "stderr",
          "text": [
            "Epoch [1254/3000]: 100%|█████████████████████████████████████████████████████| 9/9 [00:00<00:00, 197.22it/s, loss=1.12]\n"
          ]
        },
        {
          "output_type": "stream",
          "name": "stdout",
          "text": [
            "Epoch [1254/3000]: Train loss: 1.2873, Valid loss: 1.5986\n"
          ]
        },
        {
          "output_type": "stream",
          "name": "stderr",
          "text": [
            "Epoch [1255/3000]: 100%|█████████████████████████████████████████████████████| 9/9 [00:00<00:00, 193.39it/s, loss=1.64]\n"
          ]
        },
        {
          "output_type": "stream",
          "name": "stdout",
          "text": [
            "Epoch [1255/3000]: Train loss: 1.3224, Valid loss: 1.7889\n"
          ]
        },
        {
          "output_type": "stream",
          "name": "stderr",
          "text": [
            "Epoch [1256/3000]: 100%|█████████████████████████████████████████████████████| 9/9 [00:00<00:00, 209.19it/s, loss=1.36]\n"
          ]
        },
        {
          "output_type": "stream",
          "name": "stdout",
          "text": [
            "Epoch [1256/3000]: Train loss: 1.3043, Valid loss: 1.7853\n"
          ]
        },
        {
          "output_type": "stream",
          "name": "stderr",
          "text": [
            "Epoch [1257/3000]: 100%|█████████████████████████████████████████████████████| 9/9 [00:00<00:00, 191.27it/s, loss=1.08]\n"
          ]
        },
        {
          "output_type": "stream",
          "name": "stdout",
          "text": [
            "Epoch [1257/3000]: Train loss: 1.2854, Valid loss: 1.3888\n"
          ]
        },
        {
          "output_type": "stream",
          "name": "stderr",
          "text": [
            "Epoch [1258/3000]: 100%|█████████████████████████████████████████████████████| 9/9 [00:00<00:00, 191.35it/s, loss=1.05]\n"
          ]
        },
        {
          "output_type": "stream",
          "name": "stdout",
          "text": [
            "Epoch [1258/3000]: Train loss: 1.2846, Valid loss: 1.4128\n"
          ]
        },
        {
          "output_type": "stream",
          "name": "stderr",
          "text": [
            "Epoch [1259/3000]: 100%|██████████████████████████████████████████████████████| 9/9 [00:00<00:00, 41.34it/s, loss=1.38]\n"
          ]
        },
        {
          "output_type": "stream",
          "name": "stdout",
          "text": [
            "Epoch [1259/3000]: Train loss: 1.3099, Valid loss: 2.4152\n"
          ]
        },
        {
          "output_type": "stream",
          "name": "stderr",
          "text": [
            "Epoch [1260/3000]: 100%|████████████████████████████████████████████████████| 9/9 [00:00<00:00, 199.88it/s, loss=0.989]\n"
          ]
        },
        {
          "output_type": "stream",
          "name": "stdout",
          "text": [
            "Epoch [1260/3000]: Train loss: 1.3217, Valid loss: 1.6429\n"
          ]
        },
        {
          "output_type": "stream",
          "name": "stderr",
          "text": [
            "Epoch [1261/3000]: 100%|██████████████████████████████████████████████████████| 9/9 [00:00<00:00, 83.96it/s, loss=1.51]\n"
          ]
        },
        {
          "output_type": "stream",
          "name": "stdout",
          "text": [
            "Epoch [1261/3000]: Train loss: 1.3206, Valid loss: 1.3742\n"
          ]
        },
        {
          "output_type": "stream",
          "name": "stderr",
          "text": [
            "Epoch [1262/3000]: 100%|████████████████████████████████████████████████████| 9/9 [00:00<00:00, 211.10it/s, loss=0.841]\n"
          ]
        },
        {
          "output_type": "stream",
          "name": "stdout",
          "text": [
            "Epoch [1262/3000]: Train loss: 1.2744, Valid loss: 1.3254\n"
          ]
        },
        {
          "output_type": "stream",
          "name": "stderr",
          "text": [
            "Epoch [1263/3000]: 100%|█████████████████████████████████████████████████████| 9/9 [00:00<00:00, 204.12it/s, loss=1.26]\n"
          ]
        },
        {
          "output_type": "stream",
          "name": "stdout",
          "text": [
            "Epoch [1263/3000]: Train loss: 1.3006, Valid loss: 1.8226\n"
          ]
        },
        {
          "output_type": "stream",
          "name": "stderr",
          "text": [
            "Epoch [1264/3000]: 100%|█████████████████████████████████████████████████████| 9/9 [00:00<00:00, 186.13it/s, loss=1.16]\n"
          ]
        },
        {
          "output_type": "stream",
          "name": "stdout",
          "text": [
            "Epoch [1264/3000]: Train loss: 1.3054, Valid loss: 1.5247\n"
          ]
        },
        {
          "output_type": "stream",
          "name": "stderr",
          "text": [
            "Epoch [1265/3000]: 100%|█████████████████████████████████████████████████████| 9/9 [00:00<00:00, 191.26it/s, loss=1.63]\n"
          ]
        },
        {
          "output_type": "stream",
          "name": "stdout",
          "text": [
            "Epoch [1265/3000]: Train loss: 1.3258, Valid loss: 1.4214\n"
          ]
        },
        {
          "output_type": "stream",
          "name": "stderr",
          "text": [
            "Epoch [1266/3000]: 100%|█████████████████████████████████████████████████████| 9/9 [00:00<00:00, 173.72it/s, loss=1.13]\n"
          ]
        },
        {
          "output_type": "stream",
          "name": "stdout",
          "text": [
            "Epoch [1266/3000]: Train loss: 1.3061, Valid loss: 1.3763\n"
          ]
        },
        {
          "output_type": "stream",
          "name": "stderr",
          "text": [
            "Epoch [1267/3000]: 100%|█████████████████████████████████████████████████████| 9/9 [00:00<00:00, 157.45it/s, loss=1.54]\n"
          ]
        },
        {
          "output_type": "stream",
          "name": "stdout",
          "text": [
            "Epoch [1267/3000]: Train loss: 1.3200, Valid loss: 1.2948\n"
          ]
        },
        {
          "output_type": "stream",
          "name": "stderr",
          "text": [
            "Epoch [1268/3000]: 100%|█████████████████████████████████████████████████████| 9/9 [00:00<00:00, 182.49it/s, loss=1.26]\n"
          ]
        },
        {
          "output_type": "stream",
          "name": "stdout",
          "text": [
            "Epoch [1268/3000]: Train loss: 1.2942, Valid loss: 1.7494\n"
          ]
        },
        {
          "output_type": "stream",
          "name": "stderr",
          "text": [
            "Epoch [1269/3000]: 100%|█████████████████████████████████████████████████████| 9/9 [00:00<00:00, 185.39it/s, loss=1.16]\n"
          ]
        },
        {
          "output_type": "stream",
          "name": "stdout",
          "text": [
            "Epoch [1269/3000]: Train loss: 1.2890, Valid loss: 1.5386\n"
          ]
        },
        {
          "output_type": "stream",
          "name": "stderr",
          "text": [
            "Epoch [1270/3000]: 100%|█████████████████████████████████████████████████████| 9/9 [00:00<00:00, 197.17it/s, loss=1.03]\n"
          ]
        },
        {
          "output_type": "stream",
          "name": "stdout",
          "text": [
            "Epoch [1270/3000]: Train loss: 1.2879, Valid loss: 1.3037\n"
          ]
        },
        {
          "output_type": "stream",
          "name": "stderr",
          "text": [
            "Epoch [1271/3000]: 100%|█████████████████████████████████████████████████████| 9/9 [00:00<00:00, 172.89it/s, loss=1.24]\n"
          ]
        },
        {
          "output_type": "stream",
          "name": "stdout",
          "text": [
            "Epoch [1271/3000]: Train loss: 1.2937, Valid loss: 1.4746\n"
          ]
        },
        {
          "output_type": "stream",
          "name": "stderr",
          "text": [
            "Epoch [1272/3000]: 100%|█████████████████████████████████████████████████████| 9/9 [00:00<00:00, 195.38it/s, loss=1.22]\n"
          ]
        },
        {
          "output_type": "stream",
          "name": "stdout",
          "text": [
            "Epoch [1272/3000]: Train loss: 1.3029, Valid loss: 1.7659\n"
          ]
        },
        {
          "output_type": "stream",
          "name": "stderr",
          "text": [
            "Epoch [1273/3000]: 100%|█████████████████████████████████████████████████████| 9/9 [00:00<00:00, 185.42it/s, loss=1.17]\n"
          ]
        },
        {
          "output_type": "stream",
          "name": "stdout",
          "text": [
            "Epoch [1273/3000]: Train loss: 1.3108, Valid loss: 1.6798\n"
          ]
        },
        {
          "output_type": "stream",
          "name": "stderr",
          "text": [
            "Epoch [1274/3000]: 100%|█████████████████████████████████████████████████████| 9/9 [00:00<00:00, 186.42it/s, loss=1.35]\n"
          ]
        },
        {
          "output_type": "stream",
          "name": "stdout",
          "text": [
            "Epoch [1274/3000]: Train loss: 1.3305, Valid loss: 1.4915\n"
          ]
        },
        {
          "output_type": "stream",
          "name": "stderr",
          "text": [
            "Epoch [1275/3000]: 100%|█████████████████████████████████████████████████████| 9/9 [00:00<00:00, 193.34it/s, loss=1.59]\n"
          ]
        },
        {
          "output_type": "stream",
          "name": "stdout",
          "text": [
            "Epoch [1275/3000]: Train loss: 1.3263, Valid loss: 1.8855\n"
          ]
        },
        {
          "output_type": "stream",
          "name": "stderr",
          "text": [
            "Epoch [1276/3000]: 100%|█████████████████████████████████████████████████████| 9/9 [00:00<00:00, 202.67it/s, loss=1.29]\n"
          ]
        },
        {
          "output_type": "stream",
          "name": "stdout",
          "text": [
            "Epoch [1276/3000]: Train loss: 1.3007, Valid loss: 1.3899\n"
          ]
        },
        {
          "output_type": "stream",
          "name": "stderr",
          "text": [
            "Epoch [1277/3000]: 100%|█████████████████████████████████████████████████████| 9/9 [00:00<00:00, 185.85it/s, loss=1.11]\n"
          ]
        },
        {
          "output_type": "stream",
          "name": "stdout",
          "text": [
            "Epoch [1277/3000]: Train loss: 1.2886, Valid loss: 1.5219\n"
          ]
        },
        {
          "output_type": "stream",
          "name": "stderr",
          "text": [
            "Epoch [1278/3000]: 100%|█████████████████████████████████████████████████████| 9/9 [00:00<00:00, 181.65it/s, loss=1.16]\n"
          ]
        },
        {
          "output_type": "stream",
          "name": "stdout",
          "text": [
            "Epoch [1278/3000]: Train loss: 1.2919, Valid loss: 1.7379\n"
          ]
        },
        {
          "output_type": "stream",
          "name": "stderr",
          "text": [
            "Epoch [1279/3000]: 100%|█████████████████████████████████████████████████████| 9/9 [00:00<00:00, 174.67it/s, loss=0.97]\n"
          ]
        },
        {
          "output_type": "stream",
          "name": "stdout",
          "text": [
            "Epoch [1279/3000]: Train loss: 1.2793, Valid loss: 1.6152\n"
          ]
        },
        {
          "output_type": "stream",
          "name": "stderr",
          "text": [
            "Epoch [1280/3000]: 100%|█████████████████████████████████████████████████████| 9/9 [00:00<00:00, 171.29it/s, loss=1.42]\n"
          ]
        },
        {
          "output_type": "stream",
          "name": "stdout",
          "text": [
            "Epoch [1280/3000]: Train loss: 1.3090, Valid loss: 1.4436\n"
          ]
        },
        {
          "output_type": "stream",
          "name": "stderr",
          "text": [
            "Epoch [1281/3000]: 100%|█████████████████████████████████████████████████████| 9/9 [00:00<00:00, 174.82it/s, loss=1.05]\n"
          ]
        },
        {
          "output_type": "stream",
          "name": "stdout",
          "text": [
            "Epoch [1281/3000]: Train loss: 1.2888, Valid loss: 1.7085\n"
          ]
        },
        {
          "output_type": "stream",
          "name": "stderr",
          "text": [
            "Epoch [1282/3000]: 100%|█████████████████████████████████████████████████████| 9/9 [00:00<00:00, 191.23it/s, loss=1.39]\n"
          ]
        },
        {
          "output_type": "stream",
          "name": "stdout",
          "text": [
            "Epoch [1282/3000]: Train loss: 1.3067, Valid loss: 1.5521\n"
          ]
        },
        {
          "output_type": "stream",
          "name": "stderr",
          "text": [
            "Epoch [1283/3000]: 100%|█████████████████████████████████████████████████████| 9/9 [00:00<00:00, 195.20it/s, loss=1.53]\n"
          ]
        },
        {
          "output_type": "stream",
          "name": "stdout",
          "text": [
            "Epoch [1283/3000]: Train loss: 1.3107, Valid loss: 1.7898\n"
          ]
        },
        {
          "output_type": "stream",
          "name": "stderr",
          "text": [
            "Epoch [1284/3000]: 100%|█████████████████████████████████████████████████████| 9/9 [00:00<00:00, 183.44it/s, loss=1.31]\n"
          ]
        },
        {
          "output_type": "stream",
          "name": "stdout",
          "text": [
            "Epoch [1284/3000]: Train loss: 1.3102, Valid loss: 1.3730\n"
          ]
        },
        {
          "output_type": "stream",
          "name": "stderr",
          "text": [
            "Epoch [1285/3000]: 100%|█████████████████████████████████████████████████████| 9/9 [00:00<00:00, 201.39it/s, loss=1.33]\n"
          ]
        },
        {
          "output_type": "stream",
          "name": "stdout",
          "text": [
            "Epoch [1285/3000]: Train loss: 1.2969, Valid loss: 1.3045\n"
          ]
        },
        {
          "output_type": "stream",
          "name": "stderr",
          "text": [
            "Epoch [1286/3000]: 100%|█████████████████████████████████████████████████████| 9/9 [00:00<00:00, 183.18it/s, loss=1.38]\n"
          ]
        },
        {
          "output_type": "stream",
          "name": "stdout",
          "text": [
            "Epoch [1286/3000]: Train loss: 1.3015, Valid loss: 1.5442\n"
          ]
        },
        {
          "output_type": "stream",
          "name": "stderr",
          "text": [
            "Epoch [1287/3000]: 100%|█████████████████████████████████████████████████████| 9/9 [00:00<00:00, 189.27it/s, loss=1.61]\n"
          ]
        },
        {
          "output_type": "stream",
          "name": "stdout",
          "text": [
            "Epoch [1287/3000]: Train loss: 1.3233, Valid loss: 1.5040\n"
          ]
        },
        {
          "output_type": "stream",
          "name": "stderr",
          "text": [
            "Epoch [1288/3000]: 100%|█████████████████████████████████████████████████████| 9/9 [00:00<00:00, 169.62it/s, loss=1.45]\n"
          ]
        },
        {
          "output_type": "stream",
          "name": "stdout",
          "text": [
            "Epoch [1288/3000]: Train loss: 1.3132, Valid loss: 1.4099\n"
          ]
        },
        {
          "output_type": "stream",
          "name": "stderr",
          "text": [
            "Epoch [1289/3000]: 100%|██████████████████████████████████████████████████████| 9/9 [00:00<00:00, 148.59it/s, loss=1.1]\n"
          ]
        },
        {
          "output_type": "stream",
          "name": "stdout",
          "text": [
            "Epoch [1289/3000]: Train loss: 1.2914, Valid loss: 1.6269\n"
          ]
        },
        {
          "output_type": "stream",
          "name": "stderr",
          "text": [
            "Epoch [1290/3000]: 100%|█████████████████████████████████████████████████████| 9/9 [00:00<00:00, 160.94it/s, loss=1.32]\n"
          ]
        },
        {
          "output_type": "stream",
          "name": "stdout",
          "text": [
            "Epoch [1290/3000]: Train loss: 1.3125, Valid loss: 1.4766\n"
          ]
        },
        {
          "output_type": "stream",
          "name": "stderr",
          "text": [
            "Epoch [1291/3000]: 100%|█████████████████████████████████████████████████████| 9/9 [00:00<00:00, 162.00it/s, loss=1.23]\n"
          ]
        },
        {
          "output_type": "stream",
          "name": "stdout",
          "text": [
            "Epoch [1291/3000]: Train loss: 1.2933, Valid loss: 1.7244\n"
          ]
        },
        {
          "output_type": "stream",
          "name": "stderr",
          "text": [
            "Epoch [1292/3000]: 100%|█████████████████████████████████████████████████████| 9/9 [00:00<00:00, 167.98it/s, loss=1.15]\n"
          ]
        },
        {
          "output_type": "stream",
          "name": "stdout",
          "text": [
            "Epoch [1292/3000]: Train loss: 1.2857, Valid loss: 1.4605\n"
          ]
        },
        {
          "output_type": "stream",
          "name": "stderr",
          "text": [
            "Epoch [1293/3000]: 100%|█████████████████████████████████████████████████████| 9/9 [00:00<00:00, 174.39it/s, loss=1.01]\n"
          ]
        },
        {
          "output_type": "stream",
          "name": "stdout",
          "text": [
            "Epoch [1293/3000]: Train loss: 1.2780, Valid loss: 1.6725\n"
          ]
        },
        {
          "output_type": "stream",
          "name": "stderr",
          "text": [
            "Epoch [1294/3000]: 100%|█████████████████████████████████████████████████████| 9/9 [00:00<00:00, 174.51it/s, loss=1.52]\n"
          ]
        },
        {
          "output_type": "stream",
          "name": "stdout",
          "text": [
            "Epoch [1294/3000]: Train loss: 1.3062, Valid loss: 1.4646\n"
          ]
        },
        {
          "output_type": "stream",
          "name": "stderr",
          "text": [
            "Epoch [1295/3000]: 100%|█████████████████████████████████████████████████████| 9/9 [00:00<00:00, 211.59it/s, loss=1.04]\n"
          ]
        },
        {
          "output_type": "stream",
          "name": "stdout",
          "text": [
            "Epoch [1295/3000]: Train loss: 1.2712, Valid loss: 1.3296\n"
          ]
        },
        {
          "output_type": "stream",
          "name": "stderr",
          "text": [
            "Epoch [1296/3000]: 100%|█████████████████████████████████████████████████████| 9/9 [00:00<00:00, 193.38it/s, loss=1.84]\n"
          ]
        },
        {
          "output_type": "stream",
          "name": "stdout",
          "text": [
            "Epoch [1296/3000]: Train loss: 1.3443, Valid loss: 2.1381\n"
          ]
        },
        {
          "output_type": "stream",
          "name": "stderr",
          "text": [
            "Epoch [1297/3000]: 100%|█████████████████████████████████████████████████████| 9/9 [00:00<00:00, 230.56it/s, loss=1.04]\n"
          ]
        },
        {
          "output_type": "stream",
          "name": "stdout",
          "text": [
            "Epoch [1297/3000]: Train loss: 1.3212, Valid loss: 1.3126\n"
          ]
        },
        {
          "output_type": "stream",
          "name": "stderr",
          "text": [
            "Epoch [1298/3000]: 100%|█████████████████████████████████████████████████████| 9/9 [00:00<00:00, 192.35it/s, loss=1.44]\n"
          ]
        },
        {
          "output_type": "stream",
          "name": "stdout",
          "text": [
            "Epoch [1298/3000]: Train loss: 1.3120, Valid loss: 1.4694\n"
          ]
        },
        {
          "output_type": "stream",
          "name": "stderr",
          "text": [
            "Epoch [1299/3000]: 100%|█████████████████████████████████████████████████████| 9/9 [00:00<00:00, 193.27it/s, loss=1.45]\n"
          ]
        },
        {
          "output_type": "stream",
          "name": "stdout",
          "text": [
            "Epoch [1299/3000]: Train loss: 1.3159, Valid loss: 1.6555\n"
          ]
        },
        {
          "output_type": "stream",
          "name": "stderr",
          "text": [
            "Epoch [1300/3000]: 100%|█████████████████████████████████████████████████████| 9/9 [00:00<00:00, 204.58it/s, loss=1.56]\n"
          ]
        },
        {
          "output_type": "stream",
          "name": "stdout",
          "text": [
            "Epoch [1300/3000]: Train loss: 1.3131, Valid loss: 1.5617\n"
          ]
        },
        {
          "output_type": "stream",
          "name": "stderr",
          "text": [
            "Epoch [1301/3000]: 100%|█████████████████████████████████████████████████████| 9/9 [00:00<00:00, 176.22it/s, loss=1.49]\n"
          ]
        },
        {
          "output_type": "stream",
          "name": "stdout",
          "text": [
            "Epoch [1301/3000]: Train loss: 1.3095, Valid loss: 1.5772\n"
          ]
        },
        {
          "output_type": "stream",
          "name": "stderr",
          "text": [
            "Epoch [1302/3000]: 100%|████████████████████████████████████████████████████| 9/9 [00:00<00:00, 194.85it/s, loss=0.986]\n"
          ]
        },
        {
          "output_type": "stream",
          "name": "stdout",
          "text": [
            "Epoch [1302/3000]: Train loss: 1.2798, Valid loss: 1.3581\n"
          ]
        },
        {
          "output_type": "stream",
          "name": "stderr",
          "text": [
            "Epoch [1303/3000]: 100%|█████████████████████████████████████████████████████| 9/9 [00:00<00:00, 189.18it/s, loss=1.22]\n"
          ]
        },
        {
          "output_type": "stream",
          "name": "stdout",
          "text": [
            "Epoch [1303/3000]: Train loss: 1.2875, Valid loss: 1.6918\n"
          ]
        },
        {
          "output_type": "stream",
          "name": "stderr",
          "text": [
            "Epoch [1304/3000]: 100%|██████████████████████████████████████████████████████| 9/9 [00:00<00:00, 193.35it/s, loss=1.3]\n"
          ]
        },
        {
          "output_type": "stream",
          "name": "stdout",
          "text": [
            "Epoch [1304/3000]: Train loss: 1.2890, Valid loss: 1.3050\n"
          ]
        },
        {
          "output_type": "stream",
          "name": "stderr",
          "text": [
            "Epoch [1305/3000]: 100%|████████████████████████████████████████████████████| 9/9 [00:00<00:00, 191.28it/s, loss=0.941]\n"
          ]
        },
        {
          "output_type": "stream",
          "name": "stdout",
          "text": [
            "Epoch [1305/3000]: Train loss: 1.2730, Valid loss: 1.2762\n"
          ]
        },
        {
          "output_type": "stream",
          "name": "stderr",
          "text": [
            "Epoch [1306/3000]: 100%|█████████████████████████████████████████████████████| 9/9 [00:00<00:00, 176.24it/s, loss=1.28]\n"
          ]
        },
        {
          "output_type": "stream",
          "name": "stdout",
          "text": [
            "Epoch [1306/3000]: Train loss: 1.2878, Valid loss: 1.7361\n"
          ]
        },
        {
          "output_type": "stream",
          "name": "stderr",
          "text": [
            "Epoch [1307/3000]: 100%|█████████████████████████████████████████████████████| 9/9 [00:00<00:00, 181.67it/s, loss=1.37]\n"
          ]
        },
        {
          "output_type": "stream",
          "name": "stdout",
          "text": [
            "Epoch [1307/3000]: Train loss: 1.2949, Valid loss: 1.6008\n"
          ]
        },
        {
          "output_type": "stream",
          "name": "stderr",
          "text": [
            "Epoch [1308/3000]: 100%|█████████████████████████████████████████████████████| 9/9 [00:00<00:00, 214.01it/s, loss=1.49]\n"
          ]
        },
        {
          "output_type": "stream",
          "name": "stdout",
          "text": [
            "Epoch [1308/3000]: Train loss: 1.3004, Valid loss: 1.7744\n"
          ]
        },
        {
          "output_type": "stream",
          "name": "stderr",
          "text": [
            "Epoch [1309/3000]: 100%|████████████████████████████████████████████████████| 9/9 [00:00<00:00, 197.63it/s, loss=0.948]\n"
          ]
        },
        {
          "output_type": "stream",
          "name": "stdout",
          "text": [
            "Epoch [1309/3000]: Train loss: 1.2616, Valid loss: 1.5194\n"
          ]
        },
        {
          "output_type": "stream",
          "name": "stderr",
          "text": [
            "Epoch [1310/3000]: 100%|█████████████████████████████████████████████████████| 9/9 [00:00<00:00, 204.35it/s, loss=1.07]\n"
          ]
        },
        {
          "output_type": "stream",
          "name": "stdout",
          "text": [
            "Epoch [1310/3000]: Train loss: 1.2693, Valid loss: 2.1301\n"
          ]
        },
        {
          "output_type": "stream",
          "name": "stderr",
          "text": [
            "Epoch [1311/3000]: 100%|█████████████████████████████████████████████████████| 9/9 [00:00<00:00, 199.82it/s, loss=1.64]\n"
          ]
        },
        {
          "output_type": "stream",
          "name": "stdout",
          "text": [
            "Epoch [1311/3000]: Train loss: 1.3293, Valid loss: 1.3737\n"
          ]
        },
        {
          "output_type": "stream",
          "name": "stderr",
          "text": [
            "Epoch [1312/3000]: 100%|█████████████████████████████████████████████████████| 9/9 [00:00<00:00, 191.56it/s, loss=1.36]\n"
          ]
        },
        {
          "output_type": "stream",
          "name": "stdout",
          "text": [
            "Epoch [1312/3000]: Train loss: 1.3017, Valid loss: 1.5061\n"
          ]
        },
        {
          "output_type": "stream",
          "name": "stderr",
          "text": [
            "Epoch [1313/3000]: 100%|██████████████████████████████████████████████████████| 9/9 [00:00<00:00, 191.42it/s, loss=1.1]\n"
          ]
        },
        {
          "output_type": "stream",
          "name": "stdout",
          "text": [
            "Epoch [1313/3000]: Train loss: 1.2712, Valid loss: 1.7415\n"
          ]
        },
        {
          "output_type": "stream",
          "name": "stderr",
          "text": [
            "Epoch [1314/3000]: 100%|██████████████████████████████████████████████████████| 9/9 [00:00<00:00, 185.01it/s, loss=1.2]\n"
          ]
        },
        {
          "output_type": "stream",
          "name": "stdout",
          "text": [
            "Epoch [1314/3000]: Train loss: 1.2798, Valid loss: 1.5759\n"
          ]
        },
        {
          "output_type": "stream",
          "name": "stderr",
          "text": [
            "Epoch [1315/3000]: 100%|████████████████████████████████████████████████████| 9/9 [00:00<00:00, 181.64it/s, loss=0.859]\n"
          ]
        },
        {
          "output_type": "stream",
          "name": "stdout",
          "text": [
            "Epoch [1315/3000]: Train loss: 1.2631, Valid loss: 1.6849\n"
          ]
        },
        {
          "output_type": "stream",
          "name": "stderr",
          "text": [
            "Epoch [1316/3000]: 100%|█████████████████████████████████████████████████████| 9/9 [00:00<00:00, 178.08it/s, loss=1.09]\n"
          ]
        },
        {
          "output_type": "stream",
          "name": "stdout",
          "text": [
            "Epoch [1316/3000]: Train loss: 1.2778, Valid loss: 1.5617\n"
          ]
        },
        {
          "output_type": "stream",
          "name": "stderr",
          "text": [
            "Epoch [1317/3000]: 100%|█████████████████████████████████████████████████████| 9/9 [00:00<00:00, 190.77it/s, loss=1.17]\n"
          ]
        },
        {
          "output_type": "stream",
          "name": "stdout",
          "text": [
            "Epoch [1317/3000]: Train loss: 1.2809, Valid loss: 1.4801\n"
          ]
        },
        {
          "output_type": "stream",
          "name": "stderr",
          "text": [
            "Epoch [1318/3000]: 100%|█████████████████████████████████████████████████████| 9/9 [00:00<00:00, 179.82it/s, loss=1.61]\n"
          ]
        },
        {
          "output_type": "stream",
          "name": "stdout",
          "text": [
            "Epoch [1318/3000]: Train loss: 1.3074, Valid loss: 1.5151\n"
          ]
        },
        {
          "output_type": "stream",
          "name": "stderr",
          "text": [
            "Epoch [1319/3000]: 100%|█████████████████████████████████████████████████████| 9/9 [00:00<00:00, 188.54it/s, loss=1.42]\n"
          ]
        },
        {
          "output_type": "stream",
          "name": "stdout",
          "text": [
            "Epoch [1319/3000]: Train loss: 1.3008, Valid loss: 1.6214\n"
          ]
        },
        {
          "output_type": "stream",
          "name": "stderr",
          "text": [
            "Epoch [1320/3000]: 100%|█████████████████████████████████████████████████████| 9/9 [00:00<00:00, 192.99it/s, loss=1.12]\n"
          ]
        },
        {
          "output_type": "stream",
          "name": "stdout",
          "text": [
            "Epoch [1320/3000]: Train loss: 1.2827, Valid loss: 1.7594\n"
          ]
        },
        {
          "output_type": "stream",
          "name": "stderr",
          "text": [
            "Epoch [1321/3000]: 100%|██████████████████████████████████████████████████████| 9/9 [00:00<00:00, 172.89it/s, loss=1.4]\n"
          ]
        },
        {
          "output_type": "stream",
          "name": "stdout",
          "text": [
            "Epoch [1321/3000]: Train loss: 1.2933, Valid loss: 1.5336\n"
          ]
        },
        {
          "output_type": "stream",
          "name": "stderr",
          "text": [
            "Epoch [1322/3000]: 100%|█████████████████████████████████████████████████████| 9/9 [00:00<00:00, 189.33it/s, loss=1.41]\n"
          ]
        },
        {
          "output_type": "stream",
          "name": "stdout",
          "text": [
            "Epoch [1322/3000]: Train loss: 1.2949, Valid loss: 1.3222\n"
          ]
        },
        {
          "output_type": "stream",
          "name": "stderr",
          "text": [
            "Epoch [1323/3000]: 100%|█████████████████████████████████████████████████████| 9/9 [00:00<00:00, 191.41it/s, loss=1.42]\n"
          ]
        },
        {
          "output_type": "stream",
          "name": "stdout",
          "text": [
            "Epoch [1323/3000]: Train loss: 1.2862, Valid loss: 1.4051\n"
          ]
        },
        {
          "output_type": "stream",
          "name": "stderr",
          "text": [
            "Epoch [1324/3000]: 100%|█████████████████████████████████████████████████████| 9/9 [00:00<00:00, 177.94it/s, loss=1.49]\n"
          ]
        },
        {
          "output_type": "stream",
          "name": "stdout",
          "text": [
            "Epoch [1324/3000]: Train loss: 1.2953, Valid loss: 1.6954\n"
          ]
        },
        {
          "output_type": "stream",
          "name": "stderr",
          "text": [
            "Epoch [1325/3000]: 100%|█████████████████████████████████████████████████████| 9/9 [00:00<00:00, 197.66it/s, loss=1.24]\n"
          ]
        },
        {
          "output_type": "stream",
          "name": "stdout",
          "text": [
            "Epoch [1325/3000]: Train loss: 1.2875, Valid loss: 1.6227\n"
          ]
        },
        {
          "output_type": "stream",
          "name": "stderr",
          "text": [
            "Epoch [1326/3000]: 100%|█████████████████████████████████████████████████████| 9/9 [00:00<00:00, 194.17it/s, loss=0.98]\n"
          ]
        },
        {
          "output_type": "stream",
          "name": "stdout",
          "text": [
            "Epoch [1326/3000]: Train loss: 1.2672, Valid loss: 1.3531\n"
          ]
        },
        {
          "output_type": "stream",
          "name": "stderr",
          "text": [
            "Epoch [1327/3000]: 100%|██████████████████████████████████████████████████████| 9/9 [00:00<00:00, 202.03it/s, loss=1.1]\n"
          ]
        },
        {
          "output_type": "stream",
          "name": "stdout",
          "text": [
            "Epoch [1327/3000]: Train loss: 1.2822, Valid loss: 1.6388\n"
          ]
        },
        {
          "output_type": "stream",
          "name": "stderr",
          "text": [
            "Epoch [1328/3000]: 100%|██████████████████████████████████████████████████████| 9/9 [00:00<00:00, 190.54it/s, loss=1.2]\n"
          ]
        },
        {
          "output_type": "stream",
          "name": "stdout",
          "text": [
            "Epoch [1328/3000]: Train loss: 1.2785, Valid loss: 1.7075\n"
          ]
        },
        {
          "output_type": "stream",
          "name": "stderr",
          "text": [
            "Epoch [1329/3000]: 100%|█████████████████████████████████████████████████████| 9/9 [00:00<00:00, 211.55it/s, loss=1.17]\n"
          ]
        },
        {
          "output_type": "stream",
          "name": "stdout",
          "text": [
            "Epoch [1329/3000]: Train loss: 1.2744, Valid loss: 1.4911\n"
          ]
        },
        {
          "output_type": "stream",
          "name": "stderr",
          "text": [
            "Epoch [1330/3000]: 100%|█████████████████████████████████████████████████████| 9/9 [00:00<00:00, 194.90it/s, loss=1.85]\n"
          ]
        },
        {
          "output_type": "stream",
          "name": "stdout",
          "text": [
            "Epoch [1330/3000]: Train loss: 1.3330, Valid loss: 1.3446\n"
          ]
        },
        {
          "output_type": "stream",
          "name": "stderr",
          "text": [
            "Epoch [1331/3000]: 100%|████████████████████████████████████████████████████| 9/9 [00:00<00:00, 202.09it/s, loss=0.896]\n"
          ]
        },
        {
          "output_type": "stream",
          "name": "stdout",
          "text": [
            "Epoch [1331/3000]: Train loss: 1.2688, Valid loss: 1.5469\n"
          ]
        },
        {
          "output_type": "stream",
          "name": "stderr",
          "text": [
            "Epoch [1332/3000]: 100%|█████████████████████████████████████████████████████| 9/9 [00:00<00:00, 178.77it/s, loss=1.21]\n"
          ]
        },
        {
          "output_type": "stream",
          "name": "stdout",
          "text": [
            "Epoch [1332/3000]: Train loss: 1.2726, Valid loss: 1.3537\n"
          ]
        },
        {
          "output_type": "stream",
          "name": "stderr",
          "text": [
            "Epoch [1333/3000]: 100%|█████████████████████████████████████████████████████| 9/9 [00:00<00:00, 199.63it/s, loss=1.87]\n"
          ]
        },
        {
          "output_type": "stream",
          "name": "stdout",
          "text": [
            "Epoch [1333/3000]: Train loss: 1.3176, Valid loss: 1.3593\n"
          ]
        },
        {
          "output_type": "stream",
          "name": "stderr",
          "text": [
            "Epoch [1334/3000]: 100%|█████████████████████████████████████████████████████| 9/9 [00:00<00:00, 181.65it/s, loss=1.42]\n"
          ]
        },
        {
          "output_type": "stream",
          "name": "stdout",
          "text": [
            "Epoch [1334/3000]: Train loss: 1.2955, Valid loss: 1.6418\n"
          ]
        },
        {
          "output_type": "stream",
          "name": "stderr",
          "text": [
            "Epoch [1335/3000]: 100%|█████████████████████████████████████████████████████| 9/9 [00:00<00:00, 192.13it/s, loss=1.03]\n"
          ]
        },
        {
          "output_type": "stream",
          "name": "stdout",
          "text": [
            "Epoch [1335/3000]: Train loss: 1.2779, Valid loss: 1.5951\n"
          ]
        },
        {
          "output_type": "stream",
          "name": "stderr",
          "text": [
            "Epoch [1336/3000]: 100%|██████████████████████████████████████████████████████| 9/9 [00:00<00:00, 178.04it/s, loss=1.1]\n"
          ]
        },
        {
          "output_type": "stream",
          "name": "stdout",
          "text": [
            "Epoch [1336/3000]: Train loss: 1.2807, Valid loss: 1.2985\n"
          ]
        },
        {
          "output_type": "stream",
          "name": "stderr",
          "text": [
            "Epoch [1337/3000]: 100%|█████████████████████████████████████████████████████| 9/9 [00:00<00:00, 191.17it/s, loss=1.69]\n"
          ]
        },
        {
          "output_type": "stream",
          "name": "stdout",
          "text": [
            "Epoch [1337/3000]: Train loss: 1.3198, Valid loss: 1.7613\n"
          ]
        },
        {
          "output_type": "stream",
          "name": "stderr",
          "text": [
            "Epoch [1338/3000]: 100%|█████████████████████████████████████████████████████| 9/9 [00:00<00:00, 197.04it/s, loss=1.67]\n"
          ]
        },
        {
          "output_type": "stream",
          "name": "stdout",
          "text": [
            "Epoch [1338/3000]: Train loss: 1.3399, Valid loss: 1.4039\n"
          ]
        },
        {
          "output_type": "stream",
          "name": "stderr",
          "text": [
            "Epoch [1339/3000]: 100%|█████████████████████████████████████████████████████| 9/9 [00:00<00:00, 187.13it/s, loss=1.14]\n"
          ]
        },
        {
          "output_type": "stream",
          "name": "stdout",
          "text": [
            "Epoch [1339/3000]: Train loss: 1.2730, Valid loss: 1.6474\n"
          ]
        },
        {
          "output_type": "stream",
          "name": "stderr",
          "text": [
            "Epoch [1340/3000]: 100%|█████████████████████████████████████████████████████| 9/9 [00:00<00:00, 190.39it/s, loss=1.17]\n"
          ]
        },
        {
          "output_type": "stream",
          "name": "stdout",
          "text": [
            "Epoch [1340/3000]: Train loss: 1.2784, Valid loss: 1.6276\n"
          ]
        },
        {
          "output_type": "stream",
          "name": "stderr",
          "text": [
            "Epoch [1341/3000]: 100%|█████████████████████████████████████████████████████| 9/9 [00:00<00:00, 174.59it/s, loss=1.94]\n"
          ]
        },
        {
          "output_type": "stream",
          "name": "stdout",
          "text": [
            "Epoch [1341/3000]: Train loss: 1.3273, Valid loss: 1.3082\n"
          ]
        },
        {
          "output_type": "stream",
          "name": "stderr",
          "text": [
            "Epoch [1342/3000]: 100%|█████████████████████████████████████████████████████| 9/9 [00:00<00:00, 189.29it/s, loss=1.53]\n"
          ]
        },
        {
          "output_type": "stream",
          "name": "stdout",
          "text": [
            "Epoch [1342/3000]: Train loss: 1.2958, Valid loss: 1.3699\n"
          ]
        },
        {
          "output_type": "stream",
          "name": "stderr",
          "text": [
            "Epoch [1343/3000]: 100%|█████████████████████████████████████████████████████| 9/9 [00:00<00:00, 202.05it/s, loss=1.26]\n"
          ]
        },
        {
          "output_type": "stream",
          "name": "stdout",
          "text": [
            "Epoch [1343/3000]: Train loss: 1.2777, Valid loss: 1.7396\n"
          ]
        },
        {
          "output_type": "stream",
          "name": "stderr",
          "text": [
            "Epoch [1344/3000]: 100%|█████████████████████████████████████████████████████| 9/9 [00:00<00:00, 193.27it/s, loss=1.62]\n"
          ]
        },
        {
          "output_type": "stream",
          "name": "stdout",
          "text": [
            "Epoch [1344/3000]: Train loss: 1.3111, Valid loss: 1.4641\n"
          ]
        },
        {
          "output_type": "stream",
          "name": "stderr",
          "text": [
            "Epoch [1345/3000]: 100%|█████████████████████████████████████████████████████| 9/9 [00:00<00:00, 191.27it/s, loss=1.56]\n"
          ]
        },
        {
          "output_type": "stream",
          "name": "stdout",
          "text": [
            "Epoch [1345/3000]: Train loss: 1.3051, Valid loss: 1.5752\n"
          ]
        },
        {
          "output_type": "stream",
          "name": "stderr",
          "text": [
            "Epoch [1346/3000]: 100%|████████████████████████████████████████████████████| 9/9 [00:00<00:00, 216.63it/s, loss=0.781]\n"
          ]
        },
        {
          "output_type": "stream",
          "name": "stdout",
          "text": [
            "Epoch [1346/3000]: Train loss: 1.2496, Valid loss: 1.5270\n"
          ]
        },
        {
          "output_type": "stream",
          "name": "stderr",
          "text": [
            "Epoch [1347/3000]: 100%|█████████████████████████████████████████████████████| 9/9 [00:00<00:00, 195.43it/s, loss=1.48]\n"
          ]
        },
        {
          "output_type": "stream",
          "name": "stdout",
          "text": [
            "Epoch [1347/3000]: Train loss: 1.2895, Valid loss: 1.2425\n"
          ]
        },
        {
          "output_type": "stream",
          "name": "stderr",
          "text": [
            "Epoch [1348/3000]: 100%|█████████████████████████████████████████████████████| 9/9 [00:00<00:00, 199.32it/s, loss=1.13]\n"
          ]
        },
        {
          "output_type": "stream",
          "name": "stdout",
          "text": [
            "Epoch [1348/3000]: Train loss: 1.2653, Valid loss: 1.5017\n"
          ]
        },
        {
          "output_type": "stream",
          "name": "stderr",
          "text": [
            "Epoch [1349/3000]: 100%|█████████████████████████████████████████████████████| 9/9 [00:00<00:00, 195.52it/s, loss=1.16]\n"
          ]
        },
        {
          "output_type": "stream",
          "name": "stdout",
          "text": [
            "Epoch [1349/3000]: Train loss: 1.2755, Valid loss: 1.2946\n"
          ]
        },
        {
          "output_type": "stream",
          "name": "stderr",
          "text": [
            "Epoch [1350/3000]: 100%|█████████████████████████████████████████████████████| 9/9 [00:00<00:00, 202.04it/s, loss=1.13]\n"
          ]
        },
        {
          "output_type": "stream",
          "name": "stdout",
          "text": [
            "Epoch [1350/3000]: Train loss: 1.2695, Valid loss: 1.3141\n"
          ]
        },
        {
          "output_type": "stream",
          "name": "stderr",
          "text": [
            "Epoch [1351/3000]: 100%|████████████████████████████████████████████████████| 9/9 [00:00<00:00, 204.28it/s, loss=0.789]\n"
          ]
        },
        {
          "output_type": "stream",
          "name": "stdout",
          "text": [
            "Epoch [1351/3000]: Train loss: 1.2648, Valid loss: 1.3568\n"
          ]
        },
        {
          "output_type": "stream",
          "name": "stderr",
          "text": [
            "Epoch [1352/3000]: 100%|██████████████████████████████████████████████████████| 9/9 [00:00<00:00, 197.62it/s, loss=1.3]\n"
          ]
        },
        {
          "output_type": "stream",
          "name": "stdout",
          "text": [
            "Epoch [1352/3000]: Train loss: 1.2931, Valid loss: 1.6747\n"
          ]
        },
        {
          "output_type": "stream",
          "name": "stderr",
          "text": [
            "Epoch [1353/3000]: 100%|█████████████████████████████████████████████████████| 9/9 [00:00<00:00, 199.41it/s, loss=1.11]\n"
          ]
        },
        {
          "output_type": "stream",
          "name": "stdout",
          "text": [
            "Epoch [1353/3000]: Train loss: 1.2825, Valid loss: 1.3708\n"
          ]
        },
        {
          "output_type": "stream",
          "name": "stderr",
          "text": [
            "Epoch [1354/3000]: 100%|███████████████████████████████████████████████████████| 9/9 [00:00<00:00, 96.62it/s, loss=1.1]"
          ]
        },
        {
          "output_type": "stream",
          "name": "stdout",
          "text": [
            "Epoch [1354/3000]: Train loss: 1.2657, Valid loss: 1.5906"
          ]
        },
        {
          "output_type": "stream",
          "name": "stderr",
          "text": [
            "\n"
          ]
        },
        {
          "output_type": "stream",
          "name": "stdout",
          "text": [
            "\n"
          ]
        },
        {
          "output_type": "stream",
          "name": "stderr",
          "text": [
            "Epoch [1355/3000]: 100%|█████████████████████████████████████████████████████| 9/9 [00:00<00:00, 165.93it/s, loss=1.18]\n"
          ]
        },
        {
          "output_type": "stream",
          "name": "stdout",
          "text": [
            "Epoch [1355/3000]: Train loss: 1.2917, Valid loss: 1.5111\n"
          ]
        },
        {
          "output_type": "stream",
          "name": "stderr",
          "text": [
            "Epoch [1356/3000]: 100%|█████████████████████████████████████████████████████| 9/9 [00:00<00:00, 176.30it/s, loss=1.08]\n"
          ]
        },
        {
          "output_type": "stream",
          "name": "stdout",
          "text": [
            "Epoch [1356/3000]: Train loss: 1.2819, Valid loss: 1.9386\n"
          ]
        },
        {
          "output_type": "stream",
          "name": "stderr",
          "text": [
            "Epoch [1357/3000]: 100%|█████████████████████████████████████████████████████| 9/9 [00:00<00:00, 184.73it/s, loss=1.37]\n"
          ]
        },
        {
          "output_type": "stream",
          "name": "stdout",
          "text": [
            "Epoch [1357/3000]: Train loss: 1.2869, Valid loss: 1.3952\n"
          ]
        },
        {
          "output_type": "stream",
          "name": "stderr",
          "text": [
            "Epoch [1358/3000]: 100%|█████████████████████████████████████████████████████| 9/9 [00:00<00:00, 174.53it/s, loss=1.27]\n"
          ]
        },
        {
          "output_type": "stream",
          "name": "stdout",
          "text": [
            "Epoch [1358/3000]: Train loss: 1.2755, Valid loss: 1.3150\n"
          ]
        },
        {
          "output_type": "stream",
          "name": "stderr",
          "text": [
            "Epoch [1359/3000]: 100%|█████████████████████████████████████████████████████| 9/9 [00:00<00:00, 164.95it/s, loss=1.74]\n"
          ]
        },
        {
          "output_type": "stream",
          "name": "stdout",
          "text": [
            "Epoch [1359/3000]: Train loss: 1.3086, Valid loss: 1.4415\n"
          ]
        },
        {
          "output_type": "stream",
          "name": "stderr",
          "text": [
            "Epoch [1360/3000]: 100%|█████████████████████████████████████████████████████| 9/9 [00:00<00:00, 179.78it/s, loss=1.38]\n"
          ]
        },
        {
          "output_type": "stream",
          "name": "stdout",
          "text": [
            "Epoch [1360/3000]: Train loss: 1.2884, Valid loss: 1.4698\n"
          ]
        },
        {
          "output_type": "stream",
          "name": "stderr",
          "text": [
            "Epoch [1361/3000]: 100%|█████████████████████████████████████████████████████| 9/9 [00:00<00:00, 185.38it/s, loss=1.29]\n"
          ]
        },
        {
          "output_type": "stream",
          "name": "stdout",
          "text": [
            "Epoch [1361/3000]: Train loss: 1.3236, Valid loss: 1.5733\n"
          ]
        },
        {
          "output_type": "stream",
          "name": "stderr",
          "text": [
            "Epoch [1362/3000]: 100%|█████████████████████████████████████████████████████| 9/9 [00:00<00:00, 181.94it/s, loss=1.21]\n"
          ]
        },
        {
          "output_type": "stream",
          "name": "stdout",
          "text": [
            "Epoch [1362/3000]: Train loss: 1.2729, Valid loss: 1.6566\n"
          ]
        },
        {
          "output_type": "stream",
          "name": "stderr",
          "text": [
            "Epoch [1363/3000]: 100%|█████████████████████████████████████████████████████| 9/9 [00:00<00:00, 178.07it/s, loss=1.08]"
          ]
        },
        {
          "output_type": "stream",
          "name": "stdout",
          "text": [
            "Epoch [1363/3000]: Train loss: 1.2639, Valid loss: 1.4636"
          ]
        },
        {
          "output_type": "stream",
          "name": "stderr",
          "text": [
            "\n"
          ]
        },
        {
          "output_type": "stream",
          "name": "stdout",
          "text": [
            "\n"
          ]
        },
        {
          "output_type": "stream",
          "name": "stderr",
          "text": [
            "Epoch [1364/3000]: 100%|█████████████████████████████████████████████████████| 9/9 [00:00<00:00, 179.71it/s, loss=1.51]\n"
          ]
        },
        {
          "output_type": "stream",
          "name": "stdout",
          "text": [
            "Epoch [1364/3000]: Train loss: 1.2889, Valid loss: 1.8902\n"
          ]
        },
        {
          "output_type": "stream",
          "name": "stderr",
          "text": [
            "Epoch [1365/3000]: 100%|█████████████████████████████████████████████████████| 9/9 [00:00<00:00, 185.05it/s, loss=1.03]\n"
          ]
        },
        {
          "output_type": "stream",
          "name": "stdout",
          "text": [
            "Epoch [1365/3000]: Train loss: 1.2669, Valid loss: 1.2905\n"
          ]
        },
        {
          "output_type": "stream",
          "name": "stderr",
          "text": [
            "Epoch [1366/3000]: 100%|█████████████████████████████████████████████████████| 9/9 [00:00<00:00, 181.44it/s, loss=1.52]\n"
          ]
        },
        {
          "output_type": "stream",
          "name": "stdout",
          "text": [
            "Epoch [1366/3000]: Train loss: 1.2887, Valid loss: 1.2722\n"
          ]
        },
        {
          "output_type": "stream",
          "name": "stderr",
          "text": [
            "Epoch [1367/3000]: 100%|█████████████████████████████████████████████████████| 9/9 [00:00<00:00, 193.22it/s, loss=1.65]\n"
          ]
        },
        {
          "output_type": "stream",
          "name": "stdout",
          "text": [
            "Epoch [1367/3000]: Train loss: 1.3083, Valid loss: 1.2172\n"
          ]
        },
        {
          "output_type": "stream",
          "name": "stderr",
          "text": [
            "Epoch [1368/3000]: 100%|█████████████████████████████████████████████████████| 9/9 [00:00<00:00, 195.54it/s, loss=1.09]\n"
          ]
        },
        {
          "output_type": "stream",
          "name": "stdout",
          "text": [
            "Epoch [1368/3000]: Train loss: 1.2596, Valid loss: 1.3737\n"
          ]
        },
        {
          "output_type": "stream",
          "name": "stderr",
          "text": [
            "Epoch [1369/3000]: 100%|████████████████████████████████████████████████████| 9/9 [00:00<00:00, 201.58it/s, loss=0.796]\n"
          ]
        },
        {
          "output_type": "stream",
          "name": "stdout",
          "text": [
            "Epoch [1369/3000]: Train loss: 1.2495, Valid loss: 1.1209\n",
            "Saving model with loss 1.121...\n"
          ]
        },
        {
          "output_type": "stream",
          "name": "stderr",
          "text": [
            "Epoch [1370/3000]: 100%|█████████████████████████████████████████████████████| 9/9 [00:00<00:00, 204.26it/s, loss=1.14]\n"
          ]
        },
        {
          "output_type": "stream",
          "name": "stdout",
          "text": [
            "Epoch [1370/3000]: Train loss: 1.2603, Valid loss: 1.4345\n"
          ]
        },
        {
          "output_type": "stream",
          "name": "stderr",
          "text": [
            "Epoch [1371/3000]: 100%|█████████████████████████████████████████████████████| 9/9 [00:00<00:00, 170.29it/s, loss=1.15]\n"
          ]
        },
        {
          "output_type": "stream",
          "name": "stdout",
          "text": [
            "Epoch [1371/3000]: Train loss: 1.2614, Valid loss: 1.2970\n"
          ]
        },
        {
          "output_type": "stream",
          "name": "stderr",
          "text": [
            "Epoch [1372/3000]: 100%|████████████████████████████████████████████████████| 9/9 [00:00<00:00, 172.93it/s, loss=0.688]\n"
          ]
        },
        {
          "output_type": "stream",
          "name": "stdout",
          "text": [
            "Epoch [1372/3000]: Train loss: 1.2315, Valid loss: 1.5196\n"
          ]
        },
        {
          "output_type": "stream",
          "name": "stderr",
          "text": [
            "Epoch [1373/3000]: 100%|██████████████████████████████████████████████████████| 9/9 [00:00<00:00, 179.84it/s, loss=1.3]\n"
          ]
        },
        {
          "output_type": "stream",
          "name": "stdout",
          "text": [
            "Epoch [1373/3000]: Train loss: 1.2685, Valid loss: 1.3148\n"
          ]
        },
        {
          "output_type": "stream",
          "name": "stderr",
          "text": [
            "Epoch [1374/3000]: 100%|█████████████████████████████████████████████████████| 9/9 [00:00<00:00, 195.39it/s, loss=1.32]\n"
          ]
        },
        {
          "output_type": "stream",
          "name": "stdout",
          "text": [
            "Epoch [1374/3000]: Train loss: 1.3047, Valid loss: 1.5453\n"
          ]
        },
        {
          "output_type": "stream",
          "name": "stderr",
          "text": [
            "Epoch [1375/3000]: 100%|█████████████████████████████████████████████████████| 9/9 [00:00<00:00, 187.38it/s, loss=1.56]\n"
          ]
        },
        {
          "output_type": "stream",
          "name": "stdout",
          "text": [
            "Epoch [1375/3000]: Train loss: 1.3017, Valid loss: 1.3097\n"
          ]
        },
        {
          "output_type": "stream",
          "name": "stderr",
          "text": [
            "Epoch [1376/3000]: 100%|█████████████████████████████████████████████████████| 9/9 [00:00<00:00, 183.52it/s, loss=1.15]\n"
          ]
        },
        {
          "output_type": "stream",
          "name": "stdout",
          "text": [
            "Epoch [1376/3000]: Train loss: 1.2735, Valid loss: 1.5297\n"
          ]
        },
        {
          "output_type": "stream",
          "name": "stderr",
          "text": [
            "Epoch [1377/3000]: 100%|██████████████████████████████████████████████████████| 9/9 [00:00<00:00, 168.06it/s, loss=1.2]\n"
          ]
        },
        {
          "output_type": "stream",
          "name": "stdout",
          "text": [
            "Epoch [1377/3000]: Train loss: 1.2747, Valid loss: 1.2909\n"
          ]
        },
        {
          "output_type": "stream",
          "name": "stderr",
          "text": [
            "Epoch [1378/3000]: 100%|████████████████████████████████████████████████████| 9/9 [00:00<00:00, 172.70it/s, loss=0.968]\n"
          ]
        },
        {
          "output_type": "stream",
          "name": "stdout",
          "text": [
            "Epoch [1378/3000]: Train loss: 1.2600, Valid loss: 1.3867\n"
          ]
        },
        {
          "output_type": "stream",
          "name": "stderr",
          "text": [
            "Epoch [1379/3000]: 100%|█████████████████████████████████████████████████████| 9/9 [00:00<00:00, 178.09it/s, loss=1.91]\n"
          ]
        },
        {
          "output_type": "stream",
          "name": "stdout",
          "text": [
            "Epoch [1379/3000]: Train loss: 1.3177, Valid loss: 1.5698\n"
          ]
        },
        {
          "output_type": "stream",
          "name": "stderr",
          "text": [
            "Epoch [1380/3000]: 100%|█████████████████████████████████████████████████████| 9/9 [00:00<00:00, 181.71it/s, loss=1.24]\n"
          ]
        },
        {
          "output_type": "stream",
          "name": "stdout",
          "text": [
            "Epoch [1380/3000]: Train loss: 1.3001, Valid loss: 2.1612\n"
          ]
        },
        {
          "output_type": "stream",
          "name": "stderr",
          "text": [
            "Epoch [1381/3000]: 100%|█████████████████████████████████████████████████████| 9/9 [00:00<00:00, 185.37it/s, loss=1.11]\n"
          ]
        },
        {
          "output_type": "stream",
          "name": "stdout",
          "text": [
            "Epoch [1381/3000]: Train loss: 1.2809, Valid loss: 1.4413\n"
          ]
        },
        {
          "output_type": "stream",
          "name": "stderr",
          "text": [
            "Epoch [1382/3000]: 100%|█████████████████████████████████████████████████████| 9/9 [00:00<00:00, 183.50it/s, loss=1.19]\n"
          ]
        },
        {
          "output_type": "stream",
          "name": "stdout",
          "text": [
            "Epoch [1382/3000]: Train loss: 1.2585, Valid loss: 1.3541\n"
          ]
        },
        {
          "output_type": "stream",
          "name": "stderr",
          "text": [
            "Epoch [1383/3000]: 100%|█████████████████████████████████████████████████████| 9/9 [00:00<00:00, 179.81it/s, loss=1.53]\n"
          ]
        },
        {
          "output_type": "stream",
          "name": "stdout",
          "text": [
            "Epoch [1383/3000]: Train loss: 1.2873, Valid loss: 1.2534\n"
          ]
        },
        {
          "output_type": "stream",
          "name": "stderr",
          "text": [
            "Epoch [1384/3000]: 100%|█████████████████████████████████████████████████████| 9/9 [00:00<00:00, 187.18it/s, loss=1.66]\n"
          ]
        },
        {
          "output_type": "stream",
          "name": "stdout",
          "text": [
            "Epoch [1384/3000]: Train loss: 1.3256, Valid loss: 1.6373\n"
          ]
        },
        {
          "output_type": "stream",
          "name": "stderr",
          "text": [
            "Epoch [1385/3000]: 100%|█████████████████████████████████████████████████████| 9/9 [00:00<00:00, 183.59it/s, loss=1.49]\n"
          ]
        },
        {
          "output_type": "stream",
          "name": "stdout",
          "text": [
            "Epoch [1385/3000]: Train loss: 1.3033, Valid loss: 1.3177\n"
          ]
        },
        {
          "output_type": "stream",
          "name": "stderr",
          "text": [
            "Epoch [1386/3000]: 100%|█████████████████████████████████████████████████████| 9/9 [00:00<00:00, 181.32it/s, loss=1.18]\n"
          ]
        },
        {
          "output_type": "stream",
          "name": "stdout",
          "text": [
            "Epoch [1386/3000]: Train loss: 1.2594, Valid loss: 1.3829\n"
          ]
        },
        {
          "output_type": "stream",
          "name": "stderr",
          "text": [
            "Epoch [1387/3000]: 100%|█████████████████████████████████████████████████████| 9/9 [00:00<00:00, 193.05it/s, loss=1.47]\n"
          ]
        },
        {
          "output_type": "stream",
          "name": "stdout",
          "text": [
            "Epoch [1387/3000]: Train loss: 1.3034, Valid loss: 1.3070\n"
          ]
        },
        {
          "output_type": "stream",
          "name": "stderr",
          "text": [
            "Epoch [1388/3000]: 100%|█████████████████████████████████████████████████████| 9/9 [00:00<00:00, 186.98it/s, loss=1.15]\n"
          ]
        },
        {
          "output_type": "stream",
          "name": "stdout",
          "text": [
            "Epoch [1388/3000]: Train loss: 1.2641, Valid loss: 1.3861\n"
          ]
        },
        {
          "output_type": "stream",
          "name": "stderr",
          "text": [
            "Epoch [1389/3000]: 100%|█████████████████████████████████████████████████████| 9/9 [00:00<00:00, 202.05it/s, loss=1.34]\n"
          ]
        },
        {
          "output_type": "stream",
          "name": "stdout",
          "text": [
            "Epoch [1389/3000]: Train loss: 1.2789, Valid loss: 1.2317\n"
          ]
        },
        {
          "output_type": "stream",
          "name": "stderr",
          "text": [
            "Epoch [1390/3000]: 100%|█████████████████████████████████████████████████████| 9/9 [00:00<00:00, 206.70it/s, loss=1.13]\n"
          ]
        },
        {
          "output_type": "stream",
          "name": "stdout",
          "text": [
            "Epoch [1390/3000]: Train loss: 1.2713, Valid loss: 1.5554\n"
          ]
        },
        {
          "output_type": "stream",
          "name": "stderr",
          "text": [
            "Epoch [1391/3000]: 100%|█████████████████████████████████████████████████████| 9/9 [00:00<00:00, 193.36it/s, loss=1.07]\n"
          ]
        },
        {
          "output_type": "stream",
          "name": "stdout",
          "text": [
            "Epoch [1391/3000]: Train loss: 1.2499, Valid loss: 1.4844\n"
          ]
        },
        {
          "output_type": "stream",
          "name": "stderr",
          "text": [
            "Epoch [1392/3000]: 100%|█████████████████████████████████████████████████████| 9/9 [00:00<00:00, 211.84it/s, loss=1.14]\n"
          ]
        },
        {
          "output_type": "stream",
          "name": "stdout",
          "text": [
            "Epoch [1392/3000]: Train loss: 1.2604, Valid loss: 1.5853\n"
          ]
        },
        {
          "output_type": "stream",
          "name": "stderr",
          "text": [
            "Epoch [1393/3000]: 100%|█████████████████████████████████████████████████████| 9/9 [00:00<00:00, 183.45it/s, loss=1.04]\n"
          ]
        },
        {
          "output_type": "stream",
          "name": "stdout",
          "text": [
            "Epoch [1393/3000]: Train loss: 1.2540, Valid loss: 1.4197\n"
          ]
        },
        {
          "output_type": "stream",
          "name": "stderr",
          "text": [
            "Epoch [1394/3000]: 100%|█████████████████████████████████████████████████████| 9/9 [00:00<00:00, 187.42it/s, loss=1.15]\n"
          ]
        },
        {
          "output_type": "stream",
          "name": "stdout",
          "text": [
            "Epoch [1394/3000]: Train loss: 1.2639, Valid loss: 1.3949\n"
          ]
        },
        {
          "output_type": "stream",
          "name": "stderr",
          "text": [
            "Epoch [1395/3000]: 100%|█████████████████████████████████████████████████████| 9/9 [00:00<00:00, 202.08it/s, loss=1.53]\n"
          ]
        },
        {
          "output_type": "stream",
          "name": "stdout",
          "text": [
            "Epoch [1395/3000]: Train loss: 1.2826, Valid loss: 1.3174\n"
          ]
        },
        {
          "output_type": "stream",
          "name": "stderr",
          "text": [
            "Epoch [1396/3000]: 100%|█████████████████████████████████████████████████████| 9/9 [00:00<00:00, 187.30it/s, loss=0.99]\n"
          ]
        },
        {
          "output_type": "stream",
          "name": "stdout",
          "text": [
            "Epoch [1396/3000]: Train loss: 1.2450, Valid loss: 1.2724\n"
          ]
        },
        {
          "output_type": "stream",
          "name": "stderr",
          "text": [
            "Epoch [1397/3000]: 100%|█████████████████████████████████████████████████████| 9/9 [00:00<00:00, 204.34it/s, loss=1.79]\n"
          ]
        },
        {
          "output_type": "stream",
          "name": "stdout",
          "text": [
            "Epoch [1397/3000]: Train loss: 1.3037, Valid loss: 1.4759\n"
          ]
        },
        {
          "output_type": "stream",
          "name": "stderr",
          "text": [
            "Epoch [1398/3000]: 100%|█████████████████████████████████████████████████████| 9/9 [00:00<00:00, 195.56it/s, loss=1.17]\n"
          ]
        },
        {
          "output_type": "stream",
          "name": "stdout",
          "text": [
            "Epoch [1398/3000]: Train loss: 1.2587, Valid loss: 1.5283\n"
          ]
        },
        {
          "output_type": "stream",
          "name": "stderr",
          "text": [
            "Epoch [1399/3000]: 100%|████████████████████████████████████████████████████| 9/9 [00:00<00:00, 219.22it/s, loss=0.971]\n"
          ]
        },
        {
          "output_type": "stream",
          "name": "stdout",
          "text": [
            "Epoch [1399/3000]: Train loss: 1.2444, Valid loss: 1.3755\n"
          ]
        },
        {
          "output_type": "stream",
          "name": "stderr",
          "text": [
            "Epoch [1400/3000]: 100%|█████████████████████████████████████████████████████| 9/9 [00:00<00:00, 206.72it/s, loss=1.38]\n"
          ]
        },
        {
          "output_type": "stream",
          "name": "stdout",
          "text": [
            "Epoch [1400/3000]: Train loss: 1.2800, Valid loss: 1.3012\n"
          ]
        },
        {
          "output_type": "stream",
          "name": "stderr",
          "text": [
            "Epoch [1401/3000]: 100%|█████████████████████████████████████████████████████| 9/9 [00:00<00:00, 195.42it/s, loss=1.33]\n"
          ]
        },
        {
          "output_type": "stream",
          "name": "stdout",
          "text": [
            "Epoch [1401/3000]: Train loss: 1.2751, Valid loss: 1.4385\n"
          ]
        },
        {
          "output_type": "stream",
          "name": "stderr",
          "text": [
            "Epoch [1402/3000]: 100%|█████████████████████████████████████████████████████| 9/9 [00:00<00:00, 185.75it/s, loss=1.29]\n"
          ]
        },
        {
          "output_type": "stream",
          "name": "stdout",
          "text": [
            "Epoch [1402/3000]: Train loss: 1.2744, Valid loss: 1.6488\n"
          ]
        },
        {
          "output_type": "stream",
          "name": "stderr",
          "text": [
            "Epoch [1403/3000]: 100%|█████████████████████████████████████████████████████| 9/9 [00:00<00:00, 181.05it/s, loss=1.03]\n"
          ]
        },
        {
          "output_type": "stream",
          "name": "stdout",
          "text": [
            "Epoch [1403/3000]: Train loss: 1.2556, Valid loss: 1.6161\n"
          ]
        },
        {
          "output_type": "stream",
          "name": "stderr",
          "text": [
            "Epoch [1404/3000]: 100%|████████████████████████████████████████████████████| 9/9 [00:00<00:00, 201.61it/s, loss=0.963]\n"
          ]
        },
        {
          "output_type": "stream",
          "name": "stdout",
          "text": [
            "Epoch [1404/3000]: Train loss: 1.2498, Valid loss: 1.4058\n"
          ]
        },
        {
          "output_type": "stream",
          "name": "stderr",
          "text": [
            "Epoch [1405/3000]: 100%|█████████████████████████████████████████████████████| 9/9 [00:00<00:00, 195.41it/s, loss=1.03]\n"
          ]
        },
        {
          "output_type": "stream",
          "name": "stdout",
          "text": [
            "Epoch [1405/3000]: Train loss: 1.2515, Valid loss: 1.6661\n"
          ]
        },
        {
          "output_type": "stream",
          "name": "stderr",
          "text": [
            "Epoch [1406/3000]: 100%|█████████████████████████████████████████████████████| 9/9 [00:00<00:00, 163.43it/s, loss=1.46]\n"
          ]
        },
        {
          "output_type": "stream",
          "name": "stdout",
          "text": [
            "Epoch [1406/3000]: Train loss: 1.2722, Valid loss: 1.3765\n"
          ]
        },
        {
          "output_type": "stream",
          "name": "stderr",
          "text": [
            "Epoch [1407/3000]: 100%|█████████████████████████████████████████████████████| 9/9 [00:00<00:00, 197.58it/s, loss=1.33]\n"
          ]
        },
        {
          "output_type": "stream",
          "name": "stdout",
          "text": [
            "Epoch [1407/3000]: Train loss: 1.2761, Valid loss: 1.4205\n"
          ]
        },
        {
          "output_type": "stream",
          "name": "stderr",
          "text": [
            "Epoch [1408/3000]: 100%|█████████████████████████████████████████████████████| 9/9 [00:00<00:00, 201.99it/s, loss=1.03]\n"
          ]
        },
        {
          "output_type": "stream",
          "name": "stdout",
          "text": [
            "Epoch [1408/3000]: Train loss: 1.2521, Valid loss: 1.3186\n"
          ]
        },
        {
          "output_type": "stream",
          "name": "stderr",
          "text": [
            "Epoch [1409/3000]: 100%|█████████████████████████████████████████████████████| 9/9 [00:00<00:00, 191.40it/s, loss=1.74]\n"
          ]
        },
        {
          "output_type": "stream",
          "name": "stdout",
          "text": [
            "Epoch [1409/3000]: Train loss: 1.2981, Valid loss: 1.2934\n"
          ]
        },
        {
          "output_type": "stream",
          "name": "stderr",
          "text": [
            "Epoch [1410/3000]: 100%|█████████████████████████████████████████████████████| 9/9 [00:00<00:00, 195.46it/s, loss=1.25]\n"
          ]
        },
        {
          "output_type": "stream",
          "name": "stdout",
          "text": [
            "Epoch [1410/3000]: Train loss: 1.2637, Valid loss: 1.6018\n"
          ]
        },
        {
          "output_type": "stream",
          "name": "stderr",
          "text": [
            "Epoch [1411/3000]: 100%|█████████████████████████████████████████████████████| 9/9 [00:00<00:00, 197.50it/s, loss=1.09]\n"
          ]
        },
        {
          "output_type": "stream",
          "name": "stdout",
          "text": [
            "Epoch [1411/3000]: Train loss: 1.2574, Valid loss: 1.3973\n"
          ]
        },
        {
          "output_type": "stream",
          "name": "stderr",
          "text": [
            "Epoch [1412/3000]: 100%|█████████████████████████████████████████████████████| 9/9 [00:00<00:00, 183.30it/s, loss=1.27]\n"
          ]
        },
        {
          "output_type": "stream",
          "name": "stdout",
          "text": [
            "Epoch [1412/3000]: Train loss: 1.2636, Valid loss: 1.8666\n"
          ]
        },
        {
          "output_type": "stream",
          "name": "stderr",
          "text": [
            "Epoch [1413/3000]: 100%|█████████████████████████████████████████████████████| 9/9 [00:00<00:00, 185.39it/s, loss=1.03]\n"
          ]
        },
        {
          "output_type": "stream",
          "name": "stdout",
          "text": [
            "Epoch [1413/3000]: Train loss: 1.2691, Valid loss: 1.5505\n"
          ]
        },
        {
          "output_type": "stream",
          "name": "stderr",
          "text": [
            "Epoch [1414/3000]: 100%|█████████████████████████████████████████████████████| 9/9 [00:00<00:00, 201.59it/s, loss=1.15]\n"
          ]
        },
        {
          "output_type": "stream",
          "name": "stdout",
          "text": [
            "Epoch [1414/3000]: Train loss: 1.2623, Valid loss: 1.7594\n"
          ]
        },
        {
          "output_type": "stream",
          "name": "stderr",
          "text": [
            "Epoch [1415/3000]: 100%|█████████████████████████████████████████████████████| 9/9 [00:00<00:00, 206.71it/s, loss=1.59]\n"
          ]
        },
        {
          "output_type": "stream",
          "name": "stdout",
          "text": [
            "Epoch [1415/3000]: Train loss: 1.2857, Valid loss: 1.5118\n"
          ]
        },
        {
          "output_type": "stream",
          "name": "stderr",
          "text": [
            "Epoch [1416/3000]: 100%|████████████████████████████████████████████████████| 9/9 [00:00<00:00, 197.32it/s, loss=0.876]\n"
          ]
        },
        {
          "output_type": "stream",
          "name": "stdout",
          "text": [
            "Epoch [1416/3000]: Train loss: 1.2501, Valid loss: 1.4099\n"
          ]
        },
        {
          "output_type": "stream",
          "name": "stderr",
          "text": [
            "Epoch [1417/3000]: 100%|█████████████████████████████████████████████████████| 9/9 [00:00<00:00, 199.90it/s, loss=1.28]\n"
          ]
        },
        {
          "output_type": "stream",
          "name": "stdout",
          "text": [
            "Epoch [1417/3000]: Train loss: 1.2637, Valid loss: 1.4241\n"
          ]
        },
        {
          "output_type": "stream",
          "name": "stderr",
          "text": [
            "Epoch [1418/3000]: 100%|█████████████████████████████████████████████████████| 9/9 [00:00<00:00, 196.75it/s, loss=1.09]\n"
          ]
        },
        {
          "output_type": "stream",
          "name": "stdout",
          "text": [
            "Epoch [1418/3000]: Train loss: 1.2556, Valid loss: 1.5118\n"
          ]
        },
        {
          "output_type": "stream",
          "name": "stderr",
          "text": [
            "Epoch [1419/3000]: 100%|█████████████████████████████████████████████████████| 9/9 [00:00<00:00, 202.06it/s, loss=1.51]\n"
          ]
        },
        {
          "output_type": "stream",
          "name": "stdout",
          "text": [
            "Epoch [1419/3000]: Train loss: 1.2872, Valid loss: 1.2821\n"
          ]
        },
        {
          "output_type": "stream",
          "name": "stderr",
          "text": [
            "Epoch [1420/3000]: 100%|██████████████████████████████████████████████████████| 9/9 [00:00<00:00, 185.40it/s, loss=1.7]\n"
          ]
        },
        {
          "output_type": "stream",
          "name": "stdout",
          "text": [
            "Epoch [1420/3000]: Train loss: 1.3037, Valid loss: 1.6231\n"
          ]
        },
        {
          "output_type": "stream",
          "name": "stderr",
          "text": [
            "Epoch [1421/3000]: 100%|█████████████████████████████████████████████████████| 9/9 [00:00<00:00, 195.38it/s, loss=1.24]\n"
          ]
        },
        {
          "output_type": "stream",
          "name": "stdout",
          "text": [
            "Epoch [1421/3000]: Train loss: 1.2725, Valid loss: 1.5569\n"
          ]
        },
        {
          "output_type": "stream",
          "name": "stderr",
          "text": [
            "Epoch [1422/3000]: 100%|█████████████████████████████████████████████████████| 9/9 [00:00<00:00, 199.07it/s, loss=1.82]\n"
          ]
        },
        {
          "output_type": "stream",
          "name": "stdout",
          "text": [
            "Epoch [1422/3000]: Train loss: 1.3047, Valid loss: 1.4268\n"
          ]
        },
        {
          "output_type": "stream",
          "name": "stderr",
          "text": [
            "Epoch [1423/3000]: 100%|████████████████████████████████████████████████████| 9/9 [00:00<00:00, 186.84it/s, loss=0.914]\n"
          ]
        },
        {
          "output_type": "stream",
          "name": "stdout",
          "text": [
            "Epoch [1423/3000]: Train loss: 1.2905, Valid loss: 1.4663\n"
          ]
        },
        {
          "output_type": "stream",
          "name": "stderr",
          "text": [
            "Epoch [1424/3000]: 100%|█████████████████████████████████████████████████████| 9/9 [00:00<00:00, 189.34it/s, loss=1.19]\n"
          ]
        },
        {
          "output_type": "stream",
          "name": "stdout",
          "text": [
            "Epoch [1424/3000]: Train loss: 1.2622, Valid loss: 1.4851\n"
          ]
        },
        {
          "output_type": "stream",
          "name": "stderr",
          "text": [
            "Epoch [1425/3000]: 100%|█████████████████████████████████████████████████████| 9/9 [00:00<00:00, 172.90it/s, loss=1.18]\n"
          ]
        },
        {
          "output_type": "stream",
          "name": "stdout",
          "text": [
            "Epoch [1425/3000]: Train loss: 1.2763, Valid loss: 1.3131\n"
          ]
        },
        {
          "output_type": "stream",
          "name": "stderr",
          "text": [
            "Epoch [1426/3000]: 100%|█████████████████████████████████████████████████████| 9/9 [00:00<00:00, 171.30it/s, loss=1.66]\n"
          ]
        },
        {
          "output_type": "stream",
          "name": "stdout",
          "text": [
            "Epoch [1426/3000]: Train loss: 1.3112, Valid loss: 1.2887\n"
          ]
        },
        {
          "output_type": "stream",
          "name": "stderr",
          "text": [
            "Epoch [1427/3000]: 100%|█████████████████████████████████████████████████████| 9/9 [00:00<00:00, 171.31it/s, loss=1.22]\n"
          ]
        },
        {
          "output_type": "stream",
          "name": "stdout",
          "text": [
            "Epoch [1427/3000]: Train loss: 1.2739, Valid loss: 1.4763\n"
          ]
        },
        {
          "output_type": "stream",
          "name": "stderr",
          "text": [
            "Epoch [1428/3000]: 100%|█████████████████████████████████████████████████████| 9/9 [00:00<00:00, 172.87it/s, loss=1.43]\n"
          ]
        },
        {
          "output_type": "stream",
          "name": "stdout",
          "text": [
            "Epoch [1428/3000]: Train loss: 1.2723, Valid loss: 1.5105\n"
          ]
        },
        {
          "output_type": "stream",
          "name": "stderr",
          "text": [
            "Epoch [1429/3000]: 100%|█████████████████████████████████████████████████████| 9/9 [00:00<00:00, 183.52it/s, loss=1.58]\n"
          ]
        },
        {
          "output_type": "stream",
          "name": "stdout",
          "text": [
            "Epoch [1429/3000]: Train loss: 1.2789, Valid loss: 1.5603\n"
          ]
        },
        {
          "output_type": "stream",
          "name": "stderr",
          "text": [
            "Epoch [1430/3000]: 100%|██████████████████████████████████████████████████████| 9/9 [00:00<00:00, 79.26it/s, loss=1.05]\n"
          ]
        },
        {
          "output_type": "stream",
          "name": "stdout",
          "text": [
            "Epoch [1430/3000]: Train loss: 1.2540, Valid loss: 1.3452\n"
          ]
        },
        {
          "output_type": "stream",
          "name": "stderr",
          "text": [
            "Epoch [1431/3000]: 100%|█████████████████████████████████████████████████████| 9/9 [00:00<00:00, 197.62it/s, loss=1.04]\n"
          ]
        },
        {
          "output_type": "stream",
          "name": "stdout",
          "text": [
            "Epoch [1431/3000]: Train loss: 1.2452, Valid loss: 1.4756\n"
          ]
        },
        {
          "output_type": "stream",
          "name": "stderr",
          "text": [
            "Epoch [1432/3000]: 100%|████████████████████████████████████████████████████| 9/9 [00:00<00:00, 175.60it/s, loss=0.881]\n"
          ]
        },
        {
          "output_type": "stream",
          "name": "stdout",
          "text": [
            "Epoch [1432/3000]: Train loss: 1.2405, Valid loss: 1.4533\n"
          ]
        },
        {
          "output_type": "stream",
          "name": "stderr",
          "text": [
            "Epoch [1433/3000]: 100%|█████████████████████████████████████████████████████| 9/9 [00:00<00:00, 191.07it/s, loss=1.31]\n"
          ]
        },
        {
          "output_type": "stream",
          "name": "stdout",
          "text": [
            "Epoch [1433/3000]: Train loss: 1.2688, Valid loss: 1.8471\n"
          ]
        },
        {
          "output_type": "stream",
          "name": "stderr",
          "text": [
            "Epoch [1434/3000]: 100%|█████████████████████████████████████████████████████| 9/9 [00:00<00:00, 197.46it/s, loss=1.18]\n"
          ]
        },
        {
          "output_type": "stream",
          "name": "stdout",
          "text": [
            "Epoch [1434/3000]: Train loss: 1.2554, Valid loss: 1.4973\n"
          ]
        },
        {
          "output_type": "stream",
          "name": "stderr",
          "text": [
            "Epoch [1435/3000]: 100%|█████████████████████████████████████████████████████| 9/9 [00:00<00:00, 187.29it/s, loss=1.15]\n"
          ]
        },
        {
          "output_type": "stream",
          "name": "stdout",
          "text": [
            "Epoch [1435/3000]: Train loss: 1.2497, Valid loss: 1.3055\n"
          ]
        },
        {
          "output_type": "stream",
          "name": "stderr",
          "text": [
            "Epoch [1436/3000]: 100%|█████████████████████████████████████████████████████| 9/9 [00:00<00:00, 177.99it/s, loss=1.41]\n"
          ]
        },
        {
          "output_type": "stream",
          "name": "stdout",
          "text": [
            "Epoch [1436/3000]: Train loss: 1.2692, Valid loss: 1.4885\n"
          ]
        },
        {
          "output_type": "stream",
          "name": "stderr",
          "text": [
            "Epoch [1437/3000]: 100%|████████████████████████████████████████████████████| 9/9 [00:00<00:00, 181.27it/s, loss=0.944]\n"
          ]
        },
        {
          "output_type": "stream",
          "name": "stdout",
          "text": [
            "Epoch [1437/3000]: Train loss: 1.2444, Valid loss: 1.3724\n"
          ]
        },
        {
          "output_type": "stream",
          "name": "stderr",
          "text": [
            "Epoch [1438/3000]: 100%|█████████████████████████████████████████████████████| 9/9 [00:00<00:00, 199.52it/s, loss=1.16]\n"
          ]
        },
        {
          "output_type": "stream",
          "name": "stdout",
          "text": [
            "Epoch [1438/3000]: Train loss: 1.2504, Valid loss: 1.3599\n"
          ]
        },
        {
          "output_type": "stream",
          "name": "stderr",
          "text": [
            "Epoch [1439/3000]: 100%|██████████████████████████████████████████████████████| 9/9 [00:00<00:00, 197.06it/s, loss=1.5]\n"
          ]
        },
        {
          "output_type": "stream",
          "name": "stdout",
          "text": [
            "Epoch [1439/3000]: Train loss: 1.2793, Valid loss: 1.3299\n"
          ]
        },
        {
          "output_type": "stream",
          "name": "stderr",
          "text": [
            "Epoch [1440/3000]: 100%|█████████████████████████████████████████████████████| 9/9 [00:00<00:00, 202.05it/s, loss=1.49]\n"
          ]
        },
        {
          "output_type": "stream",
          "name": "stdout",
          "text": [
            "Epoch [1440/3000]: Train loss: 1.2711, Valid loss: 1.2371\n"
          ]
        },
        {
          "output_type": "stream",
          "name": "stderr",
          "text": [
            "Epoch [1441/3000]: 100%|████████████████████████████████████████████████████| 9/9 [00:00<00:00, 202.22it/s, loss=0.929]\n"
          ]
        },
        {
          "output_type": "stream",
          "name": "stdout",
          "text": [
            "Epoch [1441/3000]: Train loss: 1.2423, Valid loss: 1.4400\n"
          ]
        },
        {
          "output_type": "stream",
          "name": "stderr",
          "text": [
            "Epoch [1442/3000]: 100%|█████████████████████████████████████████████████████| 9/9 [00:00<00:00, 189.32it/s, loss=1.28]\n"
          ]
        },
        {
          "output_type": "stream",
          "name": "stdout",
          "text": [
            "Epoch [1442/3000]: Train loss: 1.2664, Valid loss: 1.7272\n"
          ]
        },
        {
          "output_type": "stream",
          "name": "stderr",
          "text": [
            "Epoch [1443/3000]: 100%|█████████████████████████████████████████████████████| 9/9 [00:00<00:00, 178.23it/s, loss=1.08]\n"
          ]
        },
        {
          "output_type": "stream",
          "name": "stdout",
          "text": [
            "Epoch [1443/3000]: Train loss: 1.2518, Valid loss: 1.3876\n"
          ]
        },
        {
          "output_type": "stream",
          "name": "stderr",
          "text": [
            "Epoch [1444/3000]: 100%|█████████████████████████████████████████████████████| 9/9 [00:00<00:00, 202.03it/s, loss=1.19]\n"
          ]
        },
        {
          "output_type": "stream",
          "name": "stdout",
          "text": [
            "Epoch [1444/3000]: Train loss: 1.2744, Valid loss: 1.3326\n"
          ]
        },
        {
          "output_type": "stream",
          "name": "stderr",
          "text": [
            "Epoch [1445/3000]: 100%|█████████████████████████████████████████████████████| 9/9 [00:00<00:00, 206.19it/s, loss=1.24]\n"
          ]
        },
        {
          "output_type": "stream",
          "name": "stdout",
          "text": [
            "Epoch [1445/3000]: Train loss: 1.2552, Valid loss: 1.3261\n"
          ]
        },
        {
          "output_type": "stream",
          "name": "stderr",
          "text": [
            "Epoch [1446/3000]: 100%|█████████████████████████████████████████████████████| 9/9 [00:00<00:00, 193.65it/s, loss=1.38]\n"
          ]
        },
        {
          "output_type": "stream",
          "name": "stdout",
          "text": [
            "Epoch [1446/3000]: Train loss: 1.2637, Valid loss: 1.4511\n"
          ]
        },
        {
          "output_type": "stream",
          "name": "stderr",
          "text": [
            "Epoch [1447/3000]: 100%|█████████████████████████████████████████████████████| 9/9 [00:00<00:00, 209.15it/s, loss=1.01]\n"
          ]
        },
        {
          "output_type": "stream",
          "name": "stdout",
          "text": [
            "Epoch [1447/3000]: Train loss: 1.2372, Valid loss: 1.2487\n"
          ]
        },
        {
          "output_type": "stream",
          "name": "stderr",
          "text": [
            "Epoch [1448/3000]: 100%|█████████████████████████████████████████████████████| 9/9 [00:00<00:00, 202.03it/s, loss=1.04]\n"
          ]
        },
        {
          "output_type": "stream",
          "name": "stdout",
          "text": [
            "Epoch [1448/3000]: Train loss: 1.2393, Valid loss: 1.3757\n"
          ]
        },
        {
          "output_type": "stream",
          "name": "stderr",
          "text": [
            "Epoch [1449/3000]: 100%|█████████████████████████████████████████████████████| 9/9 [00:00<00:00, 179.78it/s, loss=1.22]\n"
          ]
        },
        {
          "output_type": "stream",
          "name": "stdout",
          "text": [
            "Epoch [1449/3000]: Train loss: 1.2710, Valid loss: 1.8359\n"
          ]
        },
        {
          "output_type": "stream",
          "name": "stderr",
          "text": [
            "Epoch [1450/3000]: 100%|█████████████████████████████████████████████████████| 9/9 [00:00<00:00, 183.68it/s, loss=1.26]\n"
          ]
        },
        {
          "output_type": "stream",
          "name": "stdout",
          "text": [
            "Epoch [1450/3000]: Train loss: 1.2610, Valid loss: 1.6751\n"
          ]
        },
        {
          "output_type": "stream",
          "name": "stderr",
          "text": [
            "Epoch [1451/3000]: 100%|█████████████████████████████████████████████████████| 9/9 [00:00<00:00, 197.69it/s, loss=1.33]\n"
          ]
        },
        {
          "output_type": "stream",
          "name": "stdout",
          "text": [
            "Epoch [1451/3000]: Train loss: 1.2625, Valid loss: 1.4107\n"
          ]
        },
        {
          "output_type": "stream",
          "name": "stderr",
          "text": [
            "Epoch [1452/3000]: 100%|█████████████████████████████████████████████████████| 9/9 [00:00<00:00, 164.89it/s, loss=1.07]\n"
          ]
        },
        {
          "output_type": "stream",
          "name": "stdout",
          "text": [
            "Epoch [1452/3000]: Train loss: 1.2579, Valid loss: 1.4627\n"
          ]
        },
        {
          "output_type": "stream",
          "name": "stderr",
          "text": [
            "Epoch [1453/3000]: 100%|█████████████████████████████████████████████████████| 9/9 [00:00<00:00, 183.52it/s, loss=1.23]\n"
          ]
        },
        {
          "output_type": "stream",
          "name": "stdout",
          "text": [
            "Epoch [1453/3000]: Train loss: 1.2711, Valid loss: 1.2458\n"
          ]
        },
        {
          "output_type": "stream",
          "name": "stderr",
          "text": [
            "Epoch [1454/3000]: 100%|█████████████████████████████████████████████████████| 9/9 [00:00<00:00, 204.29it/s, loss=1.47]\n"
          ]
        },
        {
          "output_type": "stream",
          "name": "stdout",
          "text": [
            "Epoch [1454/3000]: Train loss: 1.2813, Valid loss: 1.4585\n"
          ]
        },
        {
          "output_type": "stream",
          "name": "stderr",
          "text": [
            "Epoch [1455/3000]: 100%|█████████████████████████████████████████████████████| 9/9 [00:00<00:00, 156.85it/s, loss=1.07]\n"
          ]
        },
        {
          "output_type": "stream",
          "name": "stdout",
          "text": [
            "Epoch [1455/3000]: Train loss: 1.2537, Valid loss: 1.4870\n"
          ]
        },
        {
          "output_type": "stream",
          "name": "stderr",
          "text": [
            "Epoch [1456/3000]: 100%|█████████████████████████████████████████████████████| 9/9 [00:00<00:00, 190.57it/s, loss=1.62]\n"
          ]
        },
        {
          "output_type": "stream",
          "name": "stdout",
          "text": [
            "Epoch [1456/3000]: Train loss: 1.2819, Valid loss: 1.9431\n"
          ]
        },
        {
          "output_type": "stream",
          "name": "stderr",
          "text": [
            "Epoch [1457/3000]: 100%|█████████████████████████████████████████████████████| 9/9 [00:00<00:00, 184.23it/s, loss=1.47]\n"
          ]
        },
        {
          "output_type": "stream",
          "name": "stdout",
          "text": [
            "Epoch [1457/3000]: Train loss: 1.2781, Valid loss: 1.2907\n"
          ]
        },
        {
          "output_type": "stream",
          "name": "stderr",
          "text": [
            "Epoch [1458/3000]: 100%|█████████████████████████████████████████████████████| 9/9 [00:00<00:00, 185.01it/s, loss=1.26]\n"
          ]
        },
        {
          "output_type": "stream",
          "name": "stdout",
          "text": [
            "Epoch [1458/3000]: Train loss: 1.2607, Valid loss: 1.4085\n"
          ]
        },
        {
          "output_type": "stream",
          "name": "stderr",
          "text": [
            "Epoch [1459/3000]: 100%|█████████████████████████████████████████████████████| 9/9 [00:00<00:00, 214.00it/s, loss=1.16]\n"
          ]
        },
        {
          "output_type": "stream",
          "name": "stdout",
          "text": [
            "Epoch [1459/3000]: Train loss: 1.2758, Valid loss: 1.6590\n"
          ]
        },
        {
          "output_type": "stream",
          "name": "stderr",
          "text": [
            "Epoch [1460/3000]: 100%|█████████████████████████████████████████████████████| 9/9 [00:00<00:00, 181.60it/s, loss=1.24]\n"
          ]
        },
        {
          "output_type": "stream",
          "name": "stdout",
          "text": [
            "Epoch [1460/3000]: Train loss: 1.2767, Valid loss: 1.6585\n"
          ]
        },
        {
          "output_type": "stream",
          "name": "stderr",
          "text": [
            "Epoch [1461/3000]: 100%|█████████████████████████████████████████████████████| 9/9 [00:00<00:00, 187.32it/s, loss=1.38]\n"
          ]
        },
        {
          "output_type": "stream",
          "name": "stdout",
          "text": [
            "Epoch [1461/3000]: Train loss: 1.2634, Valid loss: 1.2212\n"
          ]
        },
        {
          "output_type": "stream",
          "name": "stderr",
          "text": [
            "Epoch [1462/3000]: 100%|█████████████████████████████████████████████████████| 9/9 [00:00<00:00, 227.61it/s, loss=1.23]\n"
          ]
        },
        {
          "output_type": "stream",
          "name": "stdout",
          "text": [
            "Epoch [1462/3000]: Train loss: 1.2506, Valid loss: 1.6074\n"
          ]
        },
        {
          "output_type": "stream",
          "name": "stderr",
          "text": [
            "Epoch [1463/3000]: 100%|█████████████████████████████████████████████████████| 9/9 [00:00<00:00, 214.16it/s, loss=1.09]\n"
          ]
        },
        {
          "output_type": "stream",
          "name": "stdout",
          "text": [
            "Epoch [1463/3000]: Train loss: 1.2357, Valid loss: 1.4324\n"
          ]
        },
        {
          "output_type": "stream",
          "name": "stderr",
          "text": [
            "Epoch [1464/3000]: 100%|████████████████████████████████████████████████████| 9/9 [00:00<00:00, 216.65it/s, loss=0.964]\n"
          ]
        },
        {
          "output_type": "stream",
          "name": "stdout",
          "text": [
            "Epoch [1464/3000]: Train loss: 1.2285, Valid loss: 1.4322\n"
          ]
        },
        {
          "output_type": "stream",
          "name": "stderr",
          "text": [
            "Epoch [1465/3000]: 100%|█████████████████████████████████████████████████████| 9/9 [00:00<00:00, 178.05it/s, loss=1.94]\n"
          ]
        },
        {
          "output_type": "stream",
          "name": "stdout",
          "text": [
            "Epoch [1465/3000]: Train loss: 1.3066, Valid loss: 1.4526\n"
          ]
        },
        {
          "output_type": "stream",
          "name": "stderr",
          "text": [
            "Epoch [1466/3000]: 100%|█████████████████████████████████████████████████████| 9/9 [00:00<00:00, 200.79it/s, loss=1.42]\n"
          ]
        },
        {
          "output_type": "stream",
          "name": "stdout",
          "text": [
            "Epoch [1466/3000]: Train loss: 1.2673, Valid loss: 1.3968\n"
          ]
        },
        {
          "output_type": "stream",
          "name": "stderr",
          "text": [
            "Epoch [1467/3000]: 100%|█████████████████████████████████████████████████████| 9/9 [00:00<00:00, 195.56it/s, loss=1.33]\n"
          ]
        },
        {
          "output_type": "stream",
          "name": "stdout",
          "text": [
            "Epoch [1467/3000]: Train loss: 1.2621, Valid loss: 1.3664\n"
          ]
        },
        {
          "output_type": "stream",
          "name": "stderr",
          "text": [
            "Epoch [1468/3000]: 100%|█████████████████████████████████████████████████████| 9/9 [00:00<00:00, 193.01it/s, loss=1.26]\n"
          ]
        },
        {
          "output_type": "stream",
          "name": "stdout",
          "text": [
            "Epoch [1468/3000]: Train loss: 1.2540, Valid loss: 1.4208\n"
          ]
        },
        {
          "output_type": "stream",
          "name": "stderr",
          "text": [
            "Epoch [1469/3000]: 100%|█████████████████████████████████████████████████████| 9/9 [00:00<00:00, 195.43it/s, loss=1.25]\n"
          ]
        },
        {
          "output_type": "stream",
          "name": "stdout",
          "text": [
            "Epoch [1469/3000]: Train loss: 1.2605, Valid loss: 1.4031\n"
          ]
        },
        {
          "output_type": "stream",
          "name": "stderr",
          "text": [
            "Epoch [1470/3000]: 100%|█████████████████████████████████████████████████████| 9/9 [00:00<00:00, 179.70it/s, loss=1.72]\n"
          ]
        },
        {
          "output_type": "stream",
          "name": "stdout",
          "text": [
            "Epoch [1470/3000]: Train loss: 1.2864, Valid loss: 1.3782\n"
          ]
        },
        {
          "output_type": "stream",
          "name": "stderr",
          "text": [
            "Epoch [1471/3000]: 100%|█████████████████████████████████████████████████████| 9/9 [00:00<00:00, 193.36it/s, loss=1.17]\n"
          ]
        },
        {
          "output_type": "stream",
          "name": "stdout",
          "text": [
            "Epoch [1471/3000]: Train loss: 1.2822, Valid loss: 1.4392\n"
          ]
        },
        {
          "output_type": "stream",
          "name": "stderr",
          "text": [
            "Epoch [1472/3000]: 100%|█████████████████████████████████████████████████████| 9/9 [00:00<00:00, 168.09it/s, loss=1.08]\n"
          ]
        },
        {
          "output_type": "stream",
          "name": "stdout",
          "text": [
            "Epoch [1472/3000]: Train loss: 1.2484, Valid loss: 1.4023\n"
          ]
        },
        {
          "output_type": "stream",
          "name": "stderr",
          "text": [
            "Epoch [1473/3000]: 100%|█████████████████████████████████████████████████████| 9/9 [00:00<00:00, 164.91it/s, loss=1.11]\n"
          ]
        },
        {
          "output_type": "stream",
          "name": "stdout",
          "text": [
            "Epoch [1473/3000]: Train loss: 1.2449, Valid loss: 1.5336\n"
          ]
        },
        {
          "output_type": "stream",
          "name": "stderr",
          "text": [
            "Epoch [1474/3000]: 100%|█████████████████████████████████████████████████████| 9/9 [00:00<00:00, 193.40it/s, loss=1.56]\n"
          ]
        },
        {
          "output_type": "stream",
          "name": "stdout",
          "text": [
            "Epoch [1474/3000]: Train loss: 1.2788, Valid loss: 1.5374\n"
          ]
        },
        {
          "output_type": "stream",
          "name": "stderr",
          "text": [
            "Epoch [1475/3000]: 100%|█████████████████████████████████████████████████████| 9/9 [00:00<00:00, 187.25it/s, loss=1.38]\n"
          ]
        },
        {
          "output_type": "stream",
          "name": "stdout",
          "text": [
            "Epoch [1475/3000]: Train loss: 1.2644, Valid loss: 1.4996\n"
          ]
        },
        {
          "output_type": "stream",
          "name": "stderr",
          "text": [
            "Epoch [1476/3000]: 100%|██████████████████████████████████████████████████████| 9/9 [00:00<00:00, 171.27it/s, loss=1.4]\n"
          ]
        },
        {
          "output_type": "stream",
          "name": "stdout",
          "text": [
            "Epoch [1476/3000]: Train loss: 1.2579, Valid loss: 1.5612\n"
          ]
        },
        {
          "output_type": "stream",
          "name": "stderr",
          "text": [
            "Epoch [1477/3000]: 100%|█████████████████████████████████████████████████████| 9/9 [00:00<00:00, 219.94it/s, loss=1.15]\n"
          ]
        },
        {
          "output_type": "stream",
          "name": "stdout",
          "text": [
            "Epoch [1477/3000]: Train loss: 1.2405, Valid loss: 1.1932\n"
          ]
        },
        {
          "output_type": "stream",
          "name": "stderr",
          "text": [
            "Epoch [1478/3000]: 100%|████████████████████████████████████████████████████| 9/9 [00:00<00:00, 185.45it/s, loss=0.748]\n"
          ]
        },
        {
          "output_type": "stream",
          "name": "stdout",
          "text": [
            "Epoch [1478/3000]: Train loss: 1.2366, Valid loss: 1.4084\n"
          ]
        },
        {
          "output_type": "stream",
          "name": "stderr",
          "text": [
            "Epoch [1479/3000]: 100%|█████████████████████████████████████████████████████| 9/9 [00:00<00:00, 209.11it/s, loss=1.04]\n"
          ]
        },
        {
          "output_type": "stream",
          "name": "stdout",
          "text": [
            "Epoch [1479/3000]: Train loss: 1.2310, Valid loss: 1.2677\n"
          ]
        },
        {
          "output_type": "stream",
          "name": "stderr",
          "text": [
            "Epoch [1480/3000]: 100%|█████████████████████████████████████████████████████| 9/9 [00:00<00:00, 191.25it/s, loss=1.06]\n"
          ]
        },
        {
          "output_type": "stream",
          "name": "stdout",
          "text": [
            "Epoch [1480/3000]: Train loss: 1.2454, Valid loss: 1.2971\n"
          ]
        },
        {
          "output_type": "stream",
          "name": "stderr",
          "text": [
            "Epoch [1481/3000]: 100%|█████████████████████████████████████████████████████| 9/9 [00:00<00:00, 206.65it/s, loss=1.01]\n"
          ]
        },
        {
          "output_type": "stream",
          "name": "stdout",
          "text": [
            "Epoch [1481/3000]: Train loss: 1.2309, Valid loss: 1.2784\n"
          ]
        },
        {
          "output_type": "stream",
          "name": "stderr",
          "text": [
            "Epoch [1482/3000]: 100%|█████████████████████████████████████████████████████| 9/9 [00:00<00:00, 201.92it/s, loss=1.06]\n"
          ]
        },
        {
          "output_type": "stream",
          "name": "stdout",
          "text": [
            "Epoch [1482/3000]: Train loss: 1.2432, Valid loss: 1.7251\n"
          ]
        },
        {
          "output_type": "stream",
          "name": "stderr",
          "text": [
            "Epoch [1483/3000]: 100%|█████████████████████████████████████████████████████| 9/9 [00:00<00:00, 199.85it/s, loss=1.07]\n"
          ]
        },
        {
          "output_type": "stream",
          "name": "stdout",
          "text": [
            "Epoch [1483/3000]: Train loss: 1.2513, Valid loss: 1.3480\n"
          ]
        },
        {
          "output_type": "stream",
          "name": "stderr",
          "text": [
            "Epoch [1484/3000]: 100%|█████████████████████████████████████████████████████| 9/9 [00:00<00:00, 197.57it/s, loss=1.13]\n"
          ]
        },
        {
          "output_type": "stream",
          "name": "stdout",
          "text": [
            "Epoch [1484/3000]: Train loss: 1.2517, Valid loss: 1.6136\n"
          ]
        },
        {
          "output_type": "stream",
          "name": "stderr",
          "text": [
            "Epoch [1485/3000]: 100%|█████████████████████████████████████████████████████| 9/9 [00:00<00:00, 211.53it/s, loss=1.27]\n"
          ]
        },
        {
          "output_type": "stream",
          "name": "stdout",
          "text": [
            "Epoch [1485/3000]: Train loss: 1.2483, Valid loss: 1.2447\n"
          ]
        },
        {
          "output_type": "stream",
          "name": "stderr",
          "text": [
            "Epoch [1486/3000]: 100%|████████████████████████████████████████████████████| 9/9 [00:00<00:00, 199.65it/s, loss=0.891]\n"
          ]
        },
        {
          "output_type": "stream",
          "name": "stdout",
          "text": [
            "Epoch [1486/3000]: Train loss: 1.2241, Valid loss: 1.5256\n"
          ]
        },
        {
          "output_type": "stream",
          "name": "stderr",
          "text": [
            "Epoch [1487/3000]: 100%|█████████████████████████████████████████████████████| 9/9 [00:00<00:00, 191.11it/s, loss=1.48]\n"
          ]
        },
        {
          "output_type": "stream",
          "name": "stdout",
          "text": [
            "Epoch [1487/3000]: Train loss: 1.2671, Valid loss: 1.4182\n"
          ]
        },
        {
          "output_type": "stream",
          "name": "stderr",
          "text": [
            "Epoch [1488/3000]: 100%|██████████████████████████████████████████████████████| 9/9 [00:00<00:00, 183.37it/s, loss=1.4]\n"
          ]
        },
        {
          "output_type": "stream",
          "name": "stdout",
          "text": [
            "Epoch [1488/3000]: Train loss: 1.2589, Valid loss: 1.4886\n"
          ]
        },
        {
          "output_type": "stream",
          "name": "stderr",
          "text": [
            "Epoch [1489/3000]: 100%|████████████████████████████████████████████████████| 9/9 [00:00<00:00, 222.03it/s, loss=0.963]\n"
          ]
        },
        {
          "output_type": "stream",
          "name": "stdout",
          "text": [
            "Epoch [1489/3000]: Train loss: 1.2447, Valid loss: 1.3678\n"
          ]
        },
        {
          "output_type": "stream",
          "name": "stderr",
          "text": [
            "Epoch [1490/3000]: 100%|██████████████████████████████████████████████████████| 9/9 [00:00<00:00, 195.42it/s, loss=1.3]\n"
          ]
        },
        {
          "output_type": "stream",
          "name": "stdout",
          "text": [
            "Epoch [1490/3000]: Train loss: 1.2587, Valid loss: 1.7247\n"
          ]
        },
        {
          "output_type": "stream",
          "name": "stderr",
          "text": [
            "Epoch [1491/3000]: 100%|██████████████████████████████████████████████████████| 9/9 [00:00<00:00, 183.40it/s, loss=1.4]\n"
          ]
        },
        {
          "output_type": "stream",
          "name": "stdout",
          "text": [
            "Epoch [1491/3000]: Train loss: 1.2728, Valid loss: 1.7948\n"
          ]
        },
        {
          "output_type": "stream",
          "name": "stderr",
          "text": [
            "Epoch [1492/3000]: 100%|█████████████████████████████████████████████████████| 9/9 [00:00<00:00, 202.07it/s, loss=1.47]\n"
          ]
        },
        {
          "output_type": "stream",
          "name": "stdout",
          "text": [
            "Epoch [1492/3000]: Train loss: 1.2901, Valid loss: 1.4324\n"
          ]
        },
        {
          "output_type": "stream",
          "name": "stderr",
          "text": [
            "Epoch [1493/3000]: 100%|█████████████████████████████████████████████████████| 9/9 [00:00<00:00, 177.85it/s, loss=1.21]\n"
          ]
        },
        {
          "output_type": "stream",
          "name": "stdout",
          "text": [
            "Epoch [1493/3000]: Train loss: 1.2525, Valid loss: 1.3940\n"
          ]
        },
        {
          "output_type": "stream",
          "name": "stderr",
          "text": [
            "Epoch [1494/3000]: 100%|█████████████████████████████████████████████████████| 9/9 [00:00<00:00, 181.69it/s, loss=1.03]\n"
          ]
        },
        {
          "output_type": "stream",
          "name": "stdout",
          "text": [
            "Epoch [1494/3000]: Train loss: 1.2301, Valid loss: 1.5800\n"
          ]
        },
        {
          "output_type": "stream",
          "name": "stderr",
          "text": [
            "Epoch [1495/3000]: 100%|█████████████████████████████████████████████████████| 9/9 [00:00<00:00, 185.43it/s, loss=1.73]\n"
          ]
        },
        {
          "output_type": "stream",
          "name": "stdout",
          "text": [
            "Epoch [1495/3000]: Train loss: 1.2681, Valid loss: 1.4026\n"
          ]
        },
        {
          "output_type": "stream",
          "name": "stderr",
          "text": [
            "Epoch [1496/3000]: 100%|█████████████████████████████████████████████████████| 9/9 [00:00<00:00, 174.56it/s, loss=1.54]\n"
          ]
        },
        {
          "output_type": "stream",
          "name": "stdout",
          "text": [
            "Epoch [1496/3000]: Train loss: 1.2673, Valid loss: 1.5165\n"
          ]
        },
        {
          "output_type": "stream",
          "name": "stderr",
          "text": [
            "Epoch [1497/3000]: 100%|█████████████████████████████████████████████████████| 9/9 [00:00<00:00, 178.04it/s, loss=1.33]\n"
          ]
        },
        {
          "output_type": "stream",
          "name": "stdout",
          "text": [
            "Epoch [1497/3000]: Train loss: 1.2446, Valid loss: 1.5569\n"
          ]
        },
        {
          "output_type": "stream",
          "name": "stderr",
          "text": [
            "Epoch [1498/3000]: 100%|█████████████████████████████████████████████████████| 9/9 [00:00<00:00, 199.55it/s, loss=1.26]\n"
          ]
        },
        {
          "output_type": "stream",
          "name": "stdout",
          "text": [
            "Epoch [1498/3000]: Train loss: 1.2415, Valid loss: 1.2260\n"
          ]
        },
        {
          "output_type": "stream",
          "name": "stderr",
          "text": [
            "Epoch [1499/3000]: 100%|█████████████████████████████████████████████████████| 9/9 [00:00<00:00, 187.28it/s, loss=1.25]\n"
          ]
        },
        {
          "output_type": "stream",
          "name": "stdout",
          "text": [
            "Epoch [1499/3000]: Train loss: 1.2872, Valid loss: 1.4845\n"
          ]
        },
        {
          "output_type": "stream",
          "name": "stderr",
          "text": [
            "Epoch [1500/3000]: 100%|█████████████████████████████████████████████████████| 9/9 [00:00<00:00, 191.27it/s, loss=1.62]\n"
          ]
        },
        {
          "output_type": "stream",
          "name": "stdout",
          "text": [
            "Epoch [1500/3000]: Train loss: 1.2798, Valid loss: 1.3372\n"
          ]
        },
        {
          "output_type": "stream",
          "name": "stderr",
          "text": [
            "Epoch [1501/3000]: 100%|█████████████████████████████████████████████████████| 9/9 [00:00<00:00, 185.42it/s, loss=1.86]\n"
          ]
        },
        {
          "output_type": "stream",
          "name": "stdout",
          "text": [
            "Epoch [1501/3000]: Train loss: 1.2817, Valid loss: 1.4001\n"
          ]
        },
        {
          "output_type": "stream",
          "name": "stderr",
          "text": [
            "Epoch [1502/3000]: 100%|█████████████████████████████████████████████████████| 9/9 [00:00<00:00, 174.33it/s, loss=1.45]\n"
          ]
        },
        {
          "output_type": "stream",
          "name": "stdout",
          "text": [
            "Epoch [1502/3000]: Train loss: 1.2645, Valid loss: 1.4348\n"
          ]
        },
        {
          "output_type": "stream",
          "name": "stderr",
          "text": [
            "Epoch [1503/3000]: 100%|█████████████████████████████████████████████████████| 9/9 [00:00<00:00, 182.73it/s, loss=1.15]\n"
          ]
        },
        {
          "output_type": "stream",
          "name": "stdout",
          "text": [
            "Epoch [1503/3000]: Train loss: 1.2374, Valid loss: 1.2573\n"
          ]
        },
        {
          "output_type": "stream",
          "name": "stderr",
          "text": [
            "Epoch [1504/3000]: 100%|████████████████████████████████████████████████████| 9/9 [00:00<00:00, 195.55it/s, loss=0.975]\n"
          ]
        },
        {
          "output_type": "stream",
          "name": "stdout",
          "text": [
            "Epoch [1504/3000]: Train loss: 1.2278, Valid loss: 1.4778\n"
          ]
        },
        {
          "output_type": "stream",
          "name": "stderr",
          "text": [
            "Epoch [1505/3000]: 100%|██████████████████████████████████████████████████████| 9/9 [00:00<00:00, 79.91it/s, loss=1.11]\n"
          ]
        },
        {
          "output_type": "stream",
          "name": "stdout",
          "text": [
            "Epoch [1505/3000]: Train loss: 1.2305, Valid loss: 1.2984\n"
          ]
        },
        {
          "output_type": "stream",
          "name": "stderr",
          "text": [
            "Epoch [1506/3000]: 100%|██████████████████████████████████████████████████████| 9/9 [00:00<00:00, 183.47it/s, loss=1.3]\n"
          ]
        },
        {
          "output_type": "stream",
          "name": "stdout",
          "text": [
            "Epoch [1506/3000]: Train loss: 1.2419, Valid loss: 1.7075\n"
          ]
        },
        {
          "output_type": "stream",
          "name": "stderr",
          "text": [
            "Epoch [1507/3000]: 100%|█████████████████████████████████████████████████████| 9/9 [00:00<00:00, 188.84it/s, loss=1.05]\n"
          ]
        },
        {
          "output_type": "stream",
          "name": "stdout",
          "text": [
            "Epoch [1507/3000]: Train loss: 1.2417, Valid loss: 1.2477\n"
          ]
        },
        {
          "output_type": "stream",
          "name": "stderr",
          "text": [
            "Epoch [1508/3000]: 100%|█████████████████████████████████████████████████████| 9/9 [00:00<00:00, 185.07it/s, loss=1.35]\n"
          ]
        },
        {
          "output_type": "stream",
          "name": "stdout",
          "text": [
            "Epoch [1508/3000]: Train loss: 1.2700, Valid loss: 1.2557\n"
          ]
        },
        {
          "output_type": "stream",
          "name": "stderr",
          "text": [
            "Epoch [1509/3000]: 100%|█████████████████████████████████████████████████████| 9/9 [00:00<00:00, 193.38it/s, loss=1.51]\n"
          ]
        },
        {
          "output_type": "stream",
          "name": "stdout",
          "text": [
            "Epoch [1509/3000]: Train loss: 1.3058, Valid loss: 1.3434\n"
          ]
        },
        {
          "output_type": "stream",
          "name": "stderr",
          "text": [
            "Epoch [1510/3000]: 100%|█████████████████████████████████████████████████████| 9/9 [00:00<00:00, 179.72it/s, loss=1.45]\n"
          ]
        },
        {
          "output_type": "stream",
          "name": "stdout",
          "text": [
            "Epoch [1510/3000]: Train loss: 1.2530, Valid loss: 1.3134\n"
          ]
        },
        {
          "output_type": "stream",
          "name": "stderr",
          "text": [
            "Epoch [1511/3000]: 100%|█████████████████████████████████████████████████████| 9/9 [00:00<00:00, 181.88it/s, loss=1.08]\n"
          ]
        },
        {
          "output_type": "stream",
          "name": "stdout",
          "text": [
            "Epoch [1511/3000]: Train loss: 1.2303, Valid loss: 1.4214\n"
          ]
        },
        {
          "output_type": "stream",
          "name": "stderr",
          "text": [
            "Epoch [1512/3000]: 100%|█████████████████████████████████████████████████████| 9/9 [00:00<00:00, 172.88it/s, loss=1.28]\n"
          ]
        },
        {
          "output_type": "stream",
          "name": "stdout",
          "text": [
            "Epoch [1512/3000]: Train loss: 1.2491, Valid loss: 1.5800\n"
          ]
        },
        {
          "output_type": "stream",
          "name": "stderr",
          "text": [
            "Epoch [1513/3000]: 100%|█████████████████████████████████████████████████████| 9/9 [00:00<00:00, 174.51it/s, loss=1.42]\n"
          ]
        },
        {
          "output_type": "stream",
          "name": "stdout",
          "text": [
            "Epoch [1513/3000]: Train loss: 1.2480, Valid loss: 1.3206\n"
          ]
        },
        {
          "output_type": "stream",
          "name": "stderr",
          "text": [
            "Epoch [1514/3000]: 100%|█████████████████████████████████████████████████████| 9/9 [00:00<00:00, 199.80it/s, loss=1.27]"
          ]
        },
        {
          "output_type": "stream",
          "name": "stdout",
          "text": [
            "Epoch [1514/3000]: Train loss: 1.2382, Valid loss: 1.3866"
          ]
        },
        {
          "output_type": "stream",
          "name": "stderr",
          "text": [
            "\n"
          ]
        },
        {
          "output_type": "stream",
          "name": "stdout",
          "text": [
            "\n"
          ]
        },
        {
          "output_type": "stream",
          "name": "stderr",
          "text": [
            "Epoch [1515/3000]: 100%|█████████████████████████████████████████████████████| 9/9 [00:00<00:00, 209.14it/s, loss=1.59]\n"
          ]
        },
        {
          "output_type": "stream",
          "name": "stdout",
          "text": [
            "Epoch [1515/3000]: Train loss: 1.2669, Valid loss: 1.7845\n"
          ]
        },
        {
          "output_type": "stream",
          "name": "stderr",
          "text": [
            "Epoch [1516/3000]: 100%|█████████████████████████████████████████████████████| 9/9 [00:00<00:00, 191.27it/s, loss=1.09]\n"
          ]
        },
        {
          "output_type": "stream",
          "name": "stdout",
          "text": [
            "Epoch [1516/3000]: Train loss: 1.2320, Valid loss: 1.4526\n"
          ]
        },
        {
          "output_type": "stream",
          "name": "stderr",
          "text": [
            "Epoch [1517/3000]: 100%|█████████████████████████████████████████████████████| 9/9 [00:00<00:00, 185.42it/s, loss=1.64]\n"
          ]
        },
        {
          "output_type": "stream",
          "name": "stdout",
          "text": [
            "Epoch [1517/3000]: Train loss: 1.2635, Valid loss: 1.2340\n"
          ]
        },
        {
          "output_type": "stream",
          "name": "stderr",
          "text": [
            "Epoch [1518/3000]: 100%|█████████████████████████████████████████████████████| 9/9 [00:00<00:00, 172.66it/s, loss=1.22]\n"
          ]
        },
        {
          "output_type": "stream",
          "name": "stdout",
          "text": [
            "Epoch [1518/3000]: Train loss: 1.2394, Valid loss: 1.5333\n"
          ]
        },
        {
          "output_type": "stream",
          "name": "stderr",
          "text": [
            "Epoch [1519/3000]: 100%|█████████████████████████████████████████████████████| 9/9 [00:00<00:00, 202.01it/s, loss=1.06]\n"
          ]
        },
        {
          "output_type": "stream",
          "name": "stdout",
          "text": [
            "Epoch [1519/3000]: Train loss: 1.2336, Valid loss: 1.5427\n"
          ]
        },
        {
          "output_type": "stream",
          "name": "stderr",
          "text": [
            "Epoch [1520/3000]: 100%|█████████████████████████████████████████████████████| 9/9 [00:00<00:00, 193.34it/s, loss=1.14]\n"
          ]
        },
        {
          "output_type": "stream",
          "name": "stdout",
          "text": [
            "Epoch [1520/3000]: Train loss: 1.2430, Valid loss: 1.4218\n"
          ]
        },
        {
          "output_type": "stream",
          "name": "stderr",
          "text": [
            "Epoch [1521/3000]: 100%|█████████████████████████████████████████████████████| 9/9 [00:00<00:00, 182.48it/s, loss=1.44]\n"
          ]
        },
        {
          "output_type": "stream",
          "name": "stdout",
          "text": [
            "Epoch [1521/3000]: Train loss: 1.2610, Valid loss: 1.4621\n"
          ]
        },
        {
          "output_type": "stream",
          "name": "stderr",
          "text": [
            "Epoch [1522/3000]: 100%|█████████████████████████████████████████████████████| 9/9 [00:00<00:00, 211.06it/s, loss=1.26]\n"
          ]
        },
        {
          "output_type": "stream",
          "name": "stdout",
          "text": [
            "Epoch [1522/3000]: Train loss: 1.2480, Valid loss: 1.2952\n"
          ]
        },
        {
          "output_type": "stream",
          "name": "stderr",
          "text": [
            "Epoch [1523/3000]: 100%|█████████████████████████████████████████████████████| 9/9 [00:00<00:00, 206.69it/s, loss=1.33]\n"
          ]
        },
        {
          "output_type": "stream",
          "name": "stdout",
          "text": [
            "Epoch [1523/3000]: Train loss: 1.2416, Valid loss: 1.2155\n"
          ]
        },
        {
          "output_type": "stream",
          "name": "stderr",
          "text": [
            "Epoch [1524/3000]: 100%|█████████████████████████████████████████████████████| 9/9 [00:00<00:00, 204.41it/s, loss=1.31]\n"
          ]
        },
        {
          "output_type": "stream",
          "name": "stdout",
          "text": [
            "Epoch [1524/3000]: Train loss: 1.2444, Valid loss: 1.3859\n"
          ]
        },
        {
          "output_type": "stream",
          "name": "stderr",
          "text": [
            "Epoch [1525/3000]: 100%|██████████████████████████████████████████████████████| 9/9 [00:00<00:00, 192.95it/s, loss=1.5]\n"
          ]
        },
        {
          "output_type": "stream",
          "name": "stdout",
          "text": [
            "Epoch [1525/3000]: Train loss: 1.2645, Valid loss: 1.4948\n"
          ]
        },
        {
          "output_type": "stream",
          "name": "stderr",
          "text": [
            "Epoch [1526/3000]: 100%|█████████████████████████████████████████████████████| 9/9 [00:00<00:00, 208.70it/s, loss=1.29]\n"
          ]
        },
        {
          "output_type": "stream",
          "name": "stdout",
          "text": [
            "Epoch [1526/3000]: Train loss: 1.2424, Valid loss: 1.4158\n"
          ]
        },
        {
          "output_type": "stream",
          "name": "stderr",
          "text": [
            "Epoch [1527/3000]: 100%|█████████████████████████████████████████████████████| 9/9 [00:00<00:00, 197.36it/s, loss=1.68]\n"
          ]
        },
        {
          "output_type": "stream",
          "name": "stdout",
          "text": [
            "Epoch [1527/3000]: Train loss: 1.2588, Valid loss: 1.2743\n"
          ]
        },
        {
          "output_type": "stream",
          "name": "stderr",
          "text": [
            "Epoch [1528/3000]: 100%|██████████████████████████████████████████████████████| 9/9 [00:00<00:00, 193.40it/s, loss=1.2]\n"
          ]
        },
        {
          "output_type": "stream",
          "name": "stdout",
          "text": [
            "Epoch [1528/3000]: Train loss: 1.2337, Valid loss: 1.4770\n"
          ]
        },
        {
          "output_type": "stream",
          "name": "stderr",
          "text": [
            "Epoch [1529/3000]: 100%|█████████████████████████████████████████████████████| 9/9 [00:00<00:00, 203.92it/s, loss=1.27]\n"
          ]
        },
        {
          "output_type": "stream",
          "name": "stdout",
          "text": [
            "Epoch [1529/3000]: Train loss: 1.2678, Valid loss: 1.2802\n"
          ]
        },
        {
          "output_type": "stream",
          "name": "stderr",
          "text": [
            "Epoch [1530/3000]: 100%|█████████████████████████████████████████████████████| 9/9 [00:00<00:00, 199.75it/s, loss=1.08]\n"
          ]
        },
        {
          "output_type": "stream",
          "name": "stdout",
          "text": [
            "Epoch [1530/3000]: Train loss: 1.2246, Valid loss: 1.3364\n"
          ]
        },
        {
          "output_type": "stream",
          "name": "stderr",
          "text": [
            "Epoch [1531/3000]: 100%|████████████████████████████████████████████████████| 9/9 [00:00<00:00, 201.84it/s, loss=0.739]\n"
          ]
        },
        {
          "output_type": "stream",
          "name": "stdout",
          "text": [
            "Epoch [1531/3000]: Train loss: 1.2150, Valid loss: 1.2619\n"
          ]
        },
        {
          "output_type": "stream",
          "name": "stderr",
          "text": [
            "Epoch [1532/3000]: 100%|█████████████████████████████████████████████████████| 9/9 [00:00<00:00, 209.17it/s, loss=1.03]\n"
          ]
        },
        {
          "output_type": "stream",
          "name": "stdout",
          "text": [
            "Epoch [1532/3000]: Train loss: 1.2209, Valid loss: 1.5519\n"
          ]
        },
        {
          "output_type": "stream",
          "name": "stderr",
          "text": [
            "Epoch [1533/3000]: 100%|█████████████████████████████████████████████████████| 9/9 [00:00<00:00, 172.90it/s, loss=1.31]\n"
          ]
        },
        {
          "output_type": "stream",
          "name": "stdout",
          "text": [
            "Epoch [1533/3000]: Train loss: 1.2432, Valid loss: 1.3856\n"
          ]
        },
        {
          "output_type": "stream",
          "name": "stderr",
          "text": [
            "Epoch [1534/3000]: 100%|█████████████████████████████████████████████████████| 9/9 [00:00<00:00, 197.66it/s, loss=1.22]\n"
          ]
        },
        {
          "output_type": "stream",
          "name": "stdout",
          "text": [
            "Epoch [1534/3000]: Train loss: 1.2351, Valid loss: 1.4541\n"
          ]
        },
        {
          "output_type": "stream",
          "name": "stderr",
          "text": [
            "Epoch [1535/3000]: 100%|█████████████████████████████████████████████████████| 9/9 [00:00<00:00, 202.03it/s, loss=1.89]\n"
          ]
        },
        {
          "output_type": "stream",
          "name": "stdout",
          "text": [
            "Epoch [1535/3000]: Train loss: 1.3319, Valid loss: 1.3361\n"
          ]
        },
        {
          "output_type": "stream",
          "name": "stderr",
          "text": [
            "Epoch [1536/3000]: 100%|█████████████████████████████████████████████████████| 9/9 [00:00<00:00, 210.95it/s, loss=1.72]\n"
          ]
        },
        {
          "output_type": "stream",
          "name": "stdout",
          "text": [
            "Epoch [1536/3000]: Train loss: 1.2650, Valid loss: 1.3824\n"
          ]
        },
        {
          "output_type": "stream",
          "name": "stderr",
          "text": [
            "Epoch [1537/3000]: 100%|█████████████████████████████████████████████████████| 9/9 [00:00<00:00, 175.98it/s, loss=1.05]\n"
          ]
        },
        {
          "output_type": "stream",
          "name": "stdout",
          "text": [
            "Epoch [1537/3000]: Train loss: 1.2230, Valid loss: 1.2421\n"
          ]
        },
        {
          "output_type": "stream",
          "name": "stderr",
          "text": [
            "Epoch [1538/3000]: 100%|█████████████████████████████████████████████████████| 9/9 [00:00<00:00, 227.65it/s, loss=1.01]\n"
          ]
        },
        {
          "output_type": "stream",
          "name": "stdout",
          "text": [
            "Epoch [1538/3000]: Train loss: 1.2174, Valid loss: 1.1972\n"
          ]
        },
        {
          "output_type": "stream",
          "name": "stderr",
          "text": [
            "Epoch [1539/3000]: 100%|█████████████████████████████████████████████████████| 9/9 [00:00<00:00, 206.48it/s, loss=1.12]\n"
          ]
        },
        {
          "output_type": "stream",
          "name": "stdout",
          "text": [
            "Epoch [1539/3000]: Train loss: 1.2364, Valid loss: 1.3475\n"
          ]
        },
        {
          "output_type": "stream",
          "name": "stderr",
          "text": [
            "Epoch [1540/3000]: 100%|█████████████████████████████████████████████████████| 9/9 [00:00<00:00, 189.25it/s, loss=1.05]\n"
          ]
        },
        {
          "output_type": "stream",
          "name": "stdout",
          "text": [
            "Epoch [1540/3000]: Train loss: 1.2198, Valid loss: 1.4993\n"
          ]
        },
        {
          "output_type": "stream",
          "name": "stderr",
          "text": [
            "Epoch [1541/3000]: 100%|██████████████████████████████████████████████████████| 9/9 [00:00<00:00, 39.26it/s, loss=0.77]\n"
          ]
        },
        {
          "output_type": "stream",
          "name": "stdout",
          "text": [
            "Epoch [1541/3000]: Train loss: 1.2222, Valid loss: 1.3144\n"
          ]
        },
        {
          "output_type": "stream",
          "name": "stderr",
          "text": [
            "Epoch [1542/3000]: 100%|█████████████████████████████████████████████████████| 9/9 [00:00<00:00, 191.18it/s, loss=1.17]\n"
          ]
        },
        {
          "output_type": "stream",
          "name": "stdout",
          "text": [
            "Epoch [1542/3000]: Train loss: 1.2483, Valid loss: 1.1520\n"
          ]
        },
        {
          "output_type": "stream",
          "name": "stderr",
          "text": [
            "Epoch [1543/3000]: 100%|█████████████████████████████████████████████████████| 9/9 [00:00<00:00, 209.16it/s, loss=1.02]\n"
          ]
        },
        {
          "output_type": "stream",
          "name": "stdout",
          "text": [
            "Epoch [1543/3000]: Train loss: 1.2251, Valid loss: 1.6100\n"
          ]
        },
        {
          "output_type": "stream",
          "name": "stderr",
          "text": [
            "Epoch [1544/3000]: 100%|█████████████████████████████████████████████████████| 9/9 [00:00<00:00, 211.42it/s, loss=1.64]\n"
          ]
        },
        {
          "output_type": "stream",
          "name": "stdout",
          "text": [
            "Epoch [1544/3000]: Train loss: 1.2789, Valid loss: 1.4056\n"
          ]
        },
        {
          "output_type": "stream",
          "name": "stderr",
          "text": [
            "Epoch [1545/3000]: 100%|█████████████████████████████████████████████████████| 9/9 [00:00<00:00, 183.47it/s, loss=1.26]\n"
          ]
        },
        {
          "output_type": "stream",
          "name": "stdout",
          "text": [
            "Epoch [1545/3000]: Train loss: 1.2360, Valid loss: 1.3393\n"
          ]
        },
        {
          "output_type": "stream",
          "name": "stderr",
          "text": [
            "Epoch [1546/3000]: 100%|█████████████████████████████████████████████████████| 9/9 [00:00<00:00, 191.27it/s, loss=1.07]\n"
          ]
        },
        {
          "output_type": "stream",
          "name": "stdout",
          "text": [
            "Epoch [1546/3000]: Train loss: 1.2452, Valid loss: 1.2733\n"
          ]
        },
        {
          "output_type": "stream",
          "name": "stderr",
          "text": [
            "Epoch [1547/3000]: 100%|█████████████████████████████████████████████████████| 9/9 [00:00<00:00, 199.88it/s, loss=1.06]\n"
          ]
        },
        {
          "output_type": "stream",
          "name": "stdout",
          "text": [
            "Epoch [1547/3000]: Train loss: 1.2299, Valid loss: 1.3522\n"
          ]
        },
        {
          "output_type": "stream",
          "name": "stderr",
          "text": [
            "Epoch [1548/3000]: 100%|████████████████████████████████████████████████████| 9/9 [00:00<00:00, 218.83it/s, loss=0.918]\n"
          ]
        },
        {
          "output_type": "stream",
          "name": "stdout",
          "text": [
            "Epoch [1548/3000]: Train loss: 1.2111, Valid loss: 1.4690\n"
          ]
        },
        {
          "output_type": "stream",
          "name": "stderr",
          "text": [
            "Epoch [1549/3000]: 100%|█████████████████████████████████████████████████████| 9/9 [00:00<00:00, 206.75it/s, loss=1.43]\n"
          ]
        },
        {
          "output_type": "stream",
          "name": "stdout",
          "text": [
            "Epoch [1549/3000]: Train loss: 1.2468, Valid loss: 1.3237\n"
          ]
        },
        {
          "output_type": "stream",
          "name": "stderr",
          "text": [
            "Epoch [1550/3000]: 100%|█████████████████████████████████████████████████████| 9/9 [00:00<00:00, 195.23it/s, loss=1.24]\n"
          ]
        },
        {
          "output_type": "stream",
          "name": "stdout",
          "text": [
            "Epoch [1550/3000]: Train loss: 1.2315, Valid loss: 1.4789\n"
          ]
        },
        {
          "output_type": "stream",
          "name": "stderr",
          "text": [
            "Epoch [1551/3000]: 100%|██████████████████████████████████████████████████████| 9/9 [00:00<00:00, 200.66it/s, loss=1.1]\n"
          ]
        },
        {
          "output_type": "stream",
          "name": "stdout",
          "text": [
            "Epoch [1551/3000]: Train loss: 1.2444, Valid loss: 1.6192\n"
          ]
        },
        {
          "output_type": "stream",
          "name": "stderr",
          "text": [
            "Epoch [1552/3000]: 100%|█████████████████████████████████████████████████████| 9/9 [00:00<00:00, 204.26it/s, loss=1.19]\n"
          ]
        },
        {
          "output_type": "stream",
          "name": "stdout",
          "text": [
            "Epoch [1552/3000]: Train loss: 1.2301, Valid loss: 1.2685\n"
          ]
        },
        {
          "output_type": "stream",
          "name": "stderr",
          "text": [
            "Epoch [1553/3000]: 100%|█████████████████████████████████████████████████████| 9/9 [00:00<00:00, 195.36it/s, loss=1.48]\n"
          ]
        },
        {
          "output_type": "stream",
          "name": "stdout",
          "text": [
            "Epoch [1553/3000]: Train loss: 1.2631, Valid loss: 1.6947\n"
          ]
        },
        {
          "output_type": "stream",
          "name": "stderr",
          "text": [
            "Epoch [1554/3000]: 100%|█████████████████████████████████████████████████████| 9/9 [00:00<00:00, 187.24it/s, loss=1.23]\n"
          ]
        },
        {
          "output_type": "stream",
          "name": "stdout",
          "text": [
            "Epoch [1554/3000]: Train loss: 1.2399, Valid loss: 1.3623\n"
          ]
        },
        {
          "output_type": "stream",
          "name": "stderr",
          "text": [
            "Epoch [1555/3000]: 100%|█████████████████████████████████████████████████████| 9/9 [00:00<00:00, 199.08it/s, loss=1.57]\n"
          ]
        },
        {
          "output_type": "stream",
          "name": "stdout",
          "text": [
            "Epoch [1555/3000]: Train loss: 1.2592, Valid loss: 1.5184\n"
          ]
        },
        {
          "output_type": "stream",
          "name": "stderr",
          "text": [
            "Epoch [1556/3000]: 100%|█████████████████████████████████████████████████████| 9/9 [00:00<00:00, 216.65it/s, loss=1.37]\n"
          ]
        },
        {
          "output_type": "stream",
          "name": "stdout",
          "text": [
            "Epoch [1556/3000]: Train loss: 1.2685, Valid loss: 1.8993\n"
          ]
        },
        {
          "output_type": "stream",
          "name": "stderr",
          "text": [
            "Epoch [1557/3000]: 100%|█████████████████████████████████████████████████████| 9/9 [00:00<00:00, 211.55it/s, loss=1.19]\n"
          ]
        },
        {
          "output_type": "stream",
          "name": "stdout",
          "text": [
            "Epoch [1557/3000]: Train loss: 1.2334, Valid loss: 1.3610\n"
          ]
        },
        {
          "output_type": "stream",
          "name": "stderr",
          "text": [
            "Epoch [1558/3000]: 100%|█████████████████████████████████████████████████████| 9/9 [00:00<00:00, 179.81it/s, loss=1.53]\n"
          ]
        },
        {
          "output_type": "stream",
          "name": "stdout",
          "text": [
            "Epoch [1558/3000]: Train loss: 1.2618, Valid loss: 1.5069\n"
          ]
        },
        {
          "output_type": "stream",
          "name": "stderr",
          "text": [
            "Epoch [1559/3000]: 100%|██████████████████████████████████████████████████████| 9/9 [00:00<00:00, 197.20it/s, loss=1.5]\n"
          ]
        },
        {
          "output_type": "stream",
          "name": "stdout",
          "text": [
            "Epoch [1559/3000]: Train loss: 1.2567, Valid loss: 1.4117\n"
          ]
        },
        {
          "output_type": "stream",
          "name": "stderr",
          "text": [
            "Epoch [1560/3000]: 100%|█████████████████████████████████████████████████████| 9/9 [00:00<00:00, 183.50it/s, loss=1.23]\n"
          ]
        },
        {
          "output_type": "stream",
          "name": "stdout",
          "text": [
            "Epoch [1560/3000]: Train loss: 1.2330, Valid loss: 1.4579\n"
          ]
        },
        {
          "output_type": "stream",
          "name": "stderr",
          "text": [
            "Epoch [1561/3000]: 100%|█████████████████████████████████████████████████████| 9/9 [00:00<00:00, 178.03it/s, loss=1.32]\n"
          ]
        },
        {
          "output_type": "stream",
          "name": "stdout",
          "text": [
            "Epoch [1561/3000]: Train loss: 1.2365, Valid loss: 1.2146\n"
          ]
        },
        {
          "output_type": "stream",
          "name": "stderr",
          "text": [
            "Epoch [1562/3000]: 100%|█████████████████████████████████████████████████████| 9/9 [00:00<00:00, 189.33it/s, loss=1.25]\n"
          ]
        },
        {
          "output_type": "stream",
          "name": "stdout",
          "text": [
            "Epoch [1562/3000]: Train loss: 1.2409, Valid loss: 1.4130\n"
          ]
        },
        {
          "output_type": "stream",
          "name": "stderr",
          "text": [
            "Epoch [1563/3000]: 100%|█████████████████████████████████████████████████████| 9/9 [00:00<00:00, 174.62it/s, loss=1.38]\n"
          ]
        },
        {
          "output_type": "stream",
          "name": "stdout",
          "text": [
            "Epoch [1563/3000]: Train loss: 1.2486, Valid loss: 1.3135\n"
          ]
        },
        {
          "output_type": "stream",
          "name": "stderr",
          "text": [
            "Epoch [1564/3000]: 100%|█████████████████████████████████████████████████████| 9/9 [00:00<00:00, 176.28it/s, loss=1.15]\n"
          ]
        },
        {
          "output_type": "stream",
          "name": "stdout",
          "text": [
            "Epoch [1564/3000]: Train loss: 1.2273, Valid loss: 1.6325\n"
          ]
        },
        {
          "output_type": "stream",
          "name": "stderr",
          "text": [
            "Epoch [1565/3000]: 100%|████████████████████████████████████████████████████| 9/9 [00:00<00:00, 174.63it/s, loss=0.971]\n"
          ]
        },
        {
          "output_type": "stream",
          "name": "stdout",
          "text": [
            "Epoch [1565/3000]: Train loss: 1.2184, Valid loss: 1.6035\n"
          ]
        },
        {
          "output_type": "stream",
          "name": "stderr",
          "text": [
            "Epoch [1566/3000]: 100%|█████████████████████████████████████████████████████| 9/9 [00:00<00:00, 182.99it/s, loss=1.21]\n"
          ]
        },
        {
          "output_type": "stream",
          "name": "stdout",
          "text": [
            "Epoch [1566/3000]: Train loss: 1.2259, Valid loss: 1.3424\n"
          ]
        },
        {
          "output_type": "stream",
          "name": "stderr",
          "text": [
            "Epoch [1567/3000]: 100%|█████████████████████████████████████████████████████| 9/9 [00:00<00:00, 202.02it/s, loss=1.48]\n"
          ]
        },
        {
          "output_type": "stream",
          "name": "stdout",
          "text": [
            "Epoch [1567/3000]: Train loss: 1.2532, Valid loss: 1.4930\n"
          ]
        },
        {
          "output_type": "stream",
          "name": "stderr",
          "text": [
            "Epoch [1568/3000]: 100%|█████████████████████████████████████████████████████| 9/9 [00:00<00:00, 191.24it/s, loss=1.25]\n"
          ]
        },
        {
          "output_type": "stream",
          "name": "stdout",
          "text": [
            "Epoch [1568/3000]: Train loss: 1.2305, Valid loss: 1.5985\n"
          ]
        },
        {
          "output_type": "stream",
          "name": "stderr",
          "text": [
            "Epoch [1569/3000]: 100%|█████████████████████████████████████████████████████| 9/9 [00:00<00:00, 199.03it/s, loss=1.07]\n"
          ]
        },
        {
          "output_type": "stream",
          "name": "stdout",
          "text": [
            "Epoch [1569/3000]: Train loss: 1.2190, Valid loss: 1.2421\n"
          ]
        },
        {
          "output_type": "stream",
          "name": "stderr",
          "text": [
            "Epoch [1570/3000]: 100%|█████████████████████████████████████████████████████| 9/9 [00:00<00:00, 205.50it/s, loss=1.07]\n"
          ]
        },
        {
          "output_type": "stream",
          "name": "stdout",
          "text": [
            "Epoch [1570/3000]: Train loss: 1.2121, Valid loss: 1.3177\n"
          ]
        },
        {
          "output_type": "stream",
          "name": "stderr",
          "text": [
            "Epoch [1571/3000]: 100%|█████████████████████████████████████████████████████| 9/9 [00:00<00:00, 187.30it/s, loss=1.12]\n"
          ]
        },
        {
          "output_type": "stream",
          "name": "stdout",
          "text": [
            "Epoch [1571/3000]: Train loss: 1.2327, Valid loss: 1.5558\n"
          ]
        },
        {
          "output_type": "stream",
          "name": "stderr",
          "text": [
            "Epoch [1572/3000]: 100%|█████████████████████████████████████████████████████| 9/9 [00:00<00:00, 195.44it/s, loss=1.36]\n"
          ]
        },
        {
          "output_type": "stream",
          "name": "stdout",
          "text": [
            "Epoch [1572/3000]: Train loss: 1.2328, Valid loss: 1.3659\n"
          ]
        },
        {
          "output_type": "stream",
          "name": "stderr",
          "text": [
            "Epoch [1573/3000]: 100%|█████████████████████████████████████████████████████| 9/9 [00:00<00:00, 196.60it/s, loss=1.42]\n"
          ]
        },
        {
          "output_type": "stream",
          "name": "stdout",
          "text": [
            "Epoch [1573/3000]: Train loss: 1.2482, Valid loss: 1.3768\n"
          ]
        },
        {
          "output_type": "stream",
          "name": "stderr",
          "text": [
            "Epoch [1574/3000]: 100%|████████████████████████████████████████████████████| 9/9 [00:00<00:00, 173.53it/s, loss=0.925]\n"
          ]
        },
        {
          "output_type": "stream",
          "name": "stdout",
          "text": [
            "Epoch [1574/3000]: Train loss: 1.2076, Valid loss: 1.2061\n"
          ]
        },
        {
          "output_type": "stream",
          "name": "stderr",
          "text": [
            "Epoch [1575/3000]: 100%|█████████████████████████████████████████████████████| 9/9 [00:00<00:00, 184.75it/s, loss=1.35]\n"
          ]
        },
        {
          "output_type": "stream",
          "name": "stdout",
          "text": [
            "Epoch [1575/3000]: Train loss: 1.2310, Valid loss: 1.5830\n"
          ]
        },
        {
          "output_type": "stream",
          "name": "stderr",
          "text": [
            "Epoch [1576/3000]: 100%|█████████████████████████████████████████████████████| 9/9 [00:00<00:00, 165.24it/s, loss=1.31]\n"
          ]
        },
        {
          "output_type": "stream",
          "name": "stdout",
          "text": [
            "Epoch [1576/3000]: Train loss: 1.2350, Valid loss: 1.3216\n"
          ]
        },
        {
          "output_type": "stream",
          "name": "stderr",
          "text": [
            "Epoch [1577/3000]: 100%|█████████████████████████████████████████████████████| 9/9 [00:00<00:00, 185.99it/s, loss=1.08]"
          ]
        },
        {
          "output_type": "stream",
          "name": "stdout",
          "text": [
            "Epoch [1577/3000]: Train loss: 1.2170, Valid loss: 1.6146"
          ]
        },
        {
          "output_type": "stream",
          "name": "stderr",
          "text": [
            "\n"
          ]
        },
        {
          "output_type": "stream",
          "name": "stdout",
          "text": [
            "\n"
          ]
        },
        {
          "output_type": "stream",
          "name": "stderr",
          "text": [
            "Epoch [1578/3000]: 100%|█████████████████████████████████████████████████████| 9/9 [00:00<00:00, 184.53it/s, loss=1.16]\n"
          ]
        },
        {
          "output_type": "stream",
          "name": "stdout",
          "text": [
            "Epoch [1578/3000]: Train loss: 1.2253, Valid loss: 1.7795\n"
          ]
        },
        {
          "output_type": "stream",
          "name": "stderr",
          "text": [
            "Epoch [1579/3000]: 100%|██████████████████████████████████████████████████████| 9/9 [00:00<00:00, 207.41it/s, loss=1.3]\n"
          ]
        },
        {
          "output_type": "stream",
          "name": "stdout",
          "text": [
            "Epoch [1579/3000]: Train loss: 1.2275, Valid loss: 1.2739\n"
          ]
        },
        {
          "output_type": "stream",
          "name": "stderr",
          "text": [
            "Epoch [1580/3000]: 100%|█████████████████████████████████████████████████████| 9/9 [00:00<00:00, 208.46it/s, loss=1.07]\n"
          ]
        },
        {
          "output_type": "stream",
          "name": "stdout",
          "text": [
            "Epoch [1580/3000]: Train loss: 1.2266, Valid loss: 1.8704\n"
          ]
        },
        {
          "output_type": "stream",
          "name": "stderr",
          "text": [
            "Epoch [1581/3000]: 100%|████████████████████████████████████████████████████| 9/9 [00:00<00:00, 204.23it/s, loss=0.931]\n"
          ]
        },
        {
          "output_type": "stream",
          "name": "stdout",
          "text": [
            "Epoch [1581/3000]: Train loss: 1.2223, Valid loss: 1.3615\n"
          ]
        },
        {
          "output_type": "stream",
          "name": "stderr",
          "text": [
            "Epoch [1582/3000]: 100%|█████████████████████████████████████████████████████| 9/9 [00:00<00:00, 191.04it/s, loss=1.06]\n"
          ]
        },
        {
          "output_type": "stream",
          "name": "stdout",
          "text": [
            "Epoch [1582/3000]: Train loss: 1.2150, Valid loss: 1.3842\n"
          ]
        },
        {
          "output_type": "stream",
          "name": "stderr",
          "text": [
            "Epoch [1583/3000]: 100%|█████████████████████████████████████████████████████| 9/9 [00:00<00:00, 211.56it/s, loss=1.15]\n"
          ]
        },
        {
          "output_type": "stream",
          "name": "stdout",
          "text": [
            "Epoch [1583/3000]: Train loss: 1.2320, Valid loss: 1.5201\n"
          ]
        },
        {
          "output_type": "stream",
          "name": "stderr",
          "text": [
            "Epoch [1584/3000]: 100%|██████████████████████████████████████████████████████| 9/9 [00:00<00:00, 171.15it/s, loss=1.3]\n"
          ]
        },
        {
          "output_type": "stream",
          "name": "stdout",
          "text": [
            "Epoch [1584/3000]: Train loss: 1.2339, Valid loss: 1.3418\n"
          ]
        },
        {
          "output_type": "stream",
          "name": "stderr",
          "text": [
            "Epoch [1585/3000]: 100%|██████████████████████████████████████████████████████| 9/9 [00:00<00:00, 168.08it/s, loss=1.6]\n"
          ]
        },
        {
          "output_type": "stream",
          "name": "stdout",
          "text": [
            "Epoch [1585/3000]: Train loss: 1.2539, Valid loss: 1.2903\n"
          ]
        },
        {
          "output_type": "stream",
          "name": "stderr",
          "text": [
            "Epoch [1586/3000]: 100%|█████████████████████████████████████████████████████| 9/9 [00:00<00:00, 181.69it/s, loss=1.74]\n"
          ]
        },
        {
          "output_type": "stream",
          "name": "stdout",
          "text": [
            "Epoch [1586/3000]: Train loss: 1.2789, Valid loss: 1.4399\n"
          ]
        },
        {
          "output_type": "stream",
          "name": "stderr",
          "text": [
            "Epoch [1587/3000]: 100%|█████████████████████████████████████████████████████| 9/9 [00:00<00:00, 185.38it/s, loss=1.67]\n"
          ]
        },
        {
          "output_type": "stream",
          "name": "stdout",
          "text": [
            "Epoch [1587/3000]: Train loss: 1.2574, Valid loss: 1.6877\n"
          ]
        },
        {
          "output_type": "stream",
          "name": "stderr",
          "text": [
            "Epoch [1588/3000]: 100%|█████████████████████████████████████████████████████| 9/9 [00:00<00:00, 174.55it/s, loss=1.27]\n"
          ]
        },
        {
          "output_type": "stream",
          "name": "stdout",
          "text": [
            "Epoch [1588/3000]: Train loss: 1.2396, Valid loss: 1.5195\n"
          ]
        },
        {
          "output_type": "stream",
          "name": "stderr",
          "text": [
            "Epoch [1589/3000]: 100%|█████████████████████████████████████████████████████| 9/9 [00:00<00:00, 177.91it/s, loss=1.68]\n"
          ]
        },
        {
          "output_type": "stream",
          "name": "stdout",
          "text": [
            "Epoch [1589/3000]: Train loss: 1.2606, Valid loss: 1.3065\n"
          ]
        },
        {
          "output_type": "stream",
          "name": "stderr",
          "text": [
            "Epoch [1590/3000]: 100%|████████████████████████████████████████████████████| 9/9 [00:00<00:00, 200.99it/s, loss=0.793]\n"
          ]
        },
        {
          "output_type": "stream",
          "name": "stdout",
          "text": [
            "Epoch [1590/3000]: Train loss: 1.1948, Valid loss: 1.3051\n"
          ]
        },
        {
          "output_type": "stream",
          "name": "stderr",
          "text": [
            "Epoch [1591/3000]: 100%|█████████████████████████████████████████████████████| 9/9 [00:00<00:00, 204.23it/s, loss=1.31]\n"
          ]
        },
        {
          "output_type": "stream",
          "name": "stdout",
          "text": [
            "Epoch [1591/3000]: Train loss: 1.2334, Valid loss: 1.5146\n"
          ]
        },
        {
          "output_type": "stream",
          "name": "stderr",
          "text": [
            "Epoch [1592/3000]: 100%|██████████████████████████████████████████████████████| 9/9 [00:00<00:00, 185.35it/s, loss=1.2]\n"
          ]
        },
        {
          "output_type": "stream",
          "name": "stdout",
          "text": [
            "Epoch [1592/3000]: Train loss: 1.2334, Valid loss: 1.3121\n"
          ]
        },
        {
          "output_type": "stream",
          "name": "stderr",
          "text": [
            "Epoch [1593/3000]: 100%|████████████████████████████████████████████████████| 9/9 [00:00<00:00, 193.35it/s, loss=0.788]\n"
          ]
        },
        {
          "output_type": "stream",
          "name": "stdout",
          "text": [
            "Epoch [1593/3000]: Train loss: 1.2020, Valid loss: 1.6739\n"
          ]
        },
        {
          "output_type": "stream",
          "name": "stderr",
          "text": [
            "Epoch [1594/3000]: 100%|█████████████████████████████████████████████████████| 9/9 [00:00<00:00, 147.05it/s, loss=1.21]\n"
          ]
        },
        {
          "output_type": "stream",
          "name": "stdout",
          "text": [
            "Epoch [1594/3000]: Train loss: 1.2271, Valid loss: 1.4013\n"
          ]
        },
        {
          "output_type": "stream",
          "name": "stderr",
          "text": [
            "Epoch [1595/3000]: 100%|█████████████████████████████████████████████████████| 9/9 [00:00<00:00, 119.88it/s, loss=1.49]\n"
          ]
        },
        {
          "output_type": "stream",
          "name": "stdout",
          "text": [
            "Epoch [1595/3000]: Train loss: 1.2422, Valid loss: 1.3600\n"
          ]
        },
        {
          "output_type": "stream",
          "name": "stderr",
          "text": [
            "Epoch [1596/3000]: 100%|████████████████████████████████████████████████████| 9/9 [00:00<00:00, 216.69it/s, loss=0.983]\n"
          ]
        },
        {
          "output_type": "stream",
          "name": "stdout",
          "text": [
            "Epoch [1596/3000]: Train loss: 1.2100, Valid loss: 1.4931\n"
          ]
        },
        {
          "output_type": "stream",
          "name": "stderr",
          "text": [
            "Epoch [1597/3000]: 100%|█████████████████████████████████████████████████████| 9/9 [00:00<00:00, 195.42it/s, loss=1.05]\n"
          ]
        },
        {
          "output_type": "stream",
          "name": "stdout",
          "text": [
            "Epoch [1597/3000]: Train loss: 1.2284, Valid loss: 1.3469\n"
          ]
        },
        {
          "output_type": "stream",
          "name": "stderr",
          "text": [
            "Epoch [1598/3000]: 100%|█████████████████████████████████████████████████████| 9/9 [00:00<00:00, 181.67it/s, loss=1.32]\n"
          ]
        },
        {
          "output_type": "stream",
          "name": "stdout",
          "text": [
            "Epoch [1598/3000]: Train loss: 1.2390, Valid loss: 1.3142\n"
          ]
        },
        {
          "output_type": "stream",
          "name": "stderr",
          "text": [
            "Epoch [1599/3000]: 100%|██████████████████████████████████████████████████████| 9/9 [00:00<00:00, 169.61it/s, loss=1.2]\n"
          ]
        },
        {
          "output_type": "stream",
          "name": "stdout",
          "text": [
            "Epoch [1599/3000]: Train loss: 1.2431, Valid loss: 1.3740\n"
          ]
        },
        {
          "output_type": "stream",
          "name": "stderr",
          "text": [
            "Epoch [1600/3000]: 100%|█████████████████████████████████████████████████████| 9/9 [00:00<00:00, 202.10it/s, loss=1.03]\n"
          ]
        },
        {
          "output_type": "stream",
          "name": "stdout",
          "text": [
            "Epoch [1600/3000]: Train loss: 1.2293, Valid loss: 1.2399\n"
          ]
        },
        {
          "output_type": "stream",
          "name": "stderr",
          "text": [
            "Epoch [1601/3000]: 100%|████████████████████████████████████████████████████| 9/9 [00:00<00:00, 189.34it/s, loss=0.909]\n"
          ]
        },
        {
          "output_type": "stream",
          "name": "stdout",
          "text": [
            "Epoch [1601/3000]: Train loss: 1.2114, Valid loss: 1.6994\n"
          ]
        },
        {
          "output_type": "stream",
          "name": "stderr",
          "text": [
            "Epoch [1602/3000]: 100%|█████████████████████████████████████████████████████| 9/9 [00:00<00:00, 191.31it/s, loss=1.23]\n"
          ]
        },
        {
          "output_type": "stream",
          "name": "stdout",
          "text": [
            "Epoch [1602/3000]: Train loss: 1.2258, Valid loss: 1.3042\n"
          ]
        },
        {
          "output_type": "stream",
          "name": "stderr",
          "text": [
            "Epoch [1603/3000]: 100%|█████████████████████████████████████████████████████| 9/9 [00:00<00:00, 199.88it/s, loss=1.11]\n"
          ]
        },
        {
          "output_type": "stream",
          "name": "stdout",
          "text": [
            "Epoch [1603/3000]: Train loss: 1.2141, Valid loss: 1.3865\n"
          ]
        },
        {
          "output_type": "stream",
          "name": "stderr",
          "text": [
            "Epoch [1604/3000]: 100%|█████████████████████████████████████████████████████| 9/9 [00:00<00:00, 210.93it/s, loss=1.27]\n"
          ]
        },
        {
          "output_type": "stream",
          "name": "stdout",
          "text": [
            "Epoch [1604/3000]: Train loss: 1.2287, Valid loss: 1.8339\n"
          ]
        },
        {
          "output_type": "stream",
          "name": "stderr",
          "text": [
            "Epoch [1605/3000]: 100%|█████████████████████████████████████████████████████| 9/9 [00:00<00:00, 206.65it/s, loss=1.35]\n"
          ]
        },
        {
          "output_type": "stream",
          "name": "stdout",
          "text": [
            "Epoch [1605/3000]: Train loss: 1.2539, Valid loss: 1.5415\n"
          ]
        },
        {
          "output_type": "stream",
          "name": "stderr",
          "text": [
            "Epoch [1606/3000]: 100%|████████████████████████████████████████████████████| 9/9 [00:00<00:00, 191.01it/s, loss=0.893]\n"
          ]
        },
        {
          "output_type": "stream",
          "name": "stdout",
          "text": [
            "Epoch [1606/3000]: Train loss: 1.2026, Valid loss: 1.3443\n"
          ]
        },
        {
          "output_type": "stream",
          "name": "stderr",
          "text": [
            "Epoch [1607/3000]: 100%|█████████████████████████████████████████████████████| 9/9 [00:00<00:00, 197.64it/s, loss=1.19]\n"
          ]
        },
        {
          "output_type": "stream",
          "name": "stdout",
          "text": [
            "Epoch [1607/3000]: Train loss: 1.2254, Valid loss: 1.3712\n"
          ]
        },
        {
          "output_type": "stream",
          "name": "stderr",
          "text": [
            "Epoch [1608/3000]: 100%|█████████████████████████████████████████████████████| 9/9 [00:00<00:00, 179.27it/s, loss=1.19]\n"
          ]
        },
        {
          "output_type": "stream",
          "name": "stdout",
          "text": [
            "Epoch [1608/3000]: Train loss: 1.2402, Valid loss: 1.5105\n"
          ]
        },
        {
          "output_type": "stream",
          "name": "stderr",
          "text": [
            "Epoch [1609/3000]: 100%|█████████████████████████████████████████████████████| 9/9 [00:00<00:00, 187.26it/s, loss=1.18]\n"
          ]
        },
        {
          "output_type": "stream",
          "name": "stdout",
          "text": [
            "Epoch [1609/3000]: Train loss: 1.2391, Valid loss: 1.6856\n"
          ]
        },
        {
          "output_type": "stream",
          "name": "stderr",
          "text": [
            "Epoch [1610/3000]: 100%|█████████████████████████████████████████████████████| 9/9 [00:00<00:00, 172.87it/s, loss=1.12]\n"
          ]
        },
        {
          "output_type": "stream",
          "name": "stdout",
          "text": [
            "Epoch [1610/3000]: Train loss: 1.2228, Valid loss: 1.3859\n"
          ]
        },
        {
          "output_type": "stream",
          "name": "stderr",
          "text": [
            "Epoch [1611/3000]: 100%|█████████████████████████████████████████████████████| 9/9 [00:00<00:00, 137.78it/s, loss=1.38]\n"
          ]
        },
        {
          "output_type": "stream",
          "name": "stdout",
          "text": [
            "Epoch [1611/3000]: Train loss: 1.2409, Valid loss: 1.6357\n"
          ]
        },
        {
          "output_type": "stream",
          "name": "stderr",
          "text": [
            "Epoch [1612/3000]: 100%|█████████████████████████████████████████████████████| 9/9 [00:00<00:00, 189.33it/s, loss=1.66]\n"
          ]
        },
        {
          "output_type": "stream",
          "name": "stdout",
          "text": [
            "Epoch [1612/3000]: Train loss: 1.2613, Valid loss: 1.2833\n"
          ]
        },
        {
          "output_type": "stream",
          "name": "stderr",
          "text": [
            "Epoch [1613/3000]: 100%|█████████████████████████████████████████████████████| 9/9 [00:00<00:00, 187.26it/s, loss=1.04]\n"
          ]
        },
        {
          "output_type": "stream",
          "name": "stdout",
          "text": [
            "Epoch [1613/3000]: Train loss: 1.2091, Valid loss: 1.3307\n"
          ]
        },
        {
          "output_type": "stream",
          "name": "stderr",
          "text": [
            "Epoch [1614/3000]: 100%|█████████████████████████████████████████████████████| 9/9 [00:00<00:00, 197.25it/s, loss=1.34]\n"
          ]
        },
        {
          "output_type": "stream",
          "name": "stdout",
          "text": [
            "Epoch [1614/3000]: Train loss: 1.2392, Valid loss: 1.3282\n"
          ]
        },
        {
          "output_type": "stream",
          "name": "stderr",
          "text": [
            "Epoch [1615/3000]: 100%|█████████████████████████████████████████████████████| 9/9 [00:00<00:00, 209.17it/s, loss=1.29]\n"
          ]
        },
        {
          "output_type": "stream",
          "name": "stdout",
          "text": [
            "Epoch [1615/3000]: Train loss: 1.2389, Valid loss: 1.3706\n"
          ]
        },
        {
          "output_type": "stream",
          "name": "stderr",
          "text": [
            "Epoch [1616/3000]: 100%|█████████████████████████████████████████████████████| 9/9 [00:00<00:00, 195.43it/s, loss=1.49]\n"
          ]
        },
        {
          "output_type": "stream",
          "name": "stdout",
          "text": [
            "Epoch [1616/3000]: Train loss: 1.2535, Valid loss: 1.5495\n"
          ]
        },
        {
          "output_type": "stream",
          "name": "stderr",
          "text": [
            "Epoch [1617/3000]: 100%|█████████████████████████████████████████████████████| 9/9 [00:00<00:00, 189.33it/s, loss=1.25]\n"
          ]
        },
        {
          "output_type": "stream",
          "name": "stdout",
          "text": [
            "Epoch [1617/3000]: Train loss: 1.2312, Valid loss: 1.2869\n"
          ]
        },
        {
          "output_type": "stream",
          "name": "stderr",
          "text": [
            "Epoch [1618/3000]: 100%|█████████████████████████████████████████████████████| 9/9 [00:00<00:00, 178.00it/s, loss=1.14]\n"
          ]
        },
        {
          "output_type": "stream",
          "name": "stdout",
          "text": [
            "Epoch [1618/3000]: Train loss: 1.2146, Valid loss: 1.4885\n"
          ]
        },
        {
          "output_type": "stream",
          "name": "stderr",
          "text": [
            "Epoch [1619/3000]: 100%|█████████████████████████████████████████████████████| 9/9 [00:00<00:00, 216.65it/s, loss=1.16]\n"
          ]
        },
        {
          "output_type": "stream",
          "name": "stdout",
          "text": [
            "Epoch [1619/3000]: Train loss: 1.2156, Valid loss: 1.3623\n"
          ]
        },
        {
          "output_type": "stream",
          "name": "stderr",
          "text": [
            "Epoch [1620/3000]: 100%|█████████████████████████████████████████████████████| 9/9 [00:00<00:00, 191.24it/s, loss=1.25]\n"
          ]
        },
        {
          "output_type": "stream",
          "name": "stdout",
          "text": [
            "Epoch [1620/3000]: Train loss: 1.2289, Valid loss: 1.2945\n"
          ]
        },
        {
          "output_type": "stream",
          "name": "stderr",
          "text": [
            "Epoch [1621/3000]: 100%|████████████████████████████████████████████████████| 9/9 [00:00<00:00, 206.65it/s, loss=0.843]\n"
          ]
        },
        {
          "output_type": "stream",
          "name": "stdout",
          "text": [
            "Epoch [1621/3000]: Train loss: 1.1971, Valid loss: 1.2323\n"
          ]
        },
        {
          "output_type": "stream",
          "name": "stderr",
          "text": [
            "Epoch [1622/3000]: 100%|████████████████████████████████████████████████████| 9/9 [00:00<00:00, 201.10it/s, loss=0.869]\n"
          ]
        },
        {
          "output_type": "stream",
          "name": "stdout",
          "text": [
            "Epoch [1622/3000]: Train loss: 1.1942, Valid loss: 1.7605\n"
          ]
        },
        {
          "output_type": "stream",
          "name": "stderr",
          "text": [
            "Epoch [1623/3000]: 100%|█████████████████████████████████████████████████████| 9/9 [00:00<00:00, 193.40it/s, loss=1.27]\n"
          ]
        },
        {
          "output_type": "stream",
          "name": "stdout",
          "text": [
            "Epoch [1623/3000]: Train loss: 1.2276, Valid loss: 1.3481\n"
          ]
        },
        {
          "output_type": "stream",
          "name": "stderr",
          "text": [
            "Epoch [1624/3000]: 100%|█████████████████████████████████████████████████████| 9/9 [00:00<00:00, 211.17it/s, loss=1.15]\n"
          ]
        },
        {
          "output_type": "stream",
          "name": "stdout",
          "text": [
            "Epoch [1624/3000]: Train loss: 1.2158, Valid loss: 1.2363\n"
          ]
        },
        {
          "output_type": "stream",
          "name": "stderr",
          "text": [
            "Epoch [1625/3000]: 100%|█████████████████████████████████████████████████████| 9/9 [00:00<00:00, 176.53it/s, loss=1.43]\n"
          ]
        },
        {
          "output_type": "stream",
          "name": "stdout",
          "text": [
            "Epoch [1625/3000]: Train loss: 1.2364, Valid loss: 1.6258\n"
          ]
        },
        {
          "output_type": "stream",
          "name": "stderr",
          "text": [
            "Epoch [1626/3000]: 100%|█████████████████████████████████████████████████████| 9/9 [00:00<00:00, 178.83it/s, loss=2.11]\n"
          ]
        },
        {
          "output_type": "stream",
          "name": "stdout",
          "text": [
            "Epoch [1626/3000]: Train loss: 1.2816, Valid loss: 1.2644\n"
          ]
        },
        {
          "output_type": "stream",
          "name": "stderr",
          "text": [
            "Epoch [1627/3000]: 100%|█████████████████████████████████████████████████████| 9/9 [00:00<00:00, 209.73it/s, loss=1.33]\n"
          ]
        },
        {
          "output_type": "stream",
          "name": "stdout",
          "text": [
            "Epoch [1627/3000]: Train loss: 1.2220, Valid loss: 1.1813\n"
          ]
        },
        {
          "output_type": "stream",
          "name": "stderr",
          "text": [
            "Epoch [1628/3000]: 100%|██████████████████████████████████████████████████████| 9/9 [00:00<00:00, 197.65it/s, loss=1.5]\n"
          ]
        },
        {
          "output_type": "stream",
          "name": "stdout",
          "text": [
            "Epoch [1628/3000]: Train loss: 1.2347, Valid loss: 1.3345\n"
          ]
        },
        {
          "output_type": "stream",
          "name": "stderr",
          "text": [
            "Epoch [1629/3000]: 100%|██████████████████████████████████████████████████████| 9/9 [00:00<00:00, 194.86it/s, loss=1.2]\n"
          ]
        },
        {
          "output_type": "stream",
          "name": "stdout",
          "text": [
            "Epoch [1629/3000]: Train loss: 1.2262, Valid loss: 1.4309\n"
          ]
        },
        {
          "output_type": "stream",
          "name": "stderr",
          "text": [
            "Epoch [1630/3000]: 100%|█████████████████████████████████████████████████████| 9/9 [00:00<00:00, 195.32it/s, loss=1.35]\n"
          ]
        },
        {
          "output_type": "stream",
          "name": "stdout",
          "text": [
            "Epoch [1630/3000]: Train loss: 1.2482, Valid loss: 1.2033\n"
          ]
        },
        {
          "output_type": "stream",
          "name": "stderr",
          "text": [
            "Epoch [1631/3000]: 100%|████████████████████████████████████████████████████| 9/9 [00:00<00:00, 162.75it/s, loss=0.962]\n"
          ]
        },
        {
          "output_type": "stream",
          "name": "stdout",
          "text": [
            "Epoch [1631/3000]: Train loss: 1.2099, Valid loss: 1.3229\n"
          ]
        },
        {
          "output_type": "stream",
          "name": "stderr",
          "text": [
            "Epoch [1632/3000]: 100%|█████████████████████████████████████████████████████| 9/9 [00:00<00:00, 194.58it/s, loss=1.42]\n"
          ]
        },
        {
          "output_type": "stream",
          "name": "stdout",
          "text": [
            "Epoch [1632/3000]: Train loss: 1.2462, Valid loss: 1.2123\n"
          ]
        },
        {
          "output_type": "stream",
          "name": "stderr",
          "text": [
            "Epoch [1633/3000]: 100%|█████████████████████████████████████████████████████| 9/9 [00:00<00:00, 165.41it/s, loss=1.11]\n"
          ]
        },
        {
          "output_type": "stream",
          "name": "stdout",
          "text": [
            "Epoch [1633/3000]: Train loss: 1.2145, Valid loss: 1.4317\n"
          ]
        },
        {
          "output_type": "stream",
          "name": "stderr",
          "text": [
            "Epoch [1634/3000]: 100%|█████████████████████████████████████████████████████| 9/9 [00:00<00:00, 163.30it/s, loss=1.14]"
          ]
        },
        {
          "output_type": "stream",
          "name": "stdout",
          "text": [
            "Epoch [1634/3000]: Train loss: 1.2299, Valid loss: 1.4296"
          ]
        },
        {
          "output_type": "stream",
          "name": "stderr",
          "text": [
            "\n"
          ]
        },
        {
          "output_type": "stream",
          "name": "stdout",
          "text": [
            "\n"
          ]
        },
        {
          "output_type": "stream",
          "name": "stderr",
          "text": [
            "Epoch [1635/3000]: 100%|██████████████████████████████████████████████████████| 9/9 [00:00<00:00, 162.02it/s, loss=1.2]\n"
          ]
        },
        {
          "output_type": "stream",
          "name": "stdout",
          "text": [
            "Epoch [1635/3000]: Train loss: 1.2171, Valid loss: 1.1941\n"
          ]
        },
        {
          "output_type": "stream",
          "name": "stderr",
          "text": [
            "Epoch [1636/3000]: 100%|█████████████████████████████████████████████████████| 9/9 [00:00<00:00, 195.44it/s, loss=1.15]\n"
          ]
        },
        {
          "output_type": "stream",
          "name": "stdout",
          "text": [
            "Epoch [1636/3000]: Train loss: 1.2203, Valid loss: 1.4845\n"
          ]
        },
        {
          "output_type": "stream",
          "name": "stderr",
          "text": [
            "Epoch [1637/3000]: 100%|█████████████████████████████████████████████████████| 9/9 [00:00<00:00, 181.55it/s, loss=1.21]\n"
          ]
        },
        {
          "output_type": "stream",
          "name": "stdout",
          "text": [
            "Epoch [1637/3000]: Train loss: 1.2306, Valid loss: 1.5184\n"
          ]
        },
        {
          "output_type": "stream",
          "name": "stderr",
          "text": [
            "Epoch [1638/3000]: 100%|█████████████████████████████████████████████████████| 9/9 [00:00<00:00, 185.14it/s, loss=1.03]\n"
          ]
        },
        {
          "output_type": "stream",
          "name": "stdout",
          "text": [
            "Epoch [1638/3000]: Train loss: 1.2079, Valid loss: 1.4047\n"
          ]
        },
        {
          "output_type": "stream",
          "name": "stderr",
          "text": [
            "Epoch [1639/3000]: 100%|█████████████████████████████████████████████████████| 9/9 [00:00<00:00, 183.66it/s, loss=1.04]\n"
          ]
        },
        {
          "output_type": "stream",
          "name": "stdout",
          "text": [
            "Epoch [1639/3000]: Train loss: 1.2355, Valid loss: 1.2772\n"
          ]
        },
        {
          "output_type": "stream",
          "name": "stderr",
          "text": [
            "Epoch [1640/3000]: 100%|█████████████████████████████████████████████████████| 9/9 [00:00<00:00, 189.65it/s, loss=1.59]\n"
          ]
        },
        {
          "output_type": "stream",
          "name": "stdout",
          "text": [
            "Epoch [1640/3000]: Train loss: 1.2457, Valid loss: 1.4080\n"
          ]
        },
        {
          "output_type": "stream",
          "name": "stderr",
          "text": [
            "Epoch [1641/3000]: 100%|█████████████████████████████████████████████████████| 9/9 [00:00<00:00, 193.32it/s, loss=1.03]\n"
          ]
        },
        {
          "output_type": "stream",
          "name": "stdout",
          "text": [
            "Epoch [1641/3000]: Train loss: 1.2059, Valid loss: 1.1691\n"
          ]
        },
        {
          "output_type": "stream",
          "name": "stderr",
          "text": [
            "Epoch [1642/3000]: 100%|██████████████████████████████████████████████████████| 9/9 [00:00<00:00, 166.50it/s, loss=1.4]\n"
          ]
        },
        {
          "output_type": "stream",
          "name": "stdout",
          "text": [
            "Epoch [1642/3000]: Train loss: 1.2228, Valid loss: 1.3755\n"
          ]
        },
        {
          "output_type": "stream",
          "name": "stderr",
          "text": [
            "Epoch [1643/3000]: 100%|█████████████████████████████████████████████████████| 9/9 [00:00<00:00, 219.16it/s, loss=1.04]\n"
          ]
        },
        {
          "output_type": "stream",
          "name": "stdout",
          "text": [
            "Epoch [1643/3000]: Train loss: 1.2000, Valid loss: 1.2131\n"
          ]
        },
        {
          "output_type": "stream",
          "name": "stderr",
          "text": [
            "Epoch [1644/3000]: 100%|█████████████████████████████████████████████████████| 9/9 [00:00<00:00, 194.57it/s, loss=1.51]\n"
          ]
        },
        {
          "output_type": "stream",
          "name": "stdout",
          "text": [
            "Epoch [1644/3000]: Train loss: 1.2375, Valid loss: 1.4595\n"
          ]
        },
        {
          "output_type": "stream",
          "name": "stderr",
          "text": [
            "Epoch [1645/3000]: 100%|█████████████████████████████████████████████████████| 9/9 [00:00<00:00, 204.14it/s, loss=1.64]\n"
          ]
        },
        {
          "output_type": "stream",
          "name": "stdout",
          "text": [
            "Epoch [1645/3000]: Train loss: 1.2387, Valid loss: 1.6060\n"
          ]
        },
        {
          "output_type": "stream",
          "name": "stderr",
          "text": [
            "Epoch [1646/3000]: 100%|█████████████████████████████████████████████████████| 9/9 [00:00<00:00, 203.89it/s, loss=1.22]\n"
          ]
        },
        {
          "output_type": "stream",
          "name": "stdout",
          "text": [
            "Epoch [1646/3000]: Train loss: 1.2144, Valid loss: 1.5288\n"
          ]
        },
        {
          "output_type": "stream",
          "name": "stderr",
          "text": [
            "Epoch [1647/3000]: 100%|█████████████████████████████████████████████████████| 9/9 [00:00<00:00, 210.95it/s, loss=1.23]\n"
          ]
        },
        {
          "output_type": "stream",
          "name": "stdout",
          "text": [
            "Epoch [1647/3000]: Train loss: 1.2145, Valid loss: 1.2904\n"
          ]
        },
        {
          "output_type": "stream",
          "name": "stderr",
          "text": [
            "Epoch [1648/3000]: 100%|█████████████████████████████████████████████████████| 9/9 [00:00<00:00, 192.31it/s, loss=1.27]\n"
          ]
        },
        {
          "output_type": "stream",
          "name": "stdout",
          "text": [
            "Epoch [1648/3000]: Train loss: 1.2185, Valid loss: 1.1629\n"
          ]
        },
        {
          "output_type": "stream",
          "name": "stderr",
          "text": [
            "Epoch [1649/3000]: 100%|█████████████████████████████████████████████████████| 9/9 [00:00<00:00, 159.14it/s, loss=1.13]\n"
          ]
        },
        {
          "output_type": "stream",
          "name": "stdout",
          "text": [
            "Epoch [1649/3000]: Train loss: 1.2048, Valid loss: 1.4380\n"
          ]
        },
        {
          "output_type": "stream",
          "name": "stderr",
          "text": [
            "Epoch [1650/3000]: 100%|█████████████████████████████████████████████████████| 9/9 [00:00<00:00, 169.45it/s, loss=1.21]"
          ]
        },
        {
          "output_type": "stream",
          "name": "stdout",
          "text": [
            "Epoch [1650/3000]: Train loss: 1.2271, Valid loss: 1.3779"
          ]
        },
        {
          "output_type": "stream",
          "name": "stderr",
          "text": [
            "\n"
          ]
        },
        {
          "output_type": "stream",
          "name": "stdout",
          "text": [
            "\n"
          ]
        },
        {
          "output_type": "stream",
          "name": "stderr",
          "text": [
            "Epoch [1651/3000]: 100%|█████████████████████████████████████████████████████| 9/9 [00:00<00:00, 176.99it/s, loss=1.04]\n"
          ]
        },
        {
          "output_type": "stream",
          "name": "stdout",
          "text": [
            "Epoch [1651/3000]: Train loss: 1.2034, Valid loss: 1.4123\n"
          ]
        },
        {
          "output_type": "stream",
          "name": "stderr",
          "text": [
            "Epoch [1652/3000]: 100%|█████████████████████████████████████████████████████| 9/9 [00:00<00:00, 182.35it/s, loss=1.09]\n"
          ]
        },
        {
          "output_type": "stream",
          "name": "stdout",
          "text": [
            "Epoch [1652/3000]: Train loss: 1.2074, Valid loss: 1.4498\n"
          ]
        },
        {
          "output_type": "stream",
          "name": "stderr",
          "text": [
            "Epoch [1653/3000]: 100%|█████████████████████████████████████████████████████| 9/9 [00:00<00:00, 193.88it/s, loss=1.27]\n"
          ]
        },
        {
          "output_type": "stream",
          "name": "stdout",
          "text": [
            "Epoch [1653/3000]: Train loss: 1.2155, Valid loss: 1.3728\n"
          ]
        },
        {
          "output_type": "stream",
          "name": "stderr",
          "text": [
            "Epoch [1654/3000]: 100%|█████████████████████████████████████████████████████| 9/9 [00:00<00:00, 191.33it/s, loss=1.13]\n"
          ]
        },
        {
          "output_type": "stream",
          "name": "stdout",
          "text": [
            "Epoch [1654/3000]: Train loss: 1.2074, Valid loss: 1.7660\n"
          ]
        },
        {
          "output_type": "stream",
          "name": "stderr",
          "text": [
            "Epoch [1655/3000]: 100%|████████████████████████████████████████████████████| 9/9 [00:00<00:00, 189.18it/s, loss=0.925]\n"
          ]
        },
        {
          "output_type": "stream",
          "name": "stdout",
          "text": [
            "Epoch [1655/3000]: Train loss: 1.2338, Valid loss: 1.5004\n"
          ]
        },
        {
          "output_type": "stream",
          "name": "stderr",
          "text": [
            "Epoch [1656/3000]: 100%|██████████████████████████████████████████████████████| 9/9 [00:00<00:00, 181.67it/s, loss=1.3]\n"
          ]
        },
        {
          "output_type": "stream",
          "name": "stdout",
          "text": [
            "Epoch [1656/3000]: Train loss: 1.2290, Valid loss: 1.4166\n"
          ]
        },
        {
          "output_type": "stream",
          "name": "stderr",
          "text": [
            "Epoch [1657/3000]: 100%|█████████████████████████████████████████████████████| 9/9 [00:00<00:00, 175.10it/s, loss=1.21]\n"
          ]
        },
        {
          "output_type": "stream",
          "name": "stdout",
          "text": [
            "Epoch [1657/3000]: Train loss: 1.2126, Valid loss: 1.3956\n"
          ]
        },
        {
          "output_type": "stream",
          "name": "stderr",
          "text": [
            "Epoch [1658/3000]: 100%|█████████████████████████████████████████████████████| 9/9 [00:00<00:00, 170.53it/s, loss=1.14]"
          ]
        },
        {
          "output_type": "stream",
          "name": "stdout",
          "text": [
            "Epoch [1658/3000]: Train loss: 1.2227, Valid loss: 1.4751"
          ]
        },
        {
          "output_type": "stream",
          "name": "stderr",
          "text": [
            "\n"
          ]
        },
        {
          "output_type": "stream",
          "name": "stdout",
          "text": [
            "\n"
          ]
        },
        {
          "output_type": "stream",
          "name": "stderr",
          "text": [
            "Epoch [1659/3000]: 100%|█████████████████████████████████████████████████████| 9/9 [00:00<00:00, 185.72it/s, loss=1.55]\n"
          ]
        },
        {
          "output_type": "stream",
          "name": "stdout",
          "text": [
            "Epoch [1659/3000]: Train loss: 1.2392, Valid loss: 1.2602\n"
          ]
        },
        {
          "output_type": "stream",
          "name": "stderr",
          "text": [
            "Epoch [1660/3000]: 100%|█████████████████████████████████████████████████████| 9/9 [00:00<00:00, 174.46it/s, loss=0.91]\n"
          ]
        },
        {
          "output_type": "stream",
          "name": "stdout",
          "text": [
            "Epoch [1660/3000]: Train loss: 1.2038, Valid loss: 1.4887\n"
          ]
        },
        {
          "output_type": "stream",
          "name": "stderr",
          "text": [
            "Epoch [1661/3000]: 100%|█████████████████████████████████████████████████████| 9/9 [00:00<00:00, 179.11it/s, loss=1.33]\n"
          ]
        },
        {
          "output_type": "stream",
          "name": "stdout",
          "text": [
            "Epoch [1661/3000]: Train loss: 1.2247, Valid loss: 1.3253\n"
          ]
        },
        {
          "output_type": "stream",
          "name": "stderr",
          "text": [
            "Epoch [1662/3000]: 100%|█████████████████████████████████████████████████████| 9/9 [00:00<00:00, 189.40it/s, loss=1.49]\n"
          ]
        },
        {
          "output_type": "stream",
          "name": "stdout",
          "text": [
            "Epoch [1662/3000]: Train loss: 1.2382, Valid loss: 1.4320\n"
          ]
        },
        {
          "output_type": "stream",
          "name": "stderr",
          "text": [
            "Epoch [1663/3000]: 100%|█████████████████████████████████████████████████████| 9/9 [00:00<00:00, 169.09it/s, loss=1.23]\n"
          ]
        },
        {
          "output_type": "stream",
          "name": "stdout",
          "text": [
            "Epoch [1663/3000]: Train loss: 1.2224, Valid loss: 1.4833\n"
          ]
        },
        {
          "output_type": "stream",
          "name": "stderr",
          "text": [
            "Epoch [1664/3000]: 100%|█████████████████████████████████████████████████████| 9/9 [00:00<00:00, 188.91it/s, loss=1.89]\n"
          ]
        },
        {
          "output_type": "stream",
          "name": "stdout",
          "text": [
            "Epoch [1664/3000]: Train loss: 1.2587, Valid loss: 1.4970\n"
          ]
        },
        {
          "output_type": "stream",
          "name": "stderr",
          "text": [
            "Epoch [1665/3000]: 100%|████████████████████████████████████████████████████| 9/9 [00:00<00:00, 183.48it/s, loss=0.971]\n"
          ]
        },
        {
          "output_type": "stream",
          "name": "stdout",
          "text": [
            "Epoch [1665/3000]: Train loss: 1.2013, Valid loss: 1.3707\n"
          ]
        },
        {
          "output_type": "stream",
          "name": "stderr",
          "text": [
            "Epoch [1666/3000]: 100%|█████████████████████████████████████████████████████| 9/9 [00:00<00:00, 189.35it/s, loss=1.28]\n"
          ]
        },
        {
          "output_type": "stream",
          "name": "stdout",
          "text": [
            "Epoch [1666/3000]: Train loss: 1.2199, Valid loss: 1.2841\n"
          ]
        },
        {
          "output_type": "stream",
          "name": "stderr",
          "text": [
            "Epoch [1667/3000]: 100%|█████████████████████████████████████████████████████| 9/9 [00:00<00:00, 198.85it/s, loss=1.27]\n"
          ]
        },
        {
          "output_type": "stream",
          "name": "stdout",
          "text": [
            "Epoch [1667/3000]: Train loss: 1.2516, Valid loss: 1.2713\n"
          ]
        },
        {
          "output_type": "stream",
          "name": "stderr",
          "text": [
            "Epoch [1668/3000]: 100%|██████████████████████████████████████████████████████| 9/9 [00:00<00:00, 172.88it/s, loss=1.4]\n"
          ]
        },
        {
          "output_type": "stream",
          "name": "stdout",
          "text": [
            "Epoch [1668/3000]: Train loss: 1.2280, Valid loss: 1.3470\n"
          ]
        },
        {
          "output_type": "stream",
          "name": "stderr",
          "text": [
            "Epoch [1669/3000]: 100%|█████████████████████████████████████████████████████| 9/9 [00:00<00:00, 206.50it/s, loss=1.23]\n"
          ]
        },
        {
          "output_type": "stream",
          "name": "stdout",
          "text": [
            "Epoch [1669/3000]: Train loss: 1.2122, Valid loss: 1.2652\n"
          ]
        },
        {
          "output_type": "stream",
          "name": "stderr",
          "text": [
            "Epoch [1670/3000]: 100%|█████████████████████████████████████████████████████| 9/9 [00:00<00:00, 206.69it/s, loss=1.12]\n"
          ]
        },
        {
          "output_type": "stream",
          "name": "stdout",
          "text": [
            "Epoch [1670/3000]: Train loss: 1.2168, Valid loss: 1.3099\n"
          ]
        },
        {
          "output_type": "stream",
          "name": "stderr",
          "text": [
            "Epoch [1671/3000]: 100%|█████████████████████████████████████████████████████| 9/9 [00:00<00:00, 216.65it/s, loss=1.24]\n"
          ]
        },
        {
          "output_type": "stream",
          "name": "stdout",
          "text": [
            "Epoch [1671/3000]: Train loss: 1.2299, Valid loss: 1.2359\n"
          ]
        },
        {
          "output_type": "stream",
          "name": "stderr",
          "text": [
            "Epoch [1672/3000]: 100%|██████████████████████████████████████████████████████| 9/9 [00:00<00:00, 202.09it/s, loss=1.2]\n"
          ]
        },
        {
          "output_type": "stream",
          "name": "stdout",
          "text": [
            "Epoch [1672/3000]: Train loss: 1.2158, Valid loss: 1.4147\n"
          ]
        },
        {
          "output_type": "stream",
          "name": "stderr",
          "text": [
            "Epoch [1673/3000]: 100%|█████████████████████████████████████████████████████| 9/9 [00:00<00:00, 204.37it/s, loss=1.14]\n"
          ]
        },
        {
          "output_type": "stream",
          "name": "stdout",
          "text": [
            "Epoch [1673/3000]: Train loss: 1.2181, Valid loss: 1.4768\n"
          ]
        },
        {
          "output_type": "stream",
          "name": "stderr",
          "text": [
            "Epoch [1674/3000]: 100%|██████████████████████████████████████████████████████| 9/9 [00:00<00:00, 204.28it/s, loss=1.3]\n"
          ]
        },
        {
          "output_type": "stream",
          "name": "stdout",
          "text": [
            "Epoch [1674/3000]: Train loss: 1.2288, Valid loss: 1.2221\n"
          ]
        },
        {
          "output_type": "stream",
          "name": "stderr",
          "text": [
            "Epoch [1675/3000]: 100%|█████████████████████████████████████████████████████| 9/9 [00:00<00:00, 202.10it/s, loss=1.26]\n"
          ]
        },
        {
          "output_type": "stream",
          "name": "stdout",
          "text": [
            "Epoch [1675/3000]: Train loss: 1.2118, Valid loss: 1.7492\n"
          ]
        },
        {
          "output_type": "stream",
          "name": "stderr",
          "text": [
            "Epoch [1676/3000]: 100%|█████████████████████████████████████████████████████| 9/9 [00:00<00:00, 193.37it/s, loss=1.02]\n"
          ]
        },
        {
          "output_type": "stream",
          "name": "stdout",
          "text": [
            "Epoch [1676/3000]: Train loss: 1.1969, Valid loss: 1.5453\n"
          ]
        },
        {
          "output_type": "stream",
          "name": "stderr",
          "text": [
            "Epoch [1677/3000]: 100%|████████████████████████████████████████████████████| 9/9 [00:00<00:00, 185.42it/s, loss=0.893]\n"
          ]
        },
        {
          "output_type": "stream",
          "name": "stdout",
          "text": [
            "Epoch [1677/3000]: Train loss: 1.1933, Valid loss: 1.1841\n"
          ]
        },
        {
          "output_type": "stream",
          "name": "stderr",
          "text": [
            "Epoch [1678/3000]: 100%|█████████████████████████████████████████████████████| 9/9 [00:00<00:00, 169.03it/s, loss=1.28]\n"
          ]
        },
        {
          "output_type": "stream",
          "name": "stdout",
          "text": [
            "Epoch [1678/3000]: Train loss: 1.2157, Valid loss: 1.2891\n"
          ]
        },
        {
          "output_type": "stream",
          "name": "stderr",
          "text": [
            "Epoch [1679/3000]: 100%|█████████████████████████████████████████████████████| 9/9 [00:00<00:00, 199.76it/s, loss=1.32]\n"
          ]
        },
        {
          "output_type": "stream",
          "name": "stdout",
          "text": [
            "Epoch [1679/3000]: Train loss: 1.2198, Valid loss: 1.3749\n"
          ]
        },
        {
          "output_type": "stream",
          "name": "stderr",
          "text": [
            "Epoch [1680/3000]: 100%|██████████████████████████████████████████████████████| 9/9 [00:00<00:00, 185.25it/s, loss=1.1]\n"
          ]
        },
        {
          "output_type": "stream",
          "name": "stdout",
          "text": [
            "Epoch [1680/3000]: Train loss: 1.2082, Valid loss: 1.5609\n"
          ]
        },
        {
          "output_type": "stream",
          "name": "stderr",
          "text": [
            "Epoch [1681/3000]: 100%|█████████████████████████████████████████████████████| 9/9 [00:00<00:00, 164.72it/s, loss=1.07]\n"
          ]
        },
        {
          "output_type": "stream",
          "name": "stdout",
          "text": [
            "Epoch [1681/3000]: Train loss: 1.2056, Valid loss: 1.4878\n"
          ]
        },
        {
          "output_type": "stream",
          "name": "stderr",
          "text": [
            "Epoch [1682/3000]: 100%|█████████████████████████████████████████████████████| 9/9 [00:00<00:00, 193.26it/s, loss=1.72]\n"
          ]
        },
        {
          "output_type": "stream",
          "name": "stdout",
          "text": [
            "Epoch [1682/3000]: Train loss: 1.2666, Valid loss: 1.3516\n"
          ]
        },
        {
          "output_type": "stream",
          "name": "stderr",
          "text": [
            "Epoch [1683/3000]: 100%|██████████████████████████████████████████████████████| 9/9 [00:00<00:00, 34.35it/s, loss=1.22]\n"
          ]
        },
        {
          "output_type": "stream",
          "name": "stdout",
          "text": [
            "Epoch [1683/3000]: Train loss: 1.2110, Valid loss: 1.2168\n"
          ]
        },
        {
          "output_type": "stream",
          "name": "stderr",
          "text": [
            "Epoch [1684/3000]: 100%|█████████████████████████████████████████████████████| 9/9 [00:00<00:00, 189.62it/s, loss=1.04]\n"
          ]
        },
        {
          "output_type": "stream",
          "name": "stdout",
          "text": [
            "Epoch [1684/3000]: Train loss: 1.2040, Valid loss: 1.3151\n"
          ]
        },
        {
          "output_type": "stream",
          "name": "stderr",
          "text": [
            "Epoch [1685/3000]: 100%|█████████████████████████████████████████████████████| 9/9 [00:00<00:00, 206.66it/s, loss=1.03]\n"
          ]
        },
        {
          "output_type": "stream",
          "name": "stdout",
          "text": [
            "Epoch [1685/3000]: Train loss: 1.1961, Valid loss: 1.3319\n"
          ]
        },
        {
          "output_type": "stream",
          "name": "stderr",
          "text": [
            "Epoch [1686/3000]: 100%|█████████████████████████████████████████████████████| 9/9 [00:00<00:00, 211.60it/s, loss=1.33]\n"
          ]
        },
        {
          "output_type": "stream",
          "name": "stdout",
          "text": [
            "Epoch [1686/3000]: Train loss: 1.2391, Valid loss: 1.5826\n"
          ]
        },
        {
          "output_type": "stream",
          "name": "stderr",
          "text": [
            "Epoch [1687/3000]: 100%|█████████████████████████████████████████████████████| 9/9 [00:00<00:00, 179.89it/s, loss=1.39]\n"
          ]
        },
        {
          "output_type": "stream",
          "name": "stdout",
          "text": [
            "Epoch [1687/3000]: Train loss: 1.2230, Valid loss: 1.7422\n"
          ]
        },
        {
          "output_type": "stream",
          "name": "stderr",
          "text": [
            "Epoch [1688/3000]: 100%|████████████████████████████████████████████████████| 9/9 [00:00<00:00, 160.55it/s, loss=0.981]\n"
          ]
        },
        {
          "output_type": "stream",
          "name": "stdout",
          "text": [
            "Epoch [1688/3000]: Train loss: 1.2020, Valid loss: 1.5794\n"
          ]
        },
        {
          "output_type": "stream",
          "name": "stderr",
          "text": [
            "Epoch [1689/3000]: 100%|█████████████████████████████████████████████████████| 9/9 [00:00<00:00, 197.61it/s, loss=1.19]\n"
          ]
        },
        {
          "output_type": "stream",
          "name": "stdout",
          "text": [
            "Epoch [1689/3000]: Train loss: 1.2044, Valid loss: 1.5050\n"
          ]
        },
        {
          "output_type": "stream",
          "name": "stderr",
          "text": [
            "Epoch [1690/3000]: 100%|█████████████████████████████████████████████████████| 9/9 [00:00<00:00, 212.45it/s, loss=1.27]\n"
          ]
        },
        {
          "output_type": "stream",
          "name": "stdout",
          "text": [
            "Epoch [1690/3000]: Train loss: 1.2168, Valid loss: 1.4498\n"
          ]
        },
        {
          "output_type": "stream",
          "name": "stderr",
          "text": [
            "Epoch [1691/3000]: 100%|█████████████████████████████████████████████████████| 9/9 [00:00<00:00, 206.59it/s, loss=1.06]\n"
          ]
        },
        {
          "output_type": "stream",
          "name": "stdout",
          "text": [
            "Epoch [1691/3000]: Train loss: 1.2102, Valid loss: 1.2883\n"
          ]
        },
        {
          "output_type": "stream",
          "name": "stderr",
          "text": [
            "Epoch [1692/3000]: 100%|█████████████████████████████████████████████████████| 9/9 [00:00<00:00, 201.98it/s, loss=1.37]\n"
          ]
        },
        {
          "output_type": "stream",
          "name": "stdout",
          "text": [
            "Epoch [1692/3000]: Train loss: 1.2276, Valid loss: 1.2801\n"
          ]
        },
        {
          "output_type": "stream",
          "name": "stderr",
          "text": [
            "Epoch [1693/3000]: 100%|█████████████████████████████████████████████████████| 9/9 [00:00<00:00, 204.41it/s, loss=1.07]\n"
          ]
        },
        {
          "output_type": "stream",
          "name": "stdout",
          "text": [
            "Epoch [1693/3000]: Train loss: 1.2365, Valid loss: 1.2099\n"
          ]
        },
        {
          "output_type": "stream",
          "name": "stderr",
          "text": [
            "Epoch [1694/3000]: 100%|█████████████████████████████████████████████████████| 9/9 [00:00<00:00, 204.31it/s, loss=0.88]\n"
          ]
        },
        {
          "output_type": "stream",
          "name": "stdout",
          "text": [
            "Epoch [1694/3000]: Train loss: 1.1843, Valid loss: 1.3309\n"
          ]
        },
        {
          "output_type": "stream",
          "name": "stderr",
          "text": [
            "Epoch [1695/3000]: 100%|█████████████████████████████████████████████████████| 9/9 [00:00<00:00, 181.13it/s, loss=1.09]\n"
          ]
        },
        {
          "output_type": "stream",
          "name": "stdout",
          "text": [
            "Epoch [1695/3000]: Train loss: 1.1986, Valid loss: 1.2102\n"
          ]
        },
        {
          "output_type": "stream",
          "name": "stderr",
          "text": [
            "Epoch [1696/3000]: 100%|█████████████████████████████████████████████████████| 9/9 [00:00<00:00, 186.98it/s, loss=1.01]\n"
          ]
        },
        {
          "output_type": "stream",
          "name": "stdout",
          "text": [
            "Epoch [1696/3000]: Train loss: 1.2214, Valid loss: 1.7992\n"
          ]
        },
        {
          "output_type": "stream",
          "name": "stderr",
          "text": [
            "Epoch [1697/3000]: 100%|█████████████████████████████████████████████████████| 9/9 [00:00<00:00, 179.81it/s, loss=1.11]\n"
          ]
        },
        {
          "output_type": "stream",
          "name": "stdout",
          "text": [
            "Epoch [1697/3000]: Train loss: 1.2403, Valid loss: 1.5547\n"
          ]
        },
        {
          "output_type": "stream",
          "name": "stderr",
          "text": [
            "Epoch [1698/3000]: 100%|█████████████████████████████████████████████████████| 9/9 [00:00<00:00, 199.89it/s, loss=1.16]\n"
          ]
        },
        {
          "output_type": "stream",
          "name": "stdout",
          "text": [
            "Epoch [1698/3000]: Train loss: 1.2398, Valid loss: 1.6569\n"
          ]
        },
        {
          "output_type": "stream",
          "name": "stderr",
          "text": [
            "Epoch [1699/3000]: 100%|█████████████████████████████████████████████████████| 9/9 [00:00<00:00, 201.93it/s, loss=1.19]\n"
          ]
        },
        {
          "output_type": "stream",
          "name": "stdout",
          "text": [
            "Epoch [1699/3000]: Train loss: 1.2118, Valid loss: 1.3969\n"
          ]
        },
        {
          "output_type": "stream",
          "name": "stderr",
          "text": [
            "Epoch [1700/3000]: 100%|████████████████████████████████████████████████████| 9/9 [00:00<00:00, 169.46it/s, loss=0.865]\n"
          ]
        },
        {
          "output_type": "stream",
          "name": "stdout",
          "text": [
            "Epoch [1700/3000]: Train loss: 1.1859, Valid loss: 1.2317\n"
          ]
        },
        {
          "output_type": "stream",
          "name": "stderr",
          "text": [
            "Epoch [1701/3000]: 100%|█████████████████████████████████████████████████████| 9/9 [00:00<00:00, 195.56it/s, loss=1.29]\n"
          ]
        },
        {
          "output_type": "stream",
          "name": "stdout",
          "text": [
            "Epoch [1701/3000]: Train loss: 1.2171, Valid loss: 1.5542\n"
          ]
        },
        {
          "output_type": "stream",
          "name": "stderr",
          "text": [
            "Epoch [1702/3000]: 100%|█████████████████████████████████████████████████████| 9/9 [00:00<00:00, 222.04it/s, loss=1.38]\n"
          ]
        },
        {
          "output_type": "stream",
          "name": "stdout",
          "text": [
            "Epoch [1702/3000]: Train loss: 1.2348, Valid loss: 1.4643\n"
          ]
        },
        {
          "output_type": "stream",
          "name": "stderr",
          "text": [
            "Epoch [1703/3000]: 100%|█████████████████████████████████████████████████████| 9/9 [00:00<00:00, 185.35it/s, loss=1.31]\n"
          ]
        },
        {
          "output_type": "stream",
          "name": "stdout",
          "text": [
            "Epoch [1703/3000]: Train loss: 1.2372, Valid loss: 1.5086\n"
          ]
        },
        {
          "output_type": "stream",
          "name": "stderr",
          "text": [
            "Epoch [1704/3000]: 100%|█████████████████████████████████████████████████████| 9/9 [00:00<00:00, 180.05it/s, loss=1.27]\n"
          ]
        },
        {
          "output_type": "stream",
          "name": "stdout",
          "text": [
            "Epoch [1704/3000]: Train loss: 1.2193, Valid loss: 1.3254\n"
          ]
        },
        {
          "output_type": "stream",
          "name": "stderr",
          "text": [
            "Epoch [1705/3000]: 100%|█████████████████████████████████████████████████████| 9/9 [00:00<00:00, 189.30it/s, loss=1.12]\n"
          ]
        },
        {
          "output_type": "stream",
          "name": "stdout",
          "text": [
            "Epoch [1705/3000]: Train loss: 1.2125, Valid loss: 1.2634\n"
          ]
        },
        {
          "output_type": "stream",
          "name": "stderr",
          "text": [
            "Epoch [1706/3000]: 100%|████████████████████████████████████████████████████| 9/9 [00:00<00:00, 199.78it/s, loss=0.995]\n"
          ]
        },
        {
          "output_type": "stream",
          "name": "stdout",
          "text": [
            "Epoch [1706/3000]: Train loss: 1.2011, Valid loss: 1.4436\n"
          ]
        },
        {
          "output_type": "stream",
          "name": "stderr",
          "text": [
            "Epoch [1707/3000]: 100%|█████████████████████████████████████████████████████| 9/9 [00:00<00:00, 195.37it/s, loss=1.51]\n"
          ]
        },
        {
          "output_type": "stream",
          "name": "stdout",
          "text": [
            "Epoch [1707/3000]: Train loss: 1.2218, Valid loss: 1.5882\n"
          ]
        },
        {
          "output_type": "stream",
          "name": "stderr",
          "text": [
            "Epoch [1708/3000]: 100%|█████████████████████████████████████████████████████| 9/9 [00:00<00:00, 197.57it/s, loss=1.27]\n"
          ]
        },
        {
          "output_type": "stream",
          "name": "stdout",
          "text": [
            "Epoch [1708/3000]: Train loss: 1.2069, Valid loss: 1.6389\n"
          ]
        },
        {
          "output_type": "stream",
          "name": "stderr",
          "text": [
            "Epoch [1709/3000]: 100%|████████████████████████████████████████████████████| 9/9 [00:00<00:00, 197.57it/s, loss=0.906]\n"
          ]
        },
        {
          "output_type": "stream",
          "name": "stdout",
          "text": [
            "Epoch [1709/3000]: Train loss: 1.1870, Valid loss: 1.4456\n"
          ]
        },
        {
          "output_type": "stream",
          "name": "stderr",
          "text": [
            "Epoch [1710/3000]: 100%|█████████████████████████████████████████████████████| 9/9 [00:00<00:00, 185.32it/s, loss=1.42]\n"
          ]
        },
        {
          "output_type": "stream",
          "name": "stdout",
          "text": [
            "Epoch [1710/3000]: Train loss: 1.2215, Valid loss: 1.3704\n"
          ]
        },
        {
          "output_type": "stream",
          "name": "stderr",
          "text": [
            "Epoch [1711/3000]: 100%|█████████████████████████████████████████████████████| 9/9 [00:00<00:00, 224.83it/s, loss=1.11]\n"
          ]
        },
        {
          "output_type": "stream",
          "name": "stdout",
          "text": [
            "Epoch [1711/3000]: Train loss: 1.2007, Valid loss: 1.3153\n"
          ]
        },
        {
          "output_type": "stream",
          "name": "stderr",
          "text": [
            "Epoch [1712/3000]: 100%|█████████████████████████████████████████████████████| 9/9 [00:00<00:00, 176.34it/s, loss=1.41]\n"
          ]
        },
        {
          "output_type": "stream",
          "name": "stdout",
          "text": [
            "Epoch [1712/3000]: Train loss: 1.2205, Valid loss: 1.3120\n"
          ]
        },
        {
          "output_type": "stream",
          "name": "stderr",
          "text": [
            "Epoch [1713/3000]: 100%|█████████████████████████████████████████████████████| 9/9 [00:00<00:00, 182.33it/s, loss=1.17]\n"
          ]
        },
        {
          "output_type": "stream",
          "name": "stdout",
          "text": [
            "Epoch [1713/3000]: Train loss: 1.2025, Valid loss: 1.3566\n"
          ]
        },
        {
          "output_type": "stream",
          "name": "stderr",
          "text": [
            "Epoch [1714/3000]: 100%|████████████████████████████████████████████████████████| 9/9 [00:00<00:00, 203.84it/s, loss=1]\n"
          ]
        },
        {
          "output_type": "stream",
          "name": "stdout",
          "text": [
            "Epoch [1714/3000]: Train loss: 1.1887, Valid loss: 1.3128\n"
          ]
        },
        {
          "output_type": "stream",
          "name": "stderr",
          "text": [
            "Epoch [1715/3000]: 100%|█████████████████████████████████████████████████████| 9/9 [00:00<00:00, 187.28it/s, loss=1.36]\n"
          ]
        },
        {
          "output_type": "stream",
          "name": "stdout",
          "text": [
            "Epoch [1715/3000]: Train loss: 1.2284, Valid loss: 1.2955\n"
          ]
        },
        {
          "output_type": "stream",
          "name": "stderr",
          "text": [
            "Epoch [1716/3000]: 100%|██████████████████████████████████████████████████████| 9/9 [00:00<00:00, 224.87it/s, loss=1.1]\n"
          ]
        },
        {
          "output_type": "stream",
          "name": "stdout",
          "text": [
            "Epoch [1716/3000]: Train loss: 1.2014, Valid loss: 1.4871\n"
          ]
        },
        {
          "output_type": "stream",
          "name": "stderr",
          "text": [
            "Epoch [1717/3000]: 100%|█████████████████████████████████████████████████████| 9/9 [00:00<00:00, 196.26it/s, loss=1.32]\n"
          ]
        },
        {
          "output_type": "stream",
          "name": "stdout",
          "text": [
            "Epoch [1717/3000]: Train loss: 1.2200, Valid loss: 1.2625\n"
          ]
        },
        {
          "output_type": "stream",
          "name": "stderr",
          "text": [
            "Epoch [1718/3000]: 100%|█████████████████████████████████████████████████████| 9/9 [00:00<00:00, 206.71it/s, loss=1.11]\n"
          ]
        },
        {
          "output_type": "stream",
          "name": "stdout",
          "text": [
            "Epoch [1718/3000]: Train loss: 1.2046, Valid loss: 1.2991\n"
          ]
        },
        {
          "output_type": "stream",
          "name": "stderr",
          "text": [
            "Epoch [1719/3000]: 100%|█████████████████████████████████████████████████████| 9/9 [00:00<00:00, 172.91it/s, loss=1.06]\n"
          ]
        },
        {
          "output_type": "stream",
          "name": "stdout",
          "text": [
            "Epoch [1719/3000]: Train loss: 1.2147, Valid loss: 1.2857\n"
          ]
        },
        {
          "output_type": "stream",
          "name": "stderr",
          "text": [
            "Epoch [1720/3000]: 100%|█████████████████████████████████████████████████████| 9/9 [00:00<00:00, 178.08it/s, loss=1.12]\n"
          ]
        },
        {
          "output_type": "stream",
          "name": "stdout",
          "text": [
            "Epoch [1720/3000]: Train loss: 1.2133, Valid loss: 1.4010\n"
          ]
        },
        {
          "output_type": "stream",
          "name": "stderr",
          "text": [
            "Epoch [1721/3000]: 100%|█████████████████████████████████████████████████████| 9/9 [00:00<00:00, 161.96it/s, loss=1.56]\n"
          ]
        },
        {
          "output_type": "stream",
          "name": "stdout",
          "text": [
            "Epoch [1721/3000]: Train loss: 1.2339, Valid loss: 1.8550\n"
          ]
        },
        {
          "output_type": "stream",
          "name": "stderr",
          "text": [
            "Epoch [1722/3000]: 100%|█████████████████████████████████████████████████████| 9/9 [00:00<00:00, 174.57it/s, loss=1.01]\n"
          ]
        },
        {
          "output_type": "stream",
          "name": "stdout",
          "text": [
            "Epoch [1722/3000]: Train loss: 1.2186, Valid loss: 1.3798\n"
          ]
        },
        {
          "output_type": "stream",
          "name": "stderr",
          "text": [
            "Epoch [1723/3000]: 100%|█████████████████████████████████████████████████████| 9/9 [00:00<00:00, 179.87it/s, loss=1.15]\n"
          ]
        },
        {
          "output_type": "stream",
          "name": "stdout",
          "text": [
            "Epoch [1723/3000]: Train loss: 1.2139, Valid loss: 1.3567\n"
          ]
        },
        {
          "output_type": "stream",
          "name": "stderr",
          "text": [
            "Epoch [1724/3000]: 100%|█████████████████████████████████████████████████████| 9/9 [00:00<00:00, 189.02it/s, loss=1.02]\n"
          ]
        },
        {
          "output_type": "stream",
          "name": "stdout",
          "text": [
            "Epoch [1724/3000]: Train loss: 1.1932, Valid loss: 1.3821\n"
          ]
        },
        {
          "output_type": "stream",
          "name": "stderr",
          "text": [
            "Epoch [1725/3000]: 100%|█████████████████████████████████████████████████████| 9/9 [00:00<00:00, 172.99it/s, loss=1.07]\n"
          ]
        },
        {
          "output_type": "stream",
          "name": "stdout",
          "text": [
            "Epoch [1725/3000]: Train loss: 1.1977, Valid loss: 1.5769\n"
          ]
        },
        {
          "output_type": "stream",
          "name": "stderr",
          "text": [
            "Epoch [1726/3000]: 100%|████████████████████████████████████████████████████| 9/9 [00:00<00:00, 195.87it/s, loss=0.895]\n"
          ]
        },
        {
          "output_type": "stream",
          "name": "stdout",
          "text": [
            "Epoch [1726/3000]: Train loss: 1.1871, Valid loss: 1.2205\n"
          ]
        },
        {
          "output_type": "stream",
          "name": "stderr",
          "text": [
            "Epoch [1727/3000]: 100%|█████████████████████████████████████████████████████| 9/9 [00:00<00:00, 190.11it/s, loss=1.24]\n"
          ]
        },
        {
          "output_type": "stream",
          "name": "stdout",
          "text": [
            "Epoch [1727/3000]: Train loss: 1.2222, Valid loss: 1.3685\n"
          ]
        },
        {
          "output_type": "stream",
          "name": "stderr",
          "text": [
            "Epoch [1728/3000]: 100%|█████████████████████████████████████████████████████| 9/9 [00:00<00:00, 176.30it/s, loss=1.57]\n"
          ]
        },
        {
          "output_type": "stream",
          "name": "stdout",
          "text": [
            "Epoch [1728/3000]: Train loss: 1.2659, Valid loss: 1.5574\n"
          ]
        },
        {
          "output_type": "stream",
          "name": "stderr",
          "text": [
            "Epoch [1729/3000]: 100%|█████████████████████████████████████████████████████| 9/9 [00:00<00:00, 190.81it/s, loss=1.09]\n"
          ]
        },
        {
          "output_type": "stream",
          "name": "stdout",
          "text": [
            "Epoch [1729/3000]: Train loss: 1.2274, Valid loss: 1.2754\n"
          ]
        },
        {
          "output_type": "stream",
          "name": "stderr",
          "text": [
            "Epoch [1730/3000]: 100%|████████████████████████████████████████████████████| 9/9 [00:00<00:00, 197.65it/s, loss=0.938]\n"
          ]
        },
        {
          "output_type": "stream",
          "name": "stdout",
          "text": [
            "Epoch [1730/3000]: Train loss: 1.1953, Valid loss: 1.5234\n"
          ]
        },
        {
          "output_type": "stream",
          "name": "stderr",
          "text": [
            "Epoch [1731/3000]: 100%|█████████████████████████████████████████████████████| 9/9 [00:00<00:00, 179.94it/s, loss=1.22]\n"
          ]
        },
        {
          "output_type": "stream",
          "name": "stdout",
          "text": [
            "Epoch [1731/3000]: Train loss: 1.2603, Valid loss: 1.3962\n"
          ]
        },
        {
          "output_type": "stream",
          "name": "stderr",
          "text": [
            "Epoch [1732/3000]: 100%|████████████████████████████████████████████████████| 9/9 [00:00<00:00, 191.26it/s, loss=0.938]\n"
          ]
        },
        {
          "output_type": "stream",
          "name": "stdout",
          "text": [
            "Epoch [1732/3000]: Train loss: 1.1951, Valid loss: 1.1901\n"
          ]
        },
        {
          "output_type": "stream",
          "name": "stderr",
          "text": [
            "Epoch [1733/3000]: 100%|█████████████████████████████████████████████████████| 9/9 [00:00<00:00, 160.23it/s, loss=1.31]\n"
          ]
        },
        {
          "output_type": "stream",
          "name": "stdout",
          "text": [
            "Epoch [1733/3000]: Train loss: 1.2134, Valid loss: 1.7959\n"
          ]
        },
        {
          "output_type": "stream",
          "name": "stderr",
          "text": [
            "Epoch [1734/3000]: 100%|██████████████████████████████████████████████████████| 9/9 [00:00<00:00, 202.08it/s, loss=1.8]\n"
          ]
        },
        {
          "output_type": "stream",
          "name": "stdout",
          "text": [
            "Epoch [1734/3000]: Train loss: 1.2484, Valid loss: 1.4806\n"
          ]
        },
        {
          "output_type": "stream",
          "name": "stderr",
          "text": [
            "Epoch [1735/3000]: 100%|█████████████████████████████████████████████████████| 9/9 [00:00<00:00, 197.25it/s, loss=1.33]\n"
          ]
        },
        {
          "output_type": "stream",
          "name": "stdout",
          "text": [
            "Epoch [1735/3000]: Train loss: 1.2128, Valid loss: 1.3756\n"
          ]
        },
        {
          "output_type": "stream",
          "name": "stderr",
          "text": [
            "Epoch [1736/3000]: 100%|█████████████████████████████████████████████████████| 9/9 [00:00<00:00, 187.28it/s, loss=0.91]\n"
          ]
        },
        {
          "output_type": "stream",
          "name": "stdout",
          "text": [
            "Epoch [1736/3000]: Train loss: 1.1854, Valid loss: 1.4028\n"
          ]
        },
        {
          "output_type": "stream",
          "name": "stderr",
          "text": [
            "Epoch [1737/3000]: 100%|█████████████████████████████████████████████████████| 9/9 [00:00<00:00, 181.68it/s, loss=1.34]\n"
          ]
        },
        {
          "output_type": "stream",
          "name": "stdout",
          "text": [
            "Epoch [1737/3000]: Train loss: 1.2130, Valid loss: 1.3895\n"
          ]
        },
        {
          "output_type": "stream",
          "name": "stderr",
          "text": [
            "Epoch [1738/3000]: 100%|█████████████████████████████████████████████████████| 9/9 [00:00<00:00, 191.79it/s, loss=1.02]\n"
          ]
        },
        {
          "output_type": "stream",
          "name": "stdout",
          "text": [
            "Epoch [1738/3000]: Train loss: 1.1867, Valid loss: 1.3172\n"
          ]
        },
        {
          "output_type": "stream",
          "name": "stderr",
          "text": [
            "Epoch [1739/3000]: 100%|█████████████████████████████████████████████████████| 9/9 [00:00<00:00, 207.00it/s, loss=1.09]\n"
          ]
        },
        {
          "output_type": "stream",
          "name": "stdout",
          "text": [
            "Epoch [1739/3000]: Train loss: 1.2009, Valid loss: 1.5390\n"
          ]
        },
        {
          "output_type": "stream",
          "name": "stderr",
          "text": [
            "Epoch [1740/3000]: 100%|██████████████████████████████████████████████████████| 9/9 [00:00<00:00, 196.22it/s, loss=1.7]\n"
          ]
        },
        {
          "output_type": "stream",
          "name": "stdout",
          "text": [
            "Epoch [1740/3000]: Train loss: 1.2378, Valid loss: 1.4318\n"
          ]
        },
        {
          "output_type": "stream",
          "name": "stderr",
          "text": [
            "Epoch [1741/3000]: 100%|█████████████████████████████████████████████████████| 9/9 [00:00<00:00, 216.67it/s, loss=1.44]\n"
          ]
        },
        {
          "output_type": "stream",
          "name": "stdout",
          "text": [
            "Epoch [1741/3000]: Train loss: 1.2295, Valid loss: 1.2986\n"
          ]
        },
        {
          "output_type": "stream",
          "name": "stderr",
          "text": [
            "Epoch [1742/3000]: 100%|█████████████████████████████████████████████████████| 9/9 [00:00<00:00, 199.76it/s, loss=1.68]\n"
          ]
        },
        {
          "output_type": "stream",
          "name": "stdout",
          "text": [
            "Epoch [1742/3000]: Train loss: 1.2502, Valid loss: 1.4666\n"
          ]
        },
        {
          "output_type": "stream",
          "name": "stderr",
          "text": [
            "Epoch [1743/3000]: 100%|████████████████████████████████████████████████████| 9/9 [00:00<00:00, 199.86it/s, loss=0.994]\n"
          ]
        },
        {
          "output_type": "stream",
          "name": "stdout",
          "text": [
            "Epoch [1743/3000]: Train loss: 1.1961, Valid loss: 1.3360\n"
          ]
        },
        {
          "output_type": "stream",
          "name": "stderr",
          "text": [
            "Epoch [1744/3000]: 100%|████████████████████████████████████████████████████| 9/9 [00:00<00:00, 195.45it/s, loss=0.892]\n"
          ]
        },
        {
          "output_type": "stream",
          "name": "stdout",
          "text": [
            "Epoch [1744/3000]: Train loss: 1.2030, Valid loss: 1.9277\n"
          ]
        },
        {
          "output_type": "stream",
          "name": "stderr",
          "text": [
            "Epoch [1745/3000]: 100%|████████████████████████████████████████████████████| 9/9 [00:00<00:00, 174.61it/s, loss=0.858]\n"
          ]
        },
        {
          "output_type": "stream",
          "name": "stdout",
          "text": [
            "Epoch [1745/3000]: Train loss: 1.2017, Valid loss: 1.3840\n"
          ]
        },
        {
          "output_type": "stream",
          "name": "stderr",
          "text": [
            "Epoch [1746/3000]: 100%|██████████████████████████████████████████████████████| 9/9 [00:00<00:00, 181.55it/s, loss=1.1]\n"
          ]
        },
        {
          "output_type": "stream",
          "name": "stdout",
          "text": [
            "Epoch [1746/3000]: Train loss: 1.1970, Valid loss: 1.3119\n"
          ]
        },
        {
          "output_type": "stream",
          "name": "stderr",
          "text": [
            "Epoch [1747/3000]: 100%|█████████████████████████████████████████████████████| 9/9 [00:00<00:00, 183.27it/s, loss=1.49]\n"
          ]
        },
        {
          "output_type": "stream",
          "name": "stdout",
          "text": [
            "Epoch [1747/3000]: Train loss: 1.2269, Valid loss: 1.2975\n"
          ]
        },
        {
          "output_type": "stream",
          "name": "stderr",
          "text": [
            "Epoch [1748/3000]: 100%|█████████████████████████████████████████████████████| 9/9 [00:00<00:00, 171.19it/s, loss=1.37]\n"
          ]
        },
        {
          "output_type": "stream",
          "name": "stdout",
          "text": [
            "Epoch [1748/3000]: Train loss: 1.2321, Valid loss: 1.5641\n"
          ]
        },
        {
          "output_type": "stream",
          "name": "stderr",
          "text": [
            "Epoch [1749/3000]: 100%|█████████████████████████████████████████████████████| 9/9 [00:00<00:00, 189.09it/s, loss=1.12]\n"
          ]
        },
        {
          "output_type": "stream",
          "name": "stdout",
          "text": [
            "Epoch [1749/3000]: Train loss: 1.2144, Valid loss: 1.2239\n"
          ]
        },
        {
          "output_type": "stream",
          "name": "stderr",
          "text": [
            "Epoch [1750/3000]: 100%|█████████████████████████████████████████████████████| 9/9 [00:00<00:00, 189.34it/s, loss=1.21]\n"
          ]
        },
        {
          "output_type": "stream",
          "name": "stdout",
          "text": [
            "Epoch [1750/3000]: Train loss: 1.2019, Valid loss: 1.4668\n"
          ]
        },
        {
          "output_type": "stream",
          "name": "stderr",
          "text": [
            "Epoch [1751/3000]: 100%|█████████████████████████████████████████████████████| 9/9 [00:00<00:00, 204.32it/s, loss=1.12]\n"
          ]
        },
        {
          "output_type": "stream",
          "name": "stdout",
          "text": [
            "Epoch [1751/3000]: Train loss: 1.2014, Valid loss: 1.2644\n"
          ]
        },
        {
          "output_type": "stream",
          "name": "stderr",
          "text": [
            "Epoch [1752/3000]: 100%|█████████████████████████████████████████████████████| 9/9 [00:00<00:00, 202.33it/s, loss=1.34]\n"
          ]
        },
        {
          "output_type": "stream",
          "name": "stdout",
          "text": [
            "Epoch [1752/3000]: Train loss: 1.2099, Valid loss: 1.8083\n"
          ]
        },
        {
          "output_type": "stream",
          "name": "stderr",
          "text": [
            "Epoch [1753/3000]: 100%|█████████████████████████████████████████████████████| 9/9 [00:00<00:00, 174.24it/s, loss=1.25]\n"
          ]
        },
        {
          "output_type": "stream",
          "name": "stdout",
          "text": [
            "Epoch [1753/3000]: Train loss: 1.2013, Valid loss: 1.7043\n"
          ]
        },
        {
          "output_type": "stream",
          "name": "stderr",
          "text": [
            "Epoch [1754/3000]: 100%|█████████████████████████████████████████████████████| 9/9 [00:00<00:00, 167.98it/s, loss=1.11]\n"
          ]
        },
        {
          "output_type": "stream",
          "name": "stdout",
          "text": [
            "Epoch [1754/3000]: Train loss: 1.1957, Valid loss: 1.5578\n"
          ]
        },
        {
          "output_type": "stream",
          "name": "stderr",
          "text": [
            "Epoch [1755/3000]: 100%|█████████████████████████████████████████████████████| 9/9 [00:00<00:00, 197.67it/s, loss=1.06]\n"
          ]
        },
        {
          "output_type": "stream",
          "name": "stdout",
          "text": [
            "Epoch [1755/3000]: Train loss: 1.2020, Valid loss: 1.6769\n"
          ]
        },
        {
          "output_type": "stream",
          "name": "stderr",
          "text": [
            "Epoch [1756/3000]: 100%|█████████████████████████████████████████████████████| 9/9 [00:00<00:00, 189.75it/s, loss=1.35]\n"
          ]
        },
        {
          "output_type": "stream",
          "name": "stdout",
          "text": [
            "Epoch [1756/3000]: Train loss: 1.2172, Valid loss: 1.6489\n"
          ]
        },
        {
          "output_type": "stream",
          "name": "stderr",
          "text": [
            "Epoch [1757/3000]: 100%|█████████████████████████████████████████████████████| 9/9 [00:00<00:00, 197.61it/s, loss=1.33]\n"
          ]
        },
        {
          "output_type": "stream",
          "name": "stdout",
          "text": [
            "Epoch [1757/3000]: Train loss: 1.2062, Valid loss: 1.3290\n"
          ]
        },
        {
          "output_type": "stream",
          "name": "stderr",
          "text": [
            "Epoch [1758/3000]: 100%|█████████████████████████████████████████████████████| 9/9 [00:00<00:00, 185.79it/s, loss=1.49]\n"
          ]
        },
        {
          "output_type": "stream",
          "name": "stdout",
          "text": [
            "Epoch [1758/3000]: Train loss: 1.2243, Valid loss: 1.2691\n"
          ]
        },
        {
          "output_type": "stream",
          "name": "stderr",
          "text": [
            "Epoch [1759/3000]: 100%|█████████████████████████████████████████████████████| 9/9 [00:00<00:00, 216.61it/s, loss=1.33]\n"
          ]
        },
        {
          "output_type": "stream",
          "name": "stdout",
          "text": [
            "Epoch [1759/3000]: Train loss: 1.2086, Valid loss: 1.2060\n"
          ]
        },
        {
          "output_type": "stream",
          "name": "stderr",
          "text": [
            "Epoch [1760/3000]: 100%|█████████████████████████████████████████████████████| 9/9 [00:00<00:00, 213.98it/s, loss=1.25]\n"
          ]
        },
        {
          "output_type": "stream",
          "name": "stdout",
          "text": [
            "Epoch [1760/3000]: Train loss: 1.2054, Valid loss: 1.2979\n"
          ]
        },
        {
          "output_type": "stream",
          "name": "stderr",
          "text": [
            "Epoch [1761/3000]: 100%|█████████████████████████████████████████████████████| 9/9 [00:00<00:00, 191.22it/s, loss=1.24]\n"
          ]
        },
        {
          "output_type": "stream",
          "name": "stdout",
          "text": [
            "Epoch [1761/3000]: Train loss: 1.1973, Valid loss: 1.3377\n"
          ]
        },
        {
          "output_type": "stream",
          "name": "stderr",
          "text": [
            "Epoch [1762/3000]: 100%|████████████████████████████████████████████████████| 9/9 [00:00<00:00, 186.76it/s, loss=0.925]\n"
          ]
        },
        {
          "output_type": "stream",
          "name": "stdout",
          "text": [
            "Epoch [1762/3000]: Train loss: 1.1964, Valid loss: 1.4749\n"
          ]
        },
        {
          "output_type": "stream",
          "name": "stderr",
          "text": [
            "Epoch [1763/3000]: 100%|█████████████████████████████████████████████████████| 9/9 [00:00<00:00, 201.91it/s, loss=1.37]\n"
          ]
        },
        {
          "output_type": "stream",
          "name": "stdout",
          "text": [
            "Epoch [1763/3000]: Train loss: 1.2239, Valid loss: 1.3334\n"
          ]
        },
        {
          "output_type": "stream",
          "name": "stderr",
          "text": [
            "Epoch [1764/3000]: 100%|█████████████████████████████████████████████████████| 9/9 [00:00<00:00, 206.74it/s, loss=1.13]\n"
          ]
        },
        {
          "output_type": "stream",
          "name": "stdout",
          "text": [
            "Epoch [1764/3000]: Train loss: 1.1972, Valid loss: 1.5207\n"
          ]
        },
        {
          "output_type": "stream",
          "name": "stderr",
          "text": [
            "Epoch [1765/3000]: 100%|█████████████████████████████████████████████████████| 9/9 [00:00<00:00, 100.95it/s, loss=1.45]\n"
          ]
        },
        {
          "output_type": "stream",
          "name": "stdout",
          "text": [
            "Epoch [1765/3000]: Train loss: 1.2102, Valid loss: 1.3784\n"
          ]
        },
        {
          "output_type": "stream",
          "name": "stderr",
          "text": [
            "Epoch [1766/3000]: 100%|█████████████████████████████████████████████████████| 9/9 [00:00<00:00, 130.74it/s, loss=1.74]\n"
          ]
        },
        {
          "output_type": "stream",
          "name": "stdout",
          "text": [
            "Epoch [1766/3000]: Train loss: 1.2344, Valid loss: 1.5534\n"
          ]
        },
        {
          "output_type": "stream",
          "name": "stderr",
          "text": [
            "Epoch [1767/3000]: 100%|█████████████████████████████████████████████████████| 9/9 [00:00<00:00, 174.62it/s, loss=1.32]\n"
          ]
        },
        {
          "output_type": "stream",
          "name": "stdout",
          "text": [
            "Epoch [1767/3000]: Train loss: 1.2200, Valid loss: 1.2867\n"
          ]
        },
        {
          "output_type": "stream",
          "name": "stderr",
          "text": [
            "Epoch [1768/3000]: 100%|█████████████████████████████████████████████████████| 9/9 [00:00<00:00, 195.38it/s, loss=1.06]\n"
          ]
        },
        {
          "output_type": "stream",
          "name": "stdout",
          "text": [
            "Epoch [1768/3000]: Train loss: 1.2338, Valid loss: 1.3428\n"
          ]
        },
        {
          "output_type": "stream",
          "name": "stderr",
          "text": [
            "Epoch [1769/3000]: 100%|█████████████████████████████████████████████████████| 9/9 [00:00<00:00, 189.28it/s, loss=1.23]"
          ]
        },
        {
          "output_type": "stream",
          "name": "stdout",
          "text": [
            "Epoch [1769/3000]: Train loss: 1.2196, Valid loss: 1.2265\n",
            "\n",
            "Model is not improving, so we halt the training session.\n"
          ]
        },
        {
          "output_type": "stream",
          "name": "stderr",
          "text": [
            "\n"
          ]
        }
      ],
      "source": [
        "model = My_Model(input_dim=x_train.shape[1]).to(device) # put your model and data on the same computation device.\n",
        "trainer(train_loader, valid_loader, model, config, device)"
      ]
    },
    {
      "cell_type": "markdown",
      "metadata": {
        "id": "Ik09KPqU-di-"
      },
      "source": [
        "# Plot learning curves with `tensorboard` (optional)\n",
        "\n",
        "`tensorboard` is a tool that allows you to visualize your training progress.\n",
        "\n",
        "If this block does not display your learning curve, please wait for few minutes, and re-run this block. It might take some time to load your logging information."
      ]
    },
    {
      "cell_type": "code",
      "execution_count": null,
      "metadata": {
        "id": "loA4nKmLGQ-n",
        "colab": {
          "base_uri": "https://localhost:8080/",
          "height": 838
        },
        "outputId": "6eddb236-8354-4f80-9987-5baddf1535a0"
      },
      "outputs": [
        {
          "output_type": "display_data",
          "data": {
            "text/plain": [
              "Reusing TensorBoard on port 6006 (pid 40188), started 6:35:02 ago. (Use '!kill 40188' to kill it.)"
            ]
          },
          "metadata": {}
        },
        {
          "output_type": "display_data",
          "data": {
            "text/plain": [
              "<IPython.core.display.HTML object>"
            ],
            "text/html": [
              "\n",
              "      <iframe id=\"tensorboard-frame-54eeac383a3024a5\" width=\"100%\" height=\"800\" frameborder=\"0\">\n",
              "      </iframe>\n",
              "      <script>\n",
              "        (function() {\n",
              "          const frame = document.getElementById(\"tensorboard-frame-54eeac383a3024a5\");\n",
              "          const url = new URL(\"/\", window.location);\n",
              "          const port = 6006;\n",
              "          if (port) {\n",
              "            url.port = port;\n",
              "          }\n",
              "          frame.src = url;\n",
              "        })();\n",
              "      </script>\n",
              "    "
            ]
          },
          "metadata": {}
        }
      ],
      "source": [
        "%reload_ext tensorboard\n",
        "%tensorboard --logdir=./runs/"
      ]
    },
    {
      "cell_type": "markdown",
      "metadata": {
        "id": "yhAHGqC9-woK"
      },
      "source": [
        "# Testing\n",
        "The predictions of your model on testing set will be stored at `pred.csv`."
      ]
    },
    {
      "cell_type": "code",
      "execution_count": null,
      "metadata": {
        "id": "Q5eVdpbvAlAe",
        "colab": {
          "base_uri": "https://localhost:8080/"
        },
        "outputId": "93692162-463b-42b1-f4ae-7fcc59d74cd9"
      },
      "outputs": [
        {
          "output_type": "stream",
          "name": "stderr",
          "text": [
            "100%|███████████████████████████████████████████████████████████████████████████████████| 5/5 [00:00<00:00, 832.57it/s]\n"
          ]
        }
      ],
      "source": [
        "def save_pred(preds, file):\n",
        "    ''' Save predictions to specified file '''\n",
        "    with open(file, 'w') as fp:\n",
        "        writer = csv.writer(fp)\n",
        "        writer.writerow(['id', 'tested_positive'])\n",
        "        for i, p in enumerate(preds):\n",
        "            writer.writerow([i, p])\n",
        "\n",
        "model = My_Model(input_dim=x_train.shape[1]).to(device)\n",
        "model.load_state_dict(torch.load(config['save_path']))\n",
        "preds = predict(test_loader, model, device)\n",
        "save_pred(preds, 'pred.csv')"
      ]
    },
    {
      "cell_type": "markdown",
      "source": [
        "# Reference\n",
        "This notebook uses code written by Heng-Jui Chang @ NTUEE (https://github.com/ga642381/ML2021-Spring/blob/main/HW01/HW01.ipynb)"
      ],
      "metadata": {
        "id": "IJ_k5rY0GvSV"
      }
    }
  ],
  "metadata": {
    "accelerator": "GPU",
    "colab": {
      "provenance": [],
      "gpuType": "T4",
      "include_colab_link": true
    },
    "kernelspec": {
      "display_name": "Python 3",
      "name": "python3"
    },
    "language_info": {
      "name": "python"
    }
  },
  "nbformat": 4,
  "nbformat_minor": 0
}
